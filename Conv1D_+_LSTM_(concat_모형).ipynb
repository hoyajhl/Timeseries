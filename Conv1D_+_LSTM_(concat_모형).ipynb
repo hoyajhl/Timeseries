{
  "nbformat": 4,
  "nbformat_minor": 0,
  "metadata": {
    "accelerator": "GPU",
    "colab": {
      "name": "Conv1D + LSTM (concat 모형)",
      "provenance": [],
      "collapsed_sections": [],
      "machine_shape": "hm"
    },
    "kernelspec": {
      "display_name": "Python 3",
      "name": "python3"
    },
    "widgets": {
      "application/vnd.jupyter.widget-state+json": {
        "1d3229e36a044dc58e27e38c93410ef1": {
          "model_module": "@jupyter-widgets/controls",
          "model_name": "HBoxModel",
          "model_module_version": "1.5.0",
          "state": {
            "_view_name": "HBoxView",
            "_dom_classes": [],
            "_model_name": "HBoxModel",
            "_view_module": "@jupyter-widgets/controls",
            "_model_module_version": "1.5.0",
            "_view_count": null,
            "_view_module_version": "1.5.0",
            "box_style": "",
            "layout": "IPY_MODEL_7289d7d6289e498a823e6519f2c19f5b",
            "_model_module": "@jupyter-widgets/controls",
            "children": [
              "IPY_MODEL_ec6df315db894fa0983717609f6dfd13",
              "IPY_MODEL_48dd8f23be1144a29fcc755f80979f43",
              "IPY_MODEL_2ea81c5c225a48dc93c2451a4bfa563d"
            ]
          }
        },
        "7289d7d6289e498a823e6519f2c19f5b": {
          "model_module": "@jupyter-widgets/base",
          "model_name": "LayoutModel",
          "model_module_version": "1.2.0",
          "state": {
            "_view_name": "LayoutView",
            "grid_template_rows": null,
            "right": null,
            "justify_content": null,
            "_view_module": "@jupyter-widgets/base",
            "overflow": null,
            "_model_module_version": "1.2.0",
            "_view_count": null,
            "flex_flow": null,
            "width": null,
            "min_width": null,
            "border": null,
            "align_items": null,
            "bottom": null,
            "_model_module": "@jupyter-widgets/base",
            "top": null,
            "grid_column": null,
            "overflow_y": null,
            "overflow_x": null,
            "grid_auto_flow": null,
            "grid_area": null,
            "grid_template_columns": null,
            "flex": null,
            "_model_name": "LayoutModel",
            "justify_items": null,
            "grid_row": null,
            "max_height": null,
            "align_content": null,
            "visibility": null,
            "align_self": null,
            "height": null,
            "min_height": null,
            "padding": null,
            "grid_auto_rows": null,
            "grid_gap": null,
            "max_width": null,
            "order": null,
            "_view_module_version": "1.2.0",
            "grid_template_areas": null,
            "object_position": null,
            "object_fit": null,
            "grid_auto_columns": null,
            "margin": null,
            "display": null,
            "left": null
          }
        },
        "ec6df315db894fa0983717609f6dfd13": {
          "model_module": "@jupyter-widgets/controls",
          "model_name": "HTMLModel",
          "model_module_version": "1.5.0",
          "state": {
            "_view_name": "HTMLView",
            "style": "IPY_MODEL_56988b51ebe54506a70cf47f56030967",
            "_dom_classes": [],
            "description": "",
            "_model_name": "HTMLModel",
            "placeholder": "​",
            "_view_module": "@jupyter-widgets/controls",
            "_model_module_version": "1.5.0",
            "value": "100%",
            "_view_count": null,
            "_view_module_version": "1.5.0",
            "description_tooltip": null,
            "_model_module": "@jupyter-widgets/controls",
            "layout": "IPY_MODEL_999b15fd2a884f528ddc8471043ec85a"
          }
        },
        "48dd8f23be1144a29fcc755f80979f43": {
          "model_module": "@jupyter-widgets/controls",
          "model_name": "FloatProgressModel",
          "model_module_version": "1.5.0",
          "state": {
            "_view_name": "ProgressView",
            "style": "IPY_MODEL_a2106c9e9a8c477ea494239cedd7f18b",
            "_dom_classes": [],
            "description": "",
            "_model_name": "FloatProgressModel",
            "bar_style": "success",
            "max": 2655,
            "_view_module": "@jupyter-widgets/controls",
            "_model_module_version": "1.5.0",
            "value": 2655,
            "_view_count": null,
            "_view_module_version": "1.5.0",
            "orientation": "horizontal",
            "min": 0,
            "description_tooltip": null,
            "_model_module": "@jupyter-widgets/controls",
            "layout": "IPY_MODEL_33e9f8602ab14f6799292624067aa7be"
          }
        },
        "2ea81c5c225a48dc93c2451a4bfa563d": {
          "model_module": "@jupyter-widgets/controls",
          "model_name": "HTMLModel",
          "model_module_version": "1.5.0",
          "state": {
            "_view_name": "HTMLView",
            "style": "IPY_MODEL_676a88fdcca942b69829cdd9207f47f6",
            "_dom_classes": [],
            "description": "",
            "_model_name": "HTMLModel",
            "placeholder": "​",
            "_view_module": "@jupyter-widgets/controls",
            "_model_module_version": "1.5.0",
            "value": " 2655/2655 [00:54&lt;00:00, 26.20it/s]",
            "_view_count": null,
            "_view_module_version": "1.5.0",
            "description_tooltip": null,
            "_model_module": "@jupyter-widgets/controls",
            "layout": "IPY_MODEL_4edfe362f9f94bf9a19bc463fb323ba4"
          }
        },
        "56988b51ebe54506a70cf47f56030967": {
          "model_module": "@jupyter-widgets/controls",
          "model_name": "DescriptionStyleModel",
          "model_module_version": "1.5.0",
          "state": {
            "_view_name": "StyleView",
            "_model_name": "DescriptionStyleModel",
            "description_width": "",
            "_view_module": "@jupyter-widgets/base",
            "_model_module_version": "1.5.0",
            "_view_count": null,
            "_view_module_version": "1.2.0",
            "_model_module": "@jupyter-widgets/controls"
          }
        },
        "999b15fd2a884f528ddc8471043ec85a": {
          "model_module": "@jupyter-widgets/base",
          "model_name": "LayoutModel",
          "model_module_version": "1.2.0",
          "state": {
            "_view_name": "LayoutView",
            "grid_template_rows": null,
            "right": null,
            "justify_content": null,
            "_view_module": "@jupyter-widgets/base",
            "overflow": null,
            "_model_module_version": "1.2.0",
            "_view_count": null,
            "flex_flow": null,
            "width": null,
            "min_width": null,
            "border": null,
            "align_items": null,
            "bottom": null,
            "_model_module": "@jupyter-widgets/base",
            "top": null,
            "grid_column": null,
            "overflow_y": null,
            "overflow_x": null,
            "grid_auto_flow": null,
            "grid_area": null,
            "grid_template_columns": null,
            "flex": null,
            "_model_name": "LayoutModel",
            "justify_items": null,
            "grid_row": null,
            "max_height": null,
            "align_content": null,
            "visibility": null,
            "align_self": null,
            "height": null,
            "min_height": null,
            "padding": null,
            "grid_auto_rows": null,
            "grid_gap": null,
            "max_width": null,
            "order": null,
            "_view_module_version": "1.2.0",
            "grid_template_areas": null,
            "object_position": null,
            "object_fit": null,
            "grid_auto_columns": null,
            "margin": null,
            "display": null,
            "left": null
          }
        },
        "a2106c9e9a8c477ea494239cedd7f18b": {
          "model_module": "@jupyter-widgets/controls",
          "model_name": "ProgressStyleModel",
          "model_module_version": "1.5.0",
          "state": {
            "_view_name": "StyleView",
            "_model_name": "ProgressStyleModel",
            "description_width": "",
            "_view_module": "@jupyter-widgets/base",
            "_model_module_version": "1.5.0",
            "_view_count": null,
            "_view_module_version": "1.2.0",
            "bar_color": null,
            "_model_module": "@jupyter-widgets/controls"
          }
        },
        "33e9f8602ab14f6799292624067aa7be": {
          "model_module": "@jupyter-widgets/base",
          "model_name": "LayoutModel",
          "model_module_version": "1.2.0",
          "state": {
            "_view_name": "LayoutView",
            "grid_template_rows": null,
            "right": null,
            "justify_content": null,
            "_view_module": "@jupyter-widgets/base",
            "overflow": null,
            "_model_module_version": "1.2.0",
            "_view_count": null,
            "flex_flow": null,
            "width": null,
            "min_width": null,
            "border": null,
            "align_items": null,
            "bottom": null,
            "_model_module": "@jupyter-widgets/base",
            "top": null,
            "grid_column": null,
            "overflow_y": null,
            "overflow_x": null,
            "grid_auto_flow": null,
            "grid_area": null,
            "grid_template_columns": null,
            "flex": null,
            "_model_name": "LayoutModel",
            "justify_items": null,
            "grid_row": null,
            "max_height": null,
            "align_content": null,
            "visibility": null,
            "align_self": null,
            "height": null,
            "min_height": null,
            "padding": null,
            "grid_auto_rows": null,
            "grid_gap": null,
            "max_width": null,
            "order": null,
            "_view_module_version": "1.2.0",
            "grid_template_areas": null,
            "object_position": null,
            "object_fit": null,
            "grid_auto_columns": null,
            "margin": null,
            "display": null,
            "left": null
          }
        },
        "676a88fdcca942b69829cdd9207f47f6": {
          "model_module": "@jupyter-widgets/controls",
          "model_name": "DescriptionStyleModel",
          "model_module_version": "1.5.0",
          "state": {
            "_view_name": "StyleView",
            "_model_name": "DescriptionStyleModel",
            "description_width": "",
            "_view_module": "@jupyter-widgets/base",
            "_model_module_version": "1.5.0",
            "_view_count": null,
            "_view_module_version": "1.2.0",
            "_model_module": "@jupyter-widgets/controls"
          }
        },
        "4edfe362f9f94bf9a19bc463fb323ba4": {
          "model_module": "@jupyter-widgets/base",
          "model_name": "LayoutModel",
          "model_module_version": "1.2.0",
          "state": {
            "_view_name": "LayoutView",
            "grid_template_rows": null,
            "right": null,
            "justify_content": null,
            "_view_module": "@jupyter-widgets/base",
            "overflow": null,
            "_model_module_version": "1.2.0",
            "_view_count": null,
            "flex_flow": null,
            "width": null,
            "min_width": null,
            "border": null,
            "align_items": null,
            "bottom": null,
            "_model_module": "@jupyter-widgets/base",
            "top": null,
            "grid_column": null,
            "overflow_y": null,
            "overflow_x": null,
            "grid_auto_flow": null,
            "grid_area": null,
            "grid_template_columns": null,
            "flex": null,
            "_model_name": "LayoutModel",
            "justify_items": null,
            "grid_row": null,
            "max_height": null,
            "align_content": null,
            "visibility": null,
            "align_self": null,
            "height": null,
            "min_height": null,
            "padding": null,
            "grid_auto_rows": null,
            "grid_gap": null,
            "max_width": null,
            "order": null,
            "_view_module_version": "1.2.0",
            "grid_template_areas": null,
            "object_position": null,
            "object_fit": null,
            "grid_auto_columns": null,
            "margin": null,
            "display": null,
            "left": null
          }
        },
        "286db293258947bf80ad4c559ce5fbd6": {
          "model_module": "@jupyter-widgets/controls",
          "model_name": "HBoxModel",
          "model_module_version": "1.5.0",
          "state": {
            "_view_name": "HBoxView",
            "_dom_classes": [],
            "_model_name": "HBoxModel",
            "_view_module": "@jupyter-widgets/controls",
            "_model_module_version": "1.5.0",
            "_view_count": null,
            "_view_module_version": "1.5.0",
            "box_style": "",
            "layout": "IPY_MODEL_1d14f768befc44fb91cee9f650c5f34b",
            "_model_module": "@jupyter-widgets/controls",
            "children": [
              "IPY_MODEL_ceafa63f2e8e44378b0352a639765be7",
              "IPY_MODEL_6b8ca62e4a8f40e2bfdecf177c41c902",
              "IPY_MODEL_cf08a3624eac4d43b0f82c369f4ff558"
            ]
          }
        },
        "1d14f768befc44fb91cee9f650c5f34b": {
          "model_module": "@jupyter-widgets/base",
          "model_name": "LayoutModel",
          "model_module_version": "1.2.0",
          "state": {
            "_view_name": "LayoutView",
            "grid_template_rows": null,
            "right": null,
            "justify_content": null,
            "_view_module": "@jupyter-widgets/base",
            "overflow": null,
            "_model_module_version": "1.2.0",
            "_view_count": null,
            "flex_flow": null,
            "width": null,
            "min_width": null,
            "border": null,
            "align_items": null,
            "bottom": null,
            "_model_module": "@jupyter-widgets/base",
            "top": null,
            "grid_column": null,
            "overflow_y": null,
            "overflow_x": null,
            "grid_auto_flow": null,
            "grid_area": null,
            "grid_template_columns": null,
            "flex": null,
            "_model_name": "LayoutModel",
            "justify_items": null,
            "grid_row": null,
            "max_height": null,
            "align_content": null,
            "visibility": null,
            "align_self": null,
            "height": null,
            "min_height": null,
            "padding": null,
            "grid_auto_rows": null,
            "grid_gap": null,
            "max_width": null,
            "order": null,
            "_view_module_version": "1.2.0",
            "grid_template_areas": null,
            "object_position": null,
            "object_fit": null,
            "grid_auto_columns": null,
            "margin": null,
            "display": null,
            "left": null
          }
        },
        "ceafa63f2e8e44378b0352a639765be7": {
          "model_module": "@jupyter-widgets/controls",
          "model_name": "HTMLModel",
          "model_module_version": "1.5.0",
          "state": {
            "_view_name": "HTMLView",
            "style": "IPY_MODEL_b52a10951ee5423b82348cb194044e3a",
            "_dom_classes": [],
            "description": "",
            "_model_name": "HTMLModel",
            "placeholder": "​",
            "_view_module": "@jupyter-widgets/controls",
            "_model_module_version": "1.5.0",
            "value": "100%",
            "_view_count": null,
            "_view_module_version": "1.5.0",
            "description_tooltip": null,
            "_model_module": "@jupyter-widgets/controls",
            "layout": "IPY_MODEL_c5bc4ad12103496c916cfa1b8ee2e7c6"
          }
        },
        "6b8ca62e4a8f40e2bfdecf177c41c902": {
          "model_module": "@jupyter-widgets/controls",
          "model_name": "FloatProgressModel",
          "model_module_version": "1.5.0",
          "state": {
            "_view_name": "ProgressView",
            "style": "IPY_MODEL_778585b678724583a9f351a417a0d0b0",
            "_dom_classes": [],
            "description": "",
            "_model_name": "FloatProgressModel",
            "bar_style": "success",
            "max": 470,
            "_view_module": "@jupyter-widgets/controls",
            "_model_module_version": "1.5.0",
            "value": 470,
            "_view_count": null,
            "_view_module_version": "1.5.0",
            "orientation": "horizontal",
            "min": 0,
            "description_tooltip": null,
            "_model_module": "@jupyter-widgets/controls",
            "layout": "IPY_MODEL_7bee4ba6054c4e4d87f1eebbba213f34"
          }
        },
        "cf08a3624eac4d43b0f82c369f4ff558": {
          "model_module": "@jupyter-widgets/controls",
          "model_name": "HTMLModel",
          "model_module_version": "1.5.0",
          "state": {
            "_view_name": "HTMLView",
            "style": "IPY_MODEL_685fd61cb7194f21ba54ff7ddb7b6550",
            "_dom_classes": [],
            "description": "",
            "_model_name": "HTMLModel",
            "placeholder": "​",
            "_view_module": "@jupyter-widgets/controls",
            "_model_module_version": "1.5.0",
            "value": " 470/470 [00:02&lt;00:00, 113.55it/s]",
            "_view_count": null,
            "_view_module_version": "1.5.0",
            "description_tooltip": null,
            "_model_module": "@jupyter-widgets/controls",
            "layout": "IPY_MODEL_a14b1bcbd3a54a26b55834b5ccde98a4"
          }
        },
        "b52a10951ee5423b82348cb194044e3a": {
          "model_module": "@jupyter-widgets/controls",
          "model_name": "DescriptionStyleModel",
          "model_module_version": "1.5.0",
          "state": {
            "_view_name": "StyleView",
            "_model_name": "DescriptionStyleModel",
            "description_width": "",
            "_view_module": "@jupyter-widgets/base",
            "_model_module_version": "1.5.0",
            "_view_count": null,
            "_view_module_version": "1.2.0",
            "_model_module": "@jupyter-widgets/controls"
          }
        },
        "c5bc4ad12103496c916cfa1b8ee2e7c6": {
          "model_module": "@jupyter-widgets/base",
          "model_name": "LayoutModel",
          "model_module_version": "1.2.0",
          "state": {
            "_view_name": "LayoutView",
            "grid_template_rows": null,
            "right": null,
            "justify_content": null,
            "_view_module": "@jupyter-widgets/base",
            "overflow": null,
            "_model_module_version": "1.2.0",
            "_view_count": null,
            "flex_flow": null,
            "width": null,
            "min_width": null,
            "border": null,
            "align_items": null,
            "bottom": null,
            "_model_module": "@jupyter-widgets/base",
            "top": null,
            "grid_column": null,
            "overflow_y": null,
            "overflow_x": null,
            "grid_auto_flow": null,
            "grid_area": null,
            "grid_template_columns": null,
            "flex": null,
            "_model_name": "LayoutModel",
            "justify_items": null,
            "grid_row": null,
            "max_height": null,
            "align_content": null,
            "visibility": null,
            "align_self": null,
            "height": null,
            "min_height": null,
            "padding": null,
            "grid_auto_rows": null,
            "grid_gap": null,
            "max_width": null,
            "order": null,
            "_view_module_version": "1.2.0",
            "grid_template_areas": null,
            "object_position": null,
            "object_fit": null,
            "grid_auto_columns": null,
            "margin": null,
            "display": null,
            "left": null
          }
        },
        "778585b678724583a9f351a417a0d0b0": {
          "model_module": "@jupyter-widgets/controls",
          "model_name": "ProgressStyleModel",
          "model_module_version": "1.5.0",
          "state": {
            "_view_name": "StyleView",
            "_model_name": "ProgressStyleModel",
            "description_width": "",
            "_view_module": "@jupyter-widgets/base",
            "_model_module_version": "1.5.0",
            "_view_count": null,
            "_view_module_version": "1.2.0",
            "bar_color": null,
            "_model_module": "@jupyter-widgets/controls"
          }
        },
        "7bee4ba6054c4e4d87f1eebbba213f34": {
          "model_module": "@jupyter-widgets/base",
          "model_name": "LayoutModel",
          "model_module_version": "1.2.0",
          "state": {
            "_view_name": "LayoutView",
            "grid_template_rows": null,
            "right": null,
            "justify_content": null,
            "_view_module": "@jupyter-widgets/base",
            "overflow": null,
            "_model_module_version": "1.2.0",
            "_view_count": null,
            "flex_flow": null,
            "width": null,
            "min_width": null,
            "border": null,
            "align_items": null,
            "bottom": null,
            "_model_module": "@jupyter-widgets/base",
            "top": null,
            "grid_column": null,
            "overflow_y": null,
            "overflow_x": null,
            "grid_auto_flow": null,
            "grid_area": null,
            "grid_template_columns": null,
            "flex": null,
            "_model_name": "LayoutModel",
            "justify_items": null,
            "grid_row": null,
            "max_height": null,
            "align_content": null,
            "visibility": null,
            "align_self": null,
            "height": null,
            "min_height": null,
            "padding": null,
            "grid_auto_rows": null,
            "grid_gap": null,
            "max_width": null,
            "order": null,
            "_view_module_version": "1.2.0",
            "grid_template_areas": null,
            "object_position": null,
            "object_fit": null,
            "grid_auto_columns": null,
            "margin": null,
            "display": null,
            "left": null
          }
        },
        "685fd61cb7194f21ba54ff7ddb7b6550": {
          "model_module": "@jupyter-widgets/controls",
          "model_name": "DescriptionStyleModel",
          "model_module_version": "1.5.0",
          "state": {
            "_view_name": "StyleView",
            "_model_name": "DescriptionStyleModel",
            "description_width": "",
            "_view_module": "@jupyter-widgets/base",
            "_model_module_version": "1.5.0",
            "_view_count": null,
            "_view_module_version": "1.2.0",
            "_model_module": "@jupyter-widgets/controls"
          }
        },
        "a14b1bcbd3a54a26b55834b5ccde98a4": {
          "model_module": "@jupyter-widgets/base",
          "model_name": "LayoutModel",
          "model_module_version": "1.2.0",
          "state": {
            "_view_name": "LayoutView",
            "grid_template_rows": null,
            "right": null,
            "justify_content": null,
            "_view_module": "@jupyter-widgets/base",
            "overflow": null,
            "_model_module_version": "1.2.0",
            "_view_count": null,
            "flex_flow": null,
            "width": null,
            "min_width": null,
            "border": null,
            "align_items": null,
            "bottom": null,
            "_model_module": "@jupyter-widgets/base",
            "top": null,
            "grid_column": null,
            "overflow_y": null,
            "overflow_x": null,
            "grid_auto_flow": null,
            "grid_area": null,
            "grid_template_columns": null,
            "flex": null,
            "_model_name": "LayoutModel",
            "justify_items": null,
            "grid_row": null,
            "max_height": null,
            "align_content": null,
            "visibility": null,
            "align_self": null,
            "height": null,
            "min_height": null,
            "padding": null,
            "grid_auto_rows": null,
            "grid_gap": null,
            "max_width": null,
            "order": null,
            "_view_module_version": "1.2.0",
            "grid_template_areas": null,
            "object_position": null,
            "object_fit": null,
            "grid_auto_columns": null,
            "margin": null,
            "display": null,
            "left": null
          }
        },
        "9b155d3982c2440aa6614ad9fe23ee55": {
          "model_module": "@jupyter-widgets/controls",
          "model_name": "HBoxModel",
          "model_module_version": "1.5.0",
          "state": {
            "_view_name": "HBoxView",
            "_dom_classes": [],
            "_model_name": "HBoxModel",
            "_view_module": "@jupyter-widgets/controls",
            "_model_module_version": "1.5.0",
            "_view_count": null,
            "_view_module_version": "1.5.0",
            "box_style": "",
            "layout": "IPY_MODEL_9c251b9b7dea4f499836a52bb7f7442a",
            "_model_module": "@jupyter-widgets/controls",
            "children": [
              "IPY_MODEL_ca2b1803067144fc9dd4e4305a6ecaef",
              "IPY_MODEL_cf675c3b97814f8da395e3a03a53e0cc",
              "IPY_MODEL_417eda9bef7a4926b11510c182d5baa6"
            ]
          }
        },
        "9c251b9b7dea4f499836a52bb7f7442a": {
          "model_module": "@jupyter-widgets/base",
          "model_name": "LayoutModel",
          "model_module_version": "1.2.0",
          "state": {
            "_view_name": "LayoutView",
            "grid_template_rows": null,
            "right": null,
            "justify_content": null,
            "_view_module": "@jupyter-widgets/base",
            "overflow": null,
            "_model_module_version": "1.2.0",
            "_view_count": null,
            "flex_flow": null,
            "width": null,
            "min_width": null,
            "border": null,
            "align_items": null,
            "bottom": null,
            "_model_module": "@jupyter-widgets/base",
            "top": null,
            "grid_column": null,
            "overflow_y": null,
            "overflow_x": null,
            "grid_auto_flow": null,
            "grid_area": null,
            "grid_template_columns": null,
            "flex": null,
            "_model_name": "LayoutModel",
            "justify_items": null,
            "grid_row": null,
            "max_height": null,
            "align_content": null,
            "visibility": null,
            "align_self": null,
            "height": null,
            "min_height": null,
            "padding": null,
            "grid_auto_rows": null,
            "grid_gap": null,
            "max_width": null,
            "order": null,
            "_view_module_version": "1.2.0",
            "grid_template_areas": null,
            "object_position": null,
            "object_fit": null,
            "grid_auto_columns": null,
            "margin": null,
            "display": null,
            "left": null
          }
        },
        "ca2b1803067144fc9dd4e4305a6ecaef": {
          "model_module": "@jupyter-widgets/controls",
          "model_name": "HTMLModel",
          "model_module_version": "1.5.0",
          "state": {
            "_view_name": "HTMLView",
            "style": "IPY_MODEL_ad8b2b279cfc477a9f8dd360907a4a01",
            "_dom_classes": [],
            "description": "",
            "_model_name": "HTMLModel",
            "placeholder": "​",
            "_view_module": "@jupyter-widgets/controls",
            "_model_module_version": "1.5.0",
            "value": "100%",
            "_view_count": null,
            "_view_module_version": "1.5.0",
            "description_tooltip": null,
            "_model_module": "@jupyter-widgets/controls",
            "layout": "IPY_MODEL_d1bd850326734d8b969afaf604679194"
          }
        },
        "cf675c3b97814f8da395e3a03a53e0cc": {
          "model_module": "@jupyter-widgets/controls",
          "model_name": "FloatProgressModel",
          "model_module_version": "1.5.0",
          "state": {
            "_view_name": "ProgressView",
            "style": "IPY_MODEL_1a733740ec654ddeb3b18bc685ef1c9d",
            "_dom_classes": [],
            "description": "",
            "_model_name": "FloatProgressModel",
            "bar_style": "success",
            "max": 1302,
            "_view_module": "@jupyter-widgets/controls",
            "_model_module_version": "1.5.0",
            "value": 1302,
            "_view_count": null,
            "_view_module_version": "1.5.0",
            "orientation": "horizontal",
            "min": 0,
            "description_tooltip": null,
            "_model_module": "@jupyter-widgets/controls",
            "layout": "IPY_MODEL_137cc6ef9b234997a23992b9044cbe12"
          }
        },
        "417eda9bef7a4926b11510c182d5baa6": {
          "model_module": "@jupyter-widgets/controls",
          "model_name": "HTMLModel",
          "model_module_version": "1.5.0",
          "state": {
            "_view_name": "HTMLView",
            "style": "IPY_MODEL_976d8f63d45143a281a27be2aa9b5bed",
            "_dom_classes": [],
            "description": "",
            "_model_name": "HTMLModel",
            "placeholder": "​",
            "_view_module": "@jupyter-widgets/controls",
            "_model_module_version": "1.5.0",
            "value": " 1302/1302 [00:05&lt;00:00, 224.90it/s]",
            "_view_count": null,
            "_view_module_version": "1.5.0",
            "description_tooltip": null,
            "_model_module": "@jupyter-widgets/controls",
            "layout": "IPY_MODEL_44affe16e8ac41bda70830cd9f3e5af7"
          }
        },
        "ad8b2b279cfc477a9f8dd360907a4a01": {
          "model_module": "@jupyter-widgets/controls",
          "model_name": "DescriptionStyleModel",
          "model_module_version": "1.5.0",
          "state": {
            "_view_name": "StyleView",
            "_model_name": "DescriptionStyleModel",
            "description_width": "",
            "_view_module": "@jupyter-widgets/base",
            "_model_module_version": "1.5.0",
            "_view_count": null,
            "_view_module_version": "1.2.0",
            "_model_module": "@jupyter-widgets/controls"
          }
        },
        "d1bd850326734d8b969afaf604679194": {
          "model_module": "@jupyter-widgets/base",
          "model_name": "LayoutModel",
          "model_module_version": "1.2.0",
          "state": {
            "_view_name": "LayoutView",
            "grid_template_rows": null,
            "right": null,
            "justify_content": null,
            "_view_module": "@jupyter-widgets/base",
            "overflow": null,
            "_model_module_version": "1.2.0",
            "_view_count": null,
            "flex_flow": null,
            "width": null,
            "min_width": null,
            "border": null,
            "align_items": null,
            "bottom": null,
            "_model_module": "@jupyter-widgets/base",
            "top": null,
            "grid_column": null,
            "overflow_y": null,
            "overflow_x": null,
            "grid_auto_flow": null,
            "grid_area": null,
            "grid_template_columns": null,
            "flex": null,
            "_model_name": "LayoutModel",
            "justify_items": null,
            "grid_row": null,
            "max_height": null,
            "align_content": null,
            "visibility": null,
            "align_self": null,
            "height": null,
            "min_height": null,
            "padding": null,
            "grid_auto_rows": null,
            "grid_gap": null,
            "max_width": null,
            "order": null,
            "_view_module_version": "1.2.0",
            "grid_template_areas": null,
            "object_position": null,
            "object_fit": null,
            "grid_auto_columns": null,
            "margin": null,
            "display": null,
            "left": null
          }
        },
        "1a733740ec654ddeb3b18bc685ef1c9d": {
          "model_module": "@jupyter-widgets/controls",
          "model_name": "ProgressStyleModel",
          "model_module_version": "1.5.0",
          "state": {
            "_view_name": "StyleView",
            "_model_name": "ProgressStyleModel",
            "description_width": "",
            "_view_module": "@jupyter-widgets/base",
            "_model_module_version": "1.5.0",
            "_view_count": null,
            "_view_module_version": "1.2.0",
            "bar_color": null,
            "_model_module": "@jupyter-widgets/controls"
          }
        },
        "137cc6ef9b234997a23992b9044cbe12": {
          "model_module": "@jupyter-widgets/base",
          "model_name": "LayoutModel",
          "model_module_version": "1.2.0",
          "state": {
            "_view_name": "LayoutView",
            "grid_template_rows": null,
            "right": null,
            "justify_content": null,
            "_view_module": "@jupyter-widgets/base",
            "overflow": null,
            "_model_module_version": "1.2.0",
            "_view_count": null,
            "flex_flow": null,
            "width": null,
            "min_width": null,
            "border": null,
            "align_items": null,
            "bottom": null,
            "_model_module": "@jupyter-widgets/base",
            "top": null,
            "grid_column": null,
            "overflow_y": null,
            "overflow_x": null,
            "grid_auto_flow": null,
            "grid_area": null,
            "grid_template_columns": null,
            "flex": null,
            "_model_name": "LayoutModel",
            "justify_items": null,
            "grid_row": null,
            "max_height": null,
            "align_content": null,
            "visibility": null,
            "align_self": null,
            "height": null,
            "min_height": null,
            "padding": null,
            "grid_auto_rows": null,
            "grid_gap": null,
            "max_width": null,
            "order": null,
            "_view_module_version": "1.2.0",
            "grid_template_areas": null,
            "object_position": null,
            "object_fit": null,
            "grid_auto_columns": null,
            "margin": null,
            "display": null,
            "left": null
          }
        },
        "976d8f63d45143a281a27be2aa9b5bed": {
          "model_module": "@jupyter-widgets/controls",
          "model_name": "DescriptionStyleModel",
          "model_module_version": "1.5.0",
          "state": {
            "_view_name": "StyleView",
            "_model_name": "DescriptionStyleModel",
            "description_width": "",
            "_view_module": "@jupyter-widgets/base",
            "_model_module_version": "1.5.0",
            "_view_count": null,
            "_view_module_version": "1.2.0",
            "_model_module": "@jupyter-widgets/controls"
          }
        },
        "44affe16e8ac41bda70830cd9f3e5af7": {
          "model_module": "@jupyter-widgets/base",
          "model_name": "LayoutModel",
          "model_module_version": "1.2.0",
          "state": {
            "_view_name": "LayoutView",
            "grid_template_rows": null,
            "right": null,
            "justify_content": null,
            "_view_module": "@jupyter-widgets/base",
            "overflow": null,
            "_model_module_version": "1.2.0",
            "_view_count": null,
            "flex_flow": null,
            "width": null,
            "min_width": null,
            "border": null,
            "align_items": null,
            "bottom": null,
            "_model_module": "@jupyter-widgets/base",
            "top": null,
            "grid_column": null,
            "overflow_y": null,
            "overflow_x": null,
            "grid_auto_flow": null,
            "grid_area": null,
            "grid_template_columns": null,
            "flex": null,
            "_model_name": "LayoutModel",
            "justify_items": null,
            "grid_row": null,
            "max_height": null,
            "align_content": null,
            "visibility": null,
            "align_self": null,
            "height": null,
            "min_height": null,
            "padding": null,
            "grid_auto_rows": null,
            "grid_gap": null,
            "max_width": null,
            "order": null,
            "_view_module_version": "1.2.0",
            "grid_template_areas": null,
            "object_position": null,
            "object_fit": null,
            "grid_auto_columns": null,
            "margin": null,
            "display": null,
            "left": null
          }
        },
        "1ed0d9af260b4d5fb17d3990c816048a": {
          "model_module": "@jupyter-widgets/controls",
          "model_name": "HBoxModel",
          "model_module_version": "1.5.0",
          "state": {
            "_view_name": "HBoxView",
            "_dom_classes": [],
            "_model_name": "HBoxModel",
            "_view_module": "@jupyter-widgets/controls",
            "_model_module_version": "1.5.0",
            "_view_count": null,
            "_view_module_version": "1.5.0",
            "box_style": "",
            "layout": "IPY_MODEL_3a954b066fd6415ebf052e1a3a501d98",
            "_model_module": "@jupyter-widgets/controls",
            "children": [
              "IPY_MODEL_91d225aa074245fbac75d4ad6f78829f",
              "IPY_MODEL_6a57ae2cc7a64e90a18612049475d5a4",
              "IPY_MODEL_7e754ce3b2bb4da08ef86817c2199bd0"
            ]
          }
        },
        "3a954b066fd6415ebf052e1a3a501d98": {
          "model_module": "@jupyter-widgets/base",
          "model_name": "LayoutModel",
          "model_module_version": "1.2.0",
          "state": {
            "_view_name": "LayoutView",
            "grid_template_rows": null,
            "right": null,
            "justify_content": null,
            "_view_module": "@jupyter-widgets/base",
            "overflow": null,
            "_model_module_version": "1.2.0",
            "_view_count": null,
            "flex_flow": null,
            "width": null,
            "min_width": null,
            "border": null,
            "align_items": null,
            "bottom": null,
            "_model_module": "@jupyter-widgets/base",
            "top": null,
            "grid_column": null,
            "overflow_y": null,
            "overflow_x": null,
            "grid_auto_flow": null,
            "grid_area": null,
            "grid_template_columns": null,
            "flex": null,
            "_model_name": "LayoutModel",
            "justify_items": null,
            "grid_row": null,
            "max_height": null,
            "align_content": null,
            "visibility": null,
            "align_self": null,
            "height": null,
            "min_height": null,
            "padding": null,
            "grid_auto_rows": null,
            "grid_gap": null,
            "max_width": null,
            "order": null,
            "_view_module_version": "1.2.0",
            "grid_template_areas": null,
            "object_position": null,
            "object_fit": null,
            "grid_auto_columns": null,
            "margin": null,
            "display": null,
            "left": null
          }
        },
        "91d225aa074245fbac75d4ad6f78829f": {
          "model_module": "@jupyter-widgets/controls",
          "model_name": "HTMLModel",
          "model_module_version": "1.5.0",
          "state": {
            "_view_name": "HTMLView",
            "style": "IPY_MODEL_524963773667437a8b0c7b5e5ae913c7",
            "_dom_classes": [],
            "description": "",
            "_model_name": "HTMLModel",
            "placeholder": "​",
            "_view_module": "@jupyter-widgets/controls",
            "_model_module_version": "1.5.0",
            "value": "100%",
            "_view_count": null,
            "_view_module_version": "1.5.0",
            "description_tooltip": null,
            "_model_module": "@jupyter-widgets/controls",
            "layout": "IPY_MODEL_4c9c26904ed949eea1c335f9e5280421"
          }
        },
        "6a57ae2cc7a64e90a18612049475d5a4": {
          "model_module": "@jupyter-widgets/controls",
          "model_name": "FloatProgressModel",
          "model_module_version": "1.5.0",
          "state": {
            "_view_name": "ProgressView",
            "style": "IPY_MODEL_d0cb1a4c3af346f6b89c71b80426065d",
            "_dom_classes": [],
            "description": "",
            "_model_name": "FloatProgressModel",
            "bar_style": "success",
            "max": 1353,
            "_view_module": "@jupyter-widgets/controls",
            "_model_module_version": "1.5.0",
            "value": 1353,
            "_view_count": null,
            "_view_module_version": "1.5.0",
            "orientation": "horizontal",
            "min": 0,
            "description_tooltip": null,
            "_model_module": "@jupyter-widgets/controls",
            "layout": "IPY_MODEL_fd8bd96ce6ba4747a86a1351e688847a"
          }
        },
        "7e754ce3b2bb4da08ef86817c2199bd0": {
          "model_module": "@jupyter-widgets/controls",
          "model_name": "HTMLModel",
          "model_module_version": "1.5.0",
          "state": {
            "_view_name": "HTMLView",
            "style": "IPY_MODEL_3a71013f4c8c4bd6a489b508a7d36516",
            "_dom_classes": [],
            "description": "",
            "_model_name": "HTMLModel",
            "placeholder": "​",
            "_view_module": "@jupyter-widgets/controls",
            "_model_module_version": "1.5.0",
            "value": " 1353/1353 [00:06&lt;00:00, 217.84it/s]",
            "_view_count": null,
            "_view_module_version": "1.5.0",
            "description_tooltip": null,
            "_model_module": "@jupyter-widgets/controls",
            "layout": "IPY_MODEL_1087a195e61c45daa0cfaa743f2c98d9"
          }
        },
        "524963773667437a8b0c7b5e5ae913c7": {
          "model_module": "@jupyter-widgets/controls",
          "model_name": "DescriptionStyleModel",
          "model_module_version": "1.5.0",
          "state": {
            "_view_name": "StyleView",
            "_model_name": "DescriptionStyleModel",
            "description_width": "",
            "_view_module": "@jupyter-widgets/base",
            "_model_module_version": "1.5.0",
            "_view_count": null,
            "_view_module_version": "1.2.0",
            "_model_module": "@jupyter-widgets/controls"
          }
        },
        "4c9c26904ed949eea1c335f9e5280421": {
          "model_module": "@jupyter-widgets/base",
          "model_name": "LayoutModel",
          "model_module_version": "1.2.0",
          "state": {
            "_view_name": "LayoutView",
            "grid_template_rows": null,
            "right": null,
            "justify_content": null,
            "_view_module": "@jupyter-widgets/base",
            "overflow": null,
            "_model_module_version": "1.2.0",
            "_view_count": null,
            "flex_flow": null,
            "width": null,
            "min_width": null,
            "border": null,
            "align_items": null,
            "bottom": null,
            "_model_module": "@jupyter-widgets/base",
            "top": null,
            "grid_column": null,
            "overflow_y": null,
            "overflow_x": null,
            "grid_auto_flow": null,
            "grid_area": null,
            "grid_template_columns": null,
            "flex": null,
            "_model_name": "LayoutModel",
            "justify_items": null,
            "grid_row": null,
            "max_height": null,
            "align_content": null,
            "visibility": null,
            "align_self": null,
            "height": null,
            "min_height": null,
            "padding": null,
            "grid_auto_rows": null,
            "grid_gap": null,
            "max_width": null,
            "order": null,
            "_view_module_version": "1.2.0",
            "grid_template_areas": null,
            "object_position": null,
            "object_fit": null,
            "grid_auto_columns": null,
            "margin": null,
            "display": null,
            "left": null
          }
        },
        "d0cb1a4c3af346f6b89c71b80426065d": {
          "model_module": "@jupyter-widgets/controls",
          "model_name": "ProgressStyleModel",
          "model_module_version": "1.5.0",
          "state": {
            "_view_name": "StyleView",
            "_model_name": "ProgressStyleModel",
            "description_width": "",
            "_view_module": "@jupyter-widgets/base",
            "_model_module_version": "1.5.0",
            "_view_count": null,
            "_view_module_version": "1.2.0",
            "bar_color": null,
            "_model_module": "@jupyter-widgets/controls"
          }
        },
        "fd8bd96ce6ba4747a86a1351e688847a": {
          "model_module": "@jupyter-widgets/base",
          "model_name": "LayoutModel",
          "model_module_version": "1.2.0",
          "state": {
            "_view_name": "LayoutView",
            "grid_template_rows": null,
            "right": null,
            "justify_content": null,
            "_view_module": "@jupyter-widgets/base",
            "overflow": null,
            "_model_module_version": "1.2.0",
            "_view_count": null,
            "flex_flow": null,
            "width": null,
            "min_width": null,
            "border": null,
            "align_items": null,
            "bottom": null,
            "_model_module": "@jupyter-widgets/base",
            "top": null,
            "grid_column": null,
            "overflow_y": null,
            "overflow_x": null,
            "grid_auto_flow": null,
            "grid_area": null,
            "grid_template_columns": null,
            "flex": null,
            "_model_name": "LayoutModel",
            "justify_items": null,
            "grid_row": null,
            "max_height": null,
            "align_content": null,
            "visibility": null,
            "align_self": null,
            "height": null,
            "min_height": null,
            "padding": null,
            "grid_auto_rows": null,
            "grid_gap": null,
            "max_width": null,
            "order": null,
            "_view_module_version": "1.2.0",
            "grid_template_areas": null,
            "object_position": null,
            "object_fit": null,
            "grid_auto_columns": null,
            "margin": null,
            "display": null,
            "left": null
          }
        },
        "3a71013f4c8c4bd6a489b508a7d36516": {
          "model_module": "@jupyter-widgets/controls",
          "model_name": "DescriptionStyleModel",
          "model_module_version": "1.5.0",
          "state": {
            "_view_name": "StyleView",
            "_model_name": "DescriptionStyleModel",
            "description_width": "",
            "_view_module": "@jupyter-widgets/base",
            "_model_module_version": "1.5.0",
            "_view_count": null,
            "_view_module_version": "1.2.0",
            "_model_module": "@jupyter-widgets/controls"
          }
        },
        "1087a195e61c45daa0cfaa743f2c98d9": {
          "model_module": "@jupyter-widgets/base",
          "model_name": "LayoutModel",
          "model_module_version": "1.2.0",
          "state": {
            "_view_name": "LayoutView",
            "grid_template_rows": null,
            "right": null,
            "justify_content": null,
            "_view_module": "@jupyter-widgets/base",
            "overflow": null,
            "_model_module_version": "1.2.0",
            "_view_count": null,
            "flex_flow": null,
            "width": null,
            "min_width": null,
            "border": null,
            "align_items": null,
            "bottom": null,
            "_model_module": "@jupyter-widgets/base",
            "top": null,
            "grid_column": null,
            "overflow_y": null,
            "overflow_x": null,
            "grid_auto_flow": null,
            "grid_area": null,
            "grid_template_columns": null,
            "flex": null,
            "_model_name": "LayoutModel",
            "justify_items": null,
            "grid_row": null,
            "max_height": null,
            "align_content": null,
            "visibility": null,
            "align_self": null,
            "height": null,
            "min_height": null,
            "padding": null,
            "grid_auto_rows": null,
            "grid_gap": null,
            "max_width": null,
            "order": null,
            "_view_module_version": "1.2.0",
            "grid_template_areas": null,
            "object_position": null,
            "object_fit": null,
            "grid_auto_columns": null,
            "margin": null,
            "display": null,
            "left": null
          }
        },
        "265624ee3d914288af512a9c6a26f9de": {
          "model_module": "@jupyter-widgets/controls",
          "model_name": "HBoxModel",
          "model_module_version": "1.5.0",
          "state": {
            "_view_name": "HBoxView",
            "_dom_classes": [],
            "_model_name": "HBoxModel",
            "_view_module": "@jupyter-widgets/controls",
            "_model_module_version": "1.5.0",
            "_view_count": null,
            "_view_module_version": "1.5.0",
            "box_style": "",
            "layout": "IPY_MODEL_fa339011ce7147168d29bdb2f776db4e",
            "_model_module": "@jupyter-widgets/controls",
            "children": [
              "IPY_MODEL_c00af9b79c2b4407a001e87f52d2f775",
              "IPY_MODEL_70ecd35ace304a14b47954c81d3e54f6",
              "IPY_MODEL_1ccfbb63d6f2417682016d461ac5495b"
            ]
          }
        },
        "fa339011ce7147168d29bdb2f776db4e": {
          "model_module": "@jupyter-widgets/base",
          "model_name": "LayoutModel",
          "model_module_version": "1.2.0",
          "state": {
            "_view_name": "LayoutView",
            "grid_template_rows": null,
            "right": null,
            "justify_content": null,
            "_view_module": "@jupyter-widgets/base",
            "overflow": null,
            "_model_module_version": "1.2.0",
            "_view_count": null,
            "flex_flow": null,
            "width": null,
            "min_width": null,
            "border": null,
            "align_items": null,
            "bottom": null,
            "_model_module": "@jupyter-widgets/base",
            "top": null,
            "grid_column": null,
            "overflow_y": null,
            "overflow_x": null,
            "grid_auto_flow": null,
            "grid_area": null,
            "grid_template_columns": null,
            "flex": null,
            "_model_name": "LayoutModel",
            "justify_items": null,
            "grid_row": null,
            "max_height": null,
            "align_content": null,
            "visibility": null,
            "align_self": null,
            "height": null,
            "min_height": null,
            "padding": null,
            "grid_auto_rows": null,
            "grid_gap": null,
            "max_width": null,
            "order": null,
            "_view_module_version": "1.2.0",
            "grid_template_areas": null,
            "object_position": null,
            "object_fit": null,
            "grid_auto_columns": null,
            "margin": null,
            "display": null,
            "left": null
          }
        },
        "c00af9b79c2b4407a001e87f52d2f775": {
          "model_module": "@jupyter-widgets/controls",
          "model_name": "HTMLModel",
          "model_module_version": "1.5.0",
          "state": {
            "_view_name": "HTMLView",
            "style": "IPY_MODEL_7998bf8e123f404b9fe035be4797eb26",
            "_dom_classes": [],
            "description": "",
            "_model_name": "HTMLModel",
            "placeholder": "​",
            "_view_module": "@jupyter-widgets/controls",
            "_model_module_version": "1.5.0",
            "value": "100%",
            "_view_count": null,
            "_view_module_version": "1.5.0",
            "description_tooltip": null,
            "_model_module": "@jupyter-widgets/controls",
            "layout": "IPY_MODEL_ac25912e211a4efca2aca734ecfe4959"
          }
        },
        "70ecd35ace304a14b47954c81d3e54f6": {
          "model_module": "@jupyter-widgets/controls",
          "model_name": "FloatProgressModel",
          "model_module_version": "1.5.0",
          "state": {
            "_view_name": "ProgressView",
            "style": "IPY_MODEL_30801741992a41bca4036d8dba6d80e5",
            "_dom_classes": [],
            "description": "",
            "_model_name": "FloatProgressModel",
            "bar_style": "success",
            "max": 470,
            "_view_module": "@jupyter-widgets/controls",
            "_model_module_version": "1.5.0",
            "value": 470,
            "_view_count": null,
            "_view_module_version": "1.5.0",
            "orientation": "horizontal",
            "min": 0,
            "description_tooltip": null,
            "_model_module": "@jupyter-widgets/controls",
            "layout": "IPY_MODEL_3c6804d463654e46a87d32475c3f9dd1"
          }
        },
        "1ccfbb63d6f2417682016d461ac5495b": {
          "model_module": "@jupyter-widgets/controls",
          "model_name": "HTMLModel",
          "model_module_version": "1.5.0",
          "state": {
            "_view_name": "HTMLView",
            "style": "IPY_MODEL_5cf62dde14f4423c80a6ed6de6a9dc12",
            "_dom_classes": [],
            "description": "",
            "_model_name": "HTMLModel",
            "placeholder": "​",
            "_view_module": "@jupyter-widgets/controls",
            "_model_module_version": "1.5.0",
            "value": " 470/470 [00:01&lt;00:00, 313.89it/s]",
            "_view_count": null,
            "_view_module_version": "1.5.0",
            "description_tooltip": null,
            "_model_module": "@jupyter-widgets/controls",
            "layout": "IPY_MODEL_d7e0e6dcd0c548f6b64506c44ac9ba42"
          }
        },
        "7998bf8e123f404b9fe035be4797eb26": {
          "model_module": "@jupyter-widgets/controls",
          "model_name": "DescriptionStyleModel",
          "model_module_version": "1.5.0",
          "state": {
            "_view_name": "StyleView",
            "_model_name": "DescriptionStyleModel",
            "description_width": "",
            "_view_module": "@jupyter-widgets/base",
            "_model_module_version": "1.5.0",
            "_view_count": null,
            "_view_module_version": "1.2.0",
            "_model_module": "@jupyter-widgets/controls"
          }
        },
        "ac25912e211a4efca2aca734ecfe4959": {
          "model_module": "@jupyter-widgets/base",
          "model_name": "LayoutModel",
          "model_module_version": "1.2.0",
          "state": {
            "_view_name": "LayoutView",
            "grid_template_rows": null,
            "right": null,
            "justify_content": null,
            "_view_module": "@jupyter-widgets/base",
            "overflow": null,
            "_model_module_version": "1.2.0",
            "_view_count": null,
            "flex_flow": null,
            "width": null,
            "min_width": null,
            "border": null,
            "align_items": null,
            "bottom": null,
            "_model_module": "@jupyter-widgets/base",
            "top": null,
            "grid_column": null,
            "overflow_y": null,
            "overflow_x": null,
            "grid_auto_flow": null,
            "grid_area": null,
            "grid_template_columns": null,
            "flex": null,
            "_model_name": "LayoutModel",
            "justify_items": null,
            "grid_row": null,
            "max_height": null,
            "align_content": null,
            "visibility": null,
            "align_self": null,
            "height": null,
            "min_height": null,
            "padding": null,
            "grid_auto_rows": null,
            "grid_gap": null,
            "max_width": null,
            "order": null,
            "_view_module_version": "1.2.0",
            "grid_template_areas": null,
            "object_position": null,
            "object_fit": null,
            "grid_auto_columns": null,
            "margin": null,
            "display": null,
            "left": null
          }
        },
        "30801741992a41bca4036d8dba6d80e5": {
          "model_module": "@jupyter-widgets/controls",
          "model_name": "ProgressStyleModel",
          "model_module_version": "1.5.0",
          "state": {
            "_view_name": "StyleView",
            "_model_name": "ProgressStyleModel",
            "description_width": "",
            "_view_module": "@jupyter-widgets/base",
            "_model_module_version": "1.5.0",
            "_view_count": null,
            "_view_module_version": "1.2.0",
            "bar_color": null,
            "_model_module": "@jupyter-widgets/controls"
          }
        },
        "3c6804d463654e46a87d32475c3f9dd1": {
          "model_module": "@jupyter-widgets/base",
          "model_name": "LayoutModel",
          "model_module_version": "1.2.0",
          "state": {
            "_view_name": "LayoutView",
            "grid_template_rows": null,
            "right": null,
            "justify_content": null,
            "_view_module": "@jupyter-widgets/base",
            "overflow": null,
            "_model_module_version": "1.2.0",
            "_view_count": null,
            "flex_flow": null,
            "width": null,
            "min_width": null,
            "border": null,
            "align_items": null,
            "bottom": null,
            "_model_module": "@jupyter-widgets/base",
            "top": null,
            "grid_column": null,
            "overflow_y": null,
            "overflow_x": null,
            "grid_auto_flow": null,
            "grid_area": null,
            "grid_template_columns": null,
            "flex": null,
            "_model_name": "LayoutModel",
            "justify_items": null,
            "grid_row": null,
            "max_height": null,
            "align_content": null,
            "visibility": null,
            "align_self": null,
            "height": null,
            "min_height": null,
            "padding": null,
            "grid_auto_rows": null,
            "grid_gap": null,
            "max_width": null,
            "order": null,
            "_view_module_version": "1.2.0",
            "grid_template_areas": null,
            "object_position": null,
            "object_fit": null,
            "grid_auto_columns": null,
            "margin": null,
            "display": null,
            "left": null
          }
        },
        "5cf62dde14f4423c80a6ed6de6a9dc12": {
          "model_module": "@jupyter-widgets/controls",
          "model_name": "DescriptionStyleModel",
          "model_module_version": "1.5.0",
          "state": {
            "_view_name": "StyleView",
            "_model_name": "DescriptionStyleModel",
            "description_width": "",
            "_view_module": "@jupyter-widgets/base",
            "_model_module_version": "1.5.0",
            "_view_count": null,
            "_view_module_version": "1.2.0",
            "_model_module": "@jupyter-widgets/controls"
          }
        },
        "d7e0e6dcd0c548f6b64506c44ac9ba42": {
          "model_module": "@jupyter-widgets/base",
          "model_name": "LayoutModel",
          "model_module_version": "1.2.0",
          "state": {
            "_view_name": "LayoutView",
            "grid_template_rows": null,
            "right": null,
            "justify_content": null,
            "_view_module": "@jupyter-widgets/base",
            "overflow": null,
            "_model_module_version": "1.2.0",
            "_view_count": null,
            "flex_flow": null,
            "width": null,
            "min_width": null,
            "border": null,
            "align_items": null,
            "bottom": null,
            "_model_module": "@jupyter-widgets/base",
            "top": null,
            "grid_column": null,
            "overflow_y": null,
            "overflow_x": null,
            "grid_auto_flow": null,
            "grid_area": null,
            "grid_template_columns": null,
            "flex": null,
            "_model_name": "LayoutModel",
            "justify_items": null,
            "grid_row": null,
            "max_height": null,
            "align_content": null,
            "visibility": null,
            "align_self": null,
            "height": null,
            "min_height": null,
            "padding": null,
            "grid_auto_rows": null,
            "grid_gap": null,
            "max_width": null,
            "order": null,
            "_view_module_version": "1.2.0",
            "grid_template_areas": null,
            "object_position": null,
            "object_fit": null,
            "grid_auto_columns": null,
            "margin": null,
            "display": null,
            "left": null
          }
        },
        "503a1cef549c4e1cbdc5270712184247": {
          "model_module": "@jupyter-widgets/controls",
          "model_name": "HBoxModel",
          "model_module_version": "1.5.0",
          "state": {
            "_view_name": "HBoxView",
            "_dom_classes": [],
            "_model_name": "HBoxModel",
            "_view_module": "@jupyter-widgets/controls",
            "_model_module_version": "1.5.0",
            "_view_count": null,
            "_view_module_version": "1.5.0",
            "box_style": "",
            "layout": "IPY_MODEL_9c67c21bcd424a369ce0add18871f413",
            "_model_module": "@jupyter-widgets/controls",
            "children": [
              "IPY_MODEL_e9d59551c7d64c9fa189317214a75c28",
              "IPY_MODEL_c9070d3d1547409f9d9729f3758a8cb1",
              "IPY_MODEL_b6248f4c9f084fe4a55c37aa99dca319"
            ]
          }
        },
        "9c67c21bcd424a369ce0add18871f413": {
          "model_module": "@jupyter-widgets/base",
          "model_name": "LayoutModel",
          "model_module_version": "1.2.0",
          "state": {
            "_view_name": "LayoutView",
            "grid_template_rows": null,
            "right": null,
            "justify_content": null,
            "_view_module": "@jupyter-widgets/base",
            "overflow": null,
            "_model_module_version": "1.2.0",
            "_view_count": null,
            "flex_flow": null,
            "width": null,
            "min_width": null,
            "border": null,
            "align_items": null,
            "bottom": null,
            "_model_module": "@jupyter-widgets/base",
            "top": null,
            "grid_column": null,
            "overflow_y": null,
            "overflow_x": null,
            "grid_auto_flow": null,
            "grid_area": null,
            "grid_template_columns": null,
            "flex": null,
            "_model_name": "LayoutModel",
            "justify_items": null,
            "grid_row": null,
            "max_height": null,
            "align_content": null,
            "visibility": null,
            "align_self": null,
            "height": null,
            "min_height": null,
            "padding": null,
            "grid_auto_rows": null,
            "grid_gap": null,
            "max_width": null,
            "order": null,
            "_view_module_version": "1.2.0",
            "grid_template_areas": null,
            "object_position": null,
            "object_fit": null,
            "grid_auto_columns": null,
            "margin": null,
            "display": null,
            "left": null
          }
        },
        "e9d59551c7d64c9fa189317214a75c28": {
          "model_module": "@jupyter-widgets/controls",
          "model_name": "HTMLModel",
          "model_module_version": "1.5.0",
          "state": {
            "_view_name": "HTMLView",
            "style": "IPY_MODEL_3c688015a9a5463faa8d29727916767c",
            "_dom_classes": [],
            "description": "",
            "_model_name": "HTMLModel",
            "placeholder": "​",
            "_view_module": "@jupyter-widgets/controls",
            "_model_module_version": "1.5.0",
            "value": "100%",
            "_view_count": null,
            "_view_module_version": "1.5.0",
            "description_tooltip": null,
            "_model_module": "@jupyter-widgets/controls",
            "layout": "IPY_MODEL_31eff17b6a3f4c20b3029071319d15ab"
          }
        },
        "c9070d3d1547409f9d9729f3758a8cb1": {
          "model_module": "@jupyter-widgets/controls",
          "model_name": "FloatProgressModel",
          "model_module_version": "1.5.0",
          "state": {
            "_view_name": "ProgressView",
            "style": "IPY_MODEL_b32a23cb44ac4645bff087ab00d2050b",
            "_dom_classes": [],
            "description": "",
            "_model_name": "FloatProgressModel",
            "bar_style": "success",
            "max": 782,
            "_view_module": "@jupyter-widgets/controls",
            "_model_module_version": "1.5.0",
            "value": 782,
            "_view_count": null,
            "_view_module_version": "1.5.0",
            "orientation": "horizontal",
            "min": 0,
            "description_tooltip": null,
            "_model_module": "@jupyter-widgets/controls",
            "layout": "IPY_MODEL_f42dac932f1c4402bc7fb1266d8b2a03"
          }
        },
        "b6248f4c9f084fe4a55c37aa99dca319": {
          "model_module": "@jupyter-widgets/controls",
          "model_name": "HTMLModel",
          "model_module_version": "1.5.0",
          "state": {
            "_view_name": "HTMLView",
            "style": "IPY_MODEL_40a35a4ac3204be082b24f5cb526b289",
            "_dom_classes": [],
            "description": "",
            "_model_name": "HTMLModel",
            "placeholder": "​",
            "_view_module": "@jupyter-widgets/controls",
            "_model_module_version": "1.5.0",
            "value": " 782/782 [00:02&lt;00:00, 275.87it/s]",
            "_view_count": null,
            "_view_module_version": "1.5.0",
            "description_tooltip": null,
            "_model_module": "@jupyter-widgets/controls",
            "layout": "IPY_MODEL_6c3ac9ced6ed4da4b110a58428d758d5"
          }
        },
        "3c688015a9a5463faa8d29727916767c": {
          "model_module": "@jupyter-widgets/controls",
          "model_name": "DescriptionStyleModel",
          "model_module_version": "1.5.0",
          "state": {
            "_view_name": "StyleView",
            "_model_name": "DescriptionStyleModel",
            "description_width": "",
            "_view_module": "@jupyter-widgets/base",
            "_model_module_version": "1.5.0",
            "_view_count": null,
            "_view_module_version": "1.2.0",
            "_model_module": "@jupyter-widgets/controls"
          }
        },
        "31eff17b6a3f4c20b3029071319d15ab": {
          "model_module": "@jupyter-widgets/base",
          "model_name": "LayoutModel",
          "model_module_version": "1.2.0",
          "state": {
            "_view_name": "LayoutView",
            "grid_template_rows": null,
            "right": null,
            "justify_content": null,
            "_view_module": "@jupyter-widgets/base",
            "overflow": null,
            "_model_module_version": "1.2.0",
            "_view_count": null,
            "flex_flow": null,
            "width": null,
            "min_width": null,
            "border": null,
            "align_items": null,
            "bottom": null,
            "_model_module": "@jupyter-widgets/base",
            "top": null,
            "grid_column": null,
            "overflow_y": null,
            "overflow_x": null,
            "grid_auto_flow": null,
            "grid_area": null,
            "grid_template_columns": null,
            "flex": null,
            "_model_name": "LayoutModel",
            "justify_items": null,
            "grid_row": null,
            "max_height": null,
            "align_content": null,
            "visibility": null,
            "align_self": null,
            "height": null,
            "min_height": null,
            "padding": null,
            "grid_auto_rows": null,
            "grid_gap": null,
            "max_width": null,
            "order": null,
            "_view_module_version": "1.2.0",
            "grid_template_areas": null,
            "object_position": null,
            "object_fit": null,
            "grid_auto_columns": null,
            "margin": null,
            "display": null,
            "left": null
          }
        },
        "b32a23cb44ac4645bff087ab00d2050b": {
          "model_module": "@jupyter-widgets/controls",
          "model_name": "ProgressStyleModel",
          "model_module_version": "1.5.0",
          "state": {
            "_view_name": "StyleView",
            "_model_name": "ProgressStyleModel",
            "description_width": "",
            "_view_module": "@jupyter-widgets/base",
            "_model_module_version": "1.5.0",
            "_view_count": null,
            "_view_module_version": "1.2.0",
            "bar_color": null,
            "_model_module": "@jupyter-widgets/controls"
          }
        },
        "f42dac932f1c4402bc7fb1266d8b2a03": {
          "model_module": "@jupyter-widgets/base",
          "model_name": "LayoutModel",
          "model_module_version": "1.2.0",
          "state": {
            "_view_name": "LayoutView",
            "grid_template_rows": null,
            "right": null,
            "justify_content": null,
            "_view_module": "@jupyter-widgets/base",
            "overflow": null,
            "_model_module_version": "1.2.0",
            "_view_count": null,
            "flex_flow": null,
            "width": null,
            "min_width": null,
            "border": null,
            "align_items": null,
            "bottom": null,
            "_model_module": "@jupyter-widgets/base",
            "top": null,
            "grid_column": null,
            "overflow_y": null,
            "overflow_x": null,
            "grid_auto_flow": null,
            "grid_area": null,
            "grid_template_columns": null,
            "flex": null,
            "_model_name": "LayoutModel",
            "justify_items": null,
            "grid_row": null,
            "max_height": null,
            "align_content": null,
            "visibility": null,
            "align_self": null,
            "height": null,
            "min_height": null,
            "padding": null,
            "grid_auto_rows": null,
            "grid_gap": null,
            "max_width": null,
            "order": null,
            "_view_module_version": "1.2.0",
            "grid_template_areas": null,
            "object_position": null,
            "object_fit": null,
            "grid_auto_columns": null,
            "margin": null,
            "display": null,
            "left": null
          }
        },
        "40a35a4ac3204be082b24f5cb526b289": {
          "model_module": "@jupyter-widgets/controls",
          "model_name": "DescriptionStyleModel",
          "model_module_version": "1.5.0",
          "state": {
            "_view_name": "StyleView",
            "_model_name": "DescriptionStyleModel",
            "description_width": "",
            "_view_module": "@jupyter-widgets/base",
            "_model_module_version": "1.5.0",
            "_view_count": null,
            "_view_module_version": "1.2.0",
            "_model_module": "@jupyter-widgets/controls"
          }
        },
        "6c3ac9ced6ed4da4b110a58428d758d5": {
          "model_module": "@jupyter-widgets/base",
          "model_name": "LayoutModel",
          "model_module_version": "1.2.0",
          "state": {
            "_view_name": "LayoutView",
            "grid_template_rows": null,
            "right": null,
            "justify_content": null,
            "_view_module": "@jupyter-widgets/base",
            "overflow": null,
            "_model_module_version": "1.2.0",
            "_view_count": null,
            "flex_flow": null,
            "width": null,
            "min_width": null,
            "border": null,
            "align_items": null,
            "bottom": null,
            "_model_module": "@jupyter-widgets/base",
            "top": null,
            "grid_column": null,
            "overflow_y": null,
            "overflow_x": null,
            "grid_auto_flow": null,
            "grid_area": null,
            "grid_template_columns": null,
            "flex": null,
            "_model_name": "LayoutModel",
            "justify_items": null,
            "grid_row": null,
            "max_height": null,
            "align_content": null,
            "visibility": null,
            "align_self": null,
            "height": null,
            "min_height": null,
            "padding": null,
            "grid_auto_rows": null,
            "grid_gap": null,
            "max_width": null,
            "order": null,
            "_view_module_version": "1.2.0",
            "grid_template_areas": null,
            "object_position": null,
            "object_fit": null,
            "grid_auto_columns": null,
            "margin": null,
            "display": null,
            "left": null
          }
        }
      }
    }
  },
  "cells": [
    {
      "cell_type": "code",
      "metadata": {
        "id": "G-VFOJVoRLso"
      },
      "source": [
        "import warnings\n",
        "warnings.filterwarnings(action='ignore')\n",
        "import pandas as pd\n",
        "import numpy as np\n",
        "import random\n",
        "from tqdm.notebook import tqdm\n",
        "from scipy.interpolate import CubicSpline\n",
        "from sklearn.preprocessing import LabelEncoder, StandardScaler, OneHotEncoder, RobustScaler, MinMaxScaler\n",
        "from sklearn.metrics import mean_absolute_error, log_loss\n",
        "import matplotlib.pyplot as plt\n",
        "%matplotlib inline\n",
        "import tensorflow as tf\n",
        "import keras\n",
        "from tensorflow.keras.optimizers import Adamax, Adam\n",
        "from tensorflow.keras.models import Sequential, Model,load_model\n",
        "from tensorflow.keras.layers import Permute,multiply,Add,Multiply,BatchNormalization,Dropout, Conv1D, Input, Flatten, Bidirectional, MaxPooling1D, Activation, Flatten, Dense, Dropout, BatchNormalization, LSTM, TimeDistributed, SpatialDropout1D, GaussianNoise\n",
        "from tensorflow.keras.callbacks import EarlyStopping, ModelCheckpoint\n",
        "from keras.layers.merge import concatenate\n",
        "from tensorflow.keras.utils import to_categorical, plot_model\n",
        "import pydot\n",
        "import graphviz\n"
      ],
      "execution_count": 2,
      "outputs": []
    },
    {
      "cell_type": "code",
      "source": [
        "from google.colab import drive\n",
        "drive.mount('/content/drive')"
      ],
      "metadata": {
        "colab": {
          "base_uri": "https://localhost:8080/"
        },
        "id": "SKsRc4RRW7-7",
        "outputId": "cdd6fd7b-1caa-4e32-f2ba-d08109abc0d7"
      },
      "execution_count": 3,
      "outputs": [
        {
          "output_type": "stream",
          "name": "stdout",
          "text": [
            "Mounted at /content/drive\n"
          ]
        }
      ]
    },
    {
      "cell_type": "code",
      "metadata": {
        "id": "FB3O3KScDa7O"
      },
      "source": [
        "submission=pd.read_csv('/content/drive/MyDrive/motion/sample_submission.csv')\n",
        "test=pd.read_csv('/content/drive/MyDrive/motion/test_features.csv')\n",
        "train_labels=pd.read_csv('/content/drive/MyDrive/motion/train_labels.csv')\n",
        "train=pd.read_csv('/content/drive/MyDrive/motion/train_features.csv')"
      ],
      "execution_count": 4,
      "outputs": []
    },
    {
      "cell_type": "code",
      "source": [
        "train_labels.label_desc.value_counts()\n",
        "## non-excercise가 대부분인 경우"
      ],
      "metadata": {
        "colab": {
          "base_uri": "https://localhost:8080/"
        },
        "id": "6q0PGXkKXmeP",
        "outputId": "b525a4a2-4cec-4b47-e86c-60643a135960"
      },
      "execution_count": 5,
      "outputs": [
        {
          "output_type": "execute_result",
          "data": {
            "text/plain": [
              "Non-Exercise                                    1518\n",
              "Device on Table                                   97\n",
              "Plank                                             55\n",
              "Wall Squat                                        48\n",
              "Jump Rope                                         47\n",
              "                                                ... \n",
              "Triceps Kickback (knee on bench) (right arm)      13\n",
              "Triceps Kickback (knee on bench) (left arm)       12\n",
              "Dumbbell Row (knee on bench) (left arm)           12\n",
              "Arm Band Adjustment                               12\n",
              "Dumbbell Row (knee on bench) (right arm)          12\n",
              "Name: label_desc, Length: 61, dtype: int64"
            ]
          },
          "metadata": {},
          "execution_count": 5
        }
      ]
    },
    {
      "cell_type": "code",
      "metadata": {
        "colab": {
          "base_uri": "https://localhost:8080/",
          "height": 339
        },
        "id": "x1LAU4lUm05O",
        "outputId": "5af360e3-f17f-4b0b-b4b7-62c34f9dcce6"
      },
      "source": [
        "##그림으로 확인\n",
        "##label이 imbalanced\n",
        "plt.figure(figsize=(10,5))\n",
        "train_labels['label'].value_counts().plot(kind='bar')"
      ],
      "execution_count": 6,
      "outputs": [
        {
          "output_type": "execute_result",
          "data": {
            "text/plain": [
              "<matplotlib.axes._subplots.AxesSubplot at 0x7f66f967d050>"
            ]
          },
          "metadata": {},
          "execution_count": 6
        },
        {
          "output_type": "display_data",
          "data": {
            "image/png": "[encoded data removed]",
            "text/plain": [
              "<Figure size 720x360 with 1 Axes>"
            ]
          },
          "metadata": {
            "needs_background": "light"
          }
        }
      ]
    },
    {
      "cell_type": "markdown",
      "metadata": {
        "id": "zqKdrcYmGm5A"
      },
      "source": [
        "#### PreProcessing"
      ]
    },
    {
      "cell_type": "code",
      "source": [
        "train.head()\n",
        "## acc: 3축 가속도계(accelerometer) gy: 3축 자이로스코프(gyroscope)"
      ],
      "metadata": {
        "colab": {
          "base_uri": "https://localhost:8080/",
          "height": 206
        },
        "id": "qRm6UwtHYI8W",
        "outputId": "1b81dcfd-8f9c-4bf9-a880-88254c1f8fd1"
      },
      "execution_count": 7,
      "outputs": [
        {
          "output_type": "execute_result",
          "data": {
            "text/html": [
              "\n",
              "  <div id=\"df-d874c273-361d-4f0b-ab66-32af9ee361a1\">\n",
              "    <div class=\"colab-df-container\">\n",
              "      <div>\n",
              "<style scoped>\n",
              "    .dataframe tbody tr th:only-of-type {\n",
              "        vertical-align: middle;\n",
              "    }\n",
              "\n",
              "    .dataframe tbody tr th {\n",
              "        vertical-align: top;\n",
              "    }\n",
              "\n",
              "    .dataframe thead th {\n",
              "        text-align: right;\n",
              "    }\n",
              "</style>\n",
              "<table border=\"1\" class=\"dataframe\">\n",
              "  <thead>\n",
              "    <tr style=\"text-align: right;\">\n",
              "      <th></th>\n",
              "      <th>id</th>\n",
              "      <th>time</th>\n",
              "      <th>acc_x</th>\n",
              "      <th>acc_y</th>\n",
              "      <th>acc_z</th>\n",
              "      <th>gy_x</th>\n",
              "      <th>gy_y</th>\n",
              "      <th>gy_z</th>\n",
              "    </tr>\n",
              "  </thead>\n",
              "  <tbody>\n",
              "    <tr>\n",
              "      <th>0</th>\n",
              "      <td>0</td>\n",
              "      <td>0</td>\n",
              "      <td>1.206087</td>\n",
              "      <td>-0.179371</td>\n",
              "      <td>-0.148447</td>\n",
              "      <td>-0.591608</td>\n",
              "      <td>-30.549010</td>\n",
              "      <td>-31.676112</td>\n",
              "    </tr>\n",
              "    <tr>\n",
              "      <th>1</th>\n",
              "      <td>0</td>\n",
              "      <td>1</td>\n",
              "      <td>1.287696</td>\n",
              "      <td>-0.198974</td>\n",
              "      <td>-0.182444</td>\n",
              "      <td>0.303100</td>\n",
              "      <td>-39.139103</td>\n",
              "      <td>-24.927216</td>\n",
              "    </tr>\n",
              "    <tr>\n",
              "      <th>2</th>\n",
              "      <td>0</td>\n",
              "      <td>2</td>\n",
              "      <td>1.304609</td>\n",
              "      <td>-0.195114</td>\n",
              "      <td>-0.253382</td>\n",
              "      <td>-3.617278</td>\n",
              "      <td>-44.122565</td>\n",
              "      <td>-25.019629</td>\n",
              "    </tr>\n",
              "    <tr>\n",
              "      <th>3</th>\n",
              "      <td>0</td>\n",
              "      <td>3</td>\n",
              "      <td>1.293095</td>\n",
              "      <td>-0.230366</td>\n",
              "      <td>-0.215210</td>\n",
              "      <td>2.712986</td>\n",
              "      <td>-53.597843</td>\n",
              "      <td>-27.454013</td>\n",
              "    </tr>\n",
              "    <tr>\n",
              "      <th>4</th>\n",
              "      <td>0</td>\n",
              "      <td>4</td>\n",
              "      <td>1.300887</td>\n",
              "      <td>-0.187757</td>\n",
              "      <td>-0.222523</td>\n",
              "      <td>4.286707</td>\n",
              "      <td>-57.906561</td>\n",
              "      <td>-27.961234</td>\n",
              "    </tr>\n",
              "  </tbody>\n",
              "</table>\n",
              "</div>\n",
              "      <button class=\"colab-df-convert\" onclick=\"convertToInteractive('df-d874c273-361d-4f0b-ab66-32af9ee361a1')\"\n",
              "              title=\"Convert this dataframe to an interactive table.\"\n",
              "              style=\"display:none;\">\n",
              "        \n",
              "  <svg xmlns=\"http://www.w3.org/2000/svg\" height=\"24px\"viewBox=\"0 0 24 24\"\n",
              "       width=\"24px\">\n",
              "    <path d=\"M0 0h24v24H0V0z\" fill=\"none\"/>\n",
              "    <path d=\"M18.56 5.44l.94 2.06.94-2.06 2.06-.94-2.06-.94-.94-2.06-.94 2.06-2.06.94zm-11 1L8.5 8.5l.94-2.06 2.06-.94-2.06-.94L8.5 2.5l-.94 2.06-2.06.94zm10 10l.94 2.06.94-2.06 2.06-.94-2.06-.94-.94-2.06-.94 2.06-2.06.94z\"/><path d=\"M17.41 7.96l-1.37-1.37c-.4-.4-.92-.59-1.43-.59-.52 0-1.04.2-1.43.59L10.3 9.45l-7.72 7.72c-.78.78-.78 2.05 0 2.83L4 21.41c.39.39.9.59 1.41.59.51 0 1.02-.2 1.41-.59l7.78-7.78 2.81-2.81c.8-.78.8-2.07 0-2.86zM5.41 20L4 18.59l7.72-7.72 1.47 1.35L5.41 20z\"/>\n",
              "  </svg>\n",
              "      </button>\n",
              "      \n",
              "  <style>\n",
              "    .colab-df-container {\n",
              "      display:flex;\n",
              "      flex-wrap:wrap;\n",
              "      gap: 12px;\n",
              "    }\n",
              "\n",
              "    .colab-df-convert {\n",
              "      background-color: #E8F0FE;\n",
              "      border: none;\n",
              "      border-radius: 50%;\n",
              "      cursor: pointer;\n",
              "      display: none;\n",
              "      fill: #1967D2;\n",
              "      height: 32px;\n",
              "      padding: 0 0 0 0;\n",
              "      width: 32px;\n",
              "    }\n",
              "\n",
              "    .colab-df-convert:hover {\n",
              "      background-color: #E2EBFA;\n",
              "      box-shadow: 0px 1px 2px rgba(60, 64, 67, 0.3), 0px 1px 3px 1px rgba(60, 64, 67, 0.15);\n",
              "      fill: #174EA6;\n",
              "    }\n",
              "\n",
              "    [theme=dark] .colab-df-convert {\n",
              "      background-color: #3B4455;\n",
              "      fill: #D2E3FC;\n",
              "    }\n",
              "\n",
              "    [theme=dark] .colab-df-convert:hover {\n",
              "      background-color: #434B5C;\n",
              "      box-shadow: 0px 1px 3px 1px rgba(0, 0, 0, 0.15);\n",
              "      filter: drop-shadow(0px 1px 2px rgba(0, 0, 0, 0.3));\n",
              "      fill: #FFFFFF;\n",
              "    }\n",
              "  </style>\n",
              "\n",
              "      <script>\n",
              "        const buttonEl =\n",
              "          document.querySelector('#df-d874c273-361d-4f0b-ab66-32af9ee361a1 button.colab-df-convert');\n",
              "        buttonEl.style.display =\n",
              "          google.colab.kernel.accessAllowed ? 'block' : 'none';\n",
              "\n",
              "        async function convertToInteractive(key) {\n",
              "          const element = document.querySelector('#df-d874c273-361d-4f0b-ab66-32af9ee361a1');\n",
              "          const dataTable =\n",
              "            await google.colab.kernel.invokeFunction('convertToInteractive',\n",
              "                                                     [key], {});\n",
              "          if (!dataTable) return;\n",
              "\n",
              "          const docLinkHtml = 'Like what you see? Visit the ' +\n",
              "            '<a target=\"_blank\" href=https://colab.research.google.com/notebooks/data_table.ipynb>data table notebook</a>'\n",
              "            + ' to learn more about interactive tables.';\n",
              "          element.innerHTML = '';\n",
              "          dataTable['output_type'] = 'display_data';\n",
              "          await google.colab.output.renderOutput(dataTable, element);\n",
              "          const docLink = document.createElement('div');\n",
              "          docLink.innerHTML = docLinkHtml;\n",
              "          element.appendChild(docLink);\n",
              "        }\n",
              "      </script>\n",
              "    </div>\n",
              "  </div>\n",
              "  "
            ],
            "text/plain": [
              "   id  time     acc_x     acc_y     acc_z      gy_x       gy_y       gy_z\n",
              "0   0     0  1.206087 -0.179371 -0.148447 -0.591608 -30.549010 -31.676112\n",
              "1   0     1  1.287696 -0.198974 -0.182444  0.303100 -39.139103 -24.927216\n",
              "2   0     2  1.304609 -0.195114 -0.253382 -3.617278 -44.122565 -25.019629\n",
              "3   0     3  1.293095 -0.230366 -0.215210  2.712986 -53.597843 -27.454013\n",
              "4   0     4  1.300887 -0.187757 -0.222523  4.286707 -57.906561 -27.961234"
            ]
          },
          "metadata": {},
          "execution_count": 7
        }
      ]
    },
    {
      "cell_type": "code",
      "source": [
        "train.shape ## 8개 column"
      ],
      "metadata": {
        "colab": {
          "base_uri": "https://localhost:8080/"
        },
        "id": "n1HxkO-mAF6f",
        "outputId": "c2be9ba2-06f4-47bc-eb45-b313ee6a54eb"
      },
      "execution_count": 8,
      "outputs": [
        {
          "output_type": "execute_result",
          "data": {
            "text/plain": [
              "(1875000, 8)"
            ]
          },
          "metadata": {},
          "execution_count": 8
        }
      ]
    },
    {
      "cell_type": "code",
      "source": [
        "train['id'].unique().shape ## unique한 id: 3125"
      ],
      "metadata": {
        "colab": {
          "base_uri": "https://localhost:8080/"
        },
        "id": "KQFBRlaBAQUG",
        "outputId": "1e7a9186-9a38-4509-a2bf-36afa79351da"
      },
      "execution_count": 13,
      "outputs": [
        {
          "output_type": "execute_result",
          "data": {
            "text/plain": [
              "(3125,)"
            ]
          },
          "metadata": {},
          "execution_count": 13
        }
      ]
    },
    {
      "cell_type": "code",
      "source": [
        "train[train['id']==7] ## 7에 해당하는 id 데이터 값 산출"
      ],
      "metadata": {
        "colab": {
          "base_uri": "https://localhost:8080/",
          "height": 424
        },
        "id": "iKQ6p6KSZ-A-",
        "outputId": "4b2c2962-5441-4899-ff87-14d4b8a7f6b5"
      },
      "execution_count": 14,
      "outputs": [
        {
          "output_type": "execute_result",
          "data": {
            "text/html": [
              "\n",
              "  <div id=\"df-b017c179-061a-4507-8c56-e30e6e450539\">\n",
              "    <div class=\"colab-df-container\">\n",
              "      <div>\n",
              "<style scoped>\n",
              "    .dataframe tbody tr th:only-of-type {\n",
              "        vertical-align: middle;\n",
              "    }\n",
              "\n",
              "    .dataframe tbody tr th {\n",
              "        vertical-align: top;\n",
              "    }\n",
              "\n",
              "    .dataframe thead th {\n",
              "        text-align: right;\n",
              "    }\n",
              "</style>\n",
              "<table border=\"1\" class=\"dataframe\">\n",
              "  <thead>\n",
              "    <tr style=\"text-align: right;\">\n",
              "      <th></th>\n",
              "      <th>id</th>\n",
              "      <th>time</th>\n",
              "      <th>acc_x</th>\n",
              "      <th>acc_y</th>\n",
              "      <th>acc_z</th>\n",
              "      <th>gy_x</th>\n",
              "      <th>gy_y</th>\n",
              "      <th>gy_z</th>\n",
              "    </tr>\n",
              "  </thead>\n",
              "  <tbody>\n",
              "    <tr>\n",
              "      <th>4200</th>\n",
              "      <td>7</td>\n",
              "      <td>0</td>\n",
              "      <td>0.103713</td>\n",
              "      <td>-0.831336</td>\n",
              "      <td>0.242183</td>\n",
              "      <td>29.579463</td>\n",
              "      <td>30.649941</td>\n",
              "      <td>27.081531</td>\n",
              "    </tr>\n",
              "    <tr>\n",
              "      <th>4201</th>\n",
              "      <td>7</td>\n",
              "      <td>1</td>\n",
              "      <td>-0.006115</td>\n",
              "      <td>-0.803361</td>\n",
              "      <td>0.198072</td>\n",
              "      <td>43.926812</td>\n",
              "      <td>28.957253</td>\n",
              "      <td>37.110641</td>\n",
              "    </tr>\n",
              "    <tr>\n",
              "      <th>4202</th>\n",
              "      <td>7</td>\n",
              "      <td>2</td>\n",
              "      <td>-0.004633</td>\n",
              "      <td>-0.751853</td>\n",
              "      <td>0.146588</td>\n",
              "      <td>53.274794</td>\n",
              "      <td>36.461133</td>\n",
              "      <td>58.156605</td>\n",
              "    </tr>\n",
              "    <tr>\n",
              "      <th>4203</th>\n",
              "      <td>7</td>\n",
              "      <td>3</td>\n",
              "      <td>0.048017</td>\n",
              "      <td>-0.713709</td>\n",
              "      <td>0.105955</td>\n",
              "      <td>60.976850</td>\n",
              "      <td>59.345987</td>\n",
              "      <td>79.224402</td>\n",
              "    </tr>\n",
              "    <tr>\n",
              "      <th>4204</th>\n",
              "      <td>7</td>\n",
              "      <td>4</td>\n",
              "      <td>0.038561</td>\n",
              "      <td>-0.726577</td>\n",
              "      <td>0.110275</td>\n",
              "      <td>64.278783</td>\n",
              "      <td>92.254238</td>\n",
              "      <td>104.648080</td>\n",
              "    </tr>\n",
              "    <tr>\n",
              "      <th>...</th>\n",
              "      <td>...</td>\n",
              "      <td>...</td>\n",
              "      <td>...</td>\n",
              "      <td>...</td>\n",
              "      <td>...</td>\n",
              "      <td>...</td>\n",
              "      <td>...</td>\n",
              "      <td>...</td>\n",
              "    </tr>\n",
              "    <tr>\n",
              "      <th>4795</th>\n",
              "      <td>7</td>\n",
              "      <td>595</td>\n",
              "      <td>-0.919820</td>\n",
              "      <td>-0.261793</td>\n",
              "      <td>-0.135852</td>\n",
              "      <td>114.075775</td>\n",
              "      <td>-17.260128</td>\n",
              "      <td>-44.608854</td>\n",
              "    </tr>\n",
              "    <tr>\n",
              "      <th>4796</th>\n",
              "      <td>7</td>\n",
              "      <td>596</td>\n",
              "      <td>-0.909601</td>\n",
              "      <td>-0.199644</td>\n",
              "      <td>-0.130159</td>\n",
              "      <td>94.752901</td>\n",
              "      <td>-16.557813</td>\n",
              "      <td>-37.065616</td>\n",
              "    </tr>\n",
              "    <tr>\n",
              "      <th>4797</th>\n",
              "      <td>7</td>\n",
              "      <td>597</td>\n",
              "      <td>-0.893180</td>\n",
              "      <td>-0.199151</td>\n",
              "      <td>-0.131695</td>\n",
              "      <td>73.654243</td>\n",
              "      <td>-14.923215</td>\n",
              "      <td>-32.315539</td>\n",
              "    </tr>\n",
              "    <tr>\n",
              "      <th>4798</th>\n",
              "      <td>7</td>\n",
              "      <td>598</td>\n",
              "      <td>-0.872855</td>\n",
              "      <td>-0.261243</td>\n",
              "      <td>-0.138976</td>\n",
              "      <td>39.692264</td>\n",
              "      <td>-11.147636</td>\n",
              "      <td>-25.407917</td>\n",
              "    </tr>\n",
              "    <tr>\n",
              "      <th>4799</th>\n",
              "      <td>7</td>\n",
              "      <td>599</td>\n",
              "      <td>-0.851740</td>\n",
              "      <td>-0.352050</td>\n",
              "      <td>-0.143202</td>\n",
              "      <td>13.453820</td>\n",
              "      <td>-6.106916</td>\n",
              "      <td>-17.753287</td>\n",
              "    </tr>\n",
              "  </tbody>\n",
              "</table>\n",
              "<p>600 rows × 8 columns</p>\n",
              "</div>\n",
              "      <button class=\"colab-df-convert\" onclick=\"convertToInteractive('df-b017c179-061a-4507-8c56-e30e6e450539')\"\n",
              "              title=\"Convert this dataframe to an interactive table.\"\n",
              "              style=\"display:none;\">\n",
              "        \n",
              "  <svg xmlns=\"http://www.w3.org/2000/svg\" height=\"24px\"viewBox=\"0 0 24 24\"\n",
              "       width=\"24px\">\n",
              "    <path d=\"M0 0h24v24H0V0z\" fill=\"none\"/>\n",
              "    <path d=\"M18.56 5.44l.94 2.06.94-2.06 2.06-.94-2.06-.94-.94-2.06-.94 2.06-2.06.94zm-11 1L8.5 8.5l.94-2.06 2.06-.94-2.06-.94L8.5 2.5l-.94 2.06-2.06.94zm10 10l.94 2.06.94-2.06 2.06-.94-2.06-.94-.94-2.06-.94 2.06-2.06.94z\"/><path d=\"M17.41 7.96l-1.37-1.37c-.4-.4-.92-.59-1.43-.59-.52 0-1.04.2-1.43.59L10.3 9.45l-7.72 7.72c-.78.78-.78 2.05 0 2.83L4 21.41c.39.39.9.59 1.41.59.51 0 1.02-.2 1.41-.59l7.78-7.78 2.81-2.81c.8-.78.8-2.07 0-2.86zM5.41 20L4 18.59l7.72-7.72 1.47 1.35L5.41 20z\"/>\n",
              "  </svg>\n",
              "      </button>\n",
              "      \n",
              "  <style>\n",
              "    .colab-df-container {\n",
              "      display:flex;\n",
              "      flex-wrap:wrap;\n",
              "      gap: 12px;\n",
              "    }\n",
              "\n",
              "    .colab-df-convert {\n",
              "      background-color: #E8F0FE;\n",
              "      border: none;\n",
              "      border-radius: 50%;\n",
              "      cursor: pointer;\n",
              "      display: none;\n",
              "      fill: #1967D2;\n",
              "      height: 32px;\n",
              "      padding: 0 0 0 0;\n",
              "      width: 32px;\n",
              "    }\n",
              "\n",
              "    .colab-df-convert:hover {\n",
              "      background-color: #E2EBFA;\n",
              "      box-shadow: 0px 1px 2px rgba(60, 64, 67, 0.3), 0px 1px 3px 1px rgba(60, 64, 67, 0.15);\n",
              "      fill: #174EA6;\n",
              "    }\n",
              "\n",
              "    [theme=dark] .colab-df-convert {\n",
              "      background-color: #3B4455;\n",
              "      fill: #D2E3FC;\n",
              "    }\n",
              "\n",
              "    [theme=dark] .colab-df-convert:hover {\n",
              "      background-color: #434B5C;\n",
              "      box-shadow: 0px 1px 3px 1px rgba(0, 0, 0, 0.15);\n",
              "      filter: drop-shadow(0px 1px 2px rgba(0, 0, 0, 0.3));\n",
              "      fill: #FFFFFF;\n",
              "    }\n",
              "  </style>\n",
              "\n",
              "      <script>\n",
              "        const buttonEl =\n",
              "          document.querySelector('#df-b017c179-061a-4507-8c56-e30e6e450539 button.colab-df-convert');\n",
              "        buttonEl.style.display =\n",
              "          google.colab.kernel.accessAllowed ? 'block' : 'none';\n",
              "\n",
              "        async function convertToInteractive(key) {\n",
              "          const element = document.querySelector('#df-b017c179-061a-4507-8c56-e30e6e450539');\n",
              "          const dataTable =\n",
              "            await google.colab.kernel.invokeFunction('convertToInteractive',\n",
              "                                                     [key], {});\n",
              "          if (!dataTable) return;\n",
              "\n",
              "          const docLinkHtml = 'Like what you see? Visit the ' +\n",
              "            '<a target=\"_blank\" href=https://colab.research.google.com/notebooks/data_table.ipynb>data table notebook</a>'\n",
              "            + ' to learn more about interactive tables.';\n",
              "          element.innerHTML = '';\n",
              "          dataTable['output_type'] = 'display_data';\n",
              "          await google.colab.output.renderOutput(dataTable, element);\n",
              "          const docLink = document.createElement('div');\n",
              "          docLink.innerHTML = docLinkHtml;\n",
              "          element.appendChild(docLink);\n",
              "        }\n",
              "      </script>\n",
              "    </div>\n",
              "  </div>\n",
              "  "
            ],
            "text/plain": [
              "      id  time     acc_x     acc_y     acc_z        gy_x       gy_y        gy_z\n",
              "4200   7     0  0.103713 -0.831336  0.242183   29.579463  30.649941   27.081531\n",
              "4201   7     1 -0.006115 -0.803361  0.198072   43.926812  28.957253   37.110641\n",
              "4202   7     2 -0.004633 -0.751853  0.146588   53.274794  36.461133   58.156605\n",
              "4203   7     3  0.048017 -0.713709  0.105955   60.976850  59.345987   79.224402\n",
              "4204   7     4  0.038561 -0.726577  0.110275   64.278783  92.254238  104.648080\n",
              "...   ..   ...       ...       ...       ...         ...        ...         ...\n",
              "4795   7   595 -0.919820 -0.261793 -0.135852  114.075775 -17.260128  -44.608854\n",
              "4796   7   596 -0.909601 -0.199644 -0.130159   94.752901 -16.557813  -37.065616\n",
              "4797   7   597 -0.893180 -0.199151 -0.131695   73.654243 -14.923215  -32.315539\n",
              "4798   7   598 -0.872855 -0.261243 -0.138976   39.692264 -11.147636  -25.407917\n",
              "4799   7   599 -0.851740 -0.352050 -0.143202   13.453820  -6.106916  -17.753287\n",
              "\n",
              "[600 rows x 8 columns]"
            ]
          },
          "metadata": {},
          "execution_count": 14
        }
      ]
    },
    {
      "cell_type": "code",
      "metadata": {
        "id": "hWNl2VD9Da7P"
      },
      "source": [
        "act_list=train.iloc[:,2:].columns ## acc-gy column list들 저장\n",
        "acc_list=['acc_x','acc_y','acc_z'] ## acc list\n",
        "gy_list=['gy_x','gy_y','gy_z'] ## gy list"
      ],
      "execution_count": 15,
      "outputs": []
    },
    {
      "cell_type": "code",
      "metadata": {
        "id": "_dB7sWjkDa7P"
      },
      "source": [
        "# Scaling process\n",
        "scaler=StandardScaler()\n",
        "train[act_list]=scaler.fit_transform(train[act_list])\n",
        "test[act_list]=scaler.transform(test[act_list])"
      ],
      "execution_count": 16,
      "outputs": []
    },
    {
      "cell_type": "code",
      "source": [
        "train_labels.head() ## train_labels 데이터 확인"
      ],
      "metadata": {
        "colab": {
          "base_uri": "https://localhost:8080/",
          "height": 206
        },
        "id": "MSy1SKuxZG1E",
        "outputId": "a87de5ca-9fe8-4dd9-b024-6f91601d6052"
      },
      "execution_count": 17,
      "outputs": [
        {
          "output_type": "execute_result",
          "data": {
            "text/html": [
              "\n",
              "  <div id=\"df-73fe49e6-6000-4f84-a10a-50f344d4dc28\">\n",
              "    <div class=\"colab-df-container\">\n",
              "      <div>\n",
              "<style scoped>\n",
              "    .dataframe tbody tr th:only-of-type {\n",
              "        vertical-align: middle;\n",
              "    }\n",
              "\n",
              "    .dataframe tbody tr th {\n",
              "        vertical-align: top;\n",
              "    }\n",
              "\n",
              "    .dataframe thead th {\n",
              "        text-align: right;\n",
              "    }\n",
              "</style>\n",
              "<table border=\"1\" class=\"dataframe\">\n",
              "  <thead>\n",
              "    <tr style=\"text-align: right;\">\n",
              "      <th></th>\n",
              "      <th>id</th>\n",
              "      <th>label</th>\n",
              "      <th>label_desc</th>\n",
              "    </tr>\n",
              "  </thead>\n",
              "  <tbody>\n",
              "    <tr>\n",
              "      <th>0</th>\n",
              "      <td>0</td>\n",
              "      <td>37</td>\n",
              "      <td>Shoulder Press (dumbbell)</td>\n",
              "    </tr>\n",
              "    <tr>\n",
              "      <th>1</th>\n",
              "      <td>1</td>\n",
              "      <td>26</td>\n",
              "      <td>Non-Exercise</td>\n",
              "    </tr>\n",
              "    <tr>\n",
              "      <th>2</th>\n",
              "      <td>2</td>\n",
              "      <td>3</td>\n",
              "      <td>Biceps Curl (band)</td>\n",
              "    </tr>\n",
              "    <tr>\n",
              "      <th>3</th>\n",
              "      <td>3</td>\n",
              "      <td>26</td>\n",
              "      <td>Non-Exercise</td>\n",
              "    </tr>\n",
              "    <tr>\n",
              "      <th>4</th>\n",
              "      <td>4</td>\n",
              "      <td>26</td>\n",
              "      <td>Non-Exercise</td>\n",
              "    </tr>\n",
              "  </tbody>\n",
              "</table>\n",
              "</div>\n",
              "      <button class=\"colab-df-convert\" onclick=\"convertToInteractive('df-73fe49e6-6000-4f84-a10a-50f344d4dc28')\"\n",
              "              title=\"Convert this dataframe to an interactive table.\"\n",
              "              style=\"display:none;\">\n",
              "        \n",
              "  <svg xmlns=\"http://www.w3.org/2000/svg\" height=\"24px\"viewBox=\"0 0 24 24\"\n",
              "       width=\"24px\">\n",
              "    <path d=\"M0 0h24v24H0V0z\" fill=\"none\"/>\n",
              "    <path d=\"M18.56 5.44l.94 2.06.94-2.06 2.06-.94-2.06-.94-.94-2.06-.94 2.06-2.06.94zm-11 1L8.5 8.5l.94-2.06 2.06-.94-2.06-.94L8.5 2.5l-.94 2.06-2.06.94zm10 10l.94 2.06.94-2.06 2.06-.94-2.06-.94-.94-2.06-.94 2.06-2.06.94z\"/><path d=\"M17.41 7.96l-1.37-1.37c-.4-.4-.92-.59-1.43-.59-.52 0-1.04.2-1.43.59L10.3 9.45l-7.72 7.72c-.78.78-.78 2.05 0 2.83L4 21.41c.39.39.9.59 1.41.59.51 0 1.02-.2 1.41-.59l7.78-7.78 2.81-2.81c.8-.78.8-2.07 0-2.86zM5.41 20L4 18.59l7.72-7.72 1.47 1.35L5.41 20z\"/>\n",
              "  </svg>\n",
              "      </button>\n",
              "      \n",
              "  <style>\n",
              "    .colab-df-container {\n",
              "      display:flex;\n",
              "      flex-wrap:wrap;\n",
              "      gap: 12px;\n",
              "    }\n",
              "\n",
              "    .colab-df-convert {\n",
              "      background-color: #E8F0FE;\n",
              "      border: none;\n",
              "      border-radius: 50%;\n",
              "      cursor: pointer;\n",
              "      display: none;\n",
              "      fill: #1967D2;\n",
              "      height: 32px;\n",
              "      padding: 0 0 0 0;\n",
              "      width: 32px;\n",
              "    }\n",
              "\n",
              "    .colab-df-convert:hover {\n",
              "      background-color: #E2EBFA;\n",
              "      box-shadow: 0px 1px 2px rgba(60, 64, 67, 0.3), 0px 1px 3px 1px rgba(60, 64, 67, 0.15);\n",
              "      fill: #174EA6;\n",
              "    }\n",
              "\n",
              "    [theme=dark] .colab-df-convert {\n",
              "      background-color: #3B4455;\n",
              "      fill: #D2E3FC;\n",
              "    }\n",
              "\n",
              "    [theme=dark] .colab-df-convert:hover {\n",
              "      background-color: #434B5C;\n",
              "      box-shadow: 0px 1px 3px 1px rgba(0, 0, 0, 0.15);\n",
              "      filter: drop-shadow(0px 1px 2px rgba(0, 0, 0, 0.3));\n",
              "      fill: #FFFFFF;\n",
              "    }\n",
              "  </style>\n",
              "\n",
              "      <script>\n",
              "        const buttonEl =\n",
              "          document.querySelector('#df-73fe49e6-6000-4f84-a10a-50f344d4dc28 button.colab-df-convert');\n",
              "        buttonEl.style.display =\n",
              "          google.colab.kernel.accessAllowed ? 'block' : 'none';\n",
              "\n",
              "        async function convertToInteractive(key) {\n",
              "          const element = document.querySelector('#df-73fe49e6-6000-4f84-a10a-50f344d4dc28');\n",
              "          const dataTable =\n",
              "            await google.colab.kernel.invokeFunction('convertToInteractive',\n",
              "                                                     [key], {});\n",
              "          if (!dataTable) return;\n",
              "\n",
              "          const docLinkHtml = 'Like what you see? Visit the ' +\n",
              "            '<a target=\"_blank\" href=https://colab.research.google.com/notebooks/data_table.ipynb>data table notebook</a>'\n",
              "            + ' to learn more about interactive tables.';\n",
              "          element.innerHTML = '';\n",
              "          dataTable['output_type'] = 'display_data';\n",
              "          await google.colab.output.renderOutput(dataTable, element);\n",
              "          const docLink = document.createElement('div');\n",
              "          docLink.innerHTML = docLinkHtml;\n",
              "          element.appendChild(docLink);\n",
              "        }\n",
              "      </script>\n",
              "    </div>\n",
              "  </div>\n",
              "  "
            ],
            "text/plain": [
              "   id  label                 label_desc\n",
              "0   0     37  Shoulder Press (dumbbell)\n",
              "1   1     26               Non-Exercise\n",
              "2   2      3         Biceps Curl (band)\n",
              "3   3     26               Non-Exercise\n",
              "4   4     26               Non-Exercise"
            ]
          },
          "metadata": {},
          "execution_count": 17
        }
      ]
    },
    {
      "cell_type": "code",
      "metadata": {
        "id": "6jJS4rZfi7Q8"
      },
      "source": [
        "# train, valid split : 약 3125개 label 중 약 15%인 470개를 valid set 으로 분할\n",
        "def train_valid_split(data):   \n",
        "  valid_index = random.sample(range(0,3125),470) ## ramdom index 정해놓기\n",
        "  train_index = list(set(range(0,3125))-set(valid_index)) ## train index set 함수로 나머지 저장 \n",
        "  X_train=pd.DataFrame()\n",
        "  X_valid=pd.DataFrame()\n",
        "  y_train=train_labels.loc[train_index] ## train_labels에 해당하는 값 저장\n",
        "  y_valid=train_labels.loc[valid_index]\n",
        "  for i in tqdm(train_index):           ## train_index에 해당하는 id 값을 train데이터와 매칭 시켜 concat\n",
        "    X_train=pd.concat([X_train,train[train['id']==i]],axis=0)\n",
        "  for i in tqdm(valid_index):\n",
        "    X_valid=pd.concat([X_valid,train[train['id']==i]],axis=0)\n",
        "  return X_train, X_valid, y_train, y_valid"
      ],
      "execution_count": 22,
      "outputs": []
    },
    {
      "cell_type": "code",
      "metadata": {
        "colab": {
          "base_uri": "https://localhost:8080/",
          "height": 81,
          "referenced_widgets": [
            "1d3229e36a044dc58e27e38c93410ef1",
            "7289d7d6289e498a823e6519f2c19f5b",
            "ec6df315db894fa0983717609f6dfd13",
            "48dd8f23be1144a29fcc755f80979f43",
            "2ea81c5c225a48dc93c2451a4bfa563d",
            "56988b51ebe54506a70cf47f56030967",
            "999b15fd2a884f528ddc8471043ec85a",
            "a2106c9e9a8c477ea494239cedd7f18b",
            "33e9f8602ab14f6799292624067aa7be",
            "676a88fdcca942b69829cdd9207f47f6",
            "4edfe362f9f94bf9a19bc463fb323ba4",
            "286db293258947bf80ad4c559ce5fbd6",
            "1d14f768befc44fb91cee9f650c5f34b",
            "ceafa63f2e8e44378b0352a639765be7",
            "6b8ca62e4a8f40e2bfdecf177c41c902",
            "cf08a3624eac4d43b0f82c369f4ff558",
            "b52a10951ee5423b82348cb194044e3a",
            "c5bc4ad12103496c916cfa1b8ee2e7c6",
            "778585b678724583a9f351a417a0d0b0",
            "7bee4ba6054c4e4d87f1eebbba213f34",
            "685fd61cb7194f21ba54ff7ddb7b6550",
            "a14b1bcbd3a54a26b55834b5ccde98a4"
          ]
        },
        "id": "k3X6KCPfi7Q8",
        "outputId": "c7d03b23-bee5-4dad-cb8d-ee18c473df22"
      },
      "source": [
        "## 위 함수 적용해서 train/valid split\n",
        "X_train, X_valid, y_train, y_valid=train_valid_split(train)\n"
      ],
      "execution_count": 23,
      "outputs": [
        {
          "output_type": "display_data",
          "data": {
            "application/vnd.jupyter.widget-view+json": {
              "model_id": "1d3229e36a044dc58e27e38c93410ef1",
              "version_minor": 0,
              "version_major": 2
            },
            "text/plain": [
              "  0%|          | 0/2655 [00:00<?, ?it/s]"
            ]
          },
          "metadata": {}
        },
        {
          "output_type": "display_data",
          "data": {
            "application/vnd.jupyter.widget-view+json": {
              "model_id": "286db293258947bf80ad4c559ce5fbd6",
              "version_minor": 0,
              "version_major": 2
            },
            "text/plain": [
              "  0%|          | 0/470 [00:00<?, ?it/s]"
            ]
          },
          "metadata": {}
        }
      ]
    },
    {
      "cell_type": "markdown",
      "source": [
        "acceleromete, gyroscope sensor feature 분리하는 함수"
      ],
      "metadata": {
        "id": "RBmm5iBLcbCR"
      }
    },
    {
      "cell_type": "code",
      "source": [
        "## ex)\n",
        "X_ac = [] \n",
        "X_ac.append(np.array(train[train['id'] == 7].loc[:,acc_list]))"
      ],
      "metadata": {
        "id": "Ug8g4MR7DhjT"
      },
      "execution_count": 33,
      "outputs": []
    },
    {
      "cell_type": "code",
      "source": [
        "X_ac"
      ],
      "metadata": {
        "colab": {
          "base_uri": "https://localhost:8080/"
        },
        "id": "rGnLW1_EEBcZ",
        "outputId": "9fb8f65f-4dcf-488a-c769-7571c3e05441"
      },
      "execution_count": 36,
      "outputs": [
        {
          "output_type": "execute_result",
          "data": {
            "text/plain": [
              "[array([[ 0.77049387, -1.14022973,  0.3946567 ],\n",
              "        [ 0.61738163, -1.09258897,  0.30129581],\n",
              "        [ 0.61944783, -1.00487005,  0.19233198],\n",
              "        ...,\n",
              "        [-0.61927615, -0.06362362, -0.39664983],\n",
              "        [-0.59094031, -0.16936599, -0.41205828],\n",
              "        [-0.56150395, -0.32400833, -0.42100439]])]"
            ]
          },
          "metadata": {},
          "execution_count": 36
        }
      ]
    },
    {
      "cell_type": "code",
      "source": [
        "X_ac.append(np.array(train[train['id'] == 8].loc[:,acc_list]))"
      ],
      "metadata": {
        "id": "G3uM7p1mEENE"
      },
      "execution_count": 37,
      "outputs": []
    },
    {
      "cell_type": "code",
      "source": [
        "X_ac"
      ],
      "metadata": {
        "colab": {
          "base_uri": "https://localhost:8080/"
        },
        "id": "2kc3NID8EOw6",
        "outputId": "b0bb2847-6cd9-4268-a2b1-9d87eb472be9"
      },
      "execution_count": 38,
      "outputs": [
        {
          "output_type": "execute_result",
          "data": {
            "text/plain": [
              "[array([[ 0.77049387, -1.14022973,  0.3946567 ],\n",
              "        [ 0.61738163, -1.09258897,  0.30129581],\n",
              "        [ 0.61944783, -1.00487005,  0.19233198],\n",
              "        ...,\n",
              "        [-0.61927615, -0.06362362, -0.39664983],\n",
              "        [-0.59094031, -0.16936599, -0.41205828],\n",
              "        [-0.56150395, -0.32400833, -0.42100439]]),\n",
              " array([[-1.02495567,  2.99446697, -1.7014119 ],\n",
              "        [-0.65900626,  2.70906217, -1.67035825],\n",
              "        [-0.57534711,  2.62394092, -1.66701087],\n",
              "        ...,\n",
              "        [ 0.39945002,  0.06512155,  0.31979205],\n",
              "        [ 2.43316221,  2.91369686, -0.0990795 ],\n",
              "        [ 0.50087688,  2.53337903, -0.03744776]])]"
            ]
          },
          "metadata": {},
          "execution_count": 38
        }
      ]
    },
    {
      "cell_type": "code",
      "source": [
        "np.array(X_ac).shape"
      ],
      "metadata": {
        "colab": {
          "base_uri": "https://localhost:8080/"
        },
        "id": "aX_slHZlEWfm",
        "outputId": "f3eafd84-b785-4fd2-d6d3-cc46d8585acf"
      },
      "execution_count": 41,
      "outputs": [
        {
          "output_type": "execute_result",
          "data": {
            "text/plain": [
              "(2, 600, 3)"
            ]
          },
          "metadata": {},
          "execution_count": 41
        }
      ]
    },
    {
      "cell_type": "code",
      "metadata": {
        "id": "7vYPKmxdl1mM"
      },
      "source": [
        "# acceleromete, gyroscope sensor feature split\n",
        "def sensor_split(data):\n",
        "  X_acc = [] ##acc 빈 리스트\n",
        "  X_gy = []  ##gy 빈 리스트\n",
        "  for i in tqdm(data['id'].unique()):   ## unique한 id 값을 for loop i에 assign\n",
        "      temp_acc = np.array(data[data['id'] == i].loc[:,acc_list])  ## acc 값 numpy array로 값 가지고\n",
        "      temp_gy = np.array(data[data['id'] == i].loc[:,gy_list])    ## gy 값 numpy array로 값 가지고\n",
        "      X_acc.append(temp_acc)  \n",
        "      X_gy.append(temp_gy)\n",
        "\n",
        "  X_acc = np.array(X_acc).reshape(-1,600,3)  ## 3차원으로 np 구조 만듬 (unique id갯수,600(id하나당 갇는 600 time),3(feature 갯수))\n",
        "  X_gy = np.array(X_gy).reshape(-1,600,3)    ## 3차원으로 np 구조 만듬 (unique id갯수,600(id하나당 갇는 600 time),3(feature 갯수))\n",
        "\n",
        "  return X_acc, X_gy"
      ],
      "execution_count": 45,
      "outputs": []
    },
    {
      "cell_type": "code",
      "source": [
        "X_train.head()"
      ],
      "metadata": {
        "colab": {
          "base_uri": "https://localhost:8080/",
          "height": 206
        },
        "id": "tRl7cOr_bx7r",
        "outputId": "8aa46def-c5c6-4b61-cb9c-0ae0461774e5"
      },
      "execution_count": 46,
      "outputs": [
        {
          "output_type": "execute_result",
          "data": {
            "text/html": [
              "\n",
              "  <div id=\"df-429e5fa4-3004-4d7b-a09d-24533dcbf68d\">\n",
              "    <div class=\"colab-df-container\">\n",
              "      <div>\n",
              "<style scoped>\n",
              "    .dataframe tbody tr th:only-of-type {\n",
              "        vertical-align: middle;\n",
              "    }\n",
              "\n",
              "    .dataframe tbody tr th {\n",
              "        vertical-align: top;\n",
              "    }\n",
              "\n",
              "    .dataframe thead th {\n",
              "        text-align: right;\n",
              "    }\n",
              "</style>\n",
              "<table border=\"1\" class=\"dataframe\">\n",
              "  <thead>\n",
              "    <tr style=\"text-align: right;\">\n",
              "      <th></th>\n",
              "      <th>id</th>\n",
              "      <th>time</th>\n",
              "      <th>acc_x</th>\n",
              "      <th>acc_y</th>\n",
              "      <th>acc_z</th>\n",
              "      <th>gy_x</th>\n",
              "      <th>gy_y</th>\n",
              "      <th>gy_z</th>\n",
              "    </tr>\n",
              "  </thead>\n",
              "  <tbody>\n",
              "    <tr>\n",
              "      <th>0</th>\n",
              "      <td>0</td>\n",
              "      <td>0</td>\n",
              "      <td>2.307314</td>\n",
              "      <td>-0.029939</td>\n",
              "      <td>-0.432104</td>\n",
              "      <td>0.011776</td>\n",
              "      <td>-0.410859</td>\n",
              "      <td>-0.461007</td>\n",
              "    </tr>\n",
              "    <tr>\n",
              "      <th>1</th>\n",
              "      <td>0</td>\n",
              "      <td>1</td>\n",
              "      <td>2.421086</td>\n",
              "      <td>-0.063321</td>\n",
              "      <td>-0.504058</td>\n",
              "      <td>0.026484</td>\n",
              "      <td>-0.528052</td>\n",
              "      <td>-0.365459</td>\n",
              "    </tr>\n",
              "    <tr>\n",
              "      <th>2</th>\n",
              "      <td>0</td>\n",
              "      <td>2</td>\n",
              "      <td>2.444664</td>\n",
              "      <td>-0.056749</td>\n",
              "      <td>-0.654199</td>\n",
              "      <td>-0.037962</td>\n",
              "      <td>-0.596041</td>\n",
              "      <td>-0.366767</td>\n",
              "    </tr>\n",
              "    <tr>\n",
              "      <th>3</th>\n",
              "      <td>0</td>\n",
              "      <td>3</td>\n",
              "      <td>2.428612</td>\n",
              "      <td>-0.116782</td>\n",
              "      <td>-0.573407</td>\n",
              "      <td>0.066099</td>\n",
              "      <td>-0.725311</td>\n",
              "      <td>-0.401232</td>\n",
              "    </tr>\n",
              "    <tr>\n",
              "      <th>4</th>\n",
              "      <td>0</td>\n",
              "      <td>4</td>\n",
              "      <td>2.439475</td>\n",
              "      <td>-0.044220</td>\n",
              "      <td>-0.588886</td>\n",
              "      <td>0.091969</td>\n",
              "      <td>-0.784094</td>\n",
              "      <td>-0.408413</td>\n",
              "    </tr>\n",
              "  </tbody>\n",
              "</table>\n",
              "</div>\n",
              "      <button class=\"colab-df-convert\" onclick=\"convertToInteractive('df-429e5fa4-3004-4d7b-a09d-24533dcbf68d')\"\n",
              "              title=\"Convert this dataframe to an interactive table.\"\n",
              "              style=\"display:none;\">\n",
              "        \n",
              "  <svg xmlns=\"http://www.w3.org/2000/svg\" height=\"24px\"viewBox=\"0 0 24 24\"\n",
              "       width=\"24px\">\n",
              "    <path d=\"M0 0h24v24H0V0z\" fill=\"none\"/>\n",
              "    <path d=\"M18.56 5.44l.94 2.06.94-2.06 2.06-.94-2.06-.94-.94-2.06-.94 2.06-2.06.94zm-11 1L8.5 8.5l.94-2.06 2.06-.94-2.06-.94L8.5 2.5l-.94 2.06-2.06.94zm10 10l.94 2.06.94-2.06 2.06-.94-2.06-.94-.94-2.06-.94 2.06-2.06.94z\"/><path d=\"M17.41 7.96l-1.37-1.37c-.4-.4-.92-.59-1.43-.59-.52 0-1.04.2-1.43.59L10.3 9.45l-7.72 7.72c-.78.78-.78 2.05 0 2.83L4 21.41c.39.39.9.59 1.41.59.51 0 1.02-.2 1.41-.59l7.78-7.78 2.81-2.81c.8-.78.8-2.07 0-2.86zM5.41 20L4 18.59l7.72-7.72 1.47 1.35L5.41 20z\"/>\n",
              "  </svg>\n",
              "      </button>\n",
              "      \n",
              "  <style>\n",
              "    .colab-df-container {\n",
              "      display:flex;\n",
              "      flex-wrap:wrap;\n",
              "      gap: 12px;\n",
              "    }\n",
              "\n",
              "    .colab-df-convert {\n",
              "      background-color: #E8F0FE;\n",
              "      border: none;\n",
              "      border-radius: 50%;\n",
              "      cursor: pointer;\n",
              "      display: none;\n",
              "      fill: #1967D2;\n",
              "      height: 32px;\n",
              "      padding: 0 0 0 0;\n",
              "      width: 32px;\n",
              "    }\n",
              "\n",
              "    .colab-df-convert:hover {\n",
              "      background-color: #E2EBFA;\n",
              "      box-shadow: 0px 1px 2px rgba(60, 64, 67, 0.3), 0px 1px 3px 1px rgba(60, 64, 67, 0.15);\n",
              "      fill: #174EA6;\n",
              "    }\n",
              "\n",
              "    [theme=dark] .colab-df-convert {\n",
              "      background-color: #3B4455;\n",
              "      fill: #D2E3FC;\n",
              "    }\n",
              "\n",
              "    [theme=dark] .colab-df-convert:hover {\n",
              "      background-color: #434B5C;\n",
              "      box-shadow: 0px 1px 3px 1px rgba(0, 0, 0, 0.15);\n",
              "      filter: drop-shadow(0px 1px 2px rgba(0, 0, 0, 0.3));\n",
              "      fill: #FFFFFF;\n",
              "    }\n",
              "  </style>\n",
              "\n",
              "      <script>\n",
              "        const buttonEl =\n",
              "          document.querySelector('#df-429e5fa4-3004-4d7b-a09d-24533dcbf68d button.colab-df-convert');\n",
              "        buttonEl.style.display =\n",
              "          google.colab.kernel.accessAllowed ? 'block' : 'none';\n",
              "\n",
              "        async function convertToInteractive(key) {\n",
              "          const element = document.querySelector('#df-429e5fa4-3004-4d7b-a09d-24533dcbf68d');\n",
              "          const dataTable =\n",
              "            await google.colab.kernel.invokeFunction('convertToInteractive',\n",
              "                                                     [key], {});\n",
              "          if (!dataTable) return;\n",
              "\n",
              "          const docLinkHtml = 'Like what you see? Visit the ' +\n",
              "            '<a target=\"_blank\" href=https://colab.research.google.com/notebooks/data_table.ipynb>data table notebook</a>'\n",
              "            + ' to learn more about interactive tables.';\n",
              "          element.innerHTML = '';\n",
              "          dataTable['output_type'] = 'display_data';\n",
              "          await google.colab.output.renderOutput(dataTable, element);\n",
              "          const docLink = document.createElement('div');\n",
              "          docLink.innerHTML = docLinkHtml;\n",
              "          element.appendChild(docLink);\n",
              "        }\n",
              "      </script>\n",
              "    </div>\n",
              "  </div>\n",
              "  "
            ],
            "text/plain": [
              "   id  time     acc_x     acc_y     acc_z      gy_x      gy_y      gy_z\n",
              "0   0     0  2.307314 -0.029939 -0.432104  0.011776 -0.410859 -0.461007\n",
              "1   0     1  2.421086 -0.063321 -0.504058  0.026484 -0.528052 -0.365459\n",
              "2   0     2  2.444664 -0.056749 -0.654199 -0.037962 -0.596041 -0.366767\n",
              "3   0     3  2.428612 -0.116782 -0.573407  0.066099 -0.725311 -0.401232\n",
              "4   0     4  2.439475 -0.044220 -0.588886  0.091969 -0.784094 -0.408413"
            ]
          },
          "metadata": {},
          "execution_count": 46
        }
      ]
    },
    {
      "cell_type": "code",
      "source": [
        "y_train.head()"
      ],
      "metadata": {
        "colab": {
          "base_uri": "https://localhost:8080/",
          "height": 206
        },
        "id": "PnuH7ynvFgmO",
        "outputId": "1db92c77-2a2c-4e2e-f402-6ed613ad4c9e"
      },
      "execution_count": 47,
      "outputs": [
        {
          "output_type": "execute_result",
          "data": {
            "text/html": [
              "\n",
              "  <div id=\"df-7d4e1bc4-1ce3-4471-aa2e-0d0c62cc9fe6\">\n",
              "    <div class=\"colab-df-container\">\n",
              "      <div>\n",
              "<style scoped>\n",
              "    .dataframe tbody tr th:only-of-type {\n",
              "        vertical-align: middle;\n",
              "    }\n",
              "\n",
              "    .dataframe tbody tr th {\n",
              "        vertical-align: top;\n",
              "    }\n",
              "\n",
              "    .dataframe thead th {\n",
              "        text-align: right;\n",
              "    }\n",
              "</style>\n",
              "<table border=\"1\" class=\"dataframe\">\n",
              "  <thead>\n",
              "    <tr style=\"text-align: right;\">\n",
              "      <th></th>\n",
              "      <th>id</th>\n",
              "      <th>label</th>\n",
              "      <th>label_desc</th>\n",
              "    </tr>\n",
              "  </thead>\n",
              "  <tbody>\n",
              "    <tr>\n",
              "      <th>0</th>\n",
              "      <td>0</td>\n",
              "      <td>37</td>\n",
              "      <td>Shoulder Press (dumbbell)</td>\n",
              "    </tr>\n",
              "    <tr>\n",
              "      <th>2</th>\n",
              "      <td>2</td>\n",
              "      <td>3</td>\n",
              "      <td>Biceps Curl (band)</td>\n",
              "    </tr>\n",
              "    <tr>\n",
              "      <th>3</th>\n",
              "      <td>3</td>\n",
              "      <td>26</td>\n",
              "      <td>Non-Exercise</td>\n",
              "    </tr>\n",
              "    <tr>\n",
              "      <th>4</th>\n",
              "      <td>4</td>\n",
              "      <td>26</td>\n",
              "      <td>Non-Exercise</td>\n",
              "    </tr>\n",
              "    <tr>\n",
              "      <th>5</th>\n",
              "      <td>5</td>\n",
              "      <td>26</td>\n",
              "      <td>Non-Exercise</td>\n",
              "    </tr>\n",
              "  </tbody>\n",
              "</table>\n",
              "</div>\n",
              "      <button class=\"colab-df-convert\" onclick=\"convertToInteractive('df-7d4e1bc4-1ce3-4471-aa2e-0d0c62cc9fe6')\"\n",
              "              title=\"Convert this dataframe to an interactive table.\"\n",
              "              style=\"display:none;\">\n",
              "        \n",
              "  <svg xmlns=\"http://www.w3.org/2000/svg\" height=\"24px\"viewBox=\"0 0 24 24\"\n",
              "       width=\"24px\">\n",
              "    <path d=\"M0 0h24v24H0V0z\" fill=\"none\"/>\n",
              "    <path d=\"M18.56 5.44l.94 2.06.94-2.06 2.06-.94-2.06-.94-.94-2.06-.94 2.06-2.06.94zm-11 1L8.5 8.5l.94-2.06 2.06-.94-2.06-.94L8.5 2.5l-.94 2.06-2.06.94zm10 10l.94 2.06.94-2.06 2.06-.94-2.06-.94-.94-2.06-.94 2.06-2.06.94z\"/><path d=\"M17.41 7.96l-1.37-1.37c-.4-.4-.92-.59-1.43-.59-.52 0-1.04.2-1.43.59L10.3 9.45l-7.72 7.72c-.78.78-.78 2.05 0 2.83L4 21.41c.39.39.9.59 1.41.59.51 0 1.02-.2 1.41-.59l7.78-7.78 2.81-2.81c.8-.78.8-2.07 0-2.86zM5.41 20L4 18.59l7.72-7.72 1.47 1.35L5.41 20z\"/>\n",
              "  </svg>\n",
              "      </button>\n",
              "      \n",
              "  <style>\n",
              "    .colab-df-container {\n",
              "      display:flex;\n",
              "      flex-wrap:wrap;\n",
              "      gap: 12px;\n",
              "    }\n",
              "\n",
              "    .colab-df-convert {\n",
              "      background-color: #E8F0FE;\n",
              "      border: none;\n",
              "      border-radius: 50%;\n",
              "      cursor: pointer;\n",
              "      display: none;\n",
              "      fill: #1967D2;\n",
              "      height: 32px;\n",
              "      padding: 0 0 0 0;\n",
              "      width: 32px;\n",
              "    }\n",
              "\n",
              "    .colab-df-convert:hover {\n",
              "      background-color: #E2EBFA;\n",
              "      box-shadow: 0px 1px 2px rgba(60, 64, 67, 0.3), 0px 1px 3px 1px rgba(60, 64, 67, 0.15);\n",
              "      fill: #174EA6;\n",
              "    }\n",
              "\n",
              "    [theme=dark] .colab-df-convert {\n",
              "      background-color: #3B4455;\n",
              "      fill: #D2E3FC;\n",
              "    }\n",
              "\n",
              "    [theme=dark] .colab-df-convert:hover {\n",
              "      background-color: #434B5C;\n",
              "      box-shadow: 0px 1px 3px 1px rgba(0, 0, 0, 0.15);\n",
              "      filter: drop-shadow(0px 1px 2px rgba(0, 0, 0, 0.3));\n",
              "      fill: #FFFFFF;\n",
              "    }\n",
              "  </style>\n",
              "\n",
              "      <script>\n",
              "        const buttonEl =\n",
              "          document.querySelector('#df-7d4e1bc4-1ce3-4471-aa2e-0d0c62cc9fe6 button.colab-df-convert');\n",
              "        buttonEl.style.display =\n",
              "          google.colab.kernel.accessAllowed ? 'block' : 'none';\n",
              "\n",
              "        async function convertToInteractive(key) {\n",
              "          const element = document.querySelector('#df-7d4e1bc4-1ce3-4471-aa2e-0d0c62cc9fe6');\n",
              "          const dataTable =\n",
              "            await google.colab.kernel.invokeFunction('convertToInteractive',\n",
              "                                                     [key], {});\n",
              "          if (!dataTable) return;\n",
              "\n",
              "          const docLinkHtml = 'Like what you see? Visit the ' +\n",
              "            '<a target=\"_blank\" href=https://colab.research.google.com/notebooks/data_table.ipynb>data table notebook</a>'\n",
              "            + ' to learn more about interactive tables.';\n",
              "          element.innerHTML = '';\n",
              "          dataTable['output_type'] = 'display_data';\n",
              "          await google.colab.output.renderOutput(dataTable, element);\n",
              "          const docLink = document.createElement('div');\n",
              "          docLink.innerHTML = docLinkHtml;\n",
              "          element.appendChild(docLink);\n",
              "        }\n",
              "      </script>\n",
              "    </div>\n",
              "  </div>\n",
              "  "
            ],
            "text/plain": [
              "   id  label                 label_desc\n",
              "0   0     37  Shoulder Press (dumbbell)\n",
              "2   2      3         Biceps Curl (band)\n",
              "3   3     26               Non-Exercise\n",
              "4   4     26               Non-Exercise\n",
              "5   5     26               Non-Exercise"
            ]
          },
          "metadata": {},
          "execution_count": 47
        }
      ]
    },
    {
      "cell_type": "code",
      "metadata": {
        "id": "czVm3wf6HPiv"
      },
      "source": [
        "# label 26(Non-exercise)data, 그 외(not Non-exercise)data label data로 분할\n",
        "X_train_mod=pd.merge(X_train,y_train,how='left',on='id') ## left(X_train) 기준 \n",
        "X_train_26=X_train_mod[X_train_mod['label']==26] ## label 26 포함된 전체 데이터 셋\n",
        "X_train_n26=X_train_mod[X_train_mod['label']!=26] ## label 26 제외한 젠체 데이터 셋"
      ],
      "execution_count": 50,
      "outputs": []
    },
    {
      "cell_type": "code",
      "metadata": {
        "colab": {
          "base_uri": "https://localhost:8080/",
          "height": 145,
          "referenced_widgets": [
            "9b155d3982c2440aa6614ad9fe23ee55",
            "9c251b9b7dea4f499836a52bb7f7442a",
            "ca2b1803067144fc9dd4e4305a6ecaef",
            "cf675c3b97814f8da395e3a03a53e0cc",
            "417eda9bef7a4926b11510c182d5baa6",
            "ad8b2b279cfc477a9f8dd360907a4a01",
            "d1bd850326734d8b969afaf604679194",
            "1a733740ec654ddeb3b18bc685ef1c9d",
            "137cc6ef9b234997a23992b9044cbe12",
            "976d8f63d45143a281a27be2aa9b5bed",
            "44affe16e8ac41bda70830cd9f3e5af7",
            "1ed0d9af260b4d5fb17d3990c816048a",
            "3a954b066fd6415ebf052e1a3a501d98",
            "91d225aa074245fbac75d4ad6f78829f",
            "6a57ae2cc7a64e90a18612049475d5a4",
            "7e754ce3b2bb4da08ef86817c2199bd0",
            "524963773667437a8b0c7b5e5ae913c7",
            "4c9c26904ed949eea1c335f9e5280421",
            "d0cb1a4c3af346f6b89c71b80426065d",
            "fd8bd96ce6ba4747a86a1351e688847a",
            "3a71013f4c8c4bd6a489b508a7d36516",
            "1087a195e61c45daa0cfaa743f2c98d9",
            "265624ee3d914288af512a9c6a26f9de",
            "fa339011ce7147168d29bdb2f776db4e",
            "c00af9b79c2b4407a001e87f52d2f775",
            "70ecd35ace304a14b47954c81d3e54f6",
            "1ccfbb63d6f2417682016d461ac5495b",
            "7998bf8e123f404b9fe035be4797eb26",
            "ac25912e211a4efca2aca734ecfe4959",
            "30801741992a41bca4036d8dba6d80e5",
            "3c6804d463654e46a87d32475c3f9dd1",
            "5cf62dde14f4423c80a6ed6de6a9dc12",
            "d7e0e6dcd0c548f6b64506c44ac9ba42",
            "503a1cef549c4e1cbdc5270712184247",
            "9c67c21bcd424a369ce0add18871f413",
            "e9d59551c7d64c9fa189317214a75c28",
            "c9070d3d1547409f9d9729f3758a8cb1",
            "b6248f4c9f084fe4a55c37aa99dca319",
            "3c688015a9a5463faa8d29727916767c",
            "31eff17b6a3f4c20b3029071319d15ab",
            "b32a23cb44ac4645bff087ab00d2050b",
            "f42dac932f1c4402bc7fb1266d8b2a03",
            "40a35a4ac3204be082b24f5cb526b289",
            "6c3ac9ced6ed4da4b110a58428d758d5"
          ]
        },
        "id": "_6yyFHh1HPiw",
        "outputId": "2f01d2ca-43d3-4bc5-b060-7659273e44e5"
      },
      "source": [
        "X_train_acc_26, X_train_gy_26= sensor_split(X_train_26)\n",
        "X_train_acc_n26, X_train_gy_n26= sensor_split(X_train_n26)\n",
        "X_valid_acc, X_valid_gy= sensor_split(X_valid)\n",
        "X_test_acc, X_test_gy= sensor_split(test)"
      ],
      "execution_count": 74,
      "outputs": [
        {
          "output_type": "display_data",
          "data": {
            "application/vnd.jupyter.widget-view+json": {
              "model_id": "9b155d3982c2440aa6614ad9fe23ee55",
              "version_minor": 0,
              "version_major": 2
            },
            "text/plain": [
              "  0%|          | 0/1302 [00:00<?, ?it/s]"
            ]
          },
          "metadata": {}
        },
        {
          "output_type": "display_data",
          "data": {
            "application/vnd.jupyter.widget-view+json": {
              "model_id": "1ed0d9af260b4d5fb17d3990c816048a",
              "version_minor": 0,
              "version_major": 2
            },
            "text/plain": [
              "  0%|          | 0/1353 [00:00<?, ?it/s]"
            ]
          },
          "metadata": {}
        },
        {
          "output_type": "display_data",
          "data": {
            "application/vnd.jupyter.widget-view+json": {
              "model_id": "265624ee3d914288af512a9c6a26f9de",
              "version_minor": 0,
              "version_major": 2
            },
            "text/plain": [
              "  0%|          | 0/470 [00:00<?, ?it/s]"
            ]
          },
          "metadata": {}
        },
        {
          "output_type": "display_data",
          "data": {
            "application/vnd.jupyter.widget-view+json": {
              "model_id": "503a1cef549c4e1cbdc5270712184247",
              "version_minor": 0,
              "version_major": 2
            },
            "text/plain": [
              "  0%|          | 0/782 [00:00<?, ?it/s]"
            ]
          },
          "metadata": {}
        }
      ]
    },
    {
      "cell_type": "code",
      "source": [
        "X_train_acc_26.shape ## shape: (1287, 600, 3)"
      ],
      "metadata": {
        "colab": {
          "base_uri": "https://localhost:8080/"
        },
        "id": "W5g-MuXscX_9",
        "outputId": "22300147-4662-42e7-a4c5-02478aaf2308"
      },
      "execution_count": 75,
      "outputs": [
        {
          "output_type": "execute_result",
          "data": {
            "text/plain": [
              "(1302, 600, 3)"
            ]
          },
          "metadata": {},
          "execution_count": 75
        }
      ]
    },
    {
      "cell_type": "code",
      "source": [
        "X_train_gy_26.shape"
      ],
      "metadata": {
        "colab": {
          "base_uri": "https://localhost:8080/"
        },
        "id": "4RbGPZsxGj0C",
        "outputId": "d5b0e0b5-a03f-4a4d-b4a1-5861a91db5c0"
      },
      "execution_count": 76,
      "outputs": [
        {
          "output_type": "execute_result",
          "data": {
            "text/plain": [
              "(1302, 600, 3)"
            ]
          },
          "metadata": {},
          "execution_count": 76
        }
      ]
    },
    {
      "cell_type": "code",
      "source": [
        "X_train_acc_n26.shape ## shape: (5472, 600, 3)"
      ],
      "metadata": {
        "colab": {
          "base_uri": "https://localhost:8080/"
        },
        "id": "hVqheDGcfdAv",
        "outputId": "c17baaf2-1209-4bca-fde8-7885484cd328"
      },
      "execution_count": 77,
      "outputs": [
        {
          "output_type": "execute_result",
          "data": {
            "text/plain": [
              "(1353, 600, 3)"
            ]
          },
          "metadata": {},
          "execution_count": 77
        }
      ]
    },
    {
      "cell_type": "code",
      "source": [
        "X_train_gy_n26.shape "
      ],
      "metadata": {
        "colab": {
          "base_uri": "https://localhost:8080/"
        },
        "id": "8vz0gOOJGkaK",
        "outputId": "7cf4c8b8-1a65-4ad4-b0bc-aacc82db239a"
      },
      "execution_count": 78,
      "outputs": [
        {
          "output_type": "execute_result",
          "data": {
            "text/plain": [
              "(1353, 600, 3)"
            ]
          },
          "metadata": {},
          "execution_count": 78
        }
      ]
    },
    {
      "cell_type": "markdown",
      "metadata": {
        "id": "IugXiyweLzLy"
      },
      "source": [
        "### *Augmentation*\n",
        "\n",
        "##### -non26에 한해서만 augmentation 적용:😊"
      ]
    },
    {
      "cell_type": "code",
      "metadata": {
        "id": "TgAGno6KBGK-"
      },
      "source": [
        "# Rolling\n",
        "def aug(data, uid, shift):\n",
        "    shift_data = np.roll(data[uid], shift, axis=0)\n",
        "    return shift_data\n",
        "def roll_aug(data):\n",
        "  aug_data=[]\n",
        "  for i in range(data.shape[0]):\n",
        "    temp=list((aug(data,i,int(random.random()*600))))\n",
        "    aug_data.append(temp)\n",
        "  return np.array(aug_data)\n",
        "# Jitter\n",
        "sigma=0.05\n",
        "def Jitter(X, sigma):\n",
        "    myNoise = np.random.normal(loc=0, scale=sigma, size=X.shape)\n",
        "    return X+myNoise\n",
        "# Scaling\n",
        "def Scaling(X, sigma):\n",
        "    scalingFactor = np.random.normal(loc=1.0, scale=sigma, size=(1,X.shape[1])) # shape=(1,3)\n",
        "    myNoise = np.matmul(np.ones((X.shape[0],1)), scalingFactor)\n",
        "    return X*myNoise\n",
        "# Magnitude Warping\n",
        "sigma = 0.2\n",
        "knot = 4\n",
        "def GenerateRandomCurves(X, sigma, knot=4):\n",
        "    xx = (np.ones((X.shape[1],1))*(np.arange(0,X.shape[0], (X.shape[0]-1)/(knot+1)))).transpose()\n",
        "    yy = np.random.normal(loc=1.0, scale=sigma, size=(knot+2, X.shape[1]))\n",
        "    x_range = np.arange(X.shape[0])\n",
        "    cs_x = CubicSpline(xx[:,0], yy[:,0])\n",
        "    cs_y = CubicSpline(xx[:,1], yy[:,1])\n",
        "    cs_z = CubicSpline(xx[:,2], yy[:,2])\n",
        "    return np.array([cs_x(x_range),cs_y(x_range),cs_z(x_range)]).transpose()\n",
        "def MagWarp(X, sigma):\n",
        "    return X * GenerateRandomCurves(X, sigma)\n",
        "# Time Warping\n",
        "sigma = 0.2\n",
        "knot = 4\n",
        "def DistortTimesteps(X, sigma):\n",
        "    tt = GenerateRandomCurves(X, sigma) # Regard these samples aroun 1 as time intervals\n",
        "    tt_cum = np.cumsum(tt, axis=0)        # Add intervals to make a cumulative graph\n",
        "    # Make the last value to have X.shape[0]\n",
        "    t_scale = [(X.shape[0]-1)/tt_cum[-1,0],(X.shape[0]-1)/tt_cum[-1,1],(X.shape[0]-1)/tt_cum[-1,2]]\n",
        "    tt_cum[:,0] = tt_cum[:,0]*t_scale[0]\n",
        "    tt_cum[:,1] = tt_cum[:,1]*t_scale[1]\n",
        "    tt_cum[:,2] = tt_cum[:,2]*t_scale[2]\n",
        "    return tt_cum\n",
        "def TimeWarp(X, sigma):\n",
        "    tt_new = DistortTimesteps(X, sigma)\n",
        "    X_new = np.zeros(X.shape)\n",
        "    x_range = np.arange(X.shape[0])\n",
        "    X_new[:,0] = np.interp(x_range, tt_new[:,0], X[:,0])\n",
        "    X_new[:,1] = np.interp(x_range, tt_new[:,1], X[:,1])\n",
        "    X_new[:,2] = np.interp(x_range, tt_new[:,2], X[:,2])\n",
        "    return X_new\n",
        "# Cropping\n",
        "def crop(X_acc,X_gy,y_data,data_length,data_interval,time_step,start_index,history_size,y=True):\n",
        "  X_train_seq_acc=[]\n",
        "  X_train_seq_gy=[]\n",
        "  y_train_seq=[]\n",
        "  start_index=start_index+history_size\n",
        "  \n",
        "  if y==True:\n",
        "    for i in tqdm(range(X_acc.shape[0])):\n",
        "      for j in range(start_index,data_length+1,data_interval):\n",
        "        index=range(j-history_size,j,time_step)\n",
        "        X_train_seq_acc.append(list(X_acc[i,index,:]))\n",
        "        X_train_seq_gy.append(list(X_gy[i,index,:]))\n",
        "        y_train_seq.append(y_data[i])\n",
        "    return np.array(X_train_seq_acc), np.array(X_train_seq_gy), np.array(y_train_seq)\n",
        "  \n",
        "  else:\n",
        "    for i in tqdm(range(X_acc.shape[0])):\n",
        "      for j in range(start_index,data_length+1,data_interval):\n",
        "        index=range(j-history_size,j,time_step)\n",
        "        X_train_seq_acc.append(list(X_acc[i,index,:]))\n",
        "        X_train_seq_gy.append(list(X_gy[i,index,:]))\n",
        "    return np.array(X_train_seq_acc), np.array(X_train_seq_gy)"
      ],
      "execution_count": 79,
      "outputs": []
    },
    {
      "cell_type": "code",
      "metadata": {
        "id": "49RpBlAOPXyg"
      },
      "source": [
        "def ts_aug(data, method,sigma):\n",
        "  new_data=[]\n",
        "  for i in range(data.shape[0]):\n",
        "    temp=list(method(data[i], sigma))\n",
        "    new_data.append(temp)\n",
        "  return np.array(new_data)"
      ],
      "execution_count": 80,
      "outputs": []
    },
    {
      "cell_type": "code",
      "metadata": {
        "id": "u04kFZ6fIUFc"
      },
      "source": [
        "X_train_acc_n26_rolling = roll_aug(X_train_acc_n26)\n",
        "X_train_acc_n26_timewarp = ts_aug(X_train_acc_n26, TimeWarp,0.2)\n",
        "X_train_acc_n26_magwarp = ts_aug(X_train_acc_n26, MagWarp,0.2)\n",
        "\n",
        "X_train_gy_n26_rolling = roll_aug(X_train_gy_n26)\n",
        "X_train_gy_n26_timewarp = ts_aug(X_train_gy_n26, TimeWarp,0.2)\n",
        "X_train_gy_n26_magwarp = ts_aug(X_train_gy_n26, MagWarp,0.2)"
      ],
      "execution_count": 81,
      "outputs": []
    },
    {
      "cell_type": "code",
      "source": [
        "X_train_acc_n26_rolling.shape"
      ],
      "metadata": {
        "colab": {
          "base_uri": "https://localhost:8080/"
        },
        "id": "QwDFvBwje0fq",
        "outputId": "4199d868-6327-4224-9336-2dad03b07faa"
      },
      "execution_count": 82,
      "outputs": [
        {
          "output_type": "execute_result",
          "data": {
            "text/plain": [
              "(1353, 600, 3)"
            ]
          },
          "metadata": {},
          "execution_count": 82
        }
      ]
    },
    {
      "cell_type": "code",
      "source": [
        "X_train_acc_n26_timewarp.shape"
      ],
      "metadata": {
        "colab": {
          "base_uri": "https://localhost:8080/"
        },
        "id": "xko052VoH9YG",
        "outputId": "43aafe5f-b719-4d81-cd0e-d4ac6073f8fa"
      },
      "execution_count": 83,
      "outputs": [
        {
          "output_type": "execute_result",
          "data": {
            "text/plain": [
              "(1353, 600, 3)"
            ]
          },
          "metadata": {},
          "execution_count": 83
        }
      ]
    },
    {
      "cell_type": "code",
      "source": [
        "X_train_acc_n26_magwarp.shape"
      ],
      "metadata": {
        "colab": {
          "base_uri": "https://localhost:8080/"
        },
        "id": "lsIFOgOuIVyP",
        "outputId": "ce99a2d8-005e-4228-d618-59f80d337cbc"
      },
      "execution_count": 84,
      "outputs": [
        {
          "output_type": "execute_result",
          "data": {
            "text/plain": [
              "(1353, 600, 3)"
            ]
          },
          "metadata": {},
          "execution_count": 84
        }
      ]
    },
    {
      "cell_type": "code",
      "source": [
        "y_train.head()"
      ],
      "metadata": {
        "colab": {
          "base_uri": "https://localhost:8080/",
          "height": 206
        },
        "id": "9zEInP-rfrxQ",
        "outputId": "f7dc672a-31cb-4f2d-accf-e84fd820282c"
      },
      "execution_count": 85,
      "outputs": [
        {
          "output_type": "execute_result",
          "data": {
            "text/html": [
              "\n",
              "  <div id=\"df-0b57868e-b245-4b19-9a70-50d4fe9ee065\">\n",
              "    <div class=\"colab-df-container\">\n",
              "      <div>\n",
              "<style scoped>\n",
              "    .dataframe tbody tr th:only-of-type {\n",
              "        vertical-align: middle;\n",
              "    }\n",
              "\n",
              "    .dataframe tbody tr th {\n",
              "        vertical-align: top;\n",
              "    }\n",
              "\n",
              "    .dataframe thead th {\n",
              "        text-align: right;\n",
              "    }\n",
              "</style>\n",
              "<table border=\"1\" class=\"dataframe\">\n",
              "  <thead>\n",
              "    <tr style=\"text-align: right;\">\n",
              "      <th></th>\n",
              "      <th>id</th>\n",
              "      <th>label</th>\n",
              "      <th>label_desc</th>\n",
              "    </tr>\n",
              "  </thead>\n",
              "  <tbody>\n",
              "    <tr>\n",
              "      <th>0</th>\n",
              "      <td>0</td>\n",
              "      <td>37</td>\n",
              "      <td>Shoulder Press (dumbbell)</td>\n",
              "    </tr>\n",
              "    <tr>\n",
              "      <th>2</th>\n",
              "      <td>2</td>\n",
              "      <td>3</td>\n",
              "      <td>Biceps Curl (band)</td>\n",
              "    </tr>\n",
              "    <tr>\n",
              "      <th>3</th>\n",
              "      <td>3</td>\n",
              "      <td>26</td>\n",
              "      <td>Non-Exercise</td>\n",
              "    </tr>\n",
              "    <tr>\n",
              "      <th>4</th>\n",
              "      <td>4</td>\n",
              "      <td>26</td>\n",
              "      <td>Non-Exercise</td>\n",
              "    </tr>\n",
              "    <tr>\n",
              "      <th>5</th>\n",
              "      <td>5</td>\n",
              "      <td>26</td>\n",
              "      <td>Non-Exercise</td>\n",
              "    </tr>\n",
              "  </tbody>\n",
              "</table>\n",
              "</div>\n",
              "      <button class=\"colab-df-convert\" onclick=\"convertToInteractive('df-0b57868e-b245-4b19-9a70-50d4fe9ee065')\"\n",
              "              title=\"Convert this dataframe to an interactive table.\"\n",
              "              style=\"display:none;\">\n",
              "        \n",
              "  <svg xmlns=\"http://www.w3.org/2000/svg\" height=\"24px\"viewBox=\"0 0 24 24\"\n",
              "       width=\"24px\">\n",
              "    <path d=\"M0 0h24v24H0V0z\" fill=\"none\"/>\n",
              "    <path d=\"M18.56 5.44l.94 2.06.94-2.06 2.06-.94-2.06-.94-.94-2.06-.94 2.06-2.06.94zm-11 1L8.5 8.5l.94-2.06 2.06-.94-2.06-.94L8.5 2.5l-.94 2.06-2.06.94zm10 10l.94 2.06.94-2.06 2.06-.94-2.06-.94-.94-2.06-.94 2.06-2.06.94z\"/><path d=\"M17.41 7.96l-1.37-1.37c-.4-.4-.92-.59-1.43-.59-.52 0-1.04.2-1.43.59L10.3 9.45l-7.72 7.72c-.78.78-.78 2.05 0 2.83L4 21.41c.39.39.9.59 1.41.59.51 0 1.02-.2 1.41-.59l7.78-7.78 2.81-2.81c.8-.78.8-2.07 0-2.86zM5.41 20L4 18.59l7.72-7.72 1.47 1.35L5.41 20z\"/>\n",
              "  </svg>\n",
              "      </button>\n",
              "      \n",
              "  <style>\n",
              "    .colab-df-container {\n",
              "      display:flex;\n",
              "      flex-wrap:wrap;\n",
              "      gap: 12px;\n",
              "    }\n",
              "\n",
              "    .colab-df-convert {\n",
              "      background-color: #E8F0FE;\n",
              "      border: none;\n",
              "      border-radius: 50%;\n",
              "      cursor: pointer;\n",
              "      display: none;\n",
              "      fill: #1967D2;\n",
              "      height: 32px;\n",
              "      padding: 0 0 0 0;\n",
              "      width: 32px;\n",
              "    }\n",
              "\n",
              "    .colab-df-convert:hover {\n",
              "      background-color: #E2EBFA;\n",
              "      box-shadow: 0px 1px 2px rgba(60, 64, 67, 0.3), 0px 1px 3px 1px rgba(60, 64, 67, 0.15);\n",
              "      fill: #174EA6;\n",
              "    }\n",
              "\n",
              "    [theme=dark] .colab-df-convert {\n",
              "      background-color: #3B4455;\n",
              "      fill: #D2E3FC;\n",
              "    }\n",
              "\n",
              "    [theme=dark] .colab-df-convert:hover {\n",
              "      background-color: #434B5C;\n",
              "      box-shadow: 0px 1px 3px 1px rgba(0, 0, 0, 0.15);\n",
              "      filter: drop-shadow(0px 1px 2px rgba(0, 0, 0, 0.3));\n",
              "      fill: #FFFFFF;\n",
              "    }\n",
              "  </style>\n",
              "\n",
              "      <script>\n",
              "        const buttonEl =\n",
              "          document.querySelector('#df-0b57868e-b245-4b19-9a70-50d4fe9ee065 button.colab-df-convert');\n",
              "        buttonEl.style.display =\n",
              "          google.colab.kernel.accessAllowed ? 'block' : 'none';\n",
              "\n",
              "        async function convertToInteractive(key) {\n",
              "          const element = document.querySelector('#df-0b57868e-b245-4b19-9a70-50d4fe9ee065');\n",
              "          const dataTable =\n",
              "            await google.colab.kernel.invokeFunction('convertToInteractive',\n",
              "                                                     [key], {});\n",
              "          if (!dataTable) return;\n",
              "\n",
              "          const docLinkHtml = 'Like what you see? Visit the ' +\n",
              "            '<a target=\"_blank\" href=https://colab.research.google.com/notebooks/data_table.ipynb>data table notebook</a>'\n",
              "            + ' to learn more about interactive tables.';\n",
              "          element.innerHTML = '';\n",
              "          dataTable['output_type'] = 'display_data';\n",
              "          await google.colab.output.renderOutput(dataTable, element);\n",
              "          const docLink = document.createElement('div');\n",
              "          docLink.innerHTML = docLinkHtml;\n",
              "          element.appendChild(docLink);\n",
              "        }\n",
              "      </script>\n",
              "    </div>\n",
              "  </div>\n",
              "  "
            ],
            "text/plain": [
              "   id  label                 label_desc\n",
              "0   0     37  Shoulder Press (dumbbell)\n",
              "2   2      3         Biceps Curl (band)\n",
              "3   3     26               Non-Exercise\n",
              "4   4     26               Non-Exercise\n",
              "5   5     26               Non-Exercise"
            ]
          },
          "metadata": {},
          "execution_count": 85
        }
      ]
    },
    {
      "cell_type": "code",
      "metadata": {
        "id": "88W2N-SnIUFd",
        "colab": {
          "base_uri": "https://localhost:8080/"
        },
        "outputId": "fbb3e68c-e24d-4fec-d1be-067133ea13aa"
      },
      "source": [
        "###augmentation 결과 값 결합 (기존 값+rolling,timewarp,magwarp)\n",
        "X_train_acc_n26=np.append(X_train_acc_n26,X_train_acc_n26_rolling, axis=0)\n",
        "X_train_acc_n26=np.append(X_train_acc_n26,X_train_acc_n26_timewarp, axis=0)\n",
        "X_train_acc_n26=np.append(X_train_acc_n26,X_train_acc_n26_magwarp, axis=0)\n",
        "X_train_acc_n26.shape"
      ],
      "execution_count": 88,
      "outputs": [
        {
          "output_type": "execute_result",
          "data": {
            "text/plain": [
              "(5412, 600, 3)"
            ]
          },
          "metadata": {},
          "execution_count": 88
        }
      ]
    },
    {
      "cell_type": "code",
      "source": [
        "X_train_gy_n26=np.append(X_train_gy_n26,X_train_gy_n26_rolling, axis=0)\n",
        "X_train_gy_n26=np.append(X_train_gy_n26,X_train_gy_n26_timewarp, axis=0)\n",
        "X_train_gy_n26=np.append(X_train_gy_n26,X_train_gy_n26_magwarp, axis=0)\n",
        "X_train_gy_n26.shape"
      ],
      "metadata": {
        "colab": {
          "base_uri": "https://localhost:8080/"
        },
        "id": "PaZ0zlp4Jq54",
        "outputId": "f7d8bca3-c528-49b6-ee4b-10bd0734e26e"
      },
      "execution_count": 89,
      "outputs": [
        {
          "output_type": "execute_result",
          "data": {
            "text/plain": [
              "(5412, 600, 3)"
            ]
          },
          "metadata": {},
          "execution_count": 89
        }
      ]
    },
    {
      "cell_type": "code",
      "metadata": {
        "id": "KjBG0wXUHSHH",
        "colab": {
          "base_uri": "https://localhost:8080/"
        },
        "outputId": "1885d162-9659-4128-9243-01c0037bda0f"
      },
      "source": [
        "X_train_acc=np.append(X_train_acc_n26,X_train_acc_26, axis=0) ## augment된 n26과 기존 26결합\n",
        "X_train_acc.shape"
      ],
      "execution_count": 90,
      "outputs": [
        {
          "output_type": "execute_result",
          "data": {
            "text/plain": [
              "(6714, 600, 3)"
            ]
          },
          "metadata": {},
          "execution_count": 90
        }
      ]
    },
    {
      "cell_type": "code",
      "source": [
        "X_train_gy=np.append(X_train_gy_n26,X_train_gy_26, axis=0) ## augment된 n26과 기존 26결합\n",
        "X_train_gy.shape"
      ],
      "metadata": {
        "colab": {
          "base_uri": "https://localhost:8080/"
        },
        "id": "xtLVeYVbLRgh",
        "outputId": "7838a6e0-4af6-413d-c926-95d409f28baa"
      },
      "execution_count": 91,
      "outputs": [
        {
          "output_type": "execute_result",
          "data": {
            "text/plain": [
              "(6714, 600, 3)"
            ]
          },
          "metadata": {},
          "execution_count": 91
        }
      ]
    },
    {
      "cell_type": "code",
      "metadata": {
        "id": "X6eRli_5HSHG"
      },
      "source": [
        "## label select\n",
        "y_train_26=y_train[y_train['label']==26]['label'] ## label이 26인 label만 저장\n",
        "y_train_n26=y_train[y_train['label']!=26]['label'] ## label이 n26인 label만 저장"
      ],
      "execution_count": 86,
      "outputs": []
    },
    {
      "cell_type": "code",
      "source": [
        "y_train_26"
      ],
      "metadata": {
        "colab": {
          "base_uri": "https://localhost:8080/"
        },
        "id": "IECMikzUf2sg",
        "outputId": "429458e0-0c66-4b89-9715-19b54c37b3fb"
      },
      "execution_count": 87,
      "outputs": [
        {
          "output_type": "execute_result",
          "data": {
            "text/plain": [
              "3       26\n",
              "4       26\n",
              "5       26\n",
              "6       26\n",
              "7       26\n",
              "        ..\n",
              "3113    26\n",
              "3114    26\n",
              "3116    26\n",
              "3121    26\n",
              "3123    26\n",
              "Name: label, Length: 1302, dtype: int64"
            ]
          },
          "metadata": {},
          "execution_count": 87
        }
      ]
    },
    {
      "cell_type": "code",
      "source": [
        "## augmentation 된 x와 일치하게 non26 label 추가 \n",
        "y_train_total = np.append(y_train_n26,y_train_n26,axis=0) \n",
        "y_train_total = np.append(y_train_total,y_train_n26,axis=0)\n",
        "y_train_total = np.append(y_train_total,y_train_n26,axis=0)\n",
        "y_train_total.shape "
      ],
      "metadata": {
        "colab": {
          "base_uri": "https://localhost:8080/"
        },
        "id": "MQeTZ3LELTUS",
        "outputId": "1ef5b715-0310-42af-b4f0-486f2ede9e6d"
      },
      "execution_count": 93,
      "outputs": [
        {
          "output_type": "execute_result",
          "data": {
            "text/plain": [
              "(5412,)"
            ]
          },
          "metadata": {},
          "execution_count": 93
        }
      ]
    },
    {
      "cell_type": "code",
      "source": [
        "y_train = np.append(y_train_total,y_train_26,axis=0) ###순서(n26)(5412)-> (26)(1302)"
      ],
      "metadata": {
        "id": "h_2BFamdMngM"
      },
      "execution_count": 96,
      "outputs": []
    },
    {
      "cell_type": "markdown",
      "source": [
        "Label에 대한 One hot encoding (to_categorical) "
      ],
      "metadata": {
        "id": "gUYlqETAN8ll"
      }
    },
    {
      "cell_type": "code",
      "metadata": {
        "id": "4SZubDcGhvtQ"
      },
      "source": [
        "y_train = to_categorical(y_train)\n",
        "y_valid = to_categorical(y_valid['label'])"
      ],
      "execution_count": 99,
      "outputs": []
    },
    {
      "cell_type": "code",
      "source": [
        "sequence_length=X_train_acc.shape[1] ##shape[1]은 ID하나당 가지는 time\n",
        "X_train_acc.shape"
      ],
      "metadata": {
        "colab": {
          "base_uri": "https://localhost:8080/"
        },
        "id": "7sTdo5T0OXBj",
        "outputId": "e2d1157f-e016-40d2-8cf6-4774deb5b079"
      },
      "execution_count": 100,
      "outputs": [
        {
          "output_type": "execute_result",
          "data": {
            "text/plain": [
              "(6714, 600, 3)"
            ]
          },
          "metadata": {},
          "execution_count": 100
        }
      ]
    },
    {
      "cell_type": "code",
      "source": [
        "# Shuffle\n",
        "s = np.arange(X_train_acc.shape[0])\n",
        "np.random.shuffle(s)## 0-6713 random shuffle\n",
        "X_train_acc = X_train_acc[s]\n",
        "X_train_gy = X_train_gy[s]\n",
        "y_train = y_train[s]"
      ],
      "metadata": {
        "id": "6qwRG4MBOW-u"
      },
      "execution_count": 106,
      "outputs": []
    },
    {
      "cell_type": "markdown",
      "source": [
        "##### *변수 정리* 😊\n",
        "X_train_acc: acc해당 train x값\n",
        "\n",
        "X_train_gy: gy해당 train x값\n",
        "\n",
        "y_train: label encoding 후 label y 값"
      ],
      "metadata": {
        "id": "ViToSyzyPw6S"
      }
    },
    {
      "cell_type": "markdown",
      "metadata": {
        "id": "uoVI4GlYKkX2"
      },
      "source": [
        "### Deep learning Model (1d conv+LSTM)"
      ]
    },
    {
      "cell_type": "code",
      "metadata": {
        "id": "pVaVxLXxbTyH",
        "colab": {
          "base_uri": "https://localhost:8080/"
        },
        "outputId": "f1b858fa-57dd-479f-d700-0c4490b185cb"
      },
      "source": [
        "num=128\n",
        "kernel_size=2\n",
        "strides_size=1\n",
        "model_1_input = Input(shape=(sequence_length,3)) ## (shape=(600,3)) 하나의 id당 갖는 time:600, feature:3개\n",
        "model_1 = Conv1D(num,kernel_size,strides_size,activation=None)(model_1_input)\n",
        "model_1 = BatchNormalization()(model_1)\n",
        "model_1 = Activation('relu')(model_1)\n",
        "model_1 = MaxPooling1D(2)(model_1)\n",
        "model_1 = Conv1D(2*num,kernel_size,strides_size,activation=None)(model_1)\n",
        "model_1 = BatchNormalization()(model_1)\n",
        "model_1 = Activation('relu')(model_1)\n",
        "model_1 = MaxPooling1D(2)(model_1)\n",
        "model_1 = Conv1D(3*num,kernel_size,strides_size,activation=None)(model_1)\n",
        "model_1 = BatchNormalization()(model_1)\n",
        "model_1 = Activation('relu')(model_1)\n",
        "model_1 = MaxPooling1D(2)(model_1)\n",
        "model_1 = LSTM(int(num/2))(model_1)\n",
        "model_1 = Model(inputs=model_1_input, outputs = model_1)\n",
        "\n",
        "model_2_input = Input(shape=(sequence_length,3)) ## (shape=(600,3)) 하나의 id당 갖는 time:600, feature:3개\n",
        "model_2 = Conv1D(num,kernel_size,strides_size,activation=None)(model_2_input)\n",
        "model_2 = BatchNormalization()(model_2)\n",
        "model_2 = Activation('relu')(model_2)\n",
        "model_2 = MaxPooling1D(2)(model_2)\n",
        "model_2 = Conv1D(2*num,kernel_size,strides_size,activation=None)(model_2)\n",
        "model_2 = BatchNormalization()(model_2)\n",
        "model_2 = Activation('relu')(model_2)\n",
        "model_2 = MaxPooling1D(2)(model_2)\n",
        "model_2 = Conv1D(3*num,kernel_size,strides_size,activation=None)(model_2)\n",
        "model_2 = BatchNormalization()(model_2)\n",
        "model_2 = Activation('relu')(model_2)\n",
        "model_2 = MaxPooling1D(2)(model_2)\n",
        "model_2 = LSTM(int(num/2))(model_2)\n",
        "model_2 = Model(inputs=model_2_input, outputs = model_2)\n",
        "\n",
        "combinedInput = concatenate([model_1.output, model_2.output]) ## model1, model2 concatenate\n",
        "x = Flatten()(combinedInput)\n",
        "x = Dense(61, activation=\"softmax\")(x)\n",
        "final_model = Model(inputs=[model_1.input, model_2.input], outputs=x)\n",
        "final_model.summary()\n",
        "final_model.compile(loss='categorical_crossentropy', optimizer='Adam', metrics=['acc'])\n",
        "es = EarlyStopping(monitor='val_loss', mode='min', verbose=1, patience=5)\n",
        "mc = ModelCheckpoint('best_model.h5', monitor='val_loss', mode='min', verbose=1, save_best_only=True)\n",
        "history = final_model.fit(x=[X_train_acc,X_train_gy], y=y_train, epochs=50, callbacks=[es, mc],\n",
        "                          validation_data=([X_valid_acc, X_valid_gy], y_valid), batch_size=128)"
      ],
      "execution_count": 107,
      "outputs": [
        {
          "output_type": "stream",
          "name": "stdout",
          "text": [
            "Model: \"model_2\"\n",
            "__________________________________________________________________________________________________\n",
            " Layer (type)                   Output Shape         Param #     Connected to                     \n",
            "==================================================================================================\n",
            " input_1 (InputLayer)           [(None, 600, 3)]     0           []                               \n",
            "                                                                                                  \n",
            " input_2 (InputLayer)           [(None, 600, 3)]     0           []                               \n",
            "                                                                                                  \n",
            " conv1d (Conv1D)                (None, 599, 128)     896         ['input_1[0][0]']                \n",
            "                                                                                                  \n",
            " conv1d_3 (Conv1D)              (None, 599, 128)     896         ['input_2[0][0]']                \n",
            "                                                                                                  \n",
            " batch_normalization (BatchNorm  (None, 599, 128)    512         ['conv1d[0][0]']                 \n",
            " alization)                                                                                       \n",
            "                                                                                                  \n",
            " batch_normalization_3 (BatchNo  (None, 599, 128)    512         ['conv1d_3[0][0]']               \n",
            " rmalization)                                                                                     \n",
            "                                                                                                  \n",
            " activation (Activation)        (None, 599, 128)     0           ['batch_normalization[0][0]']    \n",
            "                                                                                                  \n",
            " activation_3 (Activation)      (None, 599, 128)     0           ['batch_normalization_3[0][0]']  \n",
            "                                                                                                  \n",
            " max_pooling1d (MaxPooling1D)   (None, 299, 128)     0           ['activation[0][0]']             \n",
            "                                                                                                  \n",
            " max_pooling1d_3 (MaxPooling1D)  (None, 299, 128)    0           ['activation_3[0][0]']           \n",
            "                                                                                                  \n",
            " conv1d_1 (Conv1D)              (None, 298, 256)     65792       ['max_pooling1d[0][0]']          \n",
            "                                                                                                  \n",
            " conv1d_4 (Conv1D)              (None, 298, 256)     65792       ['max_pooling1d_3[0][0]']        \n",
            "                                                                                                  \n",
            " batch_normalization_1 (BatchNo  (None, 298, 256)    1024        ['conv1d_1[0][0]']               \n",
            " rmalization)                                                                                     \n",
            "                                                                                                  \n",
            " batch_normalization_4 (BatchNo  (None, 298, 256)    1024        ['conv1d_4[0][0]']               \n",
            " rmalization)                                                                                     \n",
            "                                                                                                  \n",
            " activation_1 (Activation)      (None, 298, 256)     0           ['batch_normalization_1[0][0]']  \n",
            "                                                                                                  \n",
            " activation_4 (Activation)      (None, 298, 256)     0           ['batch_normalization_4[0][0]']  \n",
            "                                                                                                  \n",
            " max_pooling1d_1 (MaxPooling1D)  (None, 149, 256)    0           ['activation_1[0][0]']           \n",
            "                                                                                                  \n",
            " max_pooling1d_4 (MaxPooling1D)  (None, 149, 256)    0           ['activation_4[0][0]']           \n",
            "                                                                                                  \n",
            " conv1d_2 (Conv1D)              (None, 148, 384)     196992      ['max_pooling1d_1[0][0]']        \n",
            "                                                                                                  \n",
            " conv1d_5 (Conv1D)              (None, 148, 384)     196992      ['max_pooling1d_4[0][0]']        \n",
            "                                                                                                  \n",
            " batch_normalization_2 (BatchNo  (None, 148, 384)    1536        ['conv1d_2[0][0]']               \n",
            " rmalization)                                                                                     \n",
            "                                                                                                  \n",
            " batch_normalization_5 (BatchNo  (None, 148, 384)    1536        ['conv1d_5[0][0]']               \n",
            " rmalization)                                                                                     \n",
            "                                                                                                  \n",
            " activation_2 (Activation)      (None, 148, 384)     0           ['batch_normalization_2[0][0]']  \n",
            "                                                                                                  \n",
            " activation_5 (Activation)      (None, 148, 384)     0           ['batch_normalization_5[0][0]']  \n",
            "                                                                                                  \n",
            " max_pooling1d_2 (MaxPooling1D)  (None, 74, 384)     0           ['activation_2[0][0]']           \n",
            "                                                                                                  \n",
            " max_pooling1d_5 (MaxPooling1D)  (None, 74, 384)     0           ['activation_5[0][0]']           \n",
            "                                                                                                  \n",
            " lstm (LSTM)                    (None, 64)           114944      ['max_pooling1d_2[0][0]']        \n",
            "                                                                                                  \n",
            " lstm_1 (LSTM)                  (None, 64)           114944      ['max_pooling1d_5[0][0]']        \n",
            "                                                                                                  \n",
            " concatenate (Concatenate)      (None, 128)          0           ['lstm[0][0]',                   \n",
            "                                                                  'lstm_1[0][0]']                 \n",
            "                                                                                                  \n",
            " flatten (Flatten)              (None, 128)          0           ['concatenate[0][0]']            \n",
            "                                                                                                  \n",
            " dense (Dense)                  (None, 61)           7869        ['flatten[0][0]']                \n",
            "                                                                                                  \n",
            "==================================================================================================\n",
            "Total params: 771,261\n",
            "Trainable params: 768,189\n",
            "Non-trainable params: 3,072\n",
            "__________________________________________________________________________________________________\n",
            "Epoch 1/50\n",
            "53/53 [==============================] - ETA: 0s - loss: 2.6279 - acc: 0.3613\n",
            "Epoch 00001: val_loss improved from inf to 2.37023, saving model to best_model.h5\n",
            "53/53 [==============================] - 23s 115ms/step - loss: 2.6279 - acc: 0.3613 - val_loss: 2.3702 - val_acc: 0.4681\n",
            "Epoch 2/50\n",
            "52/53 [============================>.] - ETA: 0s - loss: 1.7716 - acc: 0.5252\n",
            "Epoch 00002: val_loss did not improve from 2.37023\n",
            "53/53 [==============================] - 5s 90ms/step - loss: 1.7713 - acc: 0.5247 - val_loss: 2.5039 - val_acc: 0.3511\n",
            "Epoch 3/50\n",
            "52/53 [============================>.] - ETA: 0s - loss: 1.4989 - acc: 0.5759\n",
            "Epoch 00003: val_loss improved from 2.37023 to 2.09162, saving model to best_model.h5\n",
            "53/53 [==============================] - 5s 92ms/step - loss: 1.4988 - acc: 0.5761 - val_loss: 2.0916 - val_acc: 0.4617\n",
            "Epoch 4/50\n",
            "52/53 [============================>.] - ETA: 0s - loss: 1.3003 - acc: 0.6238\n",
            "Epoch 00004: val_loss improved from 2.09162 to 1.62105, saving model to best_model.h5\n",
            "53/53 [==============================] - 5s 92ms/step - loss: 1.2994 - acc: 0.6239 - val_loss: 1.6211 - val_acc: 0.5447\n",
            "Epoch 5/50\n",
            "52/53 [============================>.] - ETA: 0s - loss: 1.1240 - acc: 0.6777\n",
            "Epoch 00005: val_loss improved from 1.62105 to 1.40882, saving model to best_model.h5\n",
            "53/53 [==============================] - 5s 92ms/step - loss: 1.1221 - acc: 0.6781 - val_loss: 1.4088 - val_acc: 0.6170\n",
            "Epoch 6/50\n",
            "52/53 [============================>.] - ETA: 0s - loss: 1.0222 - acc: 0.6988\n",
            "Epoch 00006: val_loss improved from 1.40882 to 1.30957, saving model to best_model.h5\n",
            "53/53 [==============================] - 5s 93ms/step - loss: 1.0231 - acc: 0.6987 - val_loss: 1.3096 - val_acc: 0.6404\n",
            "Epoch 7/50\n",
            "52/53 [============================>.] - ETA: 0s - loss: 0.9476 - acc: 0.7195\n",
            "Epoch 00007: val_loss improved from 1.30957 to 1.12234, saving model to best_model.h5\n",
            "53/53 [==============================] - 5s 93ms/step - loss: 0.9468 - acc: 0.7192 - val_loss: 1.1223 - val_acc: 0.6809\n",
            "Epoch 8/50\n",
            "52/53 [============================>.] - ETA: 0s - loss: 0.8428 - acc: 0.7557\n",
            "Epoch 00008: val_loss improved from 1.12234 to 1.02253, saving model to best_model.h5\n",
            "53/53 [==============================] - 5s 93ms/step - loss: 0.8435 - acc: 0.7554 - val_loss: 1.0225 - val_acc: 0.6894\n",
            "Epoch 9/50\n",
            "53/53 [==============================] - ETA: 0s - loss: 0.7823 - acc: 0.7727\n",
            "Epoch 00009: val_loss improved from 1.02253 to 0.97553, saving model to best_model.h5\n",
            "53/53 [==============================] - 5s 93ms/step - loss: 0.7823 - acc: 0.7727 - val_loss: 0.9755 - val_acc: 0.7021\n",
            "Epoch 10/50\n",
            "53/53 [==============================] - ETA: 0s - loss: 0.7090 - acc: 0.7909\n",
            "Epoch 00010: val_loss improved from 0.97553 to 0.94051, saving model to best_model.h5\n",
            "53/53 [==============================] - 5s 94ms/step - loss: 0.7090 - acc: 0.7909 - val_loss: 0.9405 - val_acc: 0.7128\n",
            "Epoch 11/50\n",
            "53/53 [==============================] - ETA: 0s - loss: 0.6641 - acc: 0.8022\n",
            "Epoch 00011: val_loss improved from 0.94051 to 0.87938, saving model to best_model.h5\n",
            "53/53 [==============================] - 5s 94ms/step - loss: 0.6641 - acc: 0.8022 - val_loss: 0.8794 - val_acc: 0.7404\n",
            "Epoch 12/50\n",
            "53/53 [==============================] - ETA: 0s - loss: 0.6279 - acc: 0.8138\n",
            "Epoch 00012: val_loss improved from 0.87938 to 0.87182, saving model to best_model.h5\n",
            "53/53 [==============================] - 5s 94ms/step - loss: 0.6279 - acc: 0.8138 - val_loss: 0.8718 - val_acc: 0.7340\n",
            "Epoch 13/50\n",
            "52/53 [============================>.] - ETA: 0s - loss: 0.5662 - acc: 0.8407\n",
            "Epoch 00013: val_loss improved from 0.87182 to 0.84050, saving model to best_model.h5\n",
            "53/53 [==============================] - 5s 94ms/step - loss: 0.5674 - acc: 0.8397 - val_loss: 0.8405 - val_acc: 0.7489\n",
            "Epoch 14/50\n",
            "52/53 [============================>.] - ETA: 0s - loss: 0.5280 - acc: 0.8541\n",
            "Epoch 00014: val_loss improved from 0.84050 to 0.81507, saving model to best_model.h5\n",
            "53/53 [==============================] - 5s 95ms/step - loss: 0.5289 - acc: 0.8536 - val_loss: 0.8151 - val_acc: 0.7532\n",
            "Epoch 15/50\n",
            "53/53 [==============================] - ETA: 0s - loss: 0.4832 - acc: 0.8619\n",
            "Epoch 00015: val_loss did not improve from 0.81507\n",
            "53/53 [==============================] - 5s 93ms/step - loss: 0.4832 - acc: 0.8619 - val_loss: 0.8218 - val_acc: 0.7489\n",
            "Epoch 16/50\n",
            "52/53 [============================>.] - ETA: 0s - loss: 0.4701 - acc: 0.8685\n",
            "Epoch 00016: val_loss did not improve from 0.81507\n",
            "53/53 [==============================] - 5s 93ms/step - loss: 0.4698 - acc: 0.8685 - val_loss: 0.8483 - val_acc: 0.7255\n",
            "Epoch 17/50\n",
            "53/53 [==============================] - ETA: 0s - loss: 0.4163 - acc: 0.8865\n",
            "Epoch 00017: val_loss improved from 0.81507 to 0.80031, saving model to best_model.h5\n",
            "53/53 [==============================] - 5s 95ms/step - loss: 0.4163 - acc: 0.8865 - val_loss: 0.8003 - val_acc: 0.7596\n",
            "Epoch 18/50\n",
            "53/53 [==============================] - ETA: 0s - loss: 0.4045 - acc: 0.8905\n",
            "Epoch 00018: val_loss did not improve from 0.80031\n",
            "53/53 [==============================] - 5s 93ms/step - loss: 0.4045 - acc: 0.8905 - val_loss: 0.8755 - val_acc: 0.7447\n",
            "Epoch 19/50\n",
            "53/53 [==============================] - ETA: 0s - loss: 0.3958 - acc: 0.8929\n",
            "Epoch 00019: val_loss did not improve from 0.80031\n",
            "53/53 [==============================] - 5s 94ms/step - loss: 0.3958 - acc: 0.8929 - val_loss: 0.8513 - val_acc: 0.7340\n",
            "Epoch 20/50\n",
            "53/53 [==============================] - ETA: 0s - loss: 0.3506 - acc: 0.9027\n",
            "Epoch 00020: val_loss improved from 0.80031 to 0.79914, saving model to best_model.h5\n",
            "53/53 [==============================] - 5s 97ms/step - loss: 0.3506 - acc: 0.9027 - val_loss: 0.7991 - val_acc: 0.7681\n",
            "Epoch 21/50\n",
            "53/53 [==============================] - ETA: 0s - loss: 0.3289 - acc: 0.9063\n",
            "Epoch 00021: val_loss did not improve from 0.79914\n",
            "53/53 [==============================] - 5s 94ms/step - loss: 0.3289 - acc: 0.9063 - val_loss: 0.8754 - val_acc: 0.7362\n",
            "Epoch 22/50\n",
            "53/53 [==============================] - ETA: 0s - loss: 0.2999 - acc: 0.9205\n",
            "Epoch 00022: val_loss improved from 0.79914 to 0.79553, saving model to best_model.h5\n",
            "53/53 [==============================] - 5s 97ms/step - loss: 0.2999 - acc: 0.9205 - val_loss: 0.7955 - val_acc: 0.7638\n",
            "Epoch 23/50\n",
            "53/53 [==============================] - ETA: 0s - loss: 0.3137 - acc: 0.9163\n",
            "Epoch 00023: val_loss did not improve from 0.79553\n",
            "53/53 [==============================] - 5s 94ms/step - loss: 0.3137 - acc: 0.9163 - val_loss: 0.8149 - val_acc: 0.7447\n",
            "Epoch 24/50\n",
            "53/53 [==============================] - ETA: 0s - loss: 0.3183 - acc: 0.9129\n",
            "Epoch 00024: val_loss improved from 0.79553 to 0.79484, saving model to best_model.h5\n",
            "53/53 [==============================] - 5s 96ms/step - loss: 0.3183 - acc: 0.9129 - val_loss: 0.7948 - val_acc: 0.7638\n",
            "Epoch 25/50\n",
            "53/53 [==============================] - ETA: 0s - loss: 0.2787 - acc: 0.9254\n",
            "Epoch 00025: val_loss did not improve from 0.79484\n",
            "53/53 [==============================] - 5s 94ms/step - loss: 0.2787 - acc: 0.9254 - val_loss: 0.8008 - val_acc: 0.7617\n",
            "Epoch 26/50\n",
            "52/53 [============================>.] - ETA: 0s - loss: 0.2590 - acc: 0.9324\n",
            "Epoch 00026: val_loss did not improve from 0.79484\n",
            "53/53 [==============================] - 5s 94ms/step - loss: 0.2594 - acc: 0.9321 - val_loss: 0.8416 - val_acc: 0.7191\n",
            "Epoch 27/50\n",
            "52/53 [============================>.] - ETA: 0s - loss: 0.2474 - acc: 0.9348\n",
            "Epoch 00027: val_loss did not improve from 0.79484\n",
            "53/53 [==============================] - 5s 94ms/step - loss: 0.2468 - acc: 0.9354 - val_loss: 0.8057 - val_acc: 0.7617\n",
            "Epoch 28/50\n",
            "53/53 [==============================] - ETA: 0s - loss: 0.2213 - acc: 0.9449\n",
            "Epoch 00028: val_loss did not improve from 0.79484\n",
            "53/53 [==============================] - 5s 94ms/step - loss: 0.2213 - acc: 0.9449 - val_loss: 0.8065 - val_acc: 0.7681\n",
            "Epoch 29/50\n",
            "53/53 [==============================] - ETA: 0s - loss: 0.2025 - acc: 0.9504\n",
            "Epoch 00029: val_loss did not improve from 0.79484\n",
            "53/53 [==============================] - 5s 94ms/step - loss: 0.2025 - acc: 0.9504 - val_loss: 0.8312 - val_acc: 0.7553\n",
            "Epoch 00029: early stopping\n"
          ]
        }
      ]
    },
    {
      "cell_type": "markdown",
      "source": [
        "##### Visualization \n",
        "Epoch와 오차(Loss)간 관게 "
      ],
      "metadata": {
        "id": "utmo15JjS7Cu"
      }
    },
    {
      "cell_type": "code",
      "source": [
        "y_vloss = history.history['val_loss']\n",
        "y_loss = history.history['loss']\n",
        "x_len = np.arange(len(y_loss))\n",
        "plt.plot(x_len, y_vloss, marker='.', c='red', label=\"Validation-set Loss\")\n",
        "plt.plot(x_len, y_loss, marker='.', c='blue', label=\"Train-set Loss\")\n",
        "plt.legend(loc='upper right')\n",
        "plt.grid()\n",
        "plt.xlabel('epoch')\n",
        "plt.ylabel('loss')\n",
        "plt.show()"
      ],
      "metadata": {
        "colab": {
          "base_uri": "https://localhost:8080/",
          "height": 279
        },
        "id": "Ig0cqBPoSpln",
        "outputId": "53b2d8ca-9a27-4dad-96ec-5bdaf85fe820"
      },
      "execution_count": 118,
      "outputs": [
        {
          "output_type": "display_data",
          "data": {
            "image/png": "[encoded data removed]",
            "text/plain": [
              "<Figure size 432x288 with 1 Axes>"
            ]
          },
          "metadata": {
            "needs_background": "light"
          }
        }
      ]
    },
    {
      "cell_type": "code",
      "metadata": {
        "colab": {
          "base_uri": "https://localhost:8080/",
          "height": 1000
        },
        "id": "wrMu507_runn",
        "outputId": "b3d7d163-b910-48b8-cdbc-5a668c9adace"
      },
      "source": [
        "plot_model(final_model, to_file='/content/model.png') ## model structure"
      ],
      "execution_count": 110,
      "outputs": [
        {
          "output_type": "execute_result",
          "data": {
            "image/png": "[encoded data removed]",
            "text/plain": [
              "<IPython.core.display.Image object>"
            ]
          },
          "metadata": {},
          "execution_count": 110
        }
      ]
    },
    {
      "cell_type": "code",
      "metadata": {
        "id": "TkETXvuAR8M9"
      },
      "source": [
        "final_model.load_weights('/content/best_model.h5') ##best_model weight load\n",
        "y_pred=final_model.predict([X_test_acc,X_test_gy])"
      ],
      "execution_count": 111,
      "outputs": []
    },
    {
      "cell_type": "code",
      "source": [
        "#plot the 100 actual and predicted values of PRES.\n",
        "plt.figure(figsize=(10, 10))\n",
        "#plt.plot(range(100), df_val['pm2.5'].loc[7:106], linestyle='-', marker='*', color='r') \n",
        "plt.plot(range(100), y_pred[:100], linestyle='-', marker='.', color='skyblue')\n",
        "plt.legend(['Predicted'], loc=2)\n",
        "plt.title('Predicted')\n",
        "plt.ylabel('PRES')\n",
        "plt.xlabel('time')"
      ],
      "metadata": {
        "colab": {
          "base_uri": "https://localhost:8080/",
          "height": 638
        },
        "id": "cbUfFh_vRy1X",
        "outputId": "b92340a6-f334-4e9a-a2af-89587bb8dbab"
      },
      "execution_count": 115,
      "outputs": [
        {
          "output_type": "execute_result",
          "data": {
            "text/plain": [
              "Text(0.5, 0, 'time')"
            ]
          },
          "metadata": {},
          "execution_count": 115
        },
        {
          "output_type": "display_data",
          "data": {
            "image/png": "[encoded data removed]",
            "text/plain": [
              "<Figure size 720x720 with 1 Axes>"
            ]
          },
          "metadata": {
            "needs_background": "light"
          }
        }
      ]
    }
  ]
}