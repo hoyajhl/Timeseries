{
  "nbformat": 4,
  "nbformat_minor": 0,
  "metadata": {
    "colab": {
      "name": "gru_timeseries",
      "provenance": [],
      "collapsed_sections": []
    },
    "kernelspec": {
      "name": "python3",
      "display_name": "Python 3"
    },
    "language_info": {
      "name": "python"
    }
  },
  "cells": [
    {
      "cell_type": "code",
      "execution_count": 1,
      "metadata": {
        "colab": {
          "base_uri": "https://localhost:8080/"
        },
        "id": "ank_FfeqQibr",
        "outputId": "0f617de2-bc93-4edd-b452-28c98b1231ae"
      },
      "outputs": [
        {
          "output_type": "stream",
          "name": "stderr",
          "text": [
            "/usr/local/lib/python3.7/dist-packages/statsmodels/tools/_testing.py:19: FutureWarning: pandas.util.testing is deprecated. Use the functions in the public API at pandas.testing instead.\n",
            "  import pandas.util.testing as tm\n"
          ]
        }
      ],
      "source": [
        "from __future__ import print_function\n",
        "import os\n",
        "import sys\n",
        "import pandas as pd\n",
        "import numpy as np\n",
        "%matplotlib inline\n",
        "from matplotlib import pyplot as plt\n",
        "import seaborn as sns\n",
        "import datetime"
      ]
    },
    {
      "cell_type": "code",
      "source": [
        "pip install seaborn==0.9.0"
      ],
      "metadata": {
        "colab": {
          "base_uri": "https://localhost:8080/",
          "height": 454
        },
        "id": "krV5xWDTI1ZH",
        "outputId": "bcbefc03-95bd-4f2f-cc3b-e1a2b0c8899d"
      },
      "execution_count": 25,
      "outputs": [
        {
          "output_type": "stream",
          "name": "stdout",
          "text": [
            "Collecting seaborn==0.9.0\n",
            "  Downloading seaborn-0.9.0-py3-none-any.whl (208 kB)\n",
            "\u001b[?25l\r\u001b[K     |█▋                              | 10 kB 11.1 MB/s eta 0:00:01\r\u001b[K     |███▏                            | 20 kB 10.3 MB/s eta 0:00:01\r\u001b[K     |████▊                           | 30 kB 8.4 MB/s eta 0:00:01\r\u001b[K     |██████▎                         | 40 kB 7.7 MB/s eta 0:00:01\r\u001b[K     |███████▉                        | 51 kB 7.3 MB/s eta 0:00:01\r\u001b[K     |█████████▌                      | 61 kB 7.9 MB/s eta 0:00:01\r\u001b[K     |███████████                     | 71 kB 7.6 MB/s eta 0:00:01\r\u001b[K     |████████████▋                   | 81 kB 8.5 MB/s eta 0:00:01\r\u001b[K     |██████████████▏                 | 92 kB 7.9 MB/s eta 0:00:01\r\u001b[K     |███████████████▊                | 102 kB 7.7 MB/s eta 0:00:01\r\u001b[K     |█████████████████▎              | 112 kB 7.7 MB/s eta 0:00:01\r\u001b[K     |███████████████████             | 122 kB 7.7 MB/s eta 0:00:01\r\u001b[K     |████████████████████▌           | 133 kB 7.7 MB/s eta 0:00:01\r\u001b[K     |██████████████████████          | 143 kB 7.7 MB/s eta 0:00:01\r\u001b[K     |███████████████████████▋        | 153 kB 7.7 MB/s eta 0:00:01\r\u001b[K     |█████████████████████████▏      | 163 kB 7.7 MB/s eta 0:00:01\r\u001b[K     |██████████████████████████▊     | 174 kB 7.7 MB/s eta 0:00:01\r\u001b[K     |████████████████████████████▍   | 184 kB 7.7 MB/s eta 0:00:01\r\u001b[K     |██████████████████████████████  | 194 kB 7.7 MB/s eta 0:00:01\r\u001b[K     |███████████████████████████████▌| 204 kB 7.7 MB/s eta 0:00:01\r\u001b[K     |████████████████████████████████| 208 kB 7.7 MB/s \n",
            "\u001b[?25hRequirement already satisfied: scipy>=0.14.0 in /usr/local/lib/python3.7/dist-packages (from seaborn==0.9.0) (1.4.1)\n",
            "Requirement already satisfied: numpy>=1.9.3 in /usr/local/lib/python3.7/dist-packages (from seaborn==0.9.0) (1.19.5)\n",
            "Requirement already satisfied: pandas>=0.15.2 in /usr/local/lib/python3.7/dist-packages (from seaborn==0.9.0) (1.1.5)\n",
            "Requirement already satisfied: matplotlib>=1.4.3 in /usr/local/lib/python3.7/dist-packages (from seaborn==0.9.0) (3.2.2)\n",
            "Requirement already satisfied: cycler>=0.10 in /usr/local/lib/python3.7/dist-packages (from matplotlib>=1.4.3->seaborn==0.9.0) (0.11.0)\n",
            "Requirement already satisfied: kiwisolver>=1.0.1 in /usr/local/lib/python3.7/dist-packages (from matplotlib>=1.4.3->seaborn==0.9.0) (1.3.2)\n",
            "Requirement already satisfied: pyparsing!=2.0.4,!=2.1.2,!=2.1.6,>=2.0.1 in /usr/local/lib/python3.7/dist-packages (from matplotlib>=1.4.3->seaborn==0.9.0) (3.0.6)\n",
            "Requirement already satisfied: python-dateutil>=2.1 in /usr/local/lib/python3.7/dist-packages (from matplotlib>=1.4.3->seaborn==0.9.0) (2.8.2)\n",
            "Requirement already satisfied: pytz>=2017.2 in /usr/local/lib/python3.7/dist-packages (from pandas>=0.15.2->seaborn==0.9.0) (2018.9)\n",
            "Requirement already satisfied: six>=1.5 in /usr/local/lib/python3.7/dist-packages (from python-dateutil>=2.1->matplotlib>=1.4.3->seaborn==0.9.0) (1.15.0)\n",
            "Installing collected packages: seaborn\n",
            "  Attempting uninstall: seaborn\n",
            "    Found existing installation: seaborn 0.11.2\n",
            "    Uninstalling seaborn-0.11.2:\n",
            "      Successfully uninstalled seaborn-0.11.2\n",
            "Successfully installed seaborn-0.9.0\n"
          ]
        },
        {
          "output_type": "display_data",
          "data": {
            "application/vnd.colab-display-data+json": {
              "pip_warning": {
                "packages": [
                  "seaborn"
                ]
              }
            }
          },
          "metadata": {}
        }
      ]
    },
    {
      "cell_type": "code",
      "source": [
        "#Read the dataset into a pandas.DataFrame\n",
        "df = pd.read_csv('PRSA_data_2010.1.1-2014.12.31.csv')"
      ],
      "metadata": {
        "id": "Ft5huFyDRB8v"
      },
      "execution_count": 2,
      "outputs": []
    },
    {
      "cell_type": "code",
      "source": [
        "print('Shape of the dataframe:', df.shape)"
      ],
      "metadata": {
        "colab": {
          "base_uri": "https://localhost:8080/"
        },
        "id": "BKJ3l5mARQQj",
        "outputId": "5613bdca-dd53-4590-8ef2-ff993196ba9c"
      },
      "execution_count": 3,
      "outputs": [
        {
          "output_type": "stream",
          "name": "stdout",
          "text": [
            "Shape of the dataframe: (43824, 13)\n"
          ]
        }
      ]
    },
    {
      "cell_type": "code",
      "source": [
        "#Let's see the first five rows of the DataFrame\n",
        "df.head()"
      ],
      "metadata": {
        "colab": {
          "base_uri": "https://localhost:8080/",
          "height": 206
        },
        "id": "ee5U9mTVSKMu",
        "outputId": "43aac8d8-27d9-4d7f-855d-988666dedfa4"
      },
      "execution_count": 4,
      "outputs": [
        {
          "output_type": "execute_result",
          "data": {
            "text/html": [
              "\n",
              "  <div id=\"df-c7c0ec2f-f62e-4584-8263-5b36cbdeb881\">\n",
              "    <div class=\"colab-df-container\">\n",
              "      <div>\n",
              "<style scoped>\n",
              "    .dataframe tbody tr th:only-of-type {\n",
              "        vertical-align: middle;\n",
              "    }\n",
              "\n",
              "    .dataframe tbody tr th {\n",
              "        vertical-align: top;\n",
              "    }\n",
              "\n",
              "    .dataframe thead th {\n",
              "        text-align: right;\n",
              "    }\n",
              "</style>\n",
              "<table border=\"1\" class=\"dataframe\">\n",
              "  <thead>\n",
              "    <tr style=\"text-align: right;\">\n",
              "      <th></th>\n",
              "      <th>No</th>\n",
              "      <th>year</th>\n",
              "      <th>month</th>\n",
              "      <th>day</th>\n",
              "      <th>hour</th>\n",
              "      <th>pm2.5</th>\n",
              "      <th>DEWP</th>\n",
              "      <th>TEMP</th>\n",
              "      <th>PRES</th>\n",
              "      <th>cbwd</th>\n",
              "      <th>Iws</th>\n",
              "      <th>Is</th>\n",
              "      <th>Ir</th>\n",
              "    </tr>\n",
              "  </thead>\n",
              "  <tbody>\n",
              "    <tr>\n",
              "      <th>0</th>\n",
              "      <td>1</td>\n",
              "      <td>2010</td>\n",
              "      <td>1</td>\n",
              "      <td>1</td>\n",
              "      <td>0</td>\n",
              "      <td>NaN</td>\n",
              "      <td>-21</td>\n",
              "      <td>-11.0</td>\n",
              "      <td>1021.0</td>\n",
              "      <td>NW</td>\n",
              "      <td>1.79</td>\n",
              "      <td>0</td>\n",
              "      <td>0</td>\n",
              "    </tr>\n",
              "    <tr>\n",
              "      <th>1</th>\n",
              "      <td>2</td>\n",
              "      <td>2010</td>\n",
              "      <td>1</td>\n",
              "      <td>1</td>\n",
              "      <td>1</td>\n",
              "      <td>NaN</td>\n",
              "      <td>-21</td>\n",
              "      <td>-12.0</td>\n",
              "      <td>1020.0</td>\n",
              "      <td>NW</td>\n",
              "      <td>4.92</td>\n",
              "      <td>0</td>\n",
              "      <td>0</td>\n",
              "    </tr>\n",
              "    <tr>\n",
              "      <th>2</th>\n",
              "      <td>3</td>\n",
              "      <td>2010</td>\n",
              "      <td>1</td>\n",
              "      <td>1</td>\n",
              "      <td>2</td>\n",
              "      <td>NaN</td>\n",
              "      <td>-21</td>\n",
              "      <td>-11.0</td>\n",
              "      <td>1019.0</td>\n",
              "      <td>NW</td>\n",
              "      <td>6.71</td>\n",
              "      <td>0</td>\n",
              "      <td>0</td>\n",
              "    </tr>\n",
              "    <tr>\n",
              "      <th>3</th>\n",
              "      <td>4</td>\n",
              "      <td>2010</td>\n",
              "      <td>1</td>\n",
              "      <td>1</td>\n",
              "      <td>3</td>\n",
              "      <td>NaN</td>\n",
              "      <td>-21</td>\n",
              "      <td>-14.0</td>\n",
              "      <td>1019.0</td>\n",
              "      <td>NW</td>\n",
              "      <td>9.84</td>\n",
              "      <td>0</td>\n",
              "      <td>0</td>\n",
              "    </tr>\n",
              "    <tr>\n",
              "      <th>4</th>\n",
              "      <td>5</td>\n",
              "      <td>2010</td>\n",
              "      <td>1</td>\n",
              "      <td>1</td>\n",
              "      <td>4</td>\n",
              "      <td>NaN</td>\n",
              "      <td>-20</td>\n",
              "      <td>-12.0</td>\n",
              "      <td>1018.0</td>\n",
              "      <td>NW</td>\n",
              "      <td>12.97</td>\n",
              "      <td>0</td>\n",
              "      <td>0</td>\n",
              "    </tr>\n",
              "  </tbody>\n",
              "</table>\n",
              "</div>\n",
              "      <button class=\"colab-df-convert\" onclick=\"convertToInteractive('df-c7c0ec2f-f62e-4584-8263-5b36cbdeb881')\"\n",
              "              title=\"Convert this dataframe to an interactive table.\"\n",
              "              style=\"display:none;\">\n",
              "        \n",
              "  <svg xmlns=\"http://www.w3.org/2000/svg\" height=\"24px\"viewBox=\"0 0 24 24\"\n",
              "       width=\"24px\">\n",
              "    <path d=\"M0 0h24v24H0V0z\" fill=\"none\"/>\n",
              "    <path d=\"M18.56 5.44l.94 2.06.94-2.06 2.06-.94-2.06-.94-.94-2.06-.94 2.06-2.06.94zm-11 1L8.5 8.5l.94-2.06 2.06-.94-2.06-.94L8.5 2.5l-.94 2.06-2.06.94zm10 10l.94 2.06.94-2.06 2.06-.94-2.06-.94-.94-2.06-.94 2.06-2.06.94z\"/><path d=\"M17.41 7.96l-1.37-1.37c-.4-.4-.92-.59-1.43-.59-.52 0-1.04.2-1.43.59L10.3 9.45l-7.72 7.72c-.78.78-.78 2.05 0 2.83L4 21.41c.39.39.9.59 1.41.59.51 0 1.02-.2 1.41-.59l7.78-7.78 2.81-2.81c.8-.78.8-2.07 0-2.86zM5.41 20L4 18.59l7.72-7.72 1.47 1.35L5.41 20z\"/>\n",
              "  </svg>\n",
              "      </button>\n",
              "      \n",
              "  <style>\n",
              "    .colab-df-container {\n",
              "      display:flex;\n",
              "      flex-wrap:wrap;\n",
              "      gap: 12px;\n",
              "    }\n",
              "\n",
              "    .colab-df-convert {\n",
              "      background-color: #E8F0FE;\n",
              "      border: none;\n",
              "      border-radius: 50%;\n",
              "      cursor: pointer;\n",
              "      display: none;\n",
              "      fill: #1967D2;\n",
              "      height: 32px;\n",
              "      padding: 0 0 0 0;\n",
              "      width: 32px;\n",
              "    }\n",
              "\n",
              "    .colab-df-convert:hover {\n",
              "      background-color: #E2EBFA;\n",
              "      box-shadow: 0px 1px 2px rgba(60, 64, 67, 0.3), 0px 1px 3px 1px rgba(60, 64, 67, 0.15);\n",
              "      fill: #174EA6;\n",
              "    }\n",
              "\n",
              "    [theme=dark] .colab-df-convert {\n",
              "      background-color: #3B4455;\n",
              "      fill: #D2E3FC;\n",
              "    }\n",
              "\n",
              "    [theme=dark] .colab-df-convert:hover {\n",
              "      background-color: #434B5C;\n",
              "      box-shadow: 0px 1px 3px 1px rgba(0, 0, 0, 0.15);\n",
              "      filter: drop-shadow(0px 1px 2px rgba(0, 0, 0, 0.3));\n",
              "      fill: #FFFFFF;\n",
              "    }\n",
              "  </style>\n",
              "\n",
              "      <script>\n",
              "        const buttonEl =\n",
              "          document.querySelector('#df-c7c0ec2f-f62e-4584-8263-5b36cbdeb881 button.colab-df-convert');\n",
              "        buttonEl.style.display =\n",
              "          google.colab.kernel.accessAllowed ? 'block' : 'none';\n",
              "\n",
              "        async function convertToInteractive(key) {\n",
              "          const element = document.querySelector('#df-c7c0ec2f-f62e-4584-8263-5b36cbdeb881');\n",
              "          const dataTable =\n",
              "            await google.colab.kernel.invokeFunction('convertToInteractive',\n",
              "                                                     [key], {});\n",
              "          if (!dataTable) return;\n",
              "\n",
              "          const docLinkHtml = 'Like what you see? Visit the ' +\n",
              "            '<a target=\"_blank\" href=https://colab.research.google.com/notebooks/data_table.ipynb>data table notebook</a>'\n",
              "            + ' to learn more about interactive tables.';\n",
              "          element.innerHTML = '';\n",
              "          dataTable['output_type'] = 'display_data';\n",
              "          await google.colab.output.renderOutput(dataTable, element);\n",
              "          const docLink = document.createElement('div');\n",
              "          docLink.innerHTML = docLinkHtml;\n",
              "          element.appendChild(docLink);\n",
              "        }\n",
              "      </script>\n",
              "    </div>\n",
              "  </div>\n",
              "  "
            ],
            "text/plain": [
              "   No  year  month  day  hour  pm2.5  DEWP  TEMP    PRES cbwd    Iws  Is  Ir\n",
              "0   1  2010      1    1     0    NaN   -21 -11.0  1021.0   NW   1.79   0   0\n",
              "1   2  2010      1    1     1    NaN   -21 -12.0  1020.0   NW   4.92   0   0\n",
              "2   3  2010      1    1     2    NaN   -21 -11.0  1019.0   NW   6.71   0   0\n",
              "3   4  2010      1    1     3    NaN   -21 -14.0  1019.0   NW   9.84   0   0\n",
              "4   5  2010      1    1     4    NaN   -20 -12.0  1018.0   NW  12.97   0   0"
            ]
          },
          "metadata": {},
          "execution_count": 4
        }
      ]
    },
    {
      "cell_type": "code",
      "source": [
        "\"\"\"\n",
        "Rows having NaN values in column pm2.5 are dropped.\n",
        "\"\"\"\n",
        "df.dropna(subset=['pm2.5'], axis=0, inplace=True)\n",
        "df.reset_index(drop=True, inplace=True)"
      ],
      "metadata": {
        "id": "1tTeJvyt9Ffg"
      },
      "execution_count": 5,
      "outputs": []
    },
    {
      "cell_type": "code",
      "source": [
        "#Let us draw a box plot to visualize the central tendency and dispersion of PRES\n",
        "plt.figure(figsize=(5.5, 5.5))\n",
        "g = sns.boxplot(df['pm2.5'])\n",
        "g.set_title('Box plot of pm2.5')"
      ],
      "metadata": {
        "colab": {
          "base_uri": "https://localhost:8080/",
          "height": 394
        },
        "id": "GqI5aGYB9MUl",
        "outputId": "a5581715-34fe-4952-fe92-28e39dec95c7"
      },
      "execution_count": 6,
      "outputs": [
        {
          "output_type": "execute_result",
          "data": {
            "text/plain": [
              "Text(0.5, 1.0, 'Box plot of pm2.5')"
            ]
          },
          "metadata": {},
          "execution_count": 6
        },
        {
          "output_type": "display_data",
          "data": {
            "image/png": "[encoded data removed]",
            "text/plain": [
              "<Figure size 396x396 with 1 Axes>"
            ]
          },
          "metadata": {
            "needs_background": "light"
          }
        }
      ]
    },
    {
      "cell_type": "code",
      "source": [
        "df['datetime'] = df[['year', 'month', 'day', 'hour']].apply(lambda row: datetime.datetime(year=row['year'], month=row['month'], day=row['day'],\n",
        "                                                                                          hour=row['hour']), axis=1)\n",
        "df.sort_values('datetime', ascending=True, inplace=True)"
      ],
      "metadata": {
        "id": "2rrLYpWonsmf"
      },
      "execution_count": 7,
      "outputs": []
    },
    {
      "cell_type": "code",
      "source": [
        "df.head()"
      ],
      "metadata": {
        "colab": {
          "base_uri": "https://localhost:8080/",
          "height": 206
        },
        "id": "y69CKtpcS5Wt",
        "outputId": "19ed795f-372e-4639-8a38-ab137cd05a16"
      },
      "execution_count": 8,
      "outputs": [
        {
          "output_type": "execute_result",
          "data": {
            "text/html": [
              "\n",
              "  <div id=\"df-1080ad32-ab7f-41f6-b608-d857f7da4b24\">\n",
              "    <div class=\"colab-df-container\">\n",
              "      <div>\n",
              "<style scoped>\n",
              "    .dataframe tbody tr th:only-of-type {\n",
              "        vertical-align: middle;\n",
              "    }\n",
              "\n",
              "    .dataframe tbody tr th {\n",
              "        vertical-align: top;\n",
              "    }\n",
              "\n",
              "    .dataframe thead th {\n",
              "        text-align: right;\n",
              "    }\n",
              "</style>\n",
              "<table border=\"1\" class=\"dataframe\">\n",
              "  <thead>\n",
              "    <tr style=\"text-align: right;\">\n",
              "      <th></th>\n",
              "      <th>No</th>\n",
              "      <th>year</th>\n",
              "      <th>month</th>\n",
              "      <th>day</th>\n",
              "      <th>hour</th>\n",
              "      <th>pm2.5</th>\n",
              "      <th>DEWP</th>\n",
              "      <th>TEMP</th>\n",
              "      <th>PRES</th>\n",
              "      <th>cbwd</th>\n",
              "      <th>Iws</th>\n",
              "      <th>Is</th>\n",
              "      <th>Ir</th>\n",
              "      <th>datetime</th>\n",
              "    </tr>\n",
              "  </thead>\n",
              "  <tbody>\n",
              "    <tr>\n",
              "      <th>0</th>\n",
              "      <td>25</td>\n",
              "      <td>2010</td>\n",
              "      <td>1</td>\n",
              "      <td>2</td>\n",
              "      <td>0</td>\n",
              "      <td>129.0</td>\n",
              "      <td>-16</td>\n",
              "      <td>-4.0</td>\n",
              "      <td>1020.0</td>\n",
              "      <td>SE</td>\n",
              "      <td>1.79</td>\n",
              "      <td>0</td>\n",
              "      <td>0</td>\n",
              "      <td>2010-01-02 00:00:00</td>\n",
              "    </tr>\n",
              "    <tr>\n",
              "      <th>1</th>\n",
              "      <td>26</td>\n",
              "      <td>2010</td>\n",
              "      <td>1</td>\n",
              "      <td>2</td>\n",
              "      <td>1</td>\n",
              "      <td>148.0</td>\n",
              "      <td>-15</td>\n",
              "      <td>-4.0</td>\n",
              "      <td>1020.0</td>\n",
              "      <td>SE</td>\n",
              "      <td>2.68</td>\n",
              "      <td>0</td>\n",
              "      <td>0</td>\n",
              "      <td>2010-01-02 01:00:00</td>\n",
              "    </tr>\n",
              "    <tr>\n",
              "      <th>2</th>\n",
              "      <td>27</td>\n",
              "      <td>2010</td>\n",
              "      <td>1</td>\n",
              "      <td>2</td>\n",
              "      <td>2</td>\n",
              "      <td>159.0</td>\n",
              "      <td>-11</td>\n",
              "      <td>-5.0</td>\n",
              "      <td>1021.0</td>\n",
              "      <td>SE</td>\n",
              "      <td>3.57</td>\n",
              "      <td>0</td>\n",
              "      <td>0</td>\n",
              "      <td>2010-01-02 02:00:00</td>\n",
              "    </tr>\n",
              "    <tr>\n",
              "      <th>3</th>\n",
              "      <td>28</td>\n",
              "      <td>2010</td>\n",
              "      <td>1</td>\n",
              "      <td>2</td>\n",
              "      <td>3</td>\n",
              "      <td>181.0</td>\n",
              "      <td>-7</td>\n",
              "      <td>-5.0</td>\n",
              "      <td>1022.0</td>\n",
              "      <td>SE</td>\n",
              "      <td>5.36</td>\n",
              "      <td>1</td>\n",
              "      <td>0</td>\n",
              "      <td>2010-01-02 03:00:00</td>\n",
              "    </tr>\n",
              "    <tr>\n",
              "      <th>4</th>\n",
              "      <td>29</td>\n",
              "      <td>2010</td>\n",
              "      <td>1</td>\n",
              "      <td>2</td>\n",
              "      <td>4</td>\n",
              "      <td>138.0</td>\n",
              "      <td>-7</td>\n",
              "      <td>-5.0</td>\n",
              "      <td>1022.0</td>\n",
              "      <td>SE</td>\n",
              "      <td>6.25</td>\n",
              "      <td>2</td>\n",
              "      <td>0</td>\n",
              "      <td>2010-01-02 04:00:00</td>\n",
              "    </tr>\n",
              "  </tbody>\n",
              "</table>\n",
              "</div>\n",
              "      <button class=\"colab-df-convert\" onclick=\"convertToInteractive('df-1080ad32-ab7f-41f6-b608-d857f7da4b24')\"\n",
              "              title=\"Convert this dataframe to an interactive table.\"\n",
              "              style=\"display:none;\">\n",
              "        \n",
              "  <svg xmlns=\"http://www.w3.org/2000/svg\" height=\"24px\"viewBox=\"0 0 24 24\"\n",
              "       width=\"24px\">\n",
              "    <path d=\"M0 0h24v24H0V0z\" fill=\"none\"/>\n",
              "    <path d=\"M18.56 5.44l.94 2.06.94-2.06 2.06-.94-2.06-.94-.94-2.06-.94 2.06-2.06.94zm-11 1L8.5 8.5l.94-2.06 2.06-.94-2.06-.94L8.5 2.5l-.94 2.06-2.06.94zm10 10l.94 2.06.94-2.06 2.06-.94-2.06-.94-.94-2.06-.94 2.06-2.06.94z\"/><path d=\"M17.41 7.96l-1.37-1.37c-.4-.4-.92-.59-1.43-.59-.52 0-1.04.2-1.43.59L10.3 9.45l-7.72 7.72c-.78.78-.78 2.05 0 2.83L4 21.41c.39.39.9.59 1.41.59.51 0 1.02-.2 1.41-.59l7.78-7.78 2.81-2.81c.8-.78.8-2.07 0-2.86zM5.41 20L4 18.59l7.72-7.72 1.47 1.35L5.41 20z\"/>\n",
              "  </svg>\n",
              "      </button>\n",
              "      \n",
              "  <style>\n",
              "    .colab-df-container {\n",
              "      display:flex;\n",
              "      flex-wrap:wrap;\n",
              "      gap: 12px;\n",
              "    }\n",
              "\n",
              "    .colab-df-convert {\n",
              "      background-color: #E8F0FE;\n",
              "      border: none;\n",
              "      border-radius: 50%;\n",
              "      cursor: pointer;\n",
              "      display: none;\n",
              "      fill: #1967D2;\n",
              "      height: 32px;\n",
              "      padding: 0 0 0 0;\n",
              "      width: 32px;\n",
              "    }\n",
              "\n",
              "    .colab-df-convert:hover {\n",
              "      background-color: #E2EBFA;\n",
              "      box-shadow: 0px 1px 2px rgba(60, 64, 67, 0.3), 0px 1px 3px 1px rgba(60, 64, 67, 0.15);\n",
              "      fill: #174EA6;\n",
              "    }\n",
              "\n",
              "    [theme=dark] .colab-df-convert {\n",
              "      background-color: #3B4455;\n",
              "      fill: #D2E3FC;\n",
              "    }\n",
              "\n",
              "    [theme=dark] .colab-df-convert:hover {\n",
              "      background-color: #434B5C;\n",
              "      box-shadow: 0px 1px 3px 1px rgba(0, 0, 0, 0.15);\n",
              "      filter: drop-shadow(0px 1px 2px rgba(0, 0, 0, 0.3));\n",
              "      fill: #FFFFFF;\n",
              "    }\n",
              "  </style>\n",
              "\n",
              "      <script>\n",
              "        const buttonEl =\n",
              "          document.querySelector('#df-1080ad32-ab7f-41f6-b608-d857f7da4b24 button.colab-df-convert');\n",
              "        buttonEl.style.display =\n",
              "          google.colab.kernel.accessAllowed ? 'block' : 'none';\n",
              "\n",
              "        async function convertToInteractive(key) {\n",
              "          const element = document.querySelector('#df-1080ad32-ab7f-41f6-b608-d857f7da4b24');\n",
              "          const dataTable =\n",
              "            await google.colab.kernel.invokeFunction('convertToInteractive',\n",
              "                                                     [key], {});\n",
              "          if (!dataTable) return;\n",
              "\n",
              "          const docLinkHtml = 'Like what you see? Visit the ' +\n",
              "            '<a target=\"_blank\" href=https://colab.research.google.com/notebooks/data_table.ipynb>data table notebook</a>'\n",
              "            + ' to learn more about interactive tables.';\n",
              "          element.innerHTML = '';\n",
              "          dataTable['output_type'] = 'display_data';\n",
              "          await google.colab.output.renderOutput(dataTable, element);\n",
              "          const docLink = document.createElement('div');\n",
              "          docLink.innerHTML = docLinkHtml;\n",
              "          element.appendChild(docLink);\n",
              "        }\n",
              "      </script>\n",
              "    </div>\n",
              "  </div>\n",
              "  "
            ],
            "text/plain": [
              "   No  year  month  day  hour  ...  cbwd   Iws  Is  Ir            datetime\n",
              "0  25  2010      1    2     0  ...    SE  1.79   0   0 2010-01-02 00:00:00\n",
              "1  26  2010      1    2     1  ...    SE  2.68   0   0 2010-01-02 01:00:00\n",
              "2  27  2010      1    2     2  ...    SE  3.57   0   0 2010-01-02 02:00:00\n",
              "3  28  2010      1    2     3  ...    SE  5.36   1   0 2010-01-02 03:00:00\n",
              "4  29  2010      1    2     4  ...    SE  6.25   2   0 2010-01-02 04:00:00\n",
              "\n",
              "[5 rows x 14 columns]"
            ]
          },
          "metadata": {},
          "execution_count": 8
        }
      ]
    },
    {
      "cell_type": "code",
      "source": [
        "#Let's plot the series for six months to check if any pattern apparently exists.\n",
        "plt.figure(figsize=(5.5, 5.5))\n",
        "g = sns.tsplot(df['pm2.5'].loc[df['datetime']<=datetime.datetime(year=2010,month=6,day=30)], color='skyblue')\n",
        "g.set_title('pm2.5 during 2010')\n",
        "g.set_xlabel('Index')\n",
        "g.set_ylabel('pm2.5 readings')\n",
        "\n",
        "#Let's zoom in on one month.\n",
        "plt.figure(figsize=(5.5, 5.5))\n",
        "g = sns.tsplot(df['pm2.5'].loc[df['datetime']<=datetime.datetime(year=2010,month=1,day=31)], color='brown')\n",
        "g.set_title('pm2.5 during Jan 2010')\n",
        "g.set_xlabel('Index')\n",
        "g.set_ylabel('pm2.5 readings')"
      ],
      "metadata": {
        "colab": {
          "base_uri": "https://localhost:8080/",
          "height": 844
        },
        "id": "qmVF1xLv9d8t",
        "outputId": "7f16c462-bc2b-414d-9347-42a395aa0ed7"
      },
      "execution_count": 9,
      "outputs": [
        {
          "output_type": "stream",
          "name": "stderr",
          "text": [
            "/usr/local/lib/python3.7/dist-packages/seaborn/timeseries.py:183: UserWarning: The `tsplot` function is deprecated and will be removed in a future release. Please update your code to use the new `lineplot` function.\n",
            "  warnings.warn(msg, UserWarning)\n",
            "/usr/local/lib/python3.7/dist-packages/seaborn/timeseries.py:183: UserWarning: The `tsplot` function is deprecated and will be removed in a future release. Please update your code to use the new `lineplot` function.\n",
            "  warnings.warn(msg, UserWarning)\n"
          ]
        },
        {
          "output_type": "execute_result",
          "data": {
            "text/plain": [
              "Text(0, 0.5, 'pm2.5 readings')"
            ]
          },
          "metadata": {},
          "execution_count": 9
        },
        {
          "output_type": "display_data",
          "data": {
            "image/png": "[encoded data removed]",
            "text/plain": [
              "<Figure size 396x396 with 1 Axes>"
            ]
          },
          "metadata": {
            "needs_background": "light"
          }
        },
        {
          "output_type": "display_data",
          "data": {
            "image/png": "[encoded data removed]",
            "text/plain": [
              "<Figure size 396x396 with 1 Axes>"
            ]
          },
          "metadata": {
            "needs_background": "light"
          }
        }
      ]
    },
    {
      "cell_type": "code",
      "source": [
        "from sklearn.preprocessing import MinMaxScaler\n",
        "scaler = MinMaxScaler(feature_range=(0, 1))\n",
        "df['scaled_PRES'] = scaler.fit_transform(np.array(df['PRES']).reshape(-1, 1))\n",
        "df['scaled_pm2.5'] = scaler.fit_transform(np.array(df['pm2.5']).reshape(-1, 1))"
      ],
      "metadata": {
        "id": "lGBMDQBwTJSq"
      },
      "execution_count": 10,
      "outputs": []
    },
    {
      "cell_type": "code",
      "source": [
        "\"\"\"\n",
        "The dataset's time period if from\n",
        "Jan 1st, 2010 to Dec 31st, 2014. The first fours years - 2010 to 2013 is used as train and\n",
        "2014 is kept for validation.\n",
        "\"\"\"\n",
        "split_date = datetime.datetime(year=2014, month=1, day=1, hour=0)\n",
        "split_date ##기준 설정"
      ],
      "metadata": {
        "colab": {
          "base_uri": "https://localhost:8080/"
        },
        "id": "puvVLWg7yVCw",
        "outputId": "e05c956a-b476-453e-8428-65d09dda6850"
      },
      "execution_count": 11,
      "outputs": [
        {
          "output_type": "execute_result",
          "data": {
            "text/plain": [
              "datetime.datetime(2014, 1, 1, 0, 0)"
            ]
          },
          "metadata": {},
          "execution_count": 11
        }
      ]
    },
    {
      "cell_type": "code",
      "source": [
        "df_train = df.loc[df['datetime']<split_date]\n",
        "df_val = df.loc[df['datetime']>=split_date]\n",
        "print('Shape of train:', df_train.shape)\n",
        "print('Shape of test:', df_val.shape)"
      ],
      "metadata": {
        "colab": {
          "base_uri": "https://localhost:8080/"
        },
        "id": "rs54YxHkyU_c",
        "outputId": "b05c1df0-ff2c-4f79-cf7e-9df932395e30"
      },
      "execution_count": 12,
      "outputs": [
        {
          "output_type": "stream",
          "name": "stdout",
          "text": [
            "Shape of train: (33096, 16)\n",
            "Shape of test: (8661, 16)\n"
          ]
        }
      ]
    },
    {
      "cell_type": "code",
      "source": [
        "#Reset the indices of the validation set\n",
        "df_val.reset_index(drop=True, inplace=True)\n",
        "df_val.head()"
      ],
      "metadata": {
        "colab": {
          "base_uri": "https://localhost:8080/",
          "height": 206
        },
        "id": "uP5q_c5dyU8g",
        "outputId": "f14a7aab-9625-4921-d503-f0ad2b09b8c3"
      },
      "execution_count": 13,
      "outputs": [
        {
          "output_type": "execute_result",
          "data": {
            "text/html": [
              "\n",
              "  <div id=\"df-3dc3b46e-16b6-4d28-b3bc-b693bf5b1d76\">\n",
              "    <div class=\"colab-df-container\">\n",
              "      <div>\n",
              "<style scoped>\n",
              "    .dataframe tbody tr th:only-of-type {\n",
              "        vertical-align: middle;\n",
              "    }\n",
              "\n",
              "    .dataframe tbody tr th {\n",
              "        vertical-align: top;\n",
              "    }\n",
              "\n",
              "    .dataframe thead th {\n",
              "        text-align: right;\n",
              "    }\n",
              "</style>\n",
              "<table border=\"1\" class=\"dataframe\">\n",
              "  <thead>\n",
              "    <tr style=\"text-align: right;\">\n",
              "      <th></th>\n",
              "      <th>No</th>\n",
              "      <th>year</th>\n",
              "      <th>month</th>\n",
              "      <th>day</th>\n",
              "      <th>hour</th>\n",
              "      <th>pm2.5</th>\n",
              "      <th>DEWP</th>\n",
              "      <th>TEMP</th>\n",
              "      <th>PRES</th>\n",
              "      <th>cbwd</th>\n",
              "      <th>Iws</th>\n",
              "      <th>Is</th>\n",
              "      <th>Ir</th>\n",
              "      <th>datetime</th>\n",
              "      <th>scaled_PRES</th>\n",
              "      <th>scaled_pm2.5</th>\n",
              "    </tr>\n",
              "  </thead>\n",
              "  <tbody>\n",
              "    <tr>\n",
              "      <th>0</th>\n",
              "      <td>35065</td>\n",
              "      <td>2014</td>\n",
              "      <td>1</td>\n",
              "      <td>1</td>\n",
              "      <td>0</td>\n",
              "      <td>24.0</td>\n",
              "      <td>-20</td>\n",
              "      <td>7.0</td>\n",
              "      <td>1014.0</td>\n",
              "      <td>NW</td>\n",
              "      <td>143.48</td>\n",
              "      <td>0</td>\n",
              "      <td>0</td>\n",
              "      <td>2014-01-01 00:00:00</td>\n",
              "      <td>0.418182</td>\n",
              "      <td>0.024145</td>\n",
              "    </tr>\n",
              "    <tr>\n",
              "      <th>1</th>\n",
              "      <td>35066</td>\n",
              "      <td>2014</td>\n",
              "      <td>1</td>\n",
              "      <td>1</td>\n",
              "      <td>1</td>\n",
              "      <td>53.0</td>\n",
              "      <td>-20</td>\n",
              "      <td>7.0</td>\n",
              "      <td>1013.0</td>\n",
              "      <td>NW</td>\n",
              "      <td>147.50</td>\n",
              "      <td>0</td>\n",
              "      <td>0</td>\n",
              "      <td>2014-01-01 01:00:00</td>\n",
              "      <td>0.400000</td>\n",
              "      <td>0.053320</td>\n",
              "    </tr>\n",
              "    <tr>\n",
              "      <th>2</th>\n",
              "      <td>35067</td>\n",
              "      <td>2014</td>\n",
              "      <td>1</td>\n",
              "      <td>1</td>\n",
              "      <td>2</td>\n",
              "      <td>65.0</td>\n",
              "      <td>-20</td>\n",
              "      <td>6.0</td>\n",
              "      <td>1013.0</td>\n",
              "      <td>NW</td>\n",
              "      <td>151.52</td>\n",
              "      <td>0</td>\n",
              "      <td>0</td>\n",
              "      <td>2014-01-01 02:00:00</td>\n",
              "      <td>0.400000</td>\n",
              "      <td>0.065392</td>\n",
              "    </tr>\n",
              "    <tr>\n",
              "      <th>3</th>\n",
              "      <td>35068</td>\n",
              "      <td>2014</td>\n",
              "      <td>1</td>\n",
              "      <td>1</td>\n",
              "      <td>3</td>\n",
              "      <td>70.0</td>\n",
              "      <td>-20</td>\n",
              "      <td>6.0</td>\n",
              "      <td>1013.0</td>\n",
              "      <td>NW</td>\n",
              "      <td>153.31</td>\n",
              "      <td>0</td>\n",
              "      <td>0</td>\n",
              "      <td>2014-01-01 03:00:00</td>\n",
              "      <td>0.400000</td>\n",
              "      <td>0.070423</td>\n",
              "    </tr>\n",
              "    <tr>\n",
              "      <th>4</th>\n",
              "      <td>35069</td>\n",
              "      <td>2014</td>\n",
              "      <td>1</td>\n",
              "      <td>1</td>\n",
              "      <td>4</td>\n",
              "      <td>79.0</td>\n",
              "      <td>-18</td>\n",
              "      <td>3.0</td>\n",
              "      <td>1012.0</td>\n",
              "      <td>cv</td>\n",
              "      <td>0.89</td>\n",
              "      <td>0</td>\n",
              "      <td>0</td>\n",
              "      <td>2014-01-01 04:00:00</td>\n",
              "      <td>0.381818</td>\n",
              "      <td>0.079477</td>\n",
              "    </tr>\n",
              "  </tbody>\n",
              "</table>\n",
              "</div>\n",
              "      <button class=\"colab-df-convert\" onclick=\"convertToInteractive('df-3dc3b46e-16b6-4d28-b3bc-b693bf5b1d76')\"\n",
              "              title=\"Convert this dataframe to an interactive table.\"\n",
              "              style=\"display:none;\">\n",
              "        \n",
              "  <svg xmlns=\"http://www.w3.org/2000/svg\" height=\"24px\"viewBox=\"0 0 24 24\"\n",
              "       width=\"24px\">\n",
              "    <path d=\"M0 0h24v24H0V0z\" fill=\"none\"/>\n",
              "    <path d=\"M18.56 5.44l.94 2.06.94-2.06 2.06-.94-2.06-.94-.94-2.06-.94 2.06-2.06.94zm-11 1L8.5 8.5l.94-2.06 2.06-.94-2.06-.94L8.5 2.5l-.94 2.06-2.06.94zm10 10l.94 2.06.94-2.06 2.06-.94-2.06-.94-.94-2.06-.94 2.06-2.06.94z\"/><path d=\"M17.41 7.96l-1.37-1.37c-.4-.4-.92-.59-1.43-.59-.52 0-1.04.2-1.43.59L10.3 9.45l-7.72 7.72c-.78.78-.78 2.05 0 2.83L4 21.41c.39.39.9.59 1.41.59.51 0 1.02-.2 1.41-.59l7.78-7.78 2.81-2.81c.8-.78.8-2.07 0-2.86zM5.41 20L4 18.59l7.72-7.72 1.47 1.35L5.41 20z\"/>\n",
              "  </svg>\n",
              "      </button>\n",
              "      \n",
              "  <style>\n",
              "    .colab-df-container {\n",
              "      display:flex;\n",
              "      flex-wrap:wrap;\n",
              "      gap: 12px;\n",
              "    }\n",
              "\n",
              "    .colab-df-convert {\n",
              "      background-color: #E8F0FE;\n",
              "      border: none;\n",
              "      border-radius: 50%;\n",
              "      cursor: pointer;\n",
              "      display: none;\n",
              "      fill: #1967D2;\n",
              "      height: 32px;\n",
              "      padding: 0 0 0 0;\n",
              "      width: 32px;\n",
              "    }\n",
              "\n",
              "    .colab-df-convert:hover {\n",
              "      background-color: #E2EBFA;\n",
              "      box-shadow: 0px 1px 2px rgba(60, 64, 67, 0.3), 0px 1px 3px 1px rgba(60, 64, 67, 0.15);\n",
              "      fill: #174EA6;\n",
              "    }\n",
              "\n",
              "    [theme=dark] .colab-df-convert {\n",
              "      background-color: #3B4455;\n",
              "      fill: #D2E3FC;\n",
              "    }\n",
              "\n",
              "    [theme=dark] .colab-df-convert:hover {\n",
              "      background-color: #434B5C;\n",
              "      box-shadow: 0px 1px 3px 1px rgba(0, 0, 0, 0.15);\n",
              "      filter: drop-shadow(0px 1px 2px rgba(0, 0, 0, 0.3));\n",
              "      fill: #FFFFFF;\n",
              "    }\n",
              "  </style>\n",
              "\n",
              "      <script>\n",
              "        const buttonEl =\n",
              "          document.querySelector('#df-3dc3b46e-16b6-4d28-b3bc-b693bf5b1d76 button.colab-df-convert');\n",
              "        buttonEl.style.display =\n",
              "          google.colab.kernel.accessAllowed ? 'block' : 'none';\n",
              "\n",
              "        async function convertToInteractive(key) {\n",
              "          const element = document.querySelector('#df-3dc3b46e-16b6-4d28-b3bc-b693bf5b1d76');\n",
              "          const dataTable =\n",
              "            await google.colab.kernel.invokeFunction('convertToInteractive',\n",
              "                                                     [key], {});\n",
              "          if (!dataTable) return;\n",
              "\n",
              "          const docLinkHtml = 'Like what you see? Visit the ' +\n",
              "            '<a target=\"_blank\" href=https://colab.research.google.com/notebooks/data_table.ipynb>data table notebook</a>'\n",
              "            + ' to learn more about interactive tables.';\n",
              "          element.innerHTML = '';\n",
              "          dataTable['output_type'] = 'display_data';\n",
              "          await google.colab.output.renderOutput(dataTable, element);\n",
              "          const docLink = document.createElement('div');\n",
              "          docLink.innerHTML = docLinkHtml;\n",
              "          element.appendChild(docLink);\n",
              "        }\n",
              "      </script>\n",
              "    </div>\n",
              "  </div>\n",
              "  "
            ],
            "text/plain": [
              "      No  year  month  day  ...  Ir            datetime  scaled_PRES  scaled_pm2.5\n",
              "0  35065  2014      1    1  ...   0 2014-01-01 00:00:00     0.418182      0.024145\n",
              "1  35066  2014      1    1  ...   0 2014-01-01 01:00:00     0.400000      0.053320\n",
              "2  35067  2014      1    1  ...   0 2014-01-01 02:00:00     0.400000      0.065392\n",
              "3  35068  2014      1    1  ...   0 2014-01-01 03:00:00     0.400000      0.070423\n",
              "4  35069  2014      1    1  ...   0 2014-01-01 04:00:00     0.381818      0.079477\n",
              "\n",
              "[5 rows x 16 columns]"
            ]
          },
          "metadata": {},
          "execution_count": 13
        }
      ]
    },
    {
      "cell_type": "code",
      "source": [
        "\"\"\"\n",
        "The train and validation time series of scaled pm2.5 is also plotted.\n",
        "\"\"\"\n",
        "\n",
        "plt.figure(figsize=(5.5, 5.5))\n",
        "g = sns.tsplot(df_train['scaled_pm2.5'], color='skyblue')\n",
        "g.set_title('Time series of scaled pm2.5 in train set')\n",
        "g.set_xlabel('Index')\n",
        "g.set_ylabel('Scaled pm2.5 readings')\n",
        "\n",
        "plt.figure(figsize=(5.5, 5.5))\n",
        "g = sns.tsplot(df_val['scaled_pm2.5'], color='brown')\n",
        "g.set_title('Time series of scaled pm2.5 in validation set')\n",
        "g.set_xlabel('Index')\n",
        "g.set_ylabel('Scaled pm2.5 readings')"
      ],
      "metadata": {
        "colab": {
          "base_uri": "https://localhost:8080/",
          "height": 844
        },
        "id": "x-IoyppR-Nnj",
        "outputId": "fb0d80c0-c929-421a-afd0-06b737b4131c"
      },
      "execution_count": 14,
      "outputs": [
        {
          "output_type": "stream",
          "name": "stderr",
          "text": [
            "/usr/local/lib/python3.7/dist-packages/seaborn/timeseries.py:183: UserWarning: The `tsplot` function is deprecated and will be removed in a future release. Please update your code to use the new `lineplot` function.\n",
            "  warnings.warn(msg, UserWarning)\n",
            "/usr/local/lib/python3.7/dist-packages/seaborn/timeseries.py:183: UserWarning: The `tsplot` function is deprecated and will be removed in a future release. Please update your code to use the new `lineplot` function.\n",
            "  warnings.warn(msg, UserWarning)\n"
          ]
        },
        {
          "output_type": "execute_result",
          "data": {
            "text/plain": [
              "Text(0, 0.5, 'Scaled pm2.5 readings')"
            ]
          },
          "metadata": {},
          "execution_count": 14
        },
        {
          "output_type": "display_data",
          "data": {
            "image/png": "[encoded data removed]",
            "text/plain": [
              "<Figure size 396x396 with 1 Axes>"
            ]
          },
          "metadata": {
            "needs_background": "light"
          }
        },
        {
          "output_type": "display_data",
          "data": {
            "image/png": "[encoded data removed]",
            "text/plain": [
              "<Figure size 396x396 with 1 Axes>"
            ]
          },
          "metadata": {
            "needs_background": "light"
          }
        }
      ]
    },
    {
      "cell_type": "markdown",
      "source": [
        "For the time series forecasting model, Past seven days of observations are used to predict for the next day,and equivalent to AR(7) model. "
      ],
      "metadata": {
        "id": "zEboyY673E4U"
      }
    },
    {
      "cell_type": "markdown",
      "source": [
        "Define a function which takes the original time series and the number of timesteps in regressors as input to generate the arrays of X and y 😊"
      ],
      "metadata": {
        "id": "1zARN5sa8U2V"
      }
    },
    {
      "cell_type": "code",
      "source": [
        "def makeXy(ts, nb_timesteps):\n",
        "    \"\"\"\n",
        "    Input: \n",
        "           ts: original time series\n",
        "           nb_timesteps: number of time steps in the regressors\n",
        "    Output: \n",
        "           X: 2-D array of regressors\n",
        "           y: 1-D array of target \n",
        "    \"\"\"\n",
        "    X = []\n",
        "    y = []\n",
        "    for i in range(nb_timesteps, ts.shape[0]):\n",
        "        X.append(list(ts.loc[i-nb_timesteps:i-1]))\n",
        "        y.append(ts.loc[i])\n",
        "    X, y = np.array(X), np.array(y)\n",
        "    return X, y"
      ],
      "metadata": {
        "id": "JxuqAqd_yU2a"
      },
      "execution_count": 51,
      "outputs": []
    },
    {
      "cell_type": "code",
      "source": [
        "X_train, y_train = makeXy(df_train['scaled_pm2.5'], 7)\n",
        "print('Shape of train arrays:', X_train.shape, y_train.shape)"
      ],
      "metadata": {
        "colab": {
          "base_uri": "https://localhost:8080/"
        },
        "id": "z7neAYQhyUsU",
        "outputId": "8ba7b28a-060f-4cce-afed-2cde5cae292b"
      },
      "execution_count": 52,
      "outputs": [
        {
          "output_type": "stream",
          "name": "stdout",
          "text": [
            "Shape of train arrays: (33089, 7) (33089,)\n"
          ]
        }
      ]
    },
    {
      "cell_type": "code",
      "source": [
        "X_val, y_val = makeXy(df_val['scaled_pm2.5'], 7)\n",
        "print('Shape of validation arrays:', X_val.shape, y_val.shape)"
      ],
      "metadata": {
        "colab": {
          "base_uri": "https://localhost:8080/"
        },
        "id": "jZZtZ7L6-3a6",
        "outputId": "8bc69809-516d-4c43-d0a8-6b1bd06d23a9"
      },
      "execution_count": 53,
      "outputs": [
        {
          "output_type": "stream",
          "name": "stdout",
          "text": [
            "Shape of validation arrays: (8654, 7) (8654,)\n"
          ]
        }
      ]
    },
    {
      "cell_type": "markdown",
      "source": [
        "The input to convolution layers must be of shape (number of samples, number of timesteps, number of features per timestep). In this case we are modeling only pm2.5 hence number of features per timestep is one. Number of timesteps is seven and number of samples is same as the number of samples in X_train and X_val, which are reshaped to 3D arrays."
      ],
      "metadata": {
        "id": "nIn9ZDCb_Dhq"
      }
    },
    {
      "cell_type": "code",
      "source": [
        "X_train.shape[0]"
      ],
      "metadata": {
        "colab": {
          "base_uri": "https://localhost:8080/"
        },
        "id": "z5v-87Fl_Tm1",
        "outputId": "e44fe3fb-37e4-4583-a6e5-6ebb74ab1df3"
      },
      "execution_count": 54,
      "outputs": [
        {
          "output_type": "execute_result",
          "data": {
            "text/plain": [
              "33089"
            ]
          },
          "metadata": {},
          "execution_count": 54
        }
      ]
    },
    {
      "cell_type": "code",
      "source": [
        "X_train.shape[1] # time lag (7일동안의 값들 list)"
      ],
      "metadata": {
        "colab": {
          "base_uri": "https://localhost:8080/"
        },
        "id": "TjBINYA2_Wti",
        "outputId": "7e23800e-ea6f-4be5-f35b-09729e3099ce"
      },
      "execution_count": 55,
      "outputs": [
        {
          "output_type": "execute_result",
          "data": {
            "text/plain": [
              "7"
            ]
          },
          "metadata": {},
          "execution_count": 55
        }
      ]
    },
    {
      "cell_type": "code",
      "source": [
        "X_train.reshape((X_train.shape[0], X_train.shape[1], 1)).shape \n",
        "## reshaped to 3d arrays \n",
        "##-shape (,,1)인 이유: considered feature only for pm2.5 variable"
      ],
      "metadata": {
        "colab": {
          "base_uri": "https://localhost:8080/"
        },
        "id": "AavshiIu_hTS",
        "outputId": "bc8db44e-d3d4-494a-b729-c14d020f772a"
      },
      "execution_count": 56,
      "outputs": [
        {
          "output_type": "execute_result",
          "data": {
            "text/plain": [
              "(33089, 7, 1)"
            ]
          },
          "metadata": {},
          "execution_count": 56
        }
      ]
    },
    {
      "cell_type": "code",
      "source": [
        "#X_train and X_val are reshaped to 3D arrays\n",
        "X_train, X_val = X_train.reshape((X_train.shape[0], X_train.shape[1], 1)),\\\n",
        "                 X_val.reshape((X_val.shape[0], X_val.shape[1], 1))\n",
        "                 \n",
        "print('Shape of arrays after reshaping:', X_train.shape, X_val.shape)"
      ],
      "metadata": {
        "colab": {
          "base_uri": "https://localhost:8080/"
        },
        "id": "LJFP8JbR-_e-",
        "outputId": "355346e4-d6af-458a-8da3-6c2b549e6e92"
      },
      "execution_count": 57,
      "outputs": [
        {
          "output_type": "stream",
          "name": "stdout",
          "text": [
            "Shape of arrays after reshaping: (33089, 7, 1) (8654, 7, 1)\n"
          ]
        }
      ]
    },
    {
      "cell_type": "markdown",
      "source": [
        "Modeling -GRU"
      ],
      "metadata": {
        "id": "4taSljbbRjD9"
      }
    },
    {
      "cell_type": "code",
      "source": [
        "from keras.layers import Dense\n",
        "from keras.layers import Input\n",
        "from keras.layers import Dropout\n",
        "from keras.layers import Flatten\n",
        "from keras.layers.convolutional import ZeroPadding1D\n",
        "from keras.layers.convolutional import Conv1D\n",
        "from keras.layers.pooling import AveragePooling1D\n",
        "from tensorflow.keras.optimizers import SGD\n",
        "from keras.models import Model\n",
        "from keras.models import load_model\n",
        "from keras.callbacks import ModelCheckpoint\n",
        "import warnings\n",
        "warnings.filterwarnings(action='ignore')\n",
        "import random\n",
        "from tqdm.notebook import tqdm\n",
        "from scipy.interpolate import CubicSpline\n",
        "from sklearn.preprocessing import LabelEncoder, StandardScaler, OneHotEncoder, RobustScaler, MinMaxScaler\n",
        "from sklearn.metrics import mean_absolute_error, log_loss\n",
        "import matplotlib.pyplot as plt\n",
        "%matplotlib inline\n",
        "import tensorflow as tf\n",
        "import keras\n",
        "from tensorflow.keras.optimizers import Adamax, Adam\n",
        "from tensorflow.keras.models import Sequential, Model,load_model\n",
        "from tensorflow.keras.layers import Permute,multiply,Add,Multiply,BatchNormalization,Dropout, Conv1D, Input, Flatten, Bidirectional, MaxPooling1D, Activation, Flatten, Dense, Dropout, BatchNormalization, LSTM, TimeDistributed, SpatialDropout1D, GaussianNoise\n",
        "from tensorflow.keras.callbacks import EarlyStopping, ModelCheckpoint\n",
        "from keras.layers.merge import concatenate\n",
        "from tensorflow.keras.utils import to_categorical, plot_model\n",
        "import pydot\n",
        "import graphviz\n",
        "## GRU package \n",
        "from keras.layers import Dense, Input, Dropout\n",
        "from keras.layers.recurrent import GRU\n",
        "from keras.models import Model\n",
        "from keras.models import load_model\n",
        "from keras.callbacks import ModelCheckpoint"
      ],
      "metadata": {
        "id": "c0rZMDrcASv8"
      },
      "execution_count": 59,
      "outputs": []
    },
    {
      "cell_type": "code",
      "source": [
        "#Define input layer which has shape (None, 7) and of type float32. None indicates the number of instances\n",
        "input_layer = Input(shape=(7,1), dtype='float32')"
      ],
      "metadata": {
        "id": "Pcf6aFP2RJ0c"
      },
      "execution_count": 60,
      "outputs": []
    },
    {
      "cell_type": "code",
      "source": [
        "#Define input layer which has shape (None, 7) and of type float32. None indicates the number of instances\n",
        "model_1_input  = Input(shape=(7,1), dtype='float32')\n",
        "model_1 = GRU(64, input_shape=(7,1), return_sequences=True,activation='tanh')(model_1_input )\n",
        "model_1 = Dropout(0.2)(model_1)\n",
        "model_1= GRU(32, input_shape=(7,64), return_sequences=True,activation='tanh')(model_1)\n",
        "model_1 = Dropout(0.2)(model_1)\n",
        "model_1= GRU(16, input_shape=(7,32), return_sequences=False,activation='tanh')(model_1)\n",
        "model_1 = Dropout(0.2)(model_1)\n",
        "output_layer = Dense(1, activation='linear')(model_1)\n",
        "final_model = Model(inputs=[model_1_input], outputs=output_layer)\n",
        "final_model.summary()"
      ],
      "metadata": {
        "colab": {
          "base_uri": "https://localhost:8080/"
        },
        "id": "dAhMZoaORJxD",
        "outputId": "5db4de6d-7e13-41fa-b6f2-839bb6aa0878"
      },
      "execution_count": 63,
      "outputs": [
        {
          "output_type": "stream",
          "name": "stdout",
          "text": [
            "Model: \"model_1\"\n",
            "_________________________________________________________________\n",
            " Layer (type)                Output Shape              Param #   \n",
            "=================================================================\n",
            " input_3 (InputLayer)        [(None, 7, 1)]            0         \n",
            "                                                                 \n",
            " gru_3 (GRU)                 (None, 7, 64)             12672     \n",
            "                                                                 \n",
            " dropout_2 (Dropout)         (None, 7, 64)             0         \n",
            "                                                                 \n",
            " gru_4 (GRU)                 (None, 7, 32)             9312      \n",
            "                                                                 \n",
            " dropout_3 (Dropout)         (None, 7, 32)             0         \n",
            "                                                                 \n",
            " gru_5 (GRU)                 (None, 16)                2352      \n",
            "                                                                 \n",
            " dropout_4 (Dropout)         (None, 16)                0         \n",
            "                                                                 \n",
            " dense_1 (Dense)             (None, 1)                 17        \n",
            "                                                                 \n",
            "=================================================================\n",
            "Total params: 24,353\n",
            "Trainable params: 24,353\n",
            "Non-trainable params: 0\n",
            "_________________________________________________________________\n"
          ]
        }
      ]
    },
    {
      "cell_type": "code",
      "source": [
        "plot_model(final_model)"
      ],
      "metadata": {
        "colab": {
          "base_uri": "https://localhost:8080/",
          "height": 758
        },
        "id": "EJk2rab-RJuX",
        "outputId": "2af543ba-0c37-4d03-b09e-a57b80c3a479"
      },
      "execution_count": 64,
      "outputs": [
        {
          "output_type": "execute_result",
          "data": {
            "image/png": "[encoded data removed]",
            "text/plain": [
              "<IPython.core.display.Image object>"
            ]
          },
          "metadata": {},
          "execution_count": 64
        }
      ]
    },
    {
      "cell_type": "code",
      "source": [
        "final_model.compile(loss='mean_absolute_error', optimizer='Adam', metrics=['acc']) ## classification -> loss='categorical_crossentropy'\n",
        "es = EarlyStopping(monitor='val_loss', mode='min', verbose=1, patience=5)\n",
        "save_best = ModelCheckpoint('best_model.h5', monitor='val_loss', mode='min', verbose=1, save_best_only=True)\n",
        "history = final_model.fit(x=X_train, y= y_train, epochs=20, callbacks=[es, save_best],\n",
        "                          validation_data= (X_val, y_val), batch_size=16,shuffle=True)\n",
        "#ts_model = Model(inputs=input_layer, outputs=output_layer)\n",
        "#ts_model.compile(loss='mean_absolute_error', optimizer='adam')#SGD(lr=0.001, decay=1e-5))\n",
        "#ts_model.summary()\n",
        "#save_weights_at = os.path.join('keras_models', 'PRSA_data_Air_Pressure_1DConv_weights.{epoch:02d}-{val_loss:.4f}.hdf5')"
      ],
      "metadata": {
        "colab": {
          "base_uri": "https://localhost:8080/"
        },
        "id": "F5pRTxsMRJrn",
        "outputId": "107e8ba4-78b6-4b32-9c48-73fe974dcdfd"
      },
      "execution_count": 65,
      "outputs": [
        {
          "output_type": "stream",
          "name": "stdout",
          "text": [
            "Epoch 1/20\n",
            "2067/2069 [============================>.] - ETA: 0s - loss: 0.0205 - acc: 6.0474e-05\n",
            "Epoch 00001: val_loss improved from inf to 0.01294, saving model to best_model.h5\n",
            "2069/2069 [==============================] - 46s 19ms/step - loss: 0.0205 - acc: 6.0443e-05 - val_loss: 0.0129 - val_acc: 0.0000e+00\n",
            "Epoch 2/20\n",
            "2069/2069 [==============================] - ETA: 0s - loss: 0.0177 - acc: 6.0443e-05\n",
            "Epoch 00002: val_loss improved from 0.01294 to 0.01192, saving model to best_model.h5\n",
            "2069/2069 [==============================] - 39s 19ms/step - loss: 0.0177 - acc: 6.0443e-05 - val_loss: 0.0119 - val_acc: 0.0000e+00\n",
            "Epoch 3/20\n",
            "2067/2069 [============================>.] - ETA: 0s - loss: 0.0173 - acc: 6.0474e-05\n",
            "Epoch 00003: val_loss did not improve from 0.01192\n",
            "2069/2069 [==============================] - 39s 19ms/step - loss: 0.0173 - acc: 6.0443e-05 - val_loss: 0.0126 - val_acc: 0.0000e+00\n",
            "Epoch 4/20\n",
            "2067/2069 [============================>.] - ETA: 0s - loss: 0.0170 - acc: 6.0474e-05\n",
            "Epoch 00004: val_loss improved from 0.01192 to 0.01180, saving model to best_model.h5\n",
            "2069/2069 [==============================] - 39s 19ms/step - loss: 0.0170 - acc: 6.0443e-05 - val_loss: 0.0118 - val_acc: 0.0000e+00\n",
            "Epoch 5/20\n",
            "2068/2069 [============================>.] - ETA: 0s - loss: 0.0168 - acc: 6.0445e-05\n",
            "Epoch 00005: val_loss did not improve from 0.01180\n",
            "2069/2069 [==============================] - 39s 19ms/step - loss: 0.0168 - acc: 6.0443e-05 - val_loss: 0.0132 - val_acc: 0.0000e+00\n",
            "Epoch 6/20\n",
            "2068/2069 [============================>.] - ETA: 0s - loss: 0.0168 - acc: 6.0445e-05\n",
            "Epoch 00006: val_loss did not improve from 0.01180\n",
            "2069/2069 [==============================] - 39s 19ms/step - loss: 0.0168 - acc: 6.0443e-05 - val_loss: 0.0119 - val_acc: 0.0000e+00\n",
            "Epoch 7/20\n",
            "2069/2069 [==============================] - ETA: 0s - loss: 0.0168 - acc: 6.0443e-05\n",
            "Epoch 00007: val_loss did not improve from 0.01180\n",
            "2069/2069 [==============================] - 39s 19ms/step - loss: 0.0168 - acc: 6.0443e-05 - val_loss: 0.0122 - val_acc: 0.0000e+00\n",
            "Epoch 8/20\n",
            "2067/2069 [============================>.] - ETA: 0s - loss: 0.0168 - acc: 6.0474e-05\n",
            "Epoch 00008: val_loss did not improve from 0.01180\n",
            "2069/2069 [==============================] - 39s 19ms/step - loss: 0.0168 - acc: 6.0443e-05 - val_loss: 0.0135 - val_acc: 0.0000e+00\n",
            "Epoch 9/20\n",
            "2068/2069 [============================>.] - ETA: 0s - loss: 0.0167 - acc: 6.0445e-05\n",
            "Epoch 00009: val_loss did not improve from 0.01180\n",
            "2069/2069 [==============================] - 39s 19ms/step - loss: 0.0167 - acc: 6.0443e-05 - val_loss: 0.0120 - val_acc: 0.0000e+00\n",
            "Epoch 00009: early stopping\n"
          ]
        }
      ]
    },
    {
      "cell_type": "code",
      "source": [
        "final_model.load_weights('/content/best_model.h5')\n",
        "preds=final_model.predict(X_val)\n",
        "preds"
      ],
      "metadata": {
        "colab": {
          "base_uri": "https://localhost:8080/"
        },
        "id": "Y7HvP-ABRJom",
        "outputId": "2cbd0204-2b20-46ca-8bc4-87591be33e38"
      },
      "execution_count": 66,
      "outputs": [
        {
          "output_type": "execute_result",
          "data": {
            "text/plain": [
              "array([[0.11052605],\n",
              "       [0.07307401],\n",
              "       [0.0566435 ],\n",
              "       ...,\n",
              "       [0.00943123],\n",
              "       [0.00955743],\n",
              "       [0.0072284 ]], dtype=float32)"
            ]
          },
          "metadata": {},
          "execution_count": 66
        }
      ]
    },
    {
      "cell_type": "code",
      "source": [
        "preds.shape"
      ],
      "metadata": {
        "colab": {
          "base_uri": "https://localhost:8080/"
        },
        "id": "UZNdoPEz25Yo",
        "outputId": "57501ea4-4056-4112-f04f-3db871727276"
      },
      "execution_count": 67,
      "outputs": [
        {
          "output_type": "execute_result",
          "data": {
            "text/plain": [
              "(8654, 1)"
            ]
          },
          "metadata": {},
          "execution_count": 67
        }
      ]
    },
    {
      "cell_type": "code",
      "source": [
        "scaler.inverse_transform(preds) ## scaler.inverse_transform해서 원상태 복구"
      ],
      "metadata": {
        "colab": {
          "base_uri": "https://localhost:8080/"
        },
        "id": "CbLGb8xX3Cur",
        "outputId": "e2cb2dfc-186a-4ec5-b01c-cdfe847495c8"
      },
      "execution_count": 68,
      "outputs": [
        {
          "output_type": "execute_result",
          "data": {
            "text/plain": [
              "array([[109.86289 ],\n",
              "       [ 72.63557 ],\n",
              "       [ 56.303642],\n",
              "       ...,\n",
              "       [  9.37464 ],\n",
              "       [  9.500085],\n",
              "       [  7.18503 ]], dtype=float32)"
            ]
          },
          "metadata": {},
          "execution_count": 68
        }
      ]
    },
    {
      "cell_type": "code",
      "source": [
        "pred_pm25 = np.squeeze(scaler.inverse_transform(preds))## np.squeeze 이용해서 차원 축소\n",
        "pred_pm25 "
      ],
      "metadata": {
        "colab": {
          "base_uri": "https://localhost:8080/"
        },
        "id": "4k4hiMq111yE",
        "outputId": "18357d6b-eeb2-46ef-a143-5f816374f977"
      },
      "execution_count": 69,
      "outputs": [
        {
          "output_type": "execute_result",
          "data": {
            "text/plain": [
              "array([109.86289 ,  72.63557 ,  56.303642, ...,   9.37464 ,   9.500085,\n",
              "         7.18503 ], dtype=float32)"
            ]
          },
          "metadata": {},
          "execution_count": 69
        }
      ]
    },
    {
      "cell_type": "code",
      "source": [
        "pred_pm25.mean()"
      ],
      "metadata": {
        "colab": {
          "base_uri": "https://localhost:8080/"
        },
        "id": "ul3ye4nT4YUj",
        "outputId": "2df6e4f6-4524-45bb-a80a-a09fed05bcfd"
      },
      "execution_count": 70,
      "outputs": [
        {
          "output_type": "execute_result",
          "data": {
            "text/plain": [
              "98.22184"
            ]
          },
          "metadata": {},
          "execution_count": 70
        }
      ]
    },
    {
      "cell_type": "code",
      "source": [
        "pred_pm25.shape"
      ],
      "metadata": {
        "colab": {
          "base_uri": "https://localhost:8080/"
        },
        "id": "2riQo3kE28oo",
        "outputId": "ac7664e0-b2e4-4061-bff8-de2c20c01e28"
      },
      "execution_count": 71,
      "outputs": [
        {
          "output_type": "execute_result",
          "data": {
            "text/plain": [
              "(8654,)"
            ]
          },
          "metadata": {},
          "execution_count": 71
        }
      ]
    },
    {
      "cell_type": "code",
      "source": [
        "df_val['pm2.5'].loc[7:].mean()"
      ],
      "metadata": {
        "colab": {
          "base_uri": "https://localhost:8080/"
        },
        "id": "HN4sHTxl3oZw",
        "outputId": "dceba777-0c55-42be-ceb7-d50e8d7a3a0c"
      },
      "execution_count": 72,
      "outputs": [
        {
          "output_type": "execute_result",
          "data": {
            "text/plain": [
              "97.75710654032817"
            ]
          },
          "metadata": {},
          "execution_count": 72
        }
      ]
    },
    {
      "cell_type": "code",
      "source": [
        "from sklearn.metrics import r2_score\n",
        "r2 = r2_score(df_val['pm2.5'].loc[7:], pred_pm25)\n",
        "print('R-squared for the validation set:', round(r2, 4))"
      ],
      "metadata": {
        "colab": {
          "base_uri": "https://localhost:8080/"
        },
        "id": "2AmcYwUF1XRs",
        "outputId": "ff8570d9-b1a5-4b68-bda1-c6a9cede34ee"
      },
      "execution_count": 73,
      "outputs": [
        {
          "output_type": "stream",
          "name": "stdout",
          "text": [
            "R-squared for the validation set: 0.946\n"
          ]
        }
      ]
    },
    {
      "cell_type": "code",
      "source": [
        "#Let's plot the first 50 actual and predicted values of PRES.\n",
        "plt.figure(figsize=(5.5, 5.5))\n",
        "plt.plot(range(50), df_val['pm2.5'].loc[7:56], linestyle='-', marker='*', color='r')\n",
        "plt.plot(range(50), pred_pm25[:50], linestyle='-', marker='.', color='b')\n",
        "plt.legend(['Actual','Predicted'], loc=2)\n",
        "plt.title('Actual vs Predicted PRES')\n",
        "plt.ylabel('PRES')\n",
        "plt.xlabel('Index')"
      ],
      "metadata": {
        "colab": {
          "base_uri": "https://localhost:8080/",
          "height": 394
        },
        "id": "KdC6xQQy1XCA",
        "outputId": "0e7974e7-a15b-4cea-aa2f-ba0ca489d2af"
      },
      "execution_count": 76,
      "outputs": [
        {
          "output_type": "execute_result",
          "data": {
            "text/plain": [
              "Text(0.5, 0, 'Index')"
            ]
          },
          "metadata": {},
          "execution_count": 76
        },
        {
          "output_type": "display_data",
          "data": {
            "image/png": "[encoded data removed]",
            "text/plain": [
              "<Figure size 396x396 with 1 Axes>"
            ]
          },
          "metadata": {
            "needs_background": "light"
          }
        }
      ]
    },
    {
      "cell_type": "code",
      "source": [
        "#plot the 100 actual and predicted values of PRES.\n",
        "plt.figure(figsize=(5.5, 5.5))\n",
        "plt.plot(range(100), df_val['pm2.5'].loc[7:106], linestyle='-', marker='*', color='r')\n",
        "plt.plot(range(100), pred_pm25[:100], linestyle='-', marker='.', color='b')\n",
        "plt.legend(['Actual','Predicted'], loc=2)\n",
        "plt.title('Actual vs Predicted PRES')\n",
        "plt.ylabel('PRES')\n",
        "plt.xlabel('Index')"
      ],
      "metadata": {
        "colab": {
          "base_uri": "https://localhost:8080/",
          "height": 394
        },
        "id": "V_xmLd7D44Fs",
        "outputId": "f001ff11-8d9a-441b-cb65-c9f8b02d02b1"
      },
      "execution_count": 77,
      "outputs": [
        {
          "output_type": "execute_result",
          "data": {
            "text/plain": [
              "Text(0.5, 0, 'Index')"
            ]
          },
          "metadata": {},
          "execution_count": 77
        },
        {
          "output_type": "display_data",
          "data": {
            "image/png": "[encoded data removed]",
            "text/plain": [
              "<Figure size 396x396 with 1 Axes>"
            ]
          },
          "metadata": {
            "needs_background": "light"
          }
        }
      ]
    }
  ]
}
