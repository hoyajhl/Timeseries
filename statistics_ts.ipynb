{
  "nbformat": 4,
  "nbformat_minor": 0,
  "metadata": {
    "colab": {
      "name": "statistics_ts.ipynb",
      "provenance": [],
      "collapsed_sections": []
    },
    "kernelspec": {
      "name": "python3",
      "display_name": "Python 3"
    },
    "language_info": {
      "name": "python"
    }
  },
  "cells": [
    {
      "cell_type": "code",
      "execution_count": 77,
      "metadata": {
        "colab": {
          "base_uri": "https://localhost:8080/",
          "height": 206
        },
        "id": "6izcXbCks963",
        "outputId": "ac98ba82-7f32-4664-b23c-ab3613ef1f5d"
      },
      "outputs": [
        {
          "output_type": "execute_result",
          "data": {
            "text/html": [
              "\n",
              "  <div id=\"df-1dabe4f4-54a7-4bbb-a010-b22448346406\">\n",
              "    <div class=\"colab-df-container\">\n",
              "      <div>\n",
              "<style scoped>\n",
              "    .dataframe tbody tr th:only-of-type {\n",
              "        vertical-align: middle;\n",
              "    }\n",
              "\n",
              "    .dataframe tbody tr th {\n",
              "        vertical-align: top;\n",
              "    }\n",
              "\n",
              "    .dataframe thead th {\n",
              "        text-align: right;\n",
              "    }\n",
              "</style>\n",
              "<table border=\"1\" class=\"dataframe\">\n",
              "  <thead>\n",
              "    <tr style=\"text-align: right;\">\n",
              "      <th></th>\n",
              "      <th>store_id</th>\n",
              "      <th>card_id</th>\n",
              "      <th>card_company</th>\n",
              "      <th>transacted_date</th>\n",
              "      <th>transacted_time</th>\n",
              "      <th>installment_term</th>\n",
              "      <th>region</th>\n",
              "      <th>type_of_business</th>\n",
              "      <th>amount</th>\n",
              "    </tr>\n",
              "  </thead>\n",
              "  <tbody>\n",
              "    <tr>\n",
              "      <th>0</th>\n",
              "      <td>0</td>\n",
              "      <td>0.0</td>\n",
              "      <td>b</td>\n",
              "      <td>2016-06-01</td>\n",
              "      <td>13:13</td>\n",
              "      <td>0.0</td>\n",
              "      <td>NaN</td>\n",
              "      <td>기타 미용업</td>\n",
              "      <td>1857.142857</td>\n",
              "    </tr>\n",
              "    <tr>\n",
              "      <th>1</th>\n",
              "      <td>0</td>\n",
              "      <td>1.0</td>\n",
              "      <td>h</td>\n",
              "      <td>2016-06-01</td>\n",
              "      <td>18:12</td>\n",
              "      <td>0.0</td>\n",
              "      <td>NaN</td>\n",
              "      <td>기타 미용업</td>\n",
              "      <td>857.142857</td>\n",
              "    </tr>\n",
              "    <tr>\n",
              "      <th>2</th>\n",
              "      <td>0</td>\n",
              "      <td>2.0</td>\n",
              "      <td>c</td>\n",
              "      <td>2016-06-01</td>\n",
              "      <td>18:52</td>\n",
              "      <td>0.0</td>\n",
              "      <td>NaN</td>\n",
              "      <td>기타 미용업</td>\n",
              "      <td>2000.000000</td>\n",
              "    </tr>\n",
              "    <tr>\n",
              "      <th>3</th>\n",
              "      <td>0</td>\n",
              "      <td>3.0</td>\n",
              "      <td>a</td>\n",
              "      <td>2016-06-01</td>\n",
              "      <td>20:22</td>\n",
              "      <td>0.0</td>\n",
              "      <td>NaN</td>\n",
              "      <td>기타 미용업</td>\n",
              "      <td>7857.142857</td>\n",
              "    </tr>\n",
              "    <tr>\n",
              "      <th>4</th>\n",
              "      <td>0</td>\n",
              "      <td>4.0</td>\n",
              "      <td>c</td>\n",
              "      <td>2016-06-02</td>\n",
              "      <td>11:06</td>\n",
              "      <td>0.0</td>\n",
              "      <td>NaN</td>\n",
              "      <td>기타 미용업</td>\n",
              "      <td>2000.000000</td>\n",
              "    </tr>\n",
              "  </tbody>\n",
              "</table>\n",
              "</div>\n",
              "      <button class=\"colab-df-convert\" onclick=\"convertToInteractive('df-1dabe4f4-54a7-4bbb-a010-b22448346406')\"\n",
              "              title=\"Convert this dataframe to an interactive table.\"\n",
              "              style=\"display:none;\">\n",
              "        \n",
              "  <svg xmlns=\"http://www.w3.org/2000/svg\" height=\"24px\"viewBox=\"0 0 24 24\"\n",
              "       width=\"24px\">\n",
              "    <path d=\"M0 0h24v24H0V0z\" fill=\"none\"/>\n",
              "    <path d=\"M18.56 5.44l.94 2.06.94-2.06 2.06-.94-2.06-.94-.94-2.06-.94 2.06-2.06.94zm-11 1L8.5 8.5l.94-2.06 2.06-.94-2.06-.94L8.5 2.5l-.94 2.06-2.06.94zm10 10l.94 2.06.94-2.06 2.06-.94-2.06-.94-.94-2.06-.94 2.06-2.06.94z\"/><path d=\"M17.41 7.96l-1.37-1.37c-.4-.4-.92-.59-1.43-.59-.52 0-1.04.2-1.43.59L10.3 9.45l-7.72 7.72c-.78.78-.78 2.05 0 2.83L4 21.41c.39.39.9.59 1.41.59.51 0 1.02-.2 1.41-.59l7.78-7.78 2.81-2.81c.8-.78.8-2.07 0-2.86zM5.41 20L4 18.59l7.72-7.72 1.47 1.35L5.41 20z\"/>\n",
              "  </svg>\n",
              "      </button>\n",
              "      \n",
              "  <style>\n",
              "    .colab-df-container {\n",
              "      display:flex;\n",
              "      flex-wrap:wrap;\n",
              "      gap: 12px;\n",
              "    }\n",
              "\n",
              "    .colab-df-convert {\n",
              "      background-color: #E8F0FE;\n",
              "      border: none;\n",
              "      border-radius: 50%;\n",
              "      cursor: pointer;\n",
              "      display: none;\n",
              "      fill: #1967D2;\n",
              "      height: 32px;\n",
              "      padding: 0 0 0 0;\n",
              "      width: 32px;\n",
              "    }\n",
              "\n",
              "    .colab-df-convert:hover {\n",
              "      background-color: #E2EBFA;\n",
              "      box-shadow: 0px 1px 2px rgba(60, 64, 67, 0.3), 0px 1px 3px 1px rgba(60, 64, 67, 0.15);\n",
              "      fill: #174EA6;\n",
              "    }\n",
              "\n",
              "    [theme=dark] .colab-df-convert {\n",
              "      background-color: #3B4455;\n",
              "      fill: #D2E3FC;\n",
              "    }\n",
              "\n",
              "    [theme=dark] .colab-df-convert:hover {\n",
              "      background-color: #434B5C;\n",
              "      box-shadow: 0px 1px 3px 1px rgba(0, 0, 0, 0.15);\n",
              "      filter: drop-shadow(0px 1px 2px rgba(0, 0, 0, 0.3));\n",
              "      fill: #FFFFFF;\n",
              "    }\n",
              "  </style>\n",
              "\n",
              "      <script>\n",
              "        const buttonEl =\n",
              "          document.querySelector('#df-1dabe4f4-54a7-4bbb-a010-b22448346406 button.colab-df-convert');\n",
              "        buttonEl.style.display =\n",
              "          google.colab.kernel.accessAllowed ? 'block' : 'none';\n",
              "\n",
              "        async function convertToInteractive(key) {\n",
              "          const element = document.querySelector('#df-1dabe4f4-54a7-4bbb-a010-b22448346406');\n",
              "          const dataTable =\n",
              "            await google.colab.kernel.invokeFunction('convertToInteractive',\n",
              "                                                     [key], {});\n",
              "          if (!dataTable) return;\n",
              "\n",
              "          const docLinkHtml = 'Like what you see? Visit the ' +\n",
              "            '<a target=\"_blank\" href=https://colab.research.google.com/notebooks/data_table.ipynb>data table notebook</a>'\n",
              "            + ' to learn more about interactive tables.';\n",
              "          element.innerHTML = '';\n",
              "          dataTable['output_type'] = 'display_data';\n",
              "          await google.colab.output.renderOutput(dataTable, element);\n",
              "          const docLink = document.createElement('div');\n",
              "          docLink.innerHTML = docLinkHtml;\n",
              "          element.appendChild(docLink);\n",
              "        }\n",
              "      </script>\n",
              "    </div>\n",
              "  </div>\n",
              "  "
            ],
            "text/plain": [
              "   store_id  card_id card_company  ... region type_of_business       amount\n",
              "0         0      0.0            b  ...    NaN           기타 미용업  1857.142857\n",
              "1         0      1.0            h  ...    NaN           기타 미용업   857.142857\n",
              "2         0      2.0            c  ...    NaN           기타 미용업  2000.000000\n",
              "3         0      3.0            a  ...    NaN           기타 미용업  7857.142857\n",
              "4         0      4.0            c  ...    NaN           기타 미용업  2000.000000\n",
              "\n",
              "[5 rows x 9 columns]"
            ]
          },
          "metadata": {},
          "execution_count": 77
        }
      ],
      "source": [
        "import pandas as pd\n",
        "import numpy as np\n",
        "import seaborn as sns\n",
        "from tqdm import tqdm\n",
        "import matplotlib.pyplot as plt\n",
        "\n",
        "train = pd.read_csv('./funda_train.csv')\n",
        "train.head()"
      ]
    },
    {
      "cell_type": "code",
      "source": [
        "len(train['store_id'].unique())"
      ],
      "metadata": {
        "colab": {
          "base_uri": "https://localhost:8080/"
        },
        "id": "va6NtapvUJeF",
        "outputId": "dee2e4f5-7cfc-46cc-be01-6138c923f739"
      },
      "execution_count": 2,
      "outputs": [
        {
          "output_type": "execute_result",
          "data": {
            "text/plain": [
              "9"
            ]
          },
          "metadata": {},
          "execution_count": 2
        }
      ]
    },
    {
      "cell_type": "code",
      "source": [
        "train.isnull().sum()"
      ],
      "metadata": {
        "colab": {
          "base_uri": "https://localhost:8080/"
        },
        "id": "MwlAJr3K1MnI",
        "outputId": "48e8ecda-e0e0-46e2-bd81-05c48f372fc5"
      },
      "execution_count": 3,
      "outputs": [
        {
          "output_type": "execute_result",
          "data": {
            "text/plain": [
              "store_id                0\n",
              "card_id                 0\n",
              "card_company            0\n",
              "transacted_date         0\n",
              "transacted_time         0\n",
              "installment_term        0\n",
              "region              12622\n",
              "type_of_business    20734\n",
              "amount                  1\n",
              "dtype: int64"
            ]
          },
          "metadata": {},
          "execution_count": 3
        }
      ]
    },
    {
      "cell_type": "code",
      "source": [
        "plt.figure(figsize=(13, 4))\n",
        "plt.bar(train.columns, train.isnull().sum())\n",
        "plt.xticks(rotation=45)"
      ],
      "metadata": {
        "colab": {
          "base_uri": "https://localhost:8080/",
          "height": 341
        },
        "id": "sUSO7YdTtQSR",
        "outputId": "6b71a474-4607-47fa-9d42-3a16cda0b7d7"
      },
      "execution_count": 4,
      "outputs": [
        {
          "output_type": "execute_result",
          "data": {
            "text/plain": [
              "([0, 1, 2, 3, 4, 5, 6, 7, 8], <a list of 9 Text major ticklabel objects>)"
            ]
          },
          "metadata": {},
          "execution_count": 4
        },
        {
          "output_type": "display_data",
          "data": {
            "image/png": "[encoded data removed]",
            "text/plain": [
              "<Figure size 936x288 with 1 Axes>"
            ]
          },
          "metadata": {
            "needs_background": "light"
          }
        }
      ]
    },
    {
      "cell_type": "code",
      "source": [
        "train = train.drop(['region','type_of_business'],axis=1)\n",
        "train.head()"
      ],
      "metadata": {
        "colab": {
          "base_uri": "https://localhost:8080/",
          "height": 206
        },
        "id": "e4ndepYs1Jz_",
        "outputId": "b6bf0ecf-2ca4-4ef5-a4e1-ea7769ab1963"
      },
      "execution_count": 5,
      "outputs": [
        {
          "output_type": "execute_result",
          "data": {
            "text/html": [
              "\n",
              "  <div id=\"df-203def36-9f2f-412c-8351-3281bb65a914\">\n",
              "    <div class=\"colab-df-container\">\n",
              "      <div>\n",
              "<style scoped>\n",
              "    .dataframe tbody tr th:only-of-type {\n",
              "        vertical-align: middle;\n",
              "    }\n",
              "\n",
              "    .dataframe tbody tr th {\n",
              "        vertical-align: top;\n",
              "    }\n",
              "\n",
              "    .dataframe thead th {\n",
              "        text-align: right;\n",
              "    }\n",
              "</style>\n",
              "<table border=\"1\" class=\"dataframe\">\n",
              "  <thead>\n",
              "    <tr style=\"text-align: right;\">\n",
              "      <th></th>\n",
              "      <th>store_id</th>\n",
              "      <th>card_id</th>\n",
              "      <th>card_company</th>\n",
              "      <th>transacted_date</th>\n",
              "      <th>transacted_time</th>\n",
              "      <th>installment_term</th>\n",
              "      <th>amount</th>\n",
              "    </tr>\n",
              "  </thead>\n",
              "  <tbody>\n",
              "    <tr>\n",
              "      <th>0</th>\n",
              "      <td>0</td>\n",
              "      <td>0</td>\n",
              "      <td>b</td>\n",
              "      <td>2016-06-01</td>\n",
              "      <td>13:13</td>\n",
              "      <td>0</td>\n",
              "      <td>1857.142857</td>\n",
              "    </tr>\n",
              "    <tr>\n",
              "      <th>1</th>\n",
              "      <td>0</td>\n",
              "      <td>1</td>\n",
              "      <td>h</td>\n",
              "      <td>2016-06-01</td>\n",
              "      <td>18:12</td>\n",
              "      <td>0</td>\n",
              "      <td>857.142857</td>\n",
              "    </tr>\n",
              "    <tr>\n",
              "      <th>2</th>\n",
              "      <td>0</td>\n",
              "      <td>2</td>\n",
              "      <td>c</td>\n",
              "      <td>2016-06-01</td>\n",
              "      <td>18:52</td>\n",
              "      <td>0</td>\n",
              "      <td>2000.000000</td>\n",
              "    </tr>\n",
              "    <tr>\n",
              "      <th>3</th>\n",
              "      <td>0</td>\n",
              "      <td>3</td>\n",
              "      <td>a</td>\n",
              "      <td>2016-06-01</td>\n",
              "      <td>20:22</td>\n",
              "      <td>0</td>\n",
              "      <td>7857.142857</td>\n",
              "    </tr>\n",
              "    <tr>\n",
              "      <th>4</th>\n",
              "      <td>0</td>\n",
              "      <td>4</td>\n",
              "      <td>c</td>\n",
              "      <td>2016-06-02</td>\n",
              "      <td>11:06</td>\n",
              "      <td>0</td>\n",
              "      <td>2000.000000</td>\n",
              "    </tr>\n",
              "  </tbody>\n",
              "</table>\n",
              "</div>\n",
              "      <button class=\"colab-df-convert\" onclick=\"convertToInteractive('df-203def36-9f2f-412c-8351-3281bb65a914')\"\n",
              "              title=\"Convert this dataframe to an interactive table.\"\n",
              "              style=\"display:none;\">\n",
              "        \n",
              "  <svg xmlns=\"http://www.w3.org/2000/svg\" height=\"24px\"viewBox=\"0 0 24 24\"\n",
              "       width=\"24px\">\n",
              "    <path d=\"M0 0h24v24H0V0z\" fill=\"none\"/>\n",
              "    <path d=\"M18.56 5.44l.94 2.06.94-2.06 2.06-.94-2.06-.94-.94-2.06-.94 2.06-2.06.94zm-11 1L8.5 8.5l.94-2.06 2.06-.94-2.06-.94L8.5 2.5l-.94 2.06-2.06.94zm10 10l.94 2.06.94-2.06 2.06-.94-2.06-.94-.94-2.06-.94 2.06-2.06.94z\"/><path d=\"M17.41 7.96l-1.37-1.37c-.4-.4-.92-.59-1.43-.59-.52 0-1.04.2-1.43.59L10.3 9.45l-7.72 7.72c-.78.78-.78 2.05 0 2.83L4 21.41c.39.39.9.59 1.41.59.51 0 1.02-.2 1.41-.59l7.78-7.78 2.81-2.81c.8-.78.8-2.07 0-2.86zM5.41 20L4 18.59l7.72-7.72 1.47 1.35L5.41 20z\"/>\n",
              "  </svg>\n",
              "      </button>\n",
              "      \n",
              "  <style>\n",
              "    .colab-df-container {\n",
              "      display:flex;\n",
              "      flex-wrap:wrap;\n",
              "      gap: 12px;\n",
              "    }\n",
              "\n",
              "    .colab-df-convert {\n",
              "      background-color: #E8F0FE;\n",
              "      border: none;\n",
              "      border-radius: 50%;\n",
              "      cursor: pointer;\n",
              "      display: none;\n",
              "      fill: #1967D2;\n",
              "      height: 32px;\n",
              "      padding: 0 0 0 0;\n",
              "      width: 32px;\n",
              "    }\n",
              "\n",
              "    .colab-df-convert:hover {\n",
              "      background-color: #E2EBFA;\n",
              "      box-shadow: 0px 1px 2px rgba(60, 64, 67, 0.3), 0px 1px 3px 1px rgba(60, 64, 67, 0.15);\n",
              "      fill: #174EA6;\n",
              "    }\n",
              "\n",
              "    [theme=dark] .colab-df-convert {\n",
              "      background-color: #3B4455;\n",
              "      fill: #D2E3FC;\n",
              "    }\n",
              "\n",
              "    [theme=dark] .colab-df-convert:hover {\n",
              "      background-color: #434B5C;\n",
              "      box-shadow: 0px 1px 3px 1px rgba(0, 0, 0, 0.15);\n",
              "      filter: drop-shadow(0px 1px 2px rgba(0, 0, 0, 0.3));\n",
              "      fill: #FFFFFF;\n",
              "    }\n",
              "  </style>\n",
              "\n",
              "      <script>\n",
              "        const buttonEl =\n",
              "          document.querySelector('#df-203def36-9f2f-412c-8351-3281bb65a914 button.colab-df-convert');\n",
              "        buttonEl.style.display =\n",
              "          google.colab.kernel.accessAllowed ? 'block' : 'none';\n",
              "\n",
              "        async function convertToInteractive(key) {\n",
              "          const element = document.querySelector('#df-203def36-9f2f-412c-8351-3281bb65a914');\n",
              "          const dataTable =\n",
              "            await google.colab.kernel.invokeFunction('convertToInteractive',\n",
              "                                                     [key], {});\n",
              "          if (!dataTable) return;\n",
              "\n",
              "          const docLinkHtml = 'Like what you see? Visit the ' +\n",
              "            '<a target=\"_blank\" href=https://colab.research.google.com/notebooks/data_table.ipynb>data table notebook</a>'\n",
              "            + ' to learn more about interactive tables.';\n",
              "          element.innerHTML = '';\n",
              "          dataTable['output_type'] = 'display_data';\n",
              "          await google.colab.output.renderOutput(dataTable, element);\n",
              "          const docLink = document.createElement('div');\n",
              "          docLink.innerHTML = docLinkHtml;\n",
              "          element.appendChild(docLink);\n",
              "        }\n",
              "      </script>\n",
              "    </div>\n",
              "  </div>\n",
              "  "
            ],
            "text/plain": [
              "   store_id  card_id  ... installment_term       amount\n",
              "0         0        0  ...                0  1857.142857\n",
              "1         0        1  ...                0   857.142857\n",
              "2         0        2  ...                0  2000.000000\n",
              "3         0        3  ...                0  7857.142857\n",
              "4         0        4  ...                0  2000.000000\n",
              "\n",
              "[5 rows x 7 columns]"
            ]
          },
          "metadata": {},
          "execution_count": 5
        }
      ]
    },
    {
      "cell_type": "code",
      "source": [
        "train.shape"
      ],
      "metadata": {
        "colab": {
          "base_uri": "https://localhost:8080/"
        },
        "id": "wYz-NV3v1qET",
        "outputId": "03bc0263-cd5a-4523-d439-5aefe4070e44"
      },
      "execution_count": 6,
      "outputs": [
        {
          "output_type": "execute_result",
          "data": {
            "text/plain": [
              "(32021, 7)"
            ]
          },
          "metadata": {},
          "execution_count": 6
        }
      ]
    },
    {
      "cell_type": "code",
      "source": [
        "##amount 변수 확인, 음수 확인\n",
        "plt.figure(figsize=(8, 4))\n",
        "sns.boxplot(train['amount'])"
      ],
      "metadata": {
        "colab": {
          "base_uri": "https://localhost:8080/",
          "height": 351
        },
        "id": "zMqByHnb1Vkj",
        "outputId": "0f391742-1305-40f0-c55f-b214a87d4696"
      },
      "execution_count": 7,
      "outputs": [
        {
          "output_type": "stream",
          "name": "stderr",
          "text": [
            "/usr/local/lib/python3.7/dist-packages/seaborn/_decorators.py:43: FutureWarning: Pass the following variable as a keyword arg: x. From version 0.12, the only valid positional argument will be `data`, and passing other arguments without an explicit keyword will result in an error or misinterpretation.\n",
            "  FutureWarning\n"
          ]
        },
        {
          "output_type": "execute_result",
          "data": {
            "text/plain": [
              "<matplotlib.axes._subplots.AxesSubplot at 0x7fcf666c6210>"
            ]
          },
          "metadata": {},
          "execution_count": 7
        },
        {
          "output_type": "display_data",
          "data": {
            "image/png": "[encoded data removed]",
            "text/plain": [
              "<Figure size 576x288 with 1 Axes>"
            ]
          },
          "metadata": {
            "needs_background": "light"
          }
        }
      ]
    },
    {
      "cell_type": "code",
      "source": [
        "train[train['amount']<0].head()"
      ],
      "metadata": {
        "colab": {
          "base_uri": "https://localhost:8080/",
          "height": 206
        },
        "id": "ami4IrX41aBT",
        "outputId": "de9f0198-23de-4f68-e023-6f164bd4924f"
      },
      "execution_count": 8,
      "outputs": [
        {
          "output_type": "execute_result",
          "data": {
            "text/html": [
              "\n",
              "  <div id=\"df-c1b2803e-e82b-4e12-a731-93120ffb8ef1\">\n",
              "    <div class=\"colab-df-container\">\n",
              "      <div>\n",
              "<style scoped>\n",
              "    .dataframe tbody tr th:only-of-type {\n",
              "        vertical-align: middle;\n",
              "    }\n",
              "\n",
              "    .dataframe tbody tr th {\n",
              "        vertical-align: top;\n",
              "    }\n",
              "\n",
              "    .dataframe thead th {\n",
              "        text-align: right;\n",
              "    }\n",
              "</style>\n",
              "<table border=\"1\" class=\"dataframe\">\n",
              "  <thead>\n",
              "    <tr style=\"text-align: right;\">\n",
              "      <th></th>\n",
              "      <th>store_id</th>\n",
              "      <th>card_id</th>\n",
              "      <th>card_company</th>\n",
              "      <th>transacted_date</th>\n",
              "      <th>transacted_time</th>\n",
              "      <th>installment_term</th>\n",
              "      <th>amount</th>\n",
              "    </tr>\n",
              "  </thead>\n",
              "  <tbody>\n",
              "    <tr>\n",
              "      <th>41</th>\n",
              "      <td>0</td>\n",
              "      <td>40</td>\n",
              "      <td>a</td>\n",
              "      <td>2016-06-10</td>\n",
              "      <td>17:26</td>\n",
              "      <td>2</td>\n",
              "      <td>-8571.428571</td>\n",
              "    </tr>\n",
              "    <tr>\n",
              "      <th>347</th>\n",
              "      <td>0</td>\n",
              "      <td>285</td>\n",
              "      <td>a</td>\n",
              "      <td>2016-08-04</td>\n",
              "      <td>17:52</td>\n",
              "      <td>0</td>\n",
              "      <td>-1857.142857</td>\n",
              "    </tr>\n",
              "    <tr>\n",
              "      <th>731</th>\n",
              "      <td>0</td>\n",
              "      <td>473</td>\n",
              "      <td>g</td>\n",
              "      <td>2016-10-17</td>\n",
              "      <td>10:32</td>\n",
              "      <td>0</td>\n",
              "      <td>-2000.000000</td>\n",
              "    </tr>\n",
              "    <tr>\n",
              "      <th>831</th>\n",
              "      <td>0</td>\n",
              "      <td>230</td>\n",
              "      <td>b</td>\n",
              "      <td>2016-11-03</td>\n",
              "      <td>15:36</td>\n",
              "      <td>0</td>\n",
              "      <td>-85.714286</td>\n",
              "    </tr>\n",
              "    <tr>\n",
              "      <th>944</th>\n",
              "      <td>0</td>\n",
              "      <td>138</td>\n",
              "      <td>a</td>\n",
              "      <td>2016-11-28</td>\n",
              "      <td>13:21</td>\n",
              "      <td>0</td>\n",
              "      <td>-57.142857</td>\n",
              "    </tr>\n",
              "  </tbody>\n",
              "</table>\n",
              "</div>\n",
              "      <button class=\"colab-df-convert\" onclick=\"convertToInteractive('df-c1b2803e-e82b-4e12-a731-93120ffb8ef1')\"\n",
              "              title=\"Convert this dataframe to an interactive table.\"\n",
              "              style=\"display:none;\">\n",
              "        \n",
              "  <svg xmlns=\"http://www.w3.org/2000/svg\" height=\"24px\"viewBox=\"0 0 24 24\"\n",
              "       width=\"24px\">\n",
              "    <path d=\"M0 0h24v24H0V0z\" fill=\"none\"/>\n",
              "    <path d=\"M18.56 5.44l.94 2.06.94-2.06 2.06-.94-2.06-.94-.94-2.06-.94 2.06-2.06.94zm-11 1L8.5 8.5l.94-2.06 2.06-.94-2.06-.94L8.5 2.5l-.94 2.06-2.06.94zm10 10l.94 2.06.94-2.06 2.06-.94-2.06-.94-.94-2.06-.94 2.06-2.06.94z\"/><path d=\"M17.41 7.96l-1.37-1.37c-.4-.4-.92-.59-1.43-.59-.52 0-1.04.2-1.43.59L10.3 9.45l-7.72 7.72c-.78.78-.78 2.05 0 2.83L4 21.41c.39.39.9.59 1.41.59.51 0 1.02-.2 1.41-.59l7.78-7.78 2.81-2.81c.8-.78.8-2.07 0-2.86zM5.41 20L4 18.59l7.72-7.72 1.47 1.35L5.41 20z\"/>\n",
              "  </svg>\n",
              "      </button>\n",
              "      \n",
              "  <style>\n",
              "    .colab-df-container {\n",
              "      display:flex;\n",
              "      flex-wrap:wrap;\n",
              "      gap: 12px;\n",
              "    }\n",
              "\n",
              "    .colab-df-convert {\n",
              "      background-color: #E8F0FE;\n",
              "      border: none;\n",
              "      border-radius: 50%;\n",
              "      cursor: pointer;\n",
              "      display: none;\n",
              "      fill: #1967D2;\n",
              "      height: 32px;\n",
              "      padding: 0 0 0 0;\n",
              "      width: 32px;\n",
              "    }\n",
              "\n",
              "    .colab-df-convert:hover {\n",
              "      background-color: #E2EBFA;\n",
              "      box-shadow: 0px 1px 2px rgba(60, 64, 67, 0.3), 0px 1px 3px 1px rgba(60, 64, 67, 0.15);\n",
              "      fill: #174EA6;\n",
              "    }\n",
              "\n",
              "    [theme=dark] .colab-df-convert {\n",
              "      background-color: #3B4455;\n",
              "      fill: #D2E3FC;\n",
              "    }\n",
              "\n",
              "    [theme=dark] .colab-df-convert:hover {\n",
              "      background-color: #434B5C;\n",
              "      box-shadow: 0px 1px 3px 1px rgba(0, 0, 0, 0.15);\n",
              "      filter: drop-shadow(0px 1px 2px rgba(0, 0, 0, 0.3));\n",
              "      fill: #FFFFFF;\n",
              "    }\n",
              "  </style>\n",
              "\n",
              "      <script>\n",
              "        const buttonEl =\n",
              "          document.querySelector('#df-c1b2803e-e82b-4e12-a731-93120ffb8ef1 button.colab-df-convert');\n",
              "        buttonEl.style.display =\n",
              "          google.colab.kernel.accessAllowed ? 'block' : 'none';\n",
              "\n",
              "        async function convertToInteractive(key) {\n",
              "          const element = document.querySelector('#df-c1b2803e-e82b-4e12-a731-93120ffb8ef1');\n",
              "          const dataTable =\n",
              "            await google.colab.kernel.invokeFunction('convertToInteractive',\n",
              "                                                     [key], {});\n",
              "          if (!dataTable) return;\n",
              "\n",
              "          const docLinkHtml = 'Like what you see? Visit the ' +\n",
              "            '<a target=\"_blank\" href=https://colab.research.google.com/notebooks/data_table.ipynb>data table notebook</a>'\n",
              "            + ' to learn more about interactive tables.';\n",
              "          element.innerHTML = '';\n",
              "          dataTable['output_type'] = 'display_data';\n",
              "          await google.colab.output.renderOutput(dataTable, element);\n",
              "          const docLink = document.createElement('div');\n",
              "          docLink.innerHTML = docLinkHtml;\n",
              "          element.appendChild(docLink);\n",
              "        }\n",
              "      </script>\n",
              "    </div>\n",
              "  </div>\n",
              "  "
            ],
            "text/plain": [
              "     store_id  card_id  ... installment_term       amount\n",
              "41          0       40  ...                2 -8571.428571\n",
              "347         0      285  ...                0 -1857.142857\n",
              "731         0      473  ...                0 -2000.000000\n",
              "831         0      230  ...                0   -85.714286\n",
              "944         0      138  ...                0   -57.142857\n",
              "\n",
              "[5 rows x 7 columns]"
            ]
          },
          "metadata": {},
          "execution_count": 8
        }
      ]
    },
    {
      "cell_type": "markdown",
      "source": [
        "datetime 시간 변수 생성"
      ],
      "metadata": {
        "id": "OTk8UL2d58HW"
      }
    },
    {
      "cell_type": "code",
      "source": [
        "# 거래일와 거래시간을 합친 변수를 생성\n",
        "## format에 맞게끔\n",
        "train['datetime'] = pd.to_datetime(train['transacted_date'] + \" \" + \n",
        "                                train['transacted_time'], format='%Y-%m-%d %H:%M:%S') "
      ],
      "metadata": {
        "id": "ByC9B33i1hTY"
      },
      "execution_count": 9,
      "outputs": []
    },
    {
      "cell_type": "code",
      "source": [
        "train.head()"
      ],
      "metadata": {
        "colab": {
          "base_uri": "https://localhost:8080/",
          "height": 206
        },
        "id": "ol9jEzyI6Btd",
        "outputId": "2805f2ba-6687-4e1e-ab8c-ed88caa4d358"
      },
      "execution_count": 10,
      "outputs": [
        {
          "output_type": "execute_result",
          "data": {
            "text/html": [
              "\n",
              "  <div id=\"df-8f631238-3c86-4591-bf50-6120cde09d50\">\n",
              "    <div class=\"colab-df-container\">\n",
              "      <div>\n",
              "<style scoped>\n",
              "    .dataframe tbody tr th:only-of-type {\n",
              "        vertical-align: middle;\n",
              "    }\n",
              "\n",
              "    .dataframe tbody tr th {\n",
              "        vertical-align: top;\n",
              "    }\n",
              "\n",
              "    .dataframe thead th {\n",
              "        text-align: right;\n",
              "    }\n",
              "</style>\n",
              "<table border=\"1\" class=\"dataframe\">\n",
              "  <thead>\n",
              "    <tr style=\"text-align: right;\">\n",
              "      <th></th>\n",
              "      <th>store_id</th>\n",
              "      <th>card_id</th>\n",
              "      <th>card_company</th>\n",
              "      <th>transacted_date</th>\n",
              "      <th>transacted_time</th>\n",
              "      <th>installment_term</th>\n",
              "      <th>amount</th>\n",
              "      <th>datetime</th>\n",
              "    </tr>\n",
              "  </thead>\n",
              "  <tbody>\n",
              "    <tr>\n",
              "      <th>0</th>\n",
              "      <td>0</td>\n",
              "      <td>0</td>\n",
              "      <td>b</td>\n",
              "      <td>2016-06-01</td>\n",
              "      <td>13:13</td>\n",
              "      <td>0</td>\n",
              "      <td>1857.142857</td>\n",
              "      <td>2016-06-01 13:13:00</td>\n",
              "    </tr>\n",
              "    <tr>\n",
              "      <th>1</th>\n",
              "      <td>0</td>\n",
              "      <td>1</td>\n",
              "      <td>h</td>\n",
              "      <td>2016-06-01</td>\n",
              "      <td>18:12</td>\n",
              "      <td>0</td>\n",
              "      <td>857.142857</td>\n",
              "      <td>2016-06-01 18:12:00</td>\n",
              "    </tr>\n",
              "    <tr>\n",
              "      <th>2</th>\n",
              "      <td>0</td>\n",
              "      <td>2</td>\n",
              "      <td>c</td>\n",
              "      <td>2016-06-01</td>\n",
              "      <td>18:52</td>\n",
              "      <td>0</td>\n",
              "      <td>2000.000000</td>\n",
              "      <td>2016-06-01 18:52:00</td>\n",
              "    </tr>\n",
              "    <tr>\n",
              "      <th>3</th>\n",
              "      <td>0</td>\n",
              "      <td>3</td>\n",
              "      <td>a</td>\n",
              "      <td>2016-06-01</td>\n",
              "      <td>20:22</td>\n",
              "      <td>0</td>\n",
              "      <td>7857.142857</td>\n",
              "      <td>2016-06-01 20:22:00</td>\n",
              "    </tr>\n",
              "    <tr>\n",
              "      <th>4</th>\n",
              "      <td>0</td>\n",
              "      <td>4</td>\n",
              "      <td>c</td>\n",
              "      <td>2016-06-02</td>\n",
              "      <td>11:06</td>\n",
              "      <td>0</td>\n",
              "      <td>2000.000000</td>\n",
              "      <td>2016-06-02 11:06:00</td>\n",
              "    </tr>\n",
              "  </tbody>\n",
              "</table>\n",
              "</div>\n",
              "      <button class=\"colab-df-convert\" onclick=\"convertToInteractive('df-8f631238-3c86-4591-bf50-6120cde09d50')\"\n",
              "              title=\"Convert this dataframe to an interactive table.\"\n",
              "              style=\"display:none;\">\n",
              "        \n",
              "  <svg xmlns=\"http://www.w3.org/2000/svg\" height=\"24px\"viewBox=\"0 0 24 24\"\n",
              "       width=\"24px\">\n",
              "    <path d=\"M0 0h24v24H0V0z\" fill=\"none\"/>\n",
              "    <path d=\"M18.56 5.44l.94 2.06.94-2.06 2.06-.94-2.06-.94-.94-2.06-.94 2.06-2.06.94zm-11 1L8.5 8.5l.94-2.06 2.06-.94-2.06-.94L8.5 2.5l-.94 2.06-2.06.94zm10 10l.94 2.06.94-2.06 2.06-.94-2.06-.94-.94-2.06-.94 2.06-2.06.94z\"/><path d=\"M17.41 7.96l-1.37-1.37c-.4-.4-.92-.59-1.43-.59-.52 0-1.04.2-1.43.59L10.3 9.45l-7.72 7.72c-.78.78-.78 2.05 0 2.83L4 21.41c.39.39.9.59 1.41.59.51 0 1.02-.2 1.41-.59l7.78-7.78 2.81-2.81c.8-.78.8-2.07 0-2.86zM5.41 20L4 18.59l7.72-7.72 1.47 1.35L5.41 20z\"/>\n",
              "  </svg>\n",
              "      </button>\n",
              "      \n",
              "  <style>\n",
              "    .colab-df-container {\n",
              "      display:flex;\n",
              "      flex-wrap:wrap;\n",
              "      gap: 12px;\n",
              "    }\n",
              "\n",
              "    .colab-df-convert {\n",
              "      background-color: #E8F0FE;\n",
              "      border: none;\n",
              "      border-radius: 50%;\n",
              "      cursor: pointer;\n",
              "      display: none;\n",
              "      fill: #1967D2;\n",
              "      height: 32px;\n",
              "      padding: 0 0 0 0;\n",
              "      width: 32px;\n",
              "    }\n",
              "\n",
              "    .colab-df-convert:hover {\n",
              "      background-color: #E2EBFA;\n",
              "      box-shadow: 0px 1px 2px rgba(60, 64, 67, 0.3), 0px 1px 3px 1px rgba(60, 64, 67, 0.15);\n",
              "      fill: #174EA6;\n",
              "    }\n",
              "\n",
              "    [theme=dark] .colab-df-convert {\n",
              "      background-color: #3B4455;\n",
              "      fill: #D2E3FC;\n",
              "    }\n",
              "\n",
              "    [theme=dark] .colab-df-convert:hover {\n",
              "      background-color: #434B5C;\n",
              "      box-shadow: 0px 1px 3px 1px rgba(0, 0, 0, 0.15);\n",
              "      filter: drop-shadow(0px 1px 2px rgba(0, 0, 0, 0.3));\n",
              "      fill: #FFFFFF;\n",
              "    }\n",
              "  </style>\n",
              "\n",
              "      <script>\n",
              "        const buttonEl =\n",
              "          document.querySelector('#df-8f631238-3c86-4591-bf50-6120cde09d50 button.colab-df-convert');\n",
              "        buttonEl.style.display =\n",
              "          google.colab.kernel.accessAllowed ? 'block' : 'none';\n",
              "\n",
              "        async function convertToInteractive(key) {\n",
              "          const element = document.querySelector('#df-8f631238-3c86-4591-bf50-6120cde09d50');\n",
              "          const dataTable =\n",
              "            await google.colab.kernel.invokeFunction('convertToInteractive',\n",
              "                                                     [key], {});\n",
              "          if (!dataTable) return;\n",
              "\n",
              "          const docLinkHtml = 'Like what you see? Visit the ' +\n",
              "            '<a target=\"_blank\" href=https://colab.research.google.com/notebooks/data_table.ipynb>data table notebook</a>'\n",
              "            + ' to learn more about interactive tables.';\n",
              "          element.innerHTML = '';\n",
              "          dataTable['output_type'] = 'display_data';\n",
              "          await google.colab.output.renderOutput(dataTable, element);\n",
              "          const docLink = document.createElement('div');\n",
              "          docLink.innerHTML = docLinkHtml;\n",
              "          element.appendChild(docLink);\n",
              "        }\n",
              "      </script>\n",
              "    </div>\n",
              "  </div>\n",
              "  "
            ],
            "text/plain": [
              "   store_id  card_id  ...       amount            datetime\n",
              "0         0        0  ...  1857.142857 2016-06-01 13:13:00\n",
              "1         0        1  ...   857.142857 2016-06-01 18:12:00\n",
              "2         0        2  ...  2000.000000 2016-06-01 18:52:00\n",
              "3         0        3  ...  7857.142857 2016-06-01 20:22:00\n",
              "4         0        4  ...  2000.000000 2016-06-02 11:06:00\n",
              "\n",
              "[5 rows x 8 columns]"
            ]
          },
          "metadata": {},
          "execution_count": 10
        }
      ]
    },
    {
      "cell_type": "code",
      "source": [
        "##eda, 특정 id 하나 당 기준\n",
        "trial = train[train['store_id']==1]\n",
        "trial.sort_values('card_id',ascending=True)"
      ],
      "metadata": {
        "colab": {
          "base_uri": "https://localhost:8080/",
          "height": 424
        },
        "id": "ZFQTEEqv6kjI",
        "outputId": "7ae9ce0d-eb22-454f-d287-194ed53d03c2"
      },
      "execution_count": 11,
      "outputs": [
        {
          "output_type": "execute_result",
          "data": {
            "text/html": [
              "\n",
              "  <div id=\"df-37078538-e3b2-4d89-8443-0018b2e9fb7d\">\n",
              "    <div class=\"colab-df-container\">\n",
              "      <div>\n",
              "<style scoped>\n",
              "    .dataframe tbody tr th:only-of-type {\n",
              "        vertical-align: middle;\n",
              "    }\n",
              "\n",
              "    .dataframe tbody tr th {\n",
              "        vertical-align: top;\n",
              "    }\n",
              "\n",
              "    .dataframe thead th {\n",
              "        text-align: right;\n",
              "    }\n",
              "</style>\n",
              "<table border=\"1\" class=\"dataframe\">\n",
              "  <thead>\n",
              "    <tr style=\"text-align: right;\">\n",
              "      <th></th>\n",
              "      <th>store_id</th>\n",
              "      <th>card_id</th>\n",
              "      <th>card_company</th>\n",
              "      <th>transacted_date</th>\n",
              "      <th>transacted_time</th>\n",
              "      <th>installment_term</th>\n",
              "      <th>amount</th>\n",
              "      <th>datetime</th>\n",
              "    </tr>\n",
              "  </thead>\n",
              "  <tbody>\n",
              "    <tr>\n",
              "      <th>6141</th>\n",
              "      <td>1</td>\n",
              "      <td>544</td>\n",
              "      <td>e</td>\n",
              "      <td>2017-06-30</td>\n",
              "      <td>14:19</td>\n",
              "      <td>0</td>\n",
              "      <td>571.428571</td>\n",
              "      <td>2017-06-30 14:19:00</td>\n",
              "    </tr>\n",
              "    <tr>\n",
              "      <th>4481</th>\n",
              "      <td>1</td>\n",
              "      <td>1931</td>\n",
              "      <td>b</td>\n",
              "      <td>2016-06-01</td>\n",
              "      <td>13:31</td>\n",
              "      <td>0</td>\n",
              "      <td>1071.428571</td>\n",
              "      <td>2016-06-01 13:31:00</td>\n",
              "    </tr>\n",
              "    <tr>\n",
              "      <th>5870</th>\n",
              "      <td>1</td>\n",
              "      <td>1931</td>\n",
              "      <td>b</td>\n",
              "      <td>2017-04-20</td>\n",
              "      <td>12:56</td>\n",
              "      <td>0</td>\n",
              "      <td>714.285714</td>\n",
              "      <td>2017-04-20 12:56:00</td>\n",
              "    </tr>\n",
              "    <tr>\n",
              "      <th>6022</th>\n",
              "      <td>1</td>\n",
              "      <td>1931</td>\n",
              "      <td>b</td>\n",
              "      <td>2017-06-01</td>\n",
              "      <td>12:40</td>\n",
              "      <td>0</td>\n",
              "      <td>571.428571</td>\n",
              "      <td>2017-06-01 12:40:00</td>\n",
              "    </tr>\n",
              "    <tr>\n",
              "      <th>4735</th>\n",
              "      <td>1</td>\n",
              "      <td>1931</td>\n",
              "      <td>b</td>\n",
              "      <td>2016-07-26</td>\n",
              "      <td>13:24</td>\n",
              "      <td>0</td>\n",
              "      <td>1000.000000</td>\n",
              "      <td>2016-07-26 13:24:00</td>\n",
              "    </tr>\n",
              "    <tr>\n",
              "      <th>...</th>\n",
              "      <td>...</td>\n",
              "      <td>...</td>\n",
              "      <td>...</td>\n",
              "      <td>...</td>\n",
              "      <td>...</td>\n",
              "      <td>...</td>\n",
              "      <td>...</td>\n",
              "      <td>...</td>\n",
              "    </tr>\n",
              "    <tr>\n",
              "      <th>8236</th>\n",
              "      <td>1</td>\n",
              "      <td>3424</td>\n",
              "      <td>b</td>\n",
              "      <td>2019-02-22</td>\n",
              "      <td>14:16</td>\n",
              "      <td>0</td>\n",
              "      <td>928.571429</td>\n",
              "      <td>2019-02-22 14:16:00</td>\n",
              "    </tr>\n",
              "    <tr>\n",
              "      <th>8241</th>\n",
              "      <td>1</td>\n",
              "      <td>3425</td>\n",
              "      <td>b</td>\n",
              "      <td>2019-02-25</td>\n",
              "      <td>14:15</td>\n",
              "      <td>0</td>\n",
              "      <td>428.571429</td>\n",
              "      <td>2019-02-25 14:15:00</td>\n",
              "    </tr>\n",
              "    <tr>\n",
              "      <th>8248</th>\n",
              "      <td>1</td>\n",
              "      <td>3426</td>\n",
              "      <td>a</td>\n",
              "      <td>2019-02-26</td>\n",
              "      <td>13:23</td>\n",
              "      <td>0</td>\n",
              "      <td>1142.857143</td>\n",
              "      <td>2019-02-26 13:23:00</td>\n",
              "    </tr>\n",
              "    <tr>\n",
              "      <th>8249</th>\n",
              "      <td>1</td>\n",
              "      <td>3427</td>\n",
              "      <td>a</td>\n",
              "      <td>2019-02-26</td>\n",
              "      <td>13:42</td>\n",
              "      <td>0</td>\n",
              "      <td>1214.285714</td>\n",
              "      <td>2019-02-26 13:42:00</td>\n",
              "    </tr>\n",
              "    <tr>\n",
              "      <th>8250</th>\n",
              "      <td>1</td>\n",
              "      <td>3428</td>\n",
              "      <td>c</td>\n",
              "      <td>2019-02-26</td>\n",
              "      <td>14:42</td>\n",
              "      <td>0</td>\n",
              "      <td>1500.000000</td>\n",
              "      <td>2019-02-26 14:42:00</td>\n",
              "    </tr>\n",
              "  </tbody>\n",
              "</table>\n",
              "<p>3782 rows × 8 columns</p>\n",
              "</div>\n",
              "      <button class=\"colab-df-convert\" onclick=\"convertToInteractive('df-37078538-e3b2-4d89-8443-0018b2e9fb7d')\"\n",
              "              title=\"Convert this dataframe to an interactive table.\"\n",
              "              style=\"display:none;\">\n",
              "        \n",
              "  <svg xmlns=\"http://www.w3.org/2000/svg\" height=\"24px\"viewBox=\"0 0 24 24\"\n",
              "       width=\"24px\">\n",
              "    <path d=\"M0 0h24v24H0V0z\" fill=\"none\"/>\n",
              "    <path d=\"M18.56 5.44l.94 2.06.94-2.06 2.06-.94-2.06-.94-.94-2.06-.94 2.06-2.06.94zm-11 1L8.5 8.5l.94-2.06 2.06-.94-2.06-.94L8.5 2.5l-.94 2.06-2.06.94zm10 10l.94 2.06.94-2.06 2.06-.94-2.06-.94-.94-2.06-.94 2.06-2.06.94z\"/><path d=\"M17.41 7.96l-1.37-1.37c-.4-.4-.92-.59-1.43-.59-.52 0-1.04.2-1.43.59L10.3 9.45l-7.72 7.72c-.78.78-.78 2.05 0 2.83L4 21.41c.39.39.9.59 1.41.59.51 0 1.02-.2 1.41-.59l7.78-7.78 2.81-2.81c.8-.78.8-2.07 0-2.86zM5.41 20L4 18.59l7.72-7.72 1.47 1.35L5.41 20z\"/>\n",
              "  </svg>\n",
              "      </button>\n",
              "      \n",
              "  <style>\n",
              "    .colab-df-container {\n",
              "      display:flex;\n",
              "      flex-wrap:wrap;\n",
              "      gap: 12px;\n",
              "    }\n",
              "\n",
              "    .colab-df-convert {\n",
              "      background-color: #E8F0FE;\n",
              "      border: none;\n",
              "      border-radius: 50%;\n",
              "      cursor: pointer;\n",
              "      display: none;\n",
              "      fill: #1967D2;\n",
              "      height: 32px;\n",
              "      padding: 0 0 0 0;\n",
              "      width: 32px;\n",
              "    }\n",
              "\n",
              "    .colab-df-convert:hover {\n",
              "      background-color: #E2EBFA;\n",
              "      box-shadow: 0px 1px 2px rgba(60, 64, 67, 0.3), 0px 1px 3px 1px rgba(60, 64, 67, 0.15);\n",
              "      fill: #174EA6;\n",
              "    }\n",
              "\n",
              "    [theme=dark] .colab-df-convert {\n",
              "      background-color: #3B4455;\n",
              "      fill: #D2E3FC;\n",
              "    }\n",
              "\n",
              "    [theme=dark] .colab-df-convert:hover {\n",
              "      background-color: #434B5C;\n",
              "      box-shadow: 0px 1px 3px 1px rgba(0, 0, 0, 0.15);\n",
              "      filter: drop-shadow(0px 1px 2px rgba(0, 0, 0, 0.3));\n",
              "      fill: #FFFFFF;\n",
              "    }\n",
              "  </style>\n",
              "\n",
              "      <script>\n",
              "        const buttonEl =\n",
              "          document.querySelector('#df-37078538-e3b2-4d89-8443-0018b2e9fb7d button.colab-df-convert');\n",
              "        buttonEl.style.display =\n",
              "          google.colab.kernel.accessAllowed ? 'block' : 'none';\n",
              "\n",
              "        async function convertToInteractive(key) {\n",
              "          const element = document.querySelector('#df-37078538-e3b2-4d89-8443-0018b2e9fb7d');\n",
              "          const dataTable =\n",
              "            await google.colab.kernel.invokeFunction('convertToInteractive',\n",
              "                                                     [key], {});\n",
              "          if (!dataTable) return;\n",
              "\n",
              "          const docLinkHtml = 'Like what you see? Visit the ' +\n",
              "            '<a target=\"_blank\" href=https://colab.research.google.com/notebooks/data_table.ipynb>data table notebook</a>'\n",
              "            + ' to learn more about interactive tables.';\n",
              "          element.innerHTML = '';\n",
              "          dataTable['output_type'] = 'display_data';\n",
              "          await google.colab.output.renderOutput(dataTable, element);\n",
              "          const docLink = document.createElement('div');\n",
              "          docLink.innerHTML = docLinkHtml;\n",
              "          element.appendChild(docLink);\n",
              "        }\n",
              "      </script>\n",
              "    </div>\n",
              "  </div>\n",
              "  "
            ],
            "text/plain": [
              "      store_id  card_id  ...       amount            datetime\n",
              "6141         1      544  ...   571.428571 2017-06-30 14:19:00\n",
              "4481         1     1931  ...  1071.428571 2016-06-01 13:31:00\n",
              "5870         1     1931  ...   714.285714 2017-04-20 12:56:00\n",
              "6022         1     1931  ...   571.428571 2017-06-01 12:40:00\n",
              "4735         1     1931  ...  1000.000000 2016-07-26 13:24:00\n",
              "...        ...      ...  ...          ...                 ...\n",
              "8236         1     3424  ...   928.571429 2019-02-22 14:16:00\n",
              "8241         1     3425  ...   428.571429 2019-02-25 14:15:00\n",
              "8248         1     3426  ...  1142.857143 2019-02-26 13:23:00\n",
              "8249         1     3427  ...  1214.285714 2019-02-26 13:42:00\n",
              "8250         1     3428  ...  1500.000000 2019-02-26 14:42:00\n",
              "\n",
              "[3782 rows x 8 columns]"
            ]
          },
          "metadata": {},
          "execution_count": 11
        }
      ]
    },
    {
      "cell_type": "code",
      "source": [
        "trial.to_records()[:] ## index 포함 numpy array로 반환하는 기능 "
      ],
      "metadata": {
        "colab": {
          "base_uri": "https://localhost:8080/"
        },
        "id": "e_7w_Smc9Si4",
        "outputId": "666680b7-a8fc-44a7-b14c-8f7a858dff2a"
      },
      "execution_count": 12,
      "outputs": [
        {
          "output_type": "execute_result",
          "data": {
            "text/plain": [
              "rec.array([(4481, 1, 1931, 'b', '2016-06-01', '13:31', 0, 1071.42857143, '2016-06-01T13:31:00.000000000'),\n",
              "           (4482, 1, 1932, 'h', '2016-06-01', '14:18', 0,  428.57142857, '2016-06-01T14:18:00.000000000'),\n",
              "           (4483, 1, 1933, 'c', '2016-06-01', '15:07', 0, 1142.85714286, '2016-06-01T15:07:00.000000000'),\n",
              "           ...,\n",
              "           (8260, 1, 2845, 'b', '2019-02-28', '13:45', 0,  500.        , '2019-02-28T13:45:00.000000000'),\n",
              "           (8261, 1, 2917, 'a', '2019-02-28', '14:27', 0,  500.        , '2019-02-28T14:27:00.000000000'),\n",
              "           (8262, 1, 3423, 'b', '2019-02-28', '16:17', 0, 1000.        , '2019-02-28T16:17:00.000000000')],\n",
              "          dtype=[('index', '<i8'), ('store_id', '<i8'), ('card_id', '<i8'), ('card_company', 'O'), ('transacted_date', 'O'), ('transacted_time', 'O'), ('installment_term', '<i8'), ('amount', '<f8'), ('datetime', '<M8[ns]')])"
            ]
          },
          "metadata": {},
          "execution_count": 12
        }
      ]
    },
    {
      "cell_type": "code",
      "source": [
        "for i in trial.to_records()[:]: # 환불 데이터를 차례대로 검사합니다.\n",
        "            a = i['card_id']"
      ],
      "metadata": {
        "id": "D8nnfNhQ93Tg"
      },
      "execution_count": 13,
      "outputs": []
    },
    {
      "cell_type": "code",
      "source": [
        "## 환불 거래를 제거하는 함수를 정의합니다.\n",
        "def remove_refund(df):\n",
        "    refund = df[df['amount']<0] # 매출액 음숫값 데이터 생성 ->환불 데이터\n",
        "    non_refund = df[df['amount']>0] # 매출액 양숫값 데이터 생성\n",
        "    removed_data = pd.DataFrame()\n",
        "    \n",
        "    for i in tqdm(df['store_id'].unique()):\n",
        "        divided_data = non_refund[non_refund['store_id']==i] # 매출액이 양숫값인 데이터에서 상전별로 나누는 섹션\n",
        "        divided_data2 = refund[refund['store_id']==i] # 매출액이 음숫값인 데이터를 상점별로 나누는 섹션\n",
        "        for neg in divided_data2.to_records()[:]: # 환불 데이터를 차례대로 검사합니다.\n",
        "            refund_store = neg['store_id']\n",
        "            refund_id = neg['card_id'] # 환불 카드 아이디\n",
        "            refund_datetime = neg['datetime'] # 환불 시간\n",
        "            refund_amount = abs(neg['amount']) # 매출 음숫값의 절댓값-> 환불 값\n",
        "            ## 환불 시간 이전의 데이터 중 카드 이이디와 환불액이 같은 후보 리스트를 뽑습니다.\n",
        "            refund_pay_list = divided_data[divided_data['datetime']<=refund_datetime]\n",
        "            refund_pay_list = refund_pay_list[refund_pay_list['card_id']==refund_id]\n",
        "            refund_pay_list = refund_pay_list[refund_pay_list['amount']==refund_amount]\n",
        "                     \n",
        "            # 후보 리스트가 있으면 카드 아이디, 환불액이 같으면서 가장 최근시간을 제거합니다.\n",
        "            if(len(refund_pay_list)!=0):\n",
        "                refund_datetime = max(refund_pay_list['datetime']) # 가장 최근 시간을 구합니다\n",
        "                noise_list = divided_data[divided_data['datetime']==refund_datetime] # 가장 최근시간\n",
        "                noise_list = noise_list[noise_list['card_id']==refund_id] # 환불 카드 아이디\n",
        "                noise_list = noise_list[noise_list['amount']==refund_amount] ## 환불액\n",
        "                divided_data = divided_data.drop(index=noise_list.index) # 인덱스를 통해 제거\n",
        "                    \n",
        "        ## 제거한 데이터를 데이터프레임에 추가합니다.\n",
        "        removed_data = pd.concat([removed_data,divided_data],axis=0)\n",
        "    \n",
        "    return removed_data"
      ],
      "metadata": {
        "id": "yw1H1x5Z5xjM"
      },
      "execution_count": 14,
      "outputs": []
    },
    {
      "cell_type": "code",
      "source": [
        "## 환불 거래 제거 함수를 통해 환불 거래를 제거합니다.\n",
        "positive_data = remove_refund(train)\n",
        "plt.figure(figsize=(8, 4))\n",
        "sns.boxplot(positive_data['amount'])"
      ],
      "metadata": {
        "colab": {
          "base_uri": "https://localhost:8080/",
          "height": 368
        },
        "id": "_7FJ3wqG_NQj",
        "outputId": "f2027720-ae5e-4eff-8961-45f97452e6dc"
      },
      "execution_count": 15,
      "outputs": [
        {
          "output_type": "stream",
          "name": "stderr",
          "text": [
            "100%|██████████| 9/9 [00:01<00:00,  7.73it/s]\n",
            "/usr/local/lib/python3.7/dist-packages/seaborn/_decorators.py:43: FutureWarning: Pass the following variable as a keyword arg: x. From version 0.12, the only valid positional argument will be `data`, and passing other arguments without an explicit keyword will result in an error or misinterpretation.\n",
            "  FutureWarning\n"
          ]
        },
        {
          "output_type": "execute_result",
          "data": {
            "text/plain": [
              "<matplotlib.axes._subplots.AxesSubplot at 0x7fcf667453d0>"
            ]
          },
          "metadata": {},
          "execution_count": 15
        },
        {
          "output_type": "display_data",
          "data": {
            "image/png": "[encoded data removed]",
            "text/plain": [
              "<Figure size 576x288 with 1 Axes>"
            ]
          },
          "metadata": {
            "needs_background": "light"
          }
        }
      ]
    },
    {
      "cell_type": "markdown",
      "source": [
        "다운 샘플링"
      ],
      "metadata": {
        "id": "vgmQLGWRAT8o"
      }
    },
    {
      "cell_type": "code",
      "source": [
        "# 5개의 행을 출력합니다.\n",
        "positive_data.head()"
      ],
      "metadata": {
        "colab": {
          "base_uri": "https://localhost:8080/",
          "height": 206
        },
        "id": "XUyT3KEw_VXB",
        "outputId": "f03a0e36-3c0d-4daf-c2cc-9d31cffb0ef6"
      },
      "execution_count": 16,
      "outputs": [
        {
          "output_type": "execute_result",
          "data": {
            "text/html": [
              "\n",
              "  <div id=\"df-0c6d3d28-047f-4b8c-9e54-4b6290de92b9\">\n",
              "    <div class=\"colab-df-container\">\n",
              "      <div>\n",
              "<style scoped>\n",
              "    .dataframe tbody tr th:only-of-type {\n",
              "        vertical-align: middle;\n",
              "    }\n",
              "\n",
              "    .dataframe tbody tr th {\n",
              "        vertical-align: top;\n",
              "    }\n",
              "\n",
              "    .dataframe thead th {\n",
              "        text-align: right;\n",
              "    }\n",
              "</style>\n",
              "<table border=\"1\" class=\"dataframe\">\n",
              "  <thead>\n",
              "    <tr style=\"text-align: right;\">\n",
              "      <th></th>\n",
              "      <th>store_id</th>\n",
              "      <th>card_id</th>\n",
              "      <th>card_company</th>\n",
              "      <th>transacted_date</th>\n",
              "      <th>transacted_time</th>\n",
              "      <th>installment_term</th>\n",
              "      <th>amount</th>\n",
              "      <th>datetime</th>\n",
              "    </tr>\n",
              "  </thead>\n",
              "  <tbody>\n",
              "    <tr>\n",
              "      <th>0</th>\n",
              "      <td>0</td>\n",
              "      <td>0</td>\n",
              "      <td>b</td>\n",
              "      <td>2016-06-01</td>\n",
              "      <td>13:13</td>\n",
              "      <td>0</td>\n",
              "      <td>1857.142857</td>\n",
              "      <td>2016-06-01 13:13:00</td>\n",
              "    </tr>\n",
              "    <tr>\n",
              "      <th>1</th>\n",
              "      <td>0</td>\n",
              "      <td>1</td>\n",
              "      <td>h</td>\n",
              "      <td>2016-06-01</td>\n",
              "      <td>18:12</td>\n",
              "      <td>0</td>\n",
              "      <td>857.142857</td>\n",
              "      <td>2016-06-01 18:12:00</td>\n",
              "    </tr>\n",
              "    <tr>\n",
              "      <th>2</th>\n",
              "      <td>0</td>\n",
              "      <td>2</td>\n",
              "      <td>c</td>\n",
              "      <td>2016-06-01</td>\n",
              "      <td>18:52</td>\n",
              "      <td>0</td>\n",
              "      <td>2000.000000</td>\n",
              "      <td>2016-06-01 18:52:00</td>\n",
              "    </tr>\n",
              "    <tr>\n",
              "      <th>3</th>\n",
              "      <td>0</td>\n",
              "      <td>3</td>\n",
              "      <td>a</td>\n",
              "      <td>2016-06-01</td>\n",
              "      <td>20:22</td>\n",
              "      <td>0</td>\n",
              "      <td>7857.142857</td>\n",
              "      <td>2016-06-01 20:22:00</td>\n",
              "    </tr>\n",
              "    <tr>\n",
              "      <th>4</th>\n",
              "      <td>0</td>\n",
              "      <td>4</td>\n",
              "      <td>c</td>\n",
              "      <td>2016-06-02</td>\n",
              "      <td>11:06</td>\n",
              "      <td>0</td>\n",
              "      <td>2000.000000</td>\n",
              "      <td>2016-06-02 11:06:00</td>\n",
              "    </tr>\n",
              "  </tbody>\n",
              "</table>\n",
              "</div>\n",
              "      <button class=\"colab-df-convert\" onclick=\"convertToInteractive('df-0c6d3d28-047f-4b8c-9e54-4b6290de92b9')\"\n",
              "              title=\"Convert this dataframe to an interactive table.\"\n",
              "              style=\"display:none;\">\n",
              "        \n",
              "  <svg xmlns=\"http://www.w3.org/2000/svg\" height=\"24px\"viewBox=\"0 0 24 24\"\n",
              "       width=\"24px\">\n",
              "    <path d=\"M0 0h24v24H0V0z\" fill=\"none\"/>\n",
              "    <path d=\"M18.56 5.44l.94 2.06.94-2.06 2.06-.94-2.06-.94-.94-2.06-.94 2.06-2.06.94zm-11 1L8.5 8.5l.94-2.06 2.06-.94-2.06-.94L8.5 2.5l-.94 2.06-2.06.94zm10 10l.94 2.06.94-2.06 2.06-.94-2.06-.94-.94-2.06-.94 2.06-2.06.94z\"/><path d=\"M17.41 7.96l-1.37-1.37c-.4-.4-.92-.59-1.43-.59-.52 0-1.04.2-1.43.59L10.3 9.45l-7.72 7.72c-.78.78-.78 2.05 0 2.83L4 21.41c.39.39.9.59 1.41.59.51 0 1.02-.2 1.41-.59l7.78-7.78 2.81-2.81c.8-.78.8-2.07 0-2.86zM5.41 20L4 18.59l7.72-7.72 1.47 1.35L5.41 20z\"/>\n",
              "  </svg>\n",
              "      </button>\n",
              "      \n",
              "  <style>\n",
              "    .colab-df-container {\n",
              "      display:flex;\n",
              "      flex-wrap:wrap;\n",
              "      gap: 12px;\n",
              "    }\n",
              "\n",
              "    .colab-df-convert {\n",
              "      background-color: #E8F0FE;\n",
              "      border: none;\n",
              "      border-radius: 50%;\n",
              "      cursor: pointer;\n",
              "      display: none;\n",
              "      fill: #1967D2;\n",
              "      height: 32px;\n",
              "      padding: 0 0 0 0;\n",
              "      width: 32px;\n",
              "    }\n",
              "\n",
              "    .colab-df-convert:hover {\n",
              "      background-color: #E2EBFA;\n",
              "      box-shadow: 0px 1px 2px rgba(60, 64, 67, 0.3), 0px 1px 3px 1px rgba(60, 64, 67, 0.15);\n",
              "      fill: #174EA6;\n",
              "    }\n",
              "\n",
              "    [theme=dark] .colab-df-convert {\n",
              "      background-color: #3B4455;\n",
              "      fill: #D2E3FC;\n",
              "    }\n",
              "\n",
              "    [theme=dark] .colab-df-convert:hover {\n",
              "      background-color: #434B5C;\n",
              "      box-shadow: 0px 1px 3px 1px rgba(0, 0, 0, 0.15);\n",
              "      filter: drop-shadow(0px 1px 2px rgba(0, 0, 0, 0.3));\n",
              "      fill: #FFFFFF;\n",
              "    }\n",
              "  </style>\n",
              "\n",
              "      <script>\n",
              "        const buttonEl =\n",
              "          document.querySelector('#df-0c6d3d28-047f-4b8c-9e54-4b6290de92b9 button.colab-df-convert');\n",
              "        buttonEl.style.display =\n",
              "          google.colab.kernel.accessAllowed ? 'block' : 'none';\n",
              "\n",
              "        async function convertToInteractive(key) {\n",
              "          const element = document.querySelector('#df-0c6d3d28-047f-4b8c-9e54-4b6290de92b9');\n",
              "          const dataTable =\n",
              "            await google.colab.kernel.invokeFunction('convertToInteractive',\n",
              "                                                     [key], {});\n",
              "          if (!dataTable) return;\n",
              "\n",
              "          const docLinkHtml = 'Like what you see? Visit the ' +\n",
              "            '<a target=\"_blank\" href=https://colab.research.google.com/notebooks/data_table.ipynb>data table notebook</a>'\n",
              "            + ' to learn more about interactive tables.';\n",
              "          element.innerHTML = '';\n",
              "          dataTable['output_type'] = 'display_data';\n",
              "          await google.colab.output.renderOutput(dataTable, element);\n",
              "          const docLink = document.createElement('div');\n",
              "          docLink.innerHTML = docLinkHtml;\n",
              "          element.appendChild(docLink);\n",
              "        }\n",
              "      </script>\n",
              "    </div>\n",
              "  </div>\n",
              "  "
            ],
            "text/plain": [
              "   store_id  card_id  ...       amount            datetime\n",
              "0         0        0  ...  1857.142857 2016-06-01 13:13:00\n",
              "1         0        1  ...   857.142857 2016-06-01 18:12:00\n",
              "2         0        2  ...  2000.000000 2016-06-01 18:52:00\n",
              "3         0        3  ...  7857.142857 2016-06-01 20:22:00\n",
              "4         0        4  ...  2000.000000 2016-06-02 11:06:00\n",
              "\n",
              "[5 rows x 8 columns]"
            ]
          },
          "metadata": {},
          "execution_count": 16
        }
      ]
    },
    {
      "cell_type": "code",
      "source": [
        "positive_data['year_month'] = positive_data['transacted_date'].str.slice(stop=7) ##7개만 slice\n",
        "year_month = positive_data['year_month'].drop_duplicates() \n",
        "year_month"
      ],
      "metadata": {
        "colab": {
          "base_uri": "https://localhost:8080/"
        },
        "id": "TFJskuHmBgGp",
        "outputId": "7bb23717-e740-4def-92bf-c53ace793ca8"
      },
      "execution_count": 17,
      "outputs": [
        {
          "output_type": "execute_result",
          "data": {
            "text/plain": [
              "0       2016-06\n",
              "145     2016-07\n",
              "323     2016-08\n",
              "494     2016-09\n",
              "654     2016-10\n",
              "821     2016-11\n",
              "953     2016-12\n",
              "1098    2017-01\n",
              "1216    2017-02\n",
              "1363    2017-03\n",
              "1497    2017-04\n",
              "1632    2017-05\n",
              "1771    2017-06\n",
              "1907    2017-07\n",
              "2039    2017-08\n",
              "2175    2017-09\n",
              "2325    2017-10\n",
              "2442    2017-11\n",
              "2568    2017-12\n",
              "2702    2018-01\n",
              "2818    2018-02\n",
              "2938    2018-03\n",
              "3086    2018-04\n",
              "3203    2018-05\n",
              "3335    2018-06\n",
              "3469    2018-07\n",
              "3601    2018-08\n",
              "3725    2018-09\n",
              "3853    2018-10\n",
              "3979    2018-11\n",
              "4099    2018-12\n",
              "4241    2019-01\n",
              "4374    2019-02\n",
              "Name: year_month, dtype: object"
            ]
          },
          "metadata": {},
          "execution_count": 17
        }
      ]
    },
    {
      "cell_type": "code",
      "source": [
        "positive_data.groupby(['store_id', 'year_month']).amount.sum() ##series "
      ],
      "metadata": {
        "colab": {
          "base_uri": "https://localhost:8080/"
        },
        "id": "RZHwxKT9BdNq",
        "outputId": "886649f5-8caf-4f60-f2ac-f994d63169ff"
      },
      "execution_count": 18,
      "outputs": [
        {
          "output_type": "execute_result",
          "data": {
            "text/plain": [
              "store_id  year_month\n",
              "0         2016-06       7.470000e+05\n",
              "          2016-07       1.005000e+06\n",
              "          2016-08       8.697143e+05\n",
              "          2016-09       8.978571e+05\n",
              "          2016-10       8.354286e+05\n",
              "                            ...     \n",
              "9         2017-12       3.337143e+05\n",
              "          2018-01       2.954286e+05\n",
              "          2018-02       6.282857e+05\n",
              "          2018-03       3.185714e+05\n",
              "          2018-04       8.411429e+05\n",
              "Name: amount, Length: 274, dtype: float64"
            ]
          },
          "metadata": {},
          "execution_count": 18
        }
      ]
    },
    {
      "cell_type": "code",
      "source": [
        "a=pd.DataFrame(positive_data.groupby(['store_id', 'year_month']).amount.sum()).reset_index(drop=False,inplace=False)\n",
        "a"
      ],
      "metadata": {
        "colab": {
          "base_uri": "https://localhost:8080/",
          "height": 424
        },
        "id": "Pgf6T3paCM1R",
        "outputId": "8646c7d0-e7f5-4aec-994f-c9a27dc01405"
      },
      "execution_count": 19,
      "outputs": [
        {
          "output_type": "execute_result",
          "data": {
            "text/html": [
              "\n",
              "  <div id=\"df-2b89afc5-2764-4a79-9eef-648717d4f2c9\">\n",
              "    <div class=\"colab-df-container\">\n",
              "      <div>\n",
              "<style scoped>\n",
              "    .dataframe tbody tr th:only-of-type {\n",
              "        vertical-align: middle;\n",
              "    }\n",
              "\n",
              "    .dataframe tbody tr th {\n",
              "        vertical-align: top;\n",
              "    }\n",
              "\n",
              "    .dataframe thead th {\n",
              "        text-align: right;\n",
              "    }\n",
              "</style>\n",
              "<table border=\"1\" class=\"dataframe\">\n",
              "  <thead>\n",
              "    <tr style=\"text-align: right;\">\n",
              "      <th></th>\n",
              "      <th>store_id</th>\n",
              "      <th>year_month</th>\n",
              "      <th>amount</th>\n",
              "    </tr>\n",
              "  </thead>\n",
              "  <tbody>\n",
              "    <tr>\n",
              "      <th>0</th>\n",
              "      <td>0</td>\n",
              "      <td>2016-06</td>\n",
              "      <td>7.470000e+05</td>\n",
              "    </tr>\n",
              "    <tr>\n",
              "      <th>1</th>\n",
              "      <td>0</td>\n",
              "      <td>2016-07</td>\n",
              "      <td>1.005000e+06</td>\n",
              "    </tr>\n",
              "    <tr>\n",
              "      <th>2</th>\n",
              "      <td>0</td>\n",
              "      <td>2016-08</td>\n",
              "      <td>8.697143e+05</td>\n",
              "    </tr>\n",
              "    <tr>\n",
              "      <th>3</th>\n",
              "      <td>0</td>\n",
              "      <td>2016-09</td>\n",
              "      <td>8.978571e+05</td>\n",
              "    </tr>\n",
              "    <tr>\n",
              "      <th>4</th>\n",
              "      <td>0</td>\n",
              "      <td>2016-10</td>\n",
              "      <td>8.354286e+05</td>\n",
              "    </tr>\n",
              "    <tr>\n",
              "      <th>...</th>\n",
              "      <td>...</td>\n",
              "      <td>...</td>\n",
              "      <td>...</td>\n",
              "    </tr>\n",
              "    <tr>\n",
              "      <th>269</th>\n",
              "      <td>9</td>\n",
              "      <td>2017-12</td>\n",
              "      <td>3.337143e+05</td>\n",
              "    </tr>\n",
              "    <tr>\n",
              "      <th>270</th>\n",
              "      <td>9</td>\n",
              "      <td>2018-01</td>\n",
              "      <td>2.954286e+05</td>\n",
              "    </tr>\n",
              "    <tr>\n",
              "      <th>271</th>\n",
              "      <td>9</td>\n",
              "      <td>2018-02</td>\n",
              "      <td>6.282857e+05</td>\n",
              "    </tr>\n",
              "    <tr>\n",
              "      <th>272</th>\n",
              "      <td>9</td>\n",
              "      <td>2018-03</td>\n",
              "      <td>3.185714e+05</td>\n",
              "    </tr>\n",
              "    <tr>\n",
              "      <th>273</th>\n",
              "      <td>9</td>\n",
              "      <td>2018-04</td>\n",
              "      <td>8.411429e+05</td>\n",
              "    </tr>\n",
              "  </tbody>\n",
              "</table>\n",
              "<p>274 rows × 3 columns</p>\n",
              "</div>\n",
              "      <button class=\"colab-df-convert\" onclick=\"convertToInteractive('df-2b89afc5-2764-4a79-9eef-648717d4f2c9')\"\n",
              "              title=\"Convert this dataframe to an interactive table.\"\n",
              "              style=\"display:none;\">\n",
              "        \n",
              "  <svg xmlns=\"http://www.w3.org/2000/svg\" height=\"24px\"viewBox=\"0 0 24 24\"\n",
              "       width=\"24px\">\n",
              "    <path d=\"M0 0h24v24H0V0z\" fill=\"none\"/>\n",
              "    <path d=\"M18.56 5.44l.94 2.06.94-2.06 2.06-.94-2.06-.94-.94-2.06-.94 2.06-2.06.94zm-11 1L8.5 8.5l.94-2.06 2.06-.94-2.06-.94L8.5 2.5l-.94 2.06-2.06.94zm10 10l.94 2.06.94-2.06 2.06-.94-2.06-.94-.94-2.06-.94 2.06-2.06.94z\"/><path d=\"M17.41 7.96l-1.37-1.37c-.4-.4-.92-.59-1.43-.59-.52 0-1.04.2-1.43.59L10.3 9.45l-7.72 7.72c-.78.78-.78 2.05 0 2.83L4 21.41c.39.39.9.59 1.41.59.51 0 1.02-.2 1.41-.59l7.78-7.78 2.81-2.81c.8-.78.8-2.07 0-2.86zM5.41 20L4 18.59l7.72-7.72 1.47 1.35L5.41 20z\"/>\n",
              "  </svg>\n",
              "      </button>\n",
              "      \n",
              "  <style>\n",
              "    .colab-df-container {\n",
              "      display:flex;\n",
              "      flex-wrap:wrap;\n",
              "      gap: 12px;\n",
              "    }\n",
              "\n",
              "    .colab-df-convert {\n",
              "      background-color: #E8F0FE;\n",
              "      border: none;\n",
              "      border-radius: 50%;\n",
              "      cursor: pointer;\n",
              "      display: none;\n",
              "      fill: #1967D2;\n",
              "      height: 32px;\n",
              "      padding: 0 0 0 0;\n",
              "      width: 32px;\n",
              "    }\n",
              "\n",
              "    .colab-df-convert:hover {\n",
              "      background-color: #E2EBFA;\n",
              "      box-shadow: 0px 1px 2px rgba(60, 64, 67, 0.3), 0px 1px 3px 1px rgba(60, 64, 67, 0.15);\n",
              "      fill: #174EA6;\n",
              "    }\n",
              "\n",
              "    [theme=dark] .colab-df-convert {\n",
              "      background-color: #3B4455;\n",
              "      fill: #D2E3FC;\n",
              "    }\n",
              "\n",
              "    [theme=dark] .colab-df-convert:hover {\n",
              "      background-color: #434B5C;\n",
              "      box-shadow: 0px 1px 3px 1px rgba(0, 0, 0, 0.15);\n",
              "      filter: drop-shadow(0px 1px 2px rgba(0, 0, 0, 0.3));\n",
              "      fill: #FFFFFF;\n",
              "    }\n",
              "  </style>\n",
              "\n",
              "      <script>\n",
              "        const buttonEl =\n",
              "          document.querySelector('#df-2b89afc5-2764-4a79-9eef-648717d4f2c9 button.colab-df-convert');\n",
              "        buttonEl.style.display =\n",
              "          google.colab.kernel.accessAllowed ? 'block' : 'none';\n",
              "\n",
              "        async function convertToInteractive(key) {\n",
              "          const element = document.querySelector('#df-2b89afc5-2764-4a79-9eef-648717d4f2c9');\n",
              "          const dataTable =\n",
              "            await google.colab.kernel.invokeFunction('convertToInteractive',\n",
              "                                                     [key], {});\n",
              "          if (!dataTable) return;\n",
              "\n",
              "          const docLinkHtml = 'Like what you see? Visit the ' +\n",
              "            '<a target=\"_blank\" href=https://colab.research.google.com/notebooks/data_table.ipynb>data table notebook</a>'\n",
              "            + ' to learn more about interactive tables.';\n",
              "          element.innerHTML = '';\n",
              "          dataTable['output_type'] = 'display_data';\n",
              "          await google.colab.output.renderOutput(dataTable, element);\n",
              "          const docLink = document.createElement('div');\n",
              "          docLink.innerHTML = docLinkHtml;\n",
              "          element.appendChild(docLink);\n",
              "        }\n",
              "      </script>\n",
              "    </div>\n",
              "  </div>\n",
              "  "
            ],
            "text/plain": [
              "     store_id year_month        amount\n",
              "0           0    2016-06  7.470000e+05\n",
              "1           0    2016-07  1.005000e+06\n",
              "2           0    2016-08  8.697143e+05\n",
              "3           0    2016-09  8.978571e+05\n",
              "4           0    2016-10  8.354286e+05\n",
              "..        ...        ...           ...\n",
              "269         9    2017-12  3.337143e+05\n",
              "270         9    2018-01  2.954286e+05\n",
              "271         9    2018-02  6.282857e+05\n",
              "272         9    2018-03  3.185714e+05\n",
              "273         9    2018-04  8.411429e+05\n",
              "\n",
              "[274 rows x 3 columns]"
            ]
          },
          "metadata": {},
          "execution_count": 19
        }
      ]
    },
    {
      "cell_type": "code",
      "source": [
        "b=a[a['store_id']==0]\n",
        "b.head()"
      ],
      "metadata": {
        "colab": {
          "base_uri": "https://localhost:8080/",
          "height": 206
        },
        "id": "ElWvLGVPGT8k",
        "outputId": "f3cbffb5-1335-4912-8b60-bceb5339e3a9"
      },
      "execution_count": 20,
      "outputs": [
        {
          "output_type": "execute_result",
          "data": {
            "text/html": [
              "\n",
              "  <div id=\"df-d65bba53-8e56-4565-8701-57a50e67090a\">\n",
              "    <div class=\"colab-df-container\">\n",
              "      <div>\n",
              "<style scoped>\n",
              "    .dataframe tbody tr th:only-of-type {\n",
              "        vertical-align: middle;\n",
              "    }\n",
              "\n",
              "    .dataframe tbody tr th {\n",
              "        vertical-align: top;\n",
              "    }\n",
              "\n",
              "    .dataframe thead th {\n",
              "        text-align: right;\n",
              "    }\n",
              "</style>\n",
              "<table border=\"1\" class=\"dataframe\">\n",
              "  <thead>\n",
              "    <tr style=\"text-align: right;\">\n",
              "      <th></th>\n",
              "      <th>store_id</th>\n",
              "      <th>year_month</th>\n",
              "      <th>amount</th>\n",
              "    </tr>\n",
              "  </thead>\n",
              "  <tbody>\n",
              "    <tr>\n",
              "      <th>0</th>\n",
              "      <td>0</td>\n",
              "      <td>2016-06</td>\n",
              "      <td>7.470000e+05</td>\n",
              "    </tr>\n",
              "    <tr>\n",
              "      <th>1</th>\n",
              "      <td>0</td>\n",
              "      <td>2016-07</td>\n",
              "      <td>1.005000e+06</td>\n",
              "    </tr>\n",
              "    <tr>\n",
              "      <th>2</th>\n",
              "      <td>0</td>\n",
              "      <td>2016-08</td>\n",
              "      <td>8.697143e+05</td>\n",
              "    </tr>\n",
              "    <tr>\n",
              "      <th>3</th>\n",
              "      <td>0</td>\n",
              "      <td>2016-09</td>\n",
              "      <td>8.978571e+05</td>\n",
              "    </tr>\n",
              "    <tr>\n",
              "      <th>4</th>\n",
              "      <td>0</td>\n",
              "      <td>2016-10</td>\n",
              "      <td>8.354286e+05</td>\n",
              "    </tr>\n",
              "  </tbody>\n",
              "</table>\n",
              "</div>\n",
              "      <button class=\"colab-df-convert\" onclick=\"convertToInteractive('df-d65bba53-8e56-4565-8701-57a50e67090a')\"\n",
              "              title=\"Convert this dataframe to an interactive table.\"\n",
              "              style=\"display:none;\">\n",
              "        \n",
              "  <svg xmlns=\"http://www.w3.org/2000/svg\" height=\"24px\"viewBox=\"0 0 24 24\"\n",
              "       width=\"24px\">\n",
              "    <path d=\"M0 0h24v24H0V0z\" fill=\"none\"/>\n",
              "    <path d=\"M18.56 5.44l.94 2.06.94-2.06 2.06-.94-2.06-.94-.94-2.06-.94 2.06-2.06.94zm-11 1L8.5 8.5l.94-2.06 2.06-.94-2.06-.94L8.5 2.5l-.94 2.06-2.06.94zm10 10l.94 2.06.94-2.06 2.06-.94-2.06-.94-.94-2.06-.94 2.06-2.06.94z\"/><path d=\"M17.41 7.96l-1.37-1.37c-.4-.4-.92-.59-1.43-.59-.52 0-1.04.2-1.43.59L10.3 9.45l-7.72 7.72c-.78.78-.78 2.05 0 2.83L4 21.41c.39.39.9.59 1.41.59.51 0 1.02-.2 1.41-.59l7.78-7.78 2.81-2.81c.8-.78.8-2.07 0-2.86zM5.41 20L4 18.59l7.72-7.72 1.47 1.35L5.41 20z\"/>\n",
              "  </svg>\n",
              "      </button>\n",
              "      \n",
              "  <style>\n",
              "    .colab-df-container {\n",
              "      display:flex;\n",
              "      flex-wrap:wrap;\n",
              "      gap: 12px;\n",
              "    }\n",
              "\n",
              "    .colab-df-convert {\n",
              "      background-color: #E8F0FE;\n",
              "      border: none;\n",
              "      border-radius: 50%;\n",
              "      cursor: pointer;\n",
              "      display: none;\n",
              "      fill: #1967D2;\n",
              "      height: 32px;\n",
              "      padding: 0 0 0 0;\n",
              "      width: 32px;\n",
              "    }\n",
              "\n",
              "    .colab-df-convert:hover {\n",
              "      background-color: #E2EBFA;\n",
              "      box-shadow: 0px 1px 2px rgba(60, 64, 67, 0.3), 0px 1px 3px 1px rgba(60, 64, 67, 0.15);\n",
              "      fill: #174EA6;\n",
              "    }\n",
              "\n",
              "    [theme=dark] .colab-df-convert {\n",
              "      background-color: #3B4455;\n",
              "      fill: #D2E3FC;\n",
              "    }\n",
              "\n",
              "    [theme=dark] .colab-df-convert:hover {\n",
              "      background-color: #434B5C;\n",
              "      box-shadow: 0px 1px 3px 1px rgba(0, 0, 0, 0.15);\n",
              "      filter: drop-shadow(0px 1px 2px rgba(0, 0, 0, 0.3));\n",
              "      fill: #FFFFFF;\n",
              "    }\n",
              "  </style>\n",
              "\n",
              "      <script>\n",
              "        const buttonEl =\n",
              "          document.querySelector('#df-d65bba53-8e56-4565-8701-57a50e67090a button.colab-df-convert');\n",
              "        buttonEl.style.display =\n",
              "          google.colab.kernel.accessAllowed ? 'block' : 'none';\n",
              "\n",
              "        async function convertToInteractive(key) {\n",
              "          const element = document.querySelector('#df-d65bba53-8e56-4565-8701-57a50e67090a');\n",
              "          const dataTable =\n",
              "            await google.colab.kernel.invokeFunction('convertToInteractive',\n",
              "                                                     [key], {});\n",
              "          if (!dataTable) return;\n",
              "\n",
              "          const docLinkHtml = 'Like what you see? Visit the ' +\n",
              "            '<a target=\"_blank\" href=https://colab.research.google.com/notebooks/data_table.ipynb>data table notebook</a>'\n",
              "            + ' to learn more about interactive tables.';\n",
              "          element.innerHTML = '';\n",
              "          dataTable['output_type'] = 'display_data';\n",
              "          await google.colab.output.renderOutput(dataTable, element);\n",
              "          const docLink = document.createElement('div');\n",
              "          docLink.innerHTML = docLinkHtml;\n",
              "          element.appendChild(docLink);\n",
              "        }\n",
              "      </script>\n",
              "    </div>\n",
              "  </div>\n",
              "  "
            ],
            "text/plain": [
              "   store_id year_month        amount\n",
              "0         0    2016-06  7.470000e+05\n",
              "1         0    2016-07  1.005000e+06\n",
              "2         0    2016-08  8.697143e+05\n",
              "3         0    2016-09  8.978571e+05\n",
              "4         0    2016-10  8.354286e+05"
            ]
          },
          "metadata": {},
          "execution_count": 20
        }
      ]
    },
    {
      "cell_type": "code",
      "source": [
        "start_time = min(b['year_month'])\n",
        "start_time"
      ],
      "metadata": {
        "colab": {
          "base_uri": "https://localhost:8080/",
          "height": 35
        },
        "id": "FWbclgs0GtJ3",
        "outputId": "b9d554c0-e1e5-46ea-835b-b2df86288237"
      },
      "execution_count": 21,
      "outputs": [
        {
          "output_type": "execute_result",
          "data": {
            "application/vnd.google.colaboratory.intrinsic+json": {
              "type": "string"
            },
            "text/plain": [
              "'2016-06'"
            ]
          },
          "metadata": {},
          "execution_count": 21
        }
      ]
    },
    {
      "cell_type": "code",
      "source": [
        "## 월 단위 다운 샘플링 함수 정의\n",
        "def month_resampling(df):\n",
        "    new_data = pd.DataFrame() # 년도와 월을 합친 변수 생성, 새로운 데이터 지정\n",
        "    df['year_month'] = df['transacted_date'].str.slice(stop=7) ##7개만 slice\n",
        "    year_month = df['year_month'].drop_duplicates() # 데이터의 년도/월 하나씩 전체 기간 추출\n",
        "    downsampling_data = df.groupby(['store_id', 'year_month']).amount.sum() # 상점 아이디 별 월 단위 매출액의 총합 데이터 셋 ##series 형태\n",
        "    downsampling_data = pd.DataFrame(downsampling_data)  ## 데이터 프레임 형성 \n",
        "    downsampling_data = downsampling_data.reset_index(drop=False,inplace=False) ## index reset 정리\n",
        "    for i in tqdm(df['store_id'].unique()): #상점별로 데이터 하나씩 선택\n",
        "        store = downsampling_data[downsampling_data['store_id']==i] ## 해당 i별 하나씩 ID 데이터 셋\n",
        "        start_time = min(store['year_month']) # 각 상점의 처음 매출이 발생한 월\n",
        "        store = store.merge(year_month,how='outer')\n",
        "        store = store.sort_values(by=['year_month'], axis=0, ascending=True) # 데이터를 시간순으로 정렬\n",
        "        store['amount'] = store['amount'].fillna(2)   # 매출이 발생하지 않는 amount는 0로 채움\n",
        "        store['store_id'] = store['store_id'].fillna(i)  # 상점 아이디 결측치를 채움\n",
        "        store = store[store['year_month']>=start_time]  # 처음 매출이 발생한 월 이후만 추출\n",
        "        new_data = pd.concat([new_data,store],axis=0) ## concat해서 새로운 데이터 생성  \n",
        "    return new_data"
      ],
      "metadata": {
        "id": "bfOItGOp_7z-"
      },
      "execution_count": 22,
      "outputs": []
    },
    {
      "cell_type": "code",
      "source": [
        "# 환불 제거 데이터를 월 단위로 다운 샘플링합니다.\n",
        "resampling_data = month_resampling(positive_data)\n",
        "resampling_data['store_id'] = resampling_data['store_id'].astype(int)\n",
        "resampling_data"
      ],
      "metadata": {
        "colab": {
          "base_uri": "https://localhost:8080/",
          "height": 441
        },
        "id": "zaeKmvsLD4q7",
        "outputId": "eb35174d-1833-440c-cf3c-efec1274bac1"
      },
      "execution_count": 23,
      "outputs": [
        {
          "output_type": "stream",
          "name": "stderr",
          "text": [
            "100%|██████████| 9/9 [00:00<00:00, 124.20it/s]\n"
          ]
        },
        {
          "output_type": "execute_result",
          "data": {
            "text/html": [
              "\n",
              "  <div id=\"df-4f208125-af08-45a3-9ce7-df7013a2a10e\">\n",
              "    <div class=\"colab-df-container\">\n",
              "      <div>\n",
              "<style scoped>\n",
              "    .dataframe tbody tr th:only-of-type {\n",
              "        vertical-align: middle;\n",
              "    }\n",
              "\n",
              "    .dataframe tbody tr th {\n",
              "        vertical-align: top;\n",
              "    }\n",
              "\n",
              "    .dataframe thead th {\n",
              "        text-align: right;\n",
              "    }\n",
              "</style>\n",
              "<table border=\"1\" class=\"dataframe\">\n",
              "  <thead>\n",
              "    <tr style=\"text-align: right;\">\n",
              "      <th></th>\n",
              "      <th>store_id</th>\n",
              "      <th>year_month</th>\n",
              "      <th>amount</th>\n",
              "    </tr>\n",
              "  </thead>\n",
              "  <tbody>\n",
              "    <tr>\n",
              "      <th>0</th>\n",
              "      <td>0</td>\n",
              "      <td>2016-06</td>\n",
              "      <td>7.470000e+05</td>\n",
              "    </tr>\n",
              "    <tr>\n",
              "      <th>1</th>\n",
              "      <td>0</td>\n",
              "      <td>2016-07</td>\n",
              "      <td>1.005000e+06</td>\n",
              "    </tr>\n",
              "    <tr>\n",
              "      <th>2</th>\n",
              "      <td>0</td>\n",
              "      <td>2016-08</td>\n",
              "      <td>8.697143e+05</td>\n",
              "    </tr>\n",
              "    <tr>\n",
              "      <th>3</th>\n",
              "      <td>0</td>\n",
              "      <td>2016-09</td>\n",
              "      <td>8.978571e+05</td>\n",
              "    </tr>\n",
              "    <tr>\n",
              "      <th>4</th>\n",
              "      <td>0</td>\n",
              "      <td>2016-10</td>\n",
              "      <td>8.354286e+05</td>\n",
              "    </tr>\n",
              "    <tr>\n",
              "      <th>...</th>\n",
              "      <td>...</td>\n",
              "      <td>...</td>\n",
              "      <td>...</td>\n",
              "    </tr>\n",
              "    <tr>\n",
              "      <th>28</th>\n",
              "      <td>9</td>\n",
              "      <td>2018-10</td>\n",
              "      <td>2.000000e+00</td>\n",
              "    </tr>\n",
              "    <tr>\n",
              "      <th>29</th>\n",
              "      <td>9</td>\n",
              "      <td>2018-11</td>\n",
              "      <td>2.000000e+00</td>\n",
              "    </tr>\n",
              "    <tr>\n",
              "      <th>30</th>\n",
              "      <td>9</td>\n",
              "      <td>2018-12</td>\n",
              "      <td>2.000000e+00</td>\n",
              "    </tr>\n",
              "    <tr>\n",
              "      <th>31</th>\n",
              "      <td>9</td>\n",
              "      <td>2019-01</td>\n",
              "      <td>2.000000e+00</td>\n",
              "    </tr>\n",
              "    <tr>\n",
              "      <th>32</th>\n",
              "      <td>9</td>\n",
              "      <td>2019-02</td>\n",
              "      <td>2.000000e+00</td>\n",
              "    </tr>\n",
              "  </tbody>\n",
              "</table>\n",
              "<p>284 rows × 3 columns</p>\n",
              "</div>\n",
              "      <button class=\"colab-df-convert\" onclick=\"convertToInteractive('df-4f208125-af08-45a3-9ce7-df7013a2a10e')\"\n",
              "              title=\"Convert this dataframe to an interactive table.\"\n",
              "              style=\"display:none;\">\n",
              "        \n",
              "  <svg xmlns=\"http://www.w3.org/2000/svg\" height=\"24px\"viewBox=\"0 0 24 24\"\n",
              "       width=\"24px\">\n",
              "    <path d=\"M0 0h24v24H0V0z\" fill=\"none\"/>\n",
              "    <path d=\"M18.56 5.44l.94 2.06.94-2.06 2.06-.94-2.06-.94-.94-2.06-.94 2.06-2.06.94zm-11 1L8.5 8.5l.94-2.06 2.06-.94-2.06-.94L8.5 2.5l-.94 2.06-2.06.94zm10 10l.94 2.06.94-2.06 2.06-.94-2.06-.94-.94-2.06-.94 2.06-2.06.94z\"/><path d=\"M17.41 7.96l-1.37-1.37c-.4-.4-.92-.59-1.43-.59-.52 0-1.04.2-1.43.59L10.3 9.45l-7.72 7.72c-.78.78-.78 2.05 0 2.83L4 21.41c.39.39.9.59 1.41.59.51 0 1.02-.2 1.41-.59l7.78-7.78 2.81-2.81c.8-.78.8-2.07 0-2.86zM5.41 20L4 18.59l7.72-7.72 1.47 1.35L5.41 20z\"/>\n",
              "  </svg>\n",
              "      </button>\n",
              "      \n",
              "  <style>\n",
              "    .colab-df-container {\n",
              "      display:flex;\n",
              "      flex-wrap:wrap;\n",
              "      gap: 12px;\n",
              "    }\n",
              "\n",
              "    .colab-df-convert {\n",
              "      background-color: #E8F0FE;\n",
              "      border: none;\n",
              "      border-radius: 50%;\n",
              "      cursor: pointer;\n",
              "      display: none;\n",
              "      fill: #1967D2;\n",
              "      height: 32px;\n",
              "      padding: 0 0 0 0;\n",
              "      width: 32px;\n",
              "    }\n",
              "\n",
              "    .colab-df-convert:hover {\n",
              "      background-color: #E2EBFA;\n",
              "      box-shadow: 0px 1px 2px rgba(60, 64, 67, 0.3), 0px 1px 3px 1px rgba(60, 64, 67, 0.15);\n",
              "      fill: #174EA6;\n",
              "    }\n",
              "\n",
              "    [theme=dark] .colab-df-convert {\n",
              "      background-color: #3B4455;\n",
              "      fill: #D2E3FC;\n",
              "    }\n",
              "\n",
              "    [theme=dark] .colab-df-convert:hover {\n",
              "      background-color: #434B5C;\n",
              "      box-shadow: 0px 1px 3px 1px rgba(0, 0, 0, 0.15);\n",
              "      filter: drop-shadow(0px 1px 2px rgba(0, 0, 0, 0.3));\n",
              "      fill: #FFFFFF;\n",
              "    }\n",
              "  </style>\n",
              "\n",
              "      <script>\n",
              "        const buttonEl =\n",
              "          document.querySelector('#df-4f208125-af08-45a3-9ce7-df7013a2a10e button.colab-df-convert');\n",
              "        buttonEl.style.display =\n",
              "          google.colab.kernel.accessAllowed ? 'block' : 'none';\n",
              "\n",
              "        async function convertToInteractive(key) {\n",
              "          const element = document.querySelector('#df-4f208125-af08-45a3-9ce7-df7013a2a10e');\n",
              "          const dataTable =\n",
              "            await google.colab.kernel.invokeFunction('convertToInteractive',\n",
              "                                                     [key], {});\n",
              "          if (!dataTable) return;\n",
              "\n",
              "          const docLinkHtml = 'Like what you see? Visit the ' +\n",
              "            '<a target=\"_blank\" href=https://colab.research.google.com/notebooks/data_table.ipynb>data table notebook</a>'\n",
              "            + ' to learn more about interactive tables.';\n",
              "          element.innerHTML = '';\n",
              "          dataTable['output_type'] = 'display_data';\n",
              "          await google.colab.output.renderOutput(dataTable, element);\n",
              "          const docLink = document.createElement('div');\n",
              "          docLink.innerHTML = docLinkHtml;\n",
              "          element.appendChild(docLink);\n",
              "        }\n",
              "      </script>\n",
              "    </div>\n",
              "  </div>\n",
              "  "
            ],
            "text/plain": [
              "    store_id year_month        amount\n",
              "0          0    2016-06  7.470000e+05\n",
              "1          0    2016-07  1.005000e+06\n",
              "2          0    2016-08  8.697143e+05\n",
              "3          0    2016-09  8.978571e+05\n",
              "4          0    2016-10  8.354286e+05\n",
              "..       ...        ...           ...\n",
              "28         9    2018-10  2.000000e+00\n",
              "29         9    2018-11  2.000000e+00\n",
              "30         9    2018-12  2.000000e+00\n",
              "31         9    2019-01  2.000000e+00\n",
              "32         9    2019-02  2.000000e+00\n",
              "\n",
              "[284 rows x 3 columns]"
            ]
          },
          "metadata": {},
          "execution_count": 23
        }
      ]
    },
    {
      "cell_type": "markdown",
      "source": [
        "*시리즈 객체 변환, plot확인*"
      ],
      "metadata": {
        "id": "RYSMS9SDI5mQ"
      }
    },
    {
      "cell_type": "code",
      "source": [
        "# 데이터프레임을 Series로 변환하는 함수\n",
        "def time_series(df, i):  # 상점별로 데이터를 뽑습니다.\n",
        "    store = df[df['store_id']==i]   ## 날짜 지정 범위는 영업 시작 월부터 2019년 3월 전까지 영업 마감일 기준\n",
        "    index = pd.date_range(min(store['year_month']),'2019-03',freq='BM')  ## index range 지정, freq='BM': 마지막 날 지정\n",
        "    ts = pd.Series(store['amount'].values,index=index)  ## 시리즈 객체로 변환\n",
        "    return ts\n",
        "# 데이터프레임을 Series로 변환하는 함수"
      ],
      "metadata": {
        "id": "7Ai_1yh2I6Y3"
      },
      "execution_count": 24,
      "outputs": []
    },
    {
      "cell_type": "code",
      "source": [
        "store_0 = time_series(resampling_data, 0)\n",
        "store_0.plot()"
      ],
      "metadata": {
        "colab": {
          "base_uri": "https://localhost:8080/",
          "height": 305
        },
        "id": "I3FBEuJrJP7N",
        "outputId": "fafcf934-1a99-4df5-9104-0b3a046d5b52"
      },
      "execution_count": 25,
      "outputs": [
        {
          "output_type": "execute_result",
          "data": {
            "text/plain": [
              "<matplotlib.axes._subplots.AxesSubplot at 0x7fcf64e4c290>"
            ]
          },
          "metadata": {},
          "execution_count": 25
        },
        {
          "output_type": "display_data",
          "data": {
            "image/png": "[encoded data removed]",
            "text/plain": [
              "<Figure size 432x288 with 1 Axes>"
            ]
          },
          "metadata": {
            "needs_background": "light"
          }
        }
      ]
    },
    {
      "cell_type": "markdown",
      "source": [
        "## ADF Test\n",
        "\n",
        "Augmented Dickey Fuller Test: 시계열 데이터가 정상성을 가지는 지 여부 확인\n",
        "\n",
        "h0: 정상성을 가지지 않는다\n",
        "\n",
        "ha: 정상성을 가진다 (평균과 분산이 대체로 일정)\n",
        "\n",
        "만약, 정상성을 가지지 않으면 차분(differencing)을 통하여 평균을 일정하게 유지해야 한다. \n"
      ],
      "metadata": {
        "id": "mBB0DsHRMI64"
      }
    },
    {
      "cell_type": "code",
      "source": [
        "!pip install pmdarima"
      ],
      "metadata": {
        "colab": {
          "base_uri": "https://localhost:8080/",
          "height": 538
        },
        "id": "btdkXlpbL5zs",
        "outputId": "c3da344d-e3be-47c0-8b00-889fea7198f3"
      },
      "execution_count": 26,
      "outputs": [
        {
          "output_type": "stream",
          "name": "stdout",
          "text": [
            "Collecting pmdarima\n",
            "  Downloading pmdarima-1.8.4-cp37-cp37m-manylinux_2_17_x86_64.manylinux2014_x86_64.manylinux_2_24_x86_64.whl (1.4 MB)\n",
            "\u001b[?25l\r\u001b[K     |▎                               | 10 kB 21.1 MB/s eta 0:00:01\r\u001b[K     |▌                               | 20 kB 9.0 MB/s eta 0:00:01\r\u001b[K     |▊                               | 30 kB 7.4 MB/s eta 0:00:01\r\u001b[K     |█                               | 40 kB 7.0 MB/s eta 0:00:01\r\u001b[K     |█▏                              | 51 kB 4.3 MB/s eta 0:00:01\r\u001b[K     |█▍                              | 61 kB 4.5 MB/s eta 0:00:01\r\u001b[K     |█▋                              | 71 kB 4.5 MB/s eta 0:00:01\r\u001b[K     |██                              | 81 kB 5.0 MB/s eta 0:00:01\r\u001b[K     |██▏                             | 92 kB 5.1 MB/s eta 0:00:01\r\u001b[K     |██▍                             | 102 kB 4.2 MB/s eta 0:00:01\r\u001b[K     |██▋                             | 112 kB 4.2 MB/s eta 0:00:01\r\u001b[K     |██▉                             | 122 kB 4.2 MB/s eta 0:00:01\r\u001b[K     |███                             | 133 kB 4.2 MB/s eta 0:00:01\r\u001b[K     |███▎                            | 143 kB 4.2 MB/s eta 0:00:01\r\u001b[K     |███▌                            | 153 kB 4.2 MB/s eta 0:00:01\r\u001b[K     |███▉                            | 163 kB 4.2 MB/s eta 0:00:01\r\u001b[K     |████                            | 174 kB 4.2 MB/s eta 0:00:01\r\u001b[K     |████▎                           | 184 kB 4.2 MB/s eta 0:00:01\r\u001b[K     |████▌                           | 194 kB 4.2 MB/s eta 0:00:01\r\u001b[K     |████▊                           | 204 kB 4.2 MB/s eta 0:00:01\r\u001b[K     |█████                           | 215 kB 4.2 MB/s eta 0:00:01\r\u001b[K     |█████▏                          | 225 kB 4.2 MB/s eta 0:00:01\r\u001b[K     |█████▌                          | 235 kB 4.2 MB/s eta 0:00:01\r\u001b[K     |█████▊                          | 245 kB 4.2 MB/s eta 0:00:01\r\u001b[K     |██████                          | 256 kB 4.2 MB/s eta 0:00:01\r\u001b[K     |██████▏                         | 266 kB 4.2 MB/s eta 0:00:01\r\u001b[K     |██████▍                         | 276 kB 4.2 MB/s eta 0:00:01\r\u001b[K     |██████▋                         | 286 kB 4.2 MB/s eta 0:00:01\r\u001b[K     |██████▉                         | 296 kB 4.2 MB/s eta 0:00:01\r\u001b[K     |███████                         | 307 kB 4.2 MB/s eta 0:00:01\r\u001b[K     |███████▍                        | 317 kB 4.2 MB/s eta 0:00:01\r\u001b[K     |███████▋                        | 327 kB 4.2 MB/s eta 0:00:01\r\u001b[K     |███████▉                        | 337 kB 4.2 MB/s eta 0:00:01\r\u001b[K     |████████                        | 348 kB 4.2 MB/s eta 0:00:01\r\u001b[K     |████████▎                       | 358 kB 4.2 MB/s eta 0:00:01\r\u001b[K     |████████▌                       | 368 kB 4.2 MB/s eta 0:00:01\r\u001b[K     |████████▊                       | 378 kB 4.2 MB/s eta 0:00:01\r\u001b[K     |█████████                       | 389 kB 4.2 MB/s eta 0:00:01\r\u001b[K     |█████████▎                      | 399 kB 4.2 MB/s eta 0:00:01\r\u001b[K     |█████████▌                      | 409 kB 4.2 MB/s eta 0:00:01\r\u001b[K     |█████████▊                      | 419 kB 4.2 MB/s eta 0:00:01\r\u001b[K     |██████████                      | 430 kB 4.2 MB/s eta 0:00:01\r\u001b[K     |██████████▏                     | 440 kB 4.2 MB/s eta 0:00:01\r\u001b[K     |██████████▍                     | 450 kB 4.2 MB/s eta 0:00:01\r\u001b[K     |██████████▋                     | 460 kB 4.2 MB/s eta 0:00:01\r\u001b[K     |███████████                     | 471 kB 4.2 MB/s eta 0:00:01\r\u001b[K     |███████████▏                    | 481 kB 4.2 MB/s eta 0:00:01\r\u001b[K     |███████████▍                    | 491 kB 4.2 MB/s eta 0:00:01\r\u001b[K     |███████████▋                    | 501 kB 4.2 MB/s eta 0:00:01\r\u001b[K     |███████████▉                    | 512 kB 4.2 MB/s eta 0:00:01\r\u001b[K     |████████████                    | 522 kB 4.2 MB/s eta 0:00:01\r\u001b[K     |████████████▎                   | 532 kB 4.2 MB/s eta 0:00:01\r\u001b[K     |████████████▌                   | 542 kB 4.2 MB/s eta 0:00:01\r\u001b[K     |████████████▉                   | 552 kB 4.2 MB/s eta 0:00:01\r\u001b[K     |█████████████                   | 563 kB 4.2 MB/s eta 0:00:01\r\u001b[K     |█████████████▎                  | 573 kB 4.2 MB/s eta 0:00:01\r\u001b[K     |█████████████▌                  | 583 kB 4.2 MB/s eta 0:00:01\r\u001b[K     |█████████████▊                  | 593 kB 4.2 MB/s eta 0:00:01\r\u001b[K     |██████████████                  | 604 kB 4.2 MB/s eta 0:00:01\r\u001b[K     |██████████████▏                 | 614 kB 4.2 MB/s eta 0:00:01\r\u001b[K     |██████████████▍                 | 624 kB 4.2 MB/s eta 0:00:01\r\u001b[K     |██████████████▊                 | 634 kB 4.2 MB/s eta 0:00:01\r\u001b[K     |███████████████                 | 645 kB 4.2 MB/s eta 0:00:01\r\u001b[K     |███████████████▏                | 655 kB 4.2 MB/s eta 0:00:01\r\u001b[K     |███████████████▍                | 665 kB 4.2 MB/s eta 0:00:01\r\u001b[K     |███████████████▋                | 675 kB 4.2 MB/s eta 0:00:01\r\u001b[K     |███████████████▉                | 686 kB 4.2 MB/s eta 0:00:01\r\u001b[K     |████████████████                | 696 kB 4.2 MB/s eta 0:00:01\r\u001b[K     |████████████████▍               | 706 kB 4.2 MB/s eta 0:00:01\r\u001b[K     |████████████████▋               | 716 kB 4.2 MB/s eta 0:00:01\r\u001b[K     |████████████████▉               | 727 kB 4.2 MB/s eta 0:00:01\r\u001b[K     |█████████████████               | 737 kB 4.2 MB/s eta 0:00:01\r\u001b[K     |█████████████████▎              | 747 kB 4.2 MB/s eta 0:00:01\r\u001b[K     |█████████████████▌              | 757 kB 4.2 MB/s eta 0:00:01\r\u001b[K     |█████████████████▊              | 768 kB 4.2 MB/s eta 0:00:01\r\u001b[K     |██████████████████              | 778 kB 4.2 MB/s eta 0:00:01\r\u001b[K     |██████████████████▎             | 788 kB 4.2 MB/s eta 0:00:01\r\u001b[K     |██████████████████▌             | 798 kB 4.2 MB/s eta 0:00:01\r\u001b[K     |██████████████████▊             | 808 kB 4.2 MB/s eta 0:00:01\r\u001b[K     |███████████████████             | 819 kB 4.2 MB/s eta 0:00:01\r\u001b[K     |███████████████████▏            | 829 kB 4.2 MB/s eta 0:00:01\r\u001b[K     |███████████████████▍            | 839 kB 4.2 MB/s eta 0:00:01\r\u001b[K     |███████████████████▋            | 849 kB 4.2 MB/s eta 0:00:01\r\u001b[K     |███████████████████▉            | 860 kB 4.2 MB/s eta 0:00:01\r\u001b[K     |████████████████████▏           | 870 kB 4.2 MB/s eta 0:00:01\r\u001b[K     |████████████████████▍           | 880 kB 4.2 MB/s eta 0:00:01\r\u001b[K     |████████████████████▋           | 890 kB 4.2 MB/s eta 0:00:01\r\u001b[K     |████████████████████▉           | 901 kB 4.2 MB/s eta 0:00:01\r\u001b[K     |█████████████████████           | 911 kB 4.2 MB/s eta 0:00:01\r\u001b[K     |█████████████████████▎          | 921 kB 4.2 MB/s eta 0:00:01\r\u001b[K     |█████████████████████▌          | 931 kB 4.2 MB/s eta 0:00:01\r\u001b[K     |█████████████████████▉          | 942 kB 4.2 MB/s eta 0:00:01\r\u001b[K     |██████████████████████          | 952 kB 4.2 MB/s eta 0:00:01\r\u001b[K     |██████████████████████▎         | 962 kB 4.2 MB/s eta 0:00:01\r\u001b[K     |██████████████████████▌         | 972 kB 4.2 MB/s eta 0:00:01\r\u001b[K     |██████████████████████▊         | 983 kB 4.2 MB/s eta 0:00:01\r\u001b[K     |███████████████████████         | 993 kB 4.2 MB/s eta 0:00:01\r\u001b[K     |███████████████████████▏        | 1.0 MB 4.2 MB/s eta 0:00:01\r\u001b[K     |███████████████████████▍        | 1.0 MB 4.2 MB/s eta 0:00:01\r\u001b[K     |███████████████████████▊        | 1.0 MB 4.2 MB/s eta 0:00:01\r\u001b[K     |████████████████████████        | 1.0 MB 4.2 MB/s eta 0:00:01\r\u001b[K     |████████████████████████▏       | 1.0 MB 4.2 MB/s eta 0:00:01\r\u001b[K     |████████████████████████▍       | 1.1 MB 4.2 MB/s eta 0:00:01\r\u001b[K     |████████████████████████▋       | 1.1 MB 4.2 MB/s eta 0:00:01\r\u001b[K     |████████████████████████▉       | 1.1 MB 4.2 MB/s eta 0:00:01\r\u001b[K     |█████████████████████████       | 1.1 MB 4.2 MB/s eta 0:00:01\r\u001b[K     |█████████████████████████▎      | 1.1 MB 4.2 MB/s eta 0:00:01\r\u001b[K     |█████████████████████████▋      | 1.1 MB 4.2 MB/s eta 0:00:01\r\u001b[K     |█████████████████████████▉      | 1.1 MB 4.2 MB/s eta 0:00:01\r\u001b[K     |██████████████████████████      | 1.1 MB 4.2 MB/s eta 0:00:01\r\u001b[K     |██████████████████████████▎     | 1.1 MB 4.2 MB/s eta 0:00:01\r\u001b[K     |██████████████████████████▌     | 1.1 MB 4.2 MB/s eta 0:00:01\r\u001b[K     |██████████████████████████▊     | 1.2 MB 4.2 MB/s eta 0:00:01\r\u001b[K     |███████████████████████████     | 1.2 MB 4.2 MB/s eta 0:00:01\r\u001b[K     |███████████████████████████▎    | 1.2 MB 4.2 MB/s eta 0:00:01\r\u001b[K     |███████████████████████████▌    | 1.2 MB 4.2 MB/s eta 0:00:01\r\u001b[K     |███████████████████████████▊    | 1.2 MB 4.2 MB/s eta 0:00:01\r\u001b[K     |████████████████████████████    | 1.2 MB 4.2 MB/s eta 0:00:01\r\u001b[K     |████████████████████████████▏   | 1.2 MB 4.2 MB/s eta 0:00:01\r\u001b[K     |████████████████████████████▍   | 1.2 MB 4.2 MB/s eta 0:00:01\r\u001b[K     |████████████████████████████▋   | 1.2 MB 4.2 MB/s eta 0:00:01\r\u001b[K     |████████████████████████████▉   | 1.2 MB 4.2 MB/s eta 0:00:01\r\u001b[K     |█████████████████████████████▏  | 1.3 MB 4.2 MB/s eta 0:00:01\r\u001b[K     |█████████████████████████████▍  | 1.3 MB 4.2 MB/s eta 0:00:01\r\u001b[K     |█████████████████████████████▋  | 1.3 MB 4.2 MB/s eta 0:00:01\r\u001b[K     |█████████████████████████████▉  | 1.3 MB 4.2 MB/s eta 0:00:01\r\u001b[K     |██████████████████████████████  | 1.3 MB 4.2 MB/s eta 0:00:01\r\u001b[K     |██████████████████████████████▎ | 1.3 MB 4.2 MB/s eta 0:00:01\r\u001b[K     |██████████████████████████████▌ | 1.3 MB 4.2 MB/s eta 0:00:01\r\u001b[K     |██████████████████████████████▊ | 1.3 MB 4.2 MB/s eta 0:00:01\r\u001b[K     |███████████████████████████████ | 1.3 MB 4.2 MB/s eta 0:00:01\r\u001b[K     |███████████████████████████████▎| 1.4 MB 4.2 MB/s eta 0:00:01\r\u001b[K     |███████████████████████████████▌| 1.4 MB 4.2 MB/s eta 0:00:01\r\u001b[K     |███████████████████████████████▊| 1.4 MB 4.2 MB/s eta 0:00:01\r\u001b[K     |████████████████████████████████| 1.4 MB 4.2 MB/s eta 0:00:01\r\u001b[K     |████████████████████████████████| 1.4 MB 4.2 MB/s \n",
            "\u001b[?25hRequirement already satisfied: scikit-learn>=0.22 in /usr/local/lib/python3.7/dist-packages (from pmdarima) (1.0.2)\n",
            "Requirement already satisfied: urllib3 in /usr/local/lib/python3.7/dist-packages (from pmdarima) (1.24.3)\n",
            "Requirement already satisfied: numpy>=1.19.3 in /usr/local/lib/python3.7/dist-packages (from pmdarima) (1.19.5)\n",
            "Requirement already satisfied: joblib>=0.11 in /usr/local/lib/python3.7/dist-packages (from pmdarima) (1.1.0)\n",
            "Requirement already satisfied: setuptools!=50.0.0,>=38.6.0 in /usr/local/lib/python3.7/dist-packages (from pmdarima) (57.4.0)\n",
            "Requirement already satisfied: scipy>=1.3.2 in /usr/local/lib/python3.7/dist-packages (from pmdarima) (1.4.1)\n",
            "Requirement already satisfied: Cython!=0.29.18,>=0.29 in /usr/local/lib/python3.7/dist-packages (from pmdarima) (0.29.26)\n",
            "Collecting statsmodels!=0.12.0,>=0.11\n",
            "  Downloading statsmodels-0.13.1-cp37-cp37m-manylinux_2_17_x86_64.manylinux2014_x86_64.whl (9.8 MB)\n",
            "\u001b[K     |████████████████████████████████| 9.8 MB 44.4 MB/s \n",
            "\u001b[?25hRequirement already satisfied: pandas>=0.19 in /usr/local/lib/python3.7/dist-packages (from pmdarima) (1.1.5)\n",
            "Requirement already satisfied: python-dateutil>=2.7.3 in /usr/local/lib/python3.7/dist-packages (from pandas>=0.19->pmdarima) (2.8.2)\n",
            "Requirement already satisfied: pytz>=2017.2 in /usr/local/lib/python3.7/dist-packages (from pandas>=0.19->pmdarima) (2018.9)\n",
            "Requirement already satisfied: six>=1.5 in /usr/local/lib/python3.7/dist-packages (from python-dateutil>=2.7.3->pandas>=0.19->pmdarima) (1.15.0)\n",
            "Requirement already satisfied: threadpoolctl>=2.0.0 in /usr/local/lib/python3.7/dist-packages (from scikit-learn>=0.22->pmdarima) (3.0.0)\n",
            "Requirement already satisfied: patsy>=0.5.2 in /usr/local/lib/python3.7/dist-packages (from statsmodels!=0.12.0,>=0.11->pmdarima) (0.5.2)\n",
            "Installing collected packages: statsmodels, pmdarima\n",
            "  Attempting uninstall: statsmodels\n",
            "    Found existing installation: statsmodels 0.10.2\n",
            "    Uninstalling statsmodels-0.10.2:\n",
            "      Successfully uninstalled statsmodels-0.10.2\n",
            "Successfully installed pmdarima-1.8.4 statsmodels-0.13.1\n"
          ]
        },
        {
          "output_type": "display_data",
          "data": {
            "application/vnd.colab-display-data+json": {
              "pip_warning": {
                "packages": [
                  "statsmodels"
                ]
              }
            }
          },
          "metadata": {}
        }
      ]
    },
    {
      "cell_type": "code",
      "source": [
        "# pmdarima 패키지에 있는 ADFTest 클래스를 임포트\n",
        "from pmdarima.arima import ADFTest"
      ],
      "metadata": {
        "id": "Ygzs7JXpKaLZ"
      },
      "execution_count": 27,
      "outputs": []
    },
    {
      "cell_type": "code",
      "source": [
        "# 상점 아이디가 0번인 데이터를 시리즈 객체로 변환\n",
        "store_0 = time_series(resampling_data, 0)\n",
        "# ADF-Test 시행 (시리즈 객체에서 적용)\n",
        "p_val, should_diff = ADFTest().should_diff(store_0)\n",
        "print('p_val : %f , should_diff : %s' %(p_val, should_diff))"
      ],
      "metadata": {
        "colab": {
          "base_uri": "https://localhost:8080/"
        },
        "id": "JQjC4NTPL0Ba",
        "outputId": "f1372988-f6b3-4c82-d931-0de4e70fb822"
      },
      "execution_count": 28,
      "outputs": [
        {
          "output_type": "stream",
          "name": "stdout",
          "text": [
            "p_val : 0.022488 , should_diff : False\n"
          ]
        }
      ]
    },
    {
      "cell_type": "code",
      "source": [
        "## ARIMA 모델의 차분 여부를 결정하기 위한 단위근 검정\n",
        "def adf_test(y):\n",
        "    return ADFTest().should_diff(y)[0] ##p-value만 선택"
      ],
      "metadata": {
        "id": "N5xua1aKMBv-"
      },
      "execution_count": 29,
      "outputs": []
    },
    {
      "cell_type": "code",
      "source": [
        "adf_p = [] ##모든 p_value리스트 저장\n",
        "count = 0\n",
        "skipped = []\n",
        "\n",
        "for i in tqdm(resampling_data['store_id'].unique()):\n",
        "    ts = time_series(resampling_data,i)\n",
        "    try:\n",
        "        p_val = adf_test(ts)  ##p-value\n",
        "        if p_val < 0.05:\n",
        "            count += 1 ## ADFTest통과한 count 갯수 누적, 정상성 인정\n",
        "        adf_p.append(p_val) ##모든 p_value리스트 저장\n",
        "    except:\n",
        "        skipped.append(i) ##정상성 인정 안된 id값 저장\n"
      ],
      "metadata": {
        "colab": {
          "base_uri": "https://localhost:8080/"
        },
        "id": "ccz0c2wCPhEL",
        "outputId": "42125ab9-c226-4d85-b7a9-4e3e70d5c823"
      },
      "execution_count": 30,
      "outputs": [
        {
          "output_type": "stream",
          "name": "stderr",
          "text": [
            "100%|██████████| 9/9 [00:00<00:00, 152.18it/s]\n"
          ]
        }
      ]
    },
    {
      "cell_type": "code",
      "source": [
        "len(adf_p)"
      ],
      "metadata": {
        "colab": {
          "base_uri": "https://localhost:8080/"
        },
        "id": "qdvHalNsTc3S",
        "outputId": "346b83ac-d38f-42ee-b1eb-84a515c1c8e7"
      },
      "execution_count": 31,
      "outputs": [
        {
          "output_type": "execute_result",
          "data": {
            "text/plain": [
              "9"
            ]
          },
          "metadata": {},
          "execution_count": 31
        }
      ]
    },
    {
      "cell_type": "code",
      "source": [
        "plt.figure(figsize=(8, 4))\n",
        "sns.boxplot(adf_p)"
      ],
      "metadata": {
        "colab": {
          "base_uri": "https://localhost:8080/",
          "height": 337
        },
        "id": "tYvRi67TTaW8",
        "outputId": "0e2333f6-85d4-4c3c-b8a9-5c4d97414d41"
      },
      "execution_count": 32,
      "outputs": [
        {
          "output_type": "stream",
          "name": "stderr",
          "text": [
            "/usr/local/lib/python3.7/dist-packages/seaborn/_decorators.py:43: FutureWarning: Pass the following variable as a keyword arg: x. From version 0.12, the only valid positional argument will be `data`, and passing other arguments without an explicit keyword will result in an error or misinterpretation.\n",
            "  FutureWarning\n"
          ]
        },
        {
          "output_type": "execute_result",
          "data": {
            "text/plain": [
              "<matplotlib.axes._subplots.AxesSubplot at 0x7fcf561a9390>"
            ]
          },
          "metadata": {},
          "execution_count": 32
        },
        {
          "output_type": "display_data",
          "data": {
            "image/png": "[encoded data removed]",
            "text/plain": [
              "<Figure size 576x288 with 1 Axes>"
            ]
          },
          "metadata": {
            "needs_background": "light"
          }
        }
      ]
    },
    {
      "cell_type": "code",
      "source": [
        "# p-value가 0.05보다 작은 상점의 개수: 7 (정상성)\n",
        "print(count)"
      ],
      "metadata": {
        "colab": {
          "base_uri": "https://localhost:8080/"
        },
        "id": "ZXE-0IxnTw8x",
        "outputId": "2c613b48-a03d-40d5-be10-dd2392ebbac6"
      },
      "execution_count": 33,
      "outputs": [
        {
          "output_type": "stream",
          "name": "stdout",
          "text": [
            "2\n"
          ]
        }
      ]
    },
    {
      "cell_type": "markdown",
      "source": [
        "R패키지 import 😉"
      ],
      "metadata": {
        "id": "jV7HorB_VZkG"
      }
    },
    {
      "cell_type": "code",
      "source": [
        "from rpy2.robjects.packages import importr # rpy2 내의 패키지를 불러올 importr 클래스\n",
        "utils = importr('utils') # utils 패키지를 임포트\n",
        "\n",
        "utils.install_packages('forecast') # r의 forecast 패키지 설치\n",
        "utils.install_packages('forecastHybrid') # r의 forecastHybrid 패키지 설치"
      ],
      "metadata": {
        "id": "z2H39B0mT5Lu"
      },
      "execution_count": null,
      "outputs": []
    },
    {
      "cell_type": "code",
      "source": [
        "import rpy2.robjects as robjects # r 함수를 파이썬에서 사용 가능하게 변환하는 모듈\n",
        "from rpy2.robjects import pandas2ri # 파이썬 자료형과 R 자료형의 호환을 도와주는 모듈"
      ],
      "metadata": {
        "id": "fVOwehXHVggs"
      },
      "execution_count": 35,
      "outputs": []
    },
    {
      "cell_type": "code",
      "source": [
        "# pandas2ri를 활성화 \n",
        "pandas2ri.activate()\n",
        "auto_arima = \"\"\"\n",
        "    function(ts){\n",
        "        library(forecast) # forecast 패키지 로드\n",
        "        d_params = ndiffs(ts) # 시계열 자료의 차분 횟수 계산, ndiffs는 차분 d \n",
        "        model = auto.arima(ts, max.p=2, d=d_params) # auto.arima 모델 생성\n",
        "        forecasted_data = forecast(model, h=3) # 이후 3개월(h=3)을 예측\n",
        "        out_df = data.frame(forecasted_data$mean) # 예측값을 R의 데이터프레임으로 변환\n",
        "        colnames(out_df) = c('amount') # amount라는 열로 이름을 지정\n",
        "        out_df\n",
        "    }\n",
        "\"\"\"\n"
      ],
      "metadata": {
        "id": "YLrsY15aV34X"
      },
      "execution_count": 39,
      "outputs": []
    },
    {
      "cell_type": "code",
      "source": [
        "# r() 함수로 r 자료형을 파이썬에서 사용 가능\n",
        "auto_arima = robjects.r(auto_arima)\n",
        "ts = robjects.r('ts')# r 자료형 time series 자료형으로 만들어주는 함수\n",
        "c = robjects.r('c') # r 자료형 벡터를 만들어주는 함수"
      ],
      "metadata": {
        "id": "2yzf_mP9S-hR"
      },
      "execution_count": 41,
      "outputs": []
    },
    {
      "cell_type": "code",
      "source": [
        "store_0 = resampling_data[resampling_data['store_id']==0] ## store_id==0 \n",
        "start_year = int(min(store_0['year_month'])[:4]) # 영업 시작 년도, 년도: 앞 4개만 선택\n",
        "start_month = int(min(store_0['year_month'])[5:]) # 영업 시작 월, 월: 5번째부터"
      ],
      "metadata": {
        "id": "VUGE3Na2RwWV"
      },
      "execution_count": 47,
      "outputs": []
    },
    {
      "cell_type": "code",
      "source": [
        "start_month"
      ],
      "metadata": {
        "colab": {
          "base_uri": "https://localhost:8080/"
        },
        "id": "7jgjwUo6UThx",
        "outputId": "cf8fd946-cb3f-4c72-8de7-e1aae9c1ed92"
      },
      "execution_count": 51,
      "outputs": [
        {
          "output_type": "execute_result",
          "data": {
            "text/plain": [
              "6"
            ]
          },
          "metadata": {},
          "execution_count": 51
        }
      ]
    },
    {
      "cell_type": "code",
      "source": [
        "# R의 ts 함수로 r의 time series 자료형으로 변환\n",
        "train = ts(store_0['amount'], start=c(start_year, start_month), frequency=12) ## start=c(2016, 06)\n",
        "train"
      ],
      "metadata": {
        "colab": {
          "base_uri": "https://localhost:8080/"
        },
        "id": "g3dLN-GEUC3k",
        "outputId": "47f72bcb-13b6-4db2-c054-853cacfa1679"
      },
      "execution_count": 49,
      "outputs": [
        {
          "output_type": "execute_result",
          "data": {
            "text/plain": [
              "array([ 747000.        , 1005000.        ,  869714.28571429,\n",
              "        897857.14285714,  835428.57142857,  697000.        ,\n",
              "        761857.14285714,  585642.85714286,  794000.        ,\n",
              "        720257.14285714,  685285.71428571,  744428.57142857,\n",
              "        682000.        ,  728285.71428571,  749000.        ,\n",
              "        840857.14285714,  600571.42857143,  630857.14285714,\n",
              "        812714.28571429,  643142.85714286,  685285.71428571,\n",
              "        848428.57142857,  636142.85714286,  686428.57142857,\n",
              "        707285.71428571,  758714.28571429,  679857.14285714,\n",
              "        651857.14285714,  739000.        ,  676000.        ,\n",
              "        874571.42857143,  682857.14285714,  515285.71428571])"
            ]
          },
          "metadata": {},
          "execution_count": 49
        }
      ]
    },
    {
      "cell_type": "code",
      "source": [
        "#ensemble model\n",
        "forecast = auto_arima(train)\n",
        "np.sum(forecast.values) # 3개월 매출을 합산"
      ],
      "metadata": {
        "colab": {
          "base_uri": "https://localhost:8080/"
        },
        "id": "L1LAQVTBWoiA",
        "outputId": "e6f3726d-ef37-4747-c1e9-93fdc6b936df"
      },
      "execution_count": 63,
      "outputs": [
        {
          "output_type": "execute_result",
          "data": {
            "text/plain": [
              "2007226.9722140946"
            ]
          },
          "metadata": {},
          "execution_count": 63
        }
      ]
    },
    {
      "cell_type": "code",
      "source": [
        "forecast"
      ],
      "metadata": {
        "colab": {
          "base_uri": "https://localhost:8080/",
          "height": 143
        },
        "id": "n9vFRCHvYMf3",
        "outputId": "5ba522b5-5fb5-470d-d50e-9c86e1dc6102"
      },
      "execution_count": 64,
      "outputs": [
        {
          "output_type": "execute_result",
          "data": {
            "text/html": [
              "\n",
              "  <div id=\"df-ea8ebfaf-7840-4949-94c2-aa178ee69a5a\">\n",
              "    <div class=\"colab-df-container\">\n",
              "      <div>\n",
              "<style scoped>\n",
              "    .dataframe tbody tr th:only-of-type {\n",
              "        vertical-align: middle;\n",
              "    }\n",
              "\n",
              "    .dataframe tbody tr th {\n",
              "        vertical-align: top;\n",
              "    }\n",
              "\n",
              "    .dataframe thead th {\n",
              "        text-align: right;\n",
              "    }\n",
              "</style>\n",
              "<table border=\"1\" class=\"dataframe\">\n",
              "  <thead>\n",
              "    <tr style=\"text-align: right;\">\n",
              "      <th></th>\n",
              "      <th>amount</th>\n",
              "    </tr>\n",
              "  </thead>\n",
              "  <tbody>\n",
              "    <tr>\n",
              "      <th>1</th>\n",
              "      <td>749824.220243</td>\n",
              "    </tr>\n",
              "    <tr>\n",
              "      <th>2</th>\n",
              "      <td>651124.443426</td>\n",
              "    </tr>\n",
              "    <tr>\n",
              "      <th>3</th>\n",
              "      <td>606278.308545</td>\n",
              "    </tr>\n",
              "  </tbody>\n",
              "</table>\n",
              "</div>\n",
              "      <button class=\"colab-df-convert\" onclick=\"convertToInteractive('df-ea8ebfaf-7840-4949-94c2-aa178ee69a5a')\"\n",
              "              title=\"Convert this dataframe to an interactive table.\"\n",
              "              style=\"display:none;\">\n",
              "        \n",
              "  <svg xmlns=\"http://www.w3.org/2000/svg\" height=\"24px\"viewBox=\"0 0 24 24\"\n",
              "       width=\"24px\">\n",
              "    <path d=\"M0 0h24v24H0V0z\" fill=\"none\"/>\n",
              "    <path d=\"M18.56 5.44l.94 2.06.94-2.06 2.06-.94-2.06-.94-.94-2.06-.94 2.06-2.06.94zm-11 1L8.5 8.5l.94-2.06 2.06-.94-2.06-.94L8.5 2.5l-.94 2.06-2.06.94zm10 10l.94 2.06.94-2.06 2.06-.94-2.06-.94-.94-2.06-.94 2.06-2.06.94z\"/><path d=\"M17.41 7.96l-1.37-1.37c-.4-.4-.92-.59-1.43-.59-.52 0-1.04.2-1.43.59L10.3 9.45l-7.72 7.72c-.78.78-.78 2.05 0 2.83L4 21.41c.39.39.9.59 1.41.59.51 0 1.02-.2 1.41-.59l7.78-7.78 2.81-2.81c.8-.78.8-2.07 0-2.86zM5.41 20L4 18.59l7.72-7.72 1.47 1.35L5.41 20z\"/>\n",
              "  </svg>\n",
              "      </button>\n",
              "      \n",
              "  <style>\n",
              "    .colab-df-container {\n",
              "      display:flex;\n",
              "      flex-wrap:wrap;\n",
              "      gap: 12px;\n",
              "    }\n",
              "\n",
              "    .colab-df-convert {\n",
              "      background-color: #E8F0FE;\n",
              "      border: none;\n",
              "      border-radius: 50%;\n",
              "      cursor: pointer;\n",
              "      display: none;\n",
              "      fill: #1967D2;\n",
              "      height: 32px;\n",
              "      padding: 0 0 0 0;\n",
              "      width: 32px;\n",
              "    }\n",
              "\n",
              "    .colab-df-convert:hover {\n",
              "      background-color: #E2EBFA;\n",
              "      box-shadow: 0px 1px 2px rgba(60, 64, 67, 0.3), 0px 1px 3px 1px rgba(60, 64, 67, 0.15);\n",
              "      fill: #174EA6;\n",
              "    }\n",
              "\n",
              "    [theme=dark] .colab-df-convert {\n",
              "      background-color: #3B4455;\n",
              "      fill: #D2E3FC;\n",
              "    }\n",
              "\n",
              "    [theme=dark] .colab-df-convert:hover {\n",
              "      background-color: #434B5C;\n",
              "      box-shadow: 0px 1px 3px 1px rgba(0, 0, 0, 0.15);\n",
              "      filter: drop-shadow(0px 1px 2px rgba(0, 0, 0, 0.3));\n",
              "      fill: #FFFFFF;\n",
              "    }\n",
              "  </style>\n",
              "\n",
              "      <script>\n",
              "        const buttonEl =\n",
              "          document.querySelector('#df-ea8ebfaf-7840-4949-94c2-aa178ee69a5a button.colab-df-convert');\n",
              "        buttonEl.style.display =\n",
              "          google.colab.kernel.accessAllowed ? 'block' : 'none';\n",
              "\n",
              "        async function convertToInteractive(key) {\n",
              "          const element = document.querySelector('#df-ea8ebfaf-7840-4949-94c2-aa178ee69a5a');\n",
              "          const dataTable =\n",
              "            await google.colab.kernel.invokeFunction('convertToInteractive',\n",
              "                                                     [key], {});\n",
              "          if (!dataTable) return;\n",
              "\n",
              "          const docLinkHtml = 'Like what you see? Visit the ' +\n",
              "            '<a target=\"_blank\" href=https://colab.research.google.com/notebooks/data_table.ipynb>data table notebook</a>'\n",
              "            + ' to learn more about interactive tables.';\n",
              "          element.innerHTML = '';\n",
              "          dataTable['output_type'] = 'display_data';\n",
              "          await google.colab.output.renderOutput(dataTable, element);\n",
              "          const docLink = document.createElement('div');\n",
              "          docLink.innerHTML = docLinkHtml;\n",
              "          element.appendChild(docLink);\n",
              "        }\n",
              "      </script>\n",
              "    </div>\n",
              "  </div>\n",
              "  "
            ],
            "text/plain": [
              "          amount\n",
              "1  749824.220243\n",
              "2  651124.443426\n",
              "3  606278.308545"
            ]
          },
          "metadata": {},
          "execution_count": 64
        }
      ]
    },
    {
      "cell_type": "markdown",
      "source": [
        "***시계열 모델링*** ***arima*** "
      ],
      "metadata": {
        "id": "ZNhSAfe8YGh4"
      }
    },
    {
      "cell_type": "code",
      "source": [
        "train"
      ],
      "metadata": {
        "colab": {
          "base_uri": "https://localhost:8080/"
        },
        "id": "uNcEnstqavL-",
        "outputId": "a4b2c9f2-b817-4c19-9f0f-428bce7a3dd7"
      },
      "execution_count": 76,
      "outputs": [
        {
          "output_type": "execute_result",
          "data": {
            "text/plain": [
              "array([1.07142857e+05, 6.37142857e+05, 6.03571429e+05, 2.25428571e+05,\n",
              "       2.87142857e+05, 3.44428571e+05, 3.52857143e+05, 2.08571429e+05,\n",
              "       1.78571429e+05, 7.61714286e+05, 5.35000000e+05, 7.15714286e+05,\n",
              "       6.72142857e+05, 6.34285714e+05, 3.33714286e+05, 2.95428571e+05,\n",
              "       6.28285714e+05, 3.18571429e+05, 8.41142857e+05, 2.00000000e+00,\n",
              "       2.00000000e+00, 2.00000000e+00, 2.00000000e+00, 2.00000000e+00,\n",
              "       2.00000000e+00, 2.00000000e+00, 2.00000000e+00, 2.00000000e+00,\n",
              "       2.00000000e+00])"
            ]
          },
          "metadata": {},
          "execution_count": 76
        }
      ]
    },
    {
      "cell_type": "code",
      "source": [
        "import rpy2.robjects as robjects # r 함수를 파이썬에서 사용 가능하게 변환하는 모듈\n",
        "from rpy2.robjects import pandas2ri # 파이썬 자료형과 R 자료형의 호환을 도와주는 모듈\n",
        "\n",
        "# pandas2ri를 활성화 \n",
        "pandas2ri.activate()\n",
        "\n",
        "auto_arima = \"\"\"\n",
        "    function(ts){\n",
        "        library(forecast) # forecast 패키지 로드\n",
        "        d_params = ndiffs(ts) # 시계열 자료의 차분 횟수 계산\n",
        "        model = auto.arima(ts, max.p=2, d=d_params) # auto.arima 모델 생성\n",
        "        forecasted_data = forecast(model, h=3) # 이후 3개월(h=3)을 예측\n",
        "        out_df = data.frame(forecasted_data$mean) # 예측값을 R의 데이터프레임으로 변환\n",
        "        colnames(out_df) = c('amount') # amount라는 열로 이름을 지정\n",
        "        out_df\n",
        "    }\n",
        "\"\"\"\n",
        "# r() 함수로 r 자료형을 파이썬에서 사용 가능\n",
        "auto_arima = robjects.r(auto_arima)# str 형식으로 정의된 auto_arima\n",
        "ts = robjects.r('ts')# r 자료형 time series 자료형으로 만들어주는 함수\n",
        "c = robjects.r('c') # r 자료형 벡터를 만들어주는 함수\n",
        "\n",
        "final_pred = [] ## amount, 값 리스트\n",
        "\n",
        "for i in tqdm(resampling_data['store_id'].unique()):\n",
        "    temp = resampling_data[resampling_data['store_id']==i]\n",
        "    start_year = int(min(temp['year_month'])[:4]) ## 영업 시작 년도\n",
        "    start_month = int(min(temp['year_month'])[5:]) ## 영업 시작 월\n",
        "    # R의 ts 함수로 time series 데이터로 변환\n",
        "    train = ts(temp['amount'], start=c(start_year, start_month), frequency=12) \n",
        "    # 자동회귀누적이동평균 model\n",
        "    forecast = auto_arima(train)\n",
        "    # 3개월 매출을 합산, final_pred에 추가\n",
        "    final_pred.append(np.sum(forecast).values)\n"
      ],
      "metadata": {
        "colab": {
          "base_uri": "https://localhost:8080/"
        },
        "id": "4zt7BDp0Wtvo",
        "outputId": "3baf1bd2-5141-4012-e5c1-63b8dd6f0d8d"
      },
      "execution_count": 69,
      "outputs": [
        {
          "output_type": "stream",
          "name": "stderr",
          "text": [
            "100%|██████████| 9/9 [00:01<00:00,  8.04it/s]\n"
          ]
        }
      ]
    },
    {
      "cell_type": "code",
      "source": [
        "resampling_data.store_id.unique()"
      ],
      "metadata": {
        "colab": {
          "base_uri": "https://localhost:8080/"
        },
        "id": "jt6lKvKQansv",
        "outputId": "0a58ab62-b1b8-454d-cd55-1a05ac8eab55"
      },
      "execution_count": 71,
      "outputs": [
        {
          "output_type": "execute_result",
          "data": {
            "text/plain": [
              "array([0, 1, 2, 4, 5, 6, 7, 8, 9])"
            ]
          },
          "metadata": {},
          "execution_count": 71
        }
      ]
    },
    {
      "cell_type": "code",
      "source": [
        "final_pred"
      ],
      "metadata": {
        "colab": {
          "base_uri": "https://localhost:8080/"
        },
        "id": "vA6lGCkFaMn3",
        "outputId": "f929015a-c809-4806-a995-43e75b2193b6"
      },
      "execution_count": 70,
      "outputs": [
        {
          "output_type": "execute_result",
          "data": {
            "text/plain": [
              "[array([2007226.97221409]),\n",
              " array([288621.02225481]),\n",
              " array([1276695.13256118]),\n",
              " array([2697648.89849366]),\n",
              " array([646542.85714286]),\n",
              " array([7377000.00000001]),\n",
              " array([601955.67576143]),\n",
              " array([3894985.71428571]),\n",
              " array([7586.06341104])]"
            ]
          },
          "metadata": {},
          "execution_count": 70
        }
      ]
    },
    {
      "cell_type": "markdown",
      "source": [
        "***지수 평활법***\n",
        "\n",
        "단순 지수 평활법: 추세나 계절성이 없는 데이터를 다룰 때 단순하게 가장 최근에 관측 된 값에 더 가중치를 주는 방법\n",
        "\n",
        "홀트의 선형추세 기법: 추세가 있는 데이터를 예측할 수 있게 단순 지수 평활법을 확장한 방법\n",
        "\n",
        "R의 ets() 함수는 AIC 값을 최소로 하는 지수 평활 모델 추정, AIC 값이 낮을수록 좋은 모델이라고 판단"
      ],
      "metadata": {
        "id": "4f-qtLG4bXQA"
      }
    },
    {
      "cell_type": "code",
      "source": [
        "\n",
        "import rpy2.robjects as robjects # r 함수를 파이썬에서 사용 가능하게 변환하는 모듈\n",
        "from rpy2.robjects import pandas2ri # 파이썬 자료형과 R 자료형의 호환을 도와주는 모듈\n",
        "\n",
        "# pandas2ri를 활성화 \n",
        "pandas2ri.activate()\n",
        "\n",
        "ets = \"\"\"\n",
        "    function(ts){\n",
        "        library(forecast) # forecast 패키지 로드\n",
        "        model = ets(ts) # AIC가 낮은 지수평활 모델을 찾음 \n",
        "        forecasted_data = forecast(model, h=3) # 이후 3개월(h=3)을 예측\n",
        "        out_df = data.frame(forecasted_data$mean) # 예측값을 R의 데이터프레임으로 변환\n",
        "        colnames(out_df) = c('amount') # amount라는 열로 이름을 지정\n",
        "        out_df\n",
        "    }\n",
        "\"\"\"\n",
        "# r() 함수로 r 자료형을 파이썬에서 사용 가능\n",
        "ets = robjects.r(ets)# str 형식으로 정의된 ets\n",
        "ts = robjects.r('ts')# r 자료형 time series 자료형으로 만들어주는 함수\n",
        "c = robjects.r('c') # r 자료형 벡터를 만들어주는 함수\n",
        "\n",
        "final_pred = []\n",
        "\n",
        "for i in tqdm(resampling_data.store_id.unique()):\n",
        "    temp = resampling_data[resampling_data['store_id']==i]\n",
        "    start_year = int(min(temp['year_month'])[:4]) # 영업 시작 년도\n",
        "    start_month = int(min(temp['year_month'])[5:]) # 영업 시작 월\n",
        "    # R의 ts 함수로 time series 데이터로 변환\n",
        "    train = ts(temp['amount'], start=c(start_year, start_month), frequency=12) \n",
        "    # 지수평활법l\n",
        "    forecast = ets(train)\n",
        "    # 3개월 매출을 합산, final_pred에 추가\n",
        "    final_pred.append(np.sum(forecast).values)"
      ],
      "metadata": {
        "colab": {
          "base_uri": "https://localhost:8080/"
        },
        "id": "lSyWZML9aX37",
        "outputId": "6ab728dd-aa59-43ad-dc04-96279f6482bb"
      },
      "execution_count": 79,
      "outputs": [
        {
          "output_type": "stream",
          "name": "stderr",
          "text": [
            "100%|██████████| 9/9 [00:00<00:00, 50.27it/s]\n"
          ]
        }
      ]
    },
    {
      "cell_type": "markdown",
      "source": [
        "**STL (Seasonal and Trend decomposition using Loess) Decomposition**\n",
        "\n",
        ": 시계열 데이터가 가진 시간 주기를 알고 있는 경우에 계절성과 추세 나머지 성분으로 분해하여 분석 기법\n",
        "\n",
        "분해 목적은 전반적인 트렌드, 계절성등을 고려하여 정확한 모델을 생성하기 위함\n",
        "\n",
        "-Python, statsmodels 패키지에서 분해 기능 제공\n",
        "\n",
        "-STL 분해를 적용하고 지수평활법을 통해 예측까지 진행하는 경우에는 R의 forecast 패키지의 stlm()함수 이용"
      ],
      "metadata": {
        "id": "S9OYKyctfsMZ"
      }
    },
    {
      "cell_type": "code",
      "source": [
        "import rpy2.robjects as robjects # r 함수를 파이썬에서 사용 가능하게 변환하는 모듈\n",
        "from rpy2.robjects import pandas2ri # 파이썬 자료형과 R 자료형의 호환을 도와주는 모듈\n",
        "\n",
        "# pandas2ri를 활성화 \n",
        "pandas2ri.activate()\n",
        "stlm = \"\"\"\n",
        "    function(ts){\n",
        "        library(forecast) # forecast 패키지 로드\n",
        "        model = stlm(ts, s.window=\"periodic\") # STL 분해 후 지수평활법을 통한 예측 \n",
        "        forecasted_data = forecast(model, h=3) # 이후 3개월(h=3)을 예측\n",
        "        out_df = data.frame(forecasted_data$mean) # 예측값을 R의 데이터프레임으로 변환\n",
        "        colnames(out_df) = c('amount') # amount라는 열로 이름을 지정\n",
        "        out_df\n",
        "    }\n",
        "\"\"\"\n",
        "ets = \"\"\"\n",
        "    function(ts){\n",
        "        library(forecast) # forecast 패키지 로드\n",
        "        model = ets(ts) # AIC가 낮은 지수평활 모델을 찾음 \n",
        "        forecasted_data = forecast(model, h=3) # 이후 3개월(h=3)을 예측\n",
        "        out_df = data.frame(forecasted_data$mean) # 예측값을 R의 데이터프레임으로 변환\n",
        "        colnames(out_df) = c('amount') # amount라는 열로 이름을 지정\n",
        "        out_df\n",
        "    }\n",
        "\"\"\"\n",
        "# r() 함수로 r을 파이썬에서 사용 가능\n",
        "stlm = robjects.r(stlm)# str 형식으로 정의된 stlm\n",
        "ets = robjects.r(ets)# str 형식으로 정의된 ets\n",
        "ts = robjects.r('ts')# r 자료형 time series 자료형으로 만들어주는 함수\n",
        "c = robjects.r('c') # r 자료형 벡터를 만들어주는 함수\n",
        "\n",
        "final_pred = []\n",
        "for i in tqdm(resampling_data.store_id.unique()):\n",
        "    store = resampling_data[resampling_data['store_id']==i]\n",
        "    data_len = len(store)\n",
        "    \n",
        "    start_year = int(min(store['year_month'])[:4]) # 영업 시작 년도\n",
        "    start_month = int(min(store['year_month'])[5:]) # 영업 시작 월\n",
        "    # R의 ts 함수로 time series 데이터로 변환\n",
        "    train = ts(store['amount'], start=c(start_year, start_month), frequency=12) \n",
        "    # STL 분해를 적용한 지수평활 model\n",
        "    if data_len > 24:\n",
        "        forecast = stlm(train)   ##최소 24개월 넘게 관측시엔 stlm forecast이용\n",
        "    # 지수평활 model\n",
        "    else:\n",
        "        forecast = ets(train)    # 3개월 매출을 합산, final_pred에 추가\n",
        "    final_pred.append(np.sum(forecast).values)"
      ],
      "metadata": {
        "id": "WVTpcoCagi38"
      },
      "execution_count": 115,
      "outputs": []
    },
    {
      "cell_type": "markdown",
      "source": [
        "시계열 데이터: \n",
        "\n",
        "***성능향상을 위한 방법***\n",
        "\n",
        "1. 매출액의 로그 정규화 (변동계수-> groupby 적용 후에 한 아이디 당 매출액의 표준편차/평균) 기준선 0.3 이하면 로그값으로 변환. 0.3넘으면 그대로 \n",
        "2. R 시계열 패키지를 이용한 forecastHybrid를 통한 앙상블"
      ],
      "metadata": {
        "id": "s3h6lYe0mU-r"
      }
    },
    {
      "cell_type": "code",
      "source": [
        "import rpy2.robjects as robjects # r 함수를 파이썬에서 사용 가능하게 변환하는 모듈\n",
        "from rpy2.robjects import pandas2ri # 파이썬 자료형과 R 자료형의 호환을 도와주는 모듈\n",
        "import numpy as np\n",
        "\n",
        "# pandas2ri를 활성화 \n",
        "pandas2ri.activate()\n",
        "\n",
        "auto_arima = \"\"\"\n",
        "    function(ts){\n",
        "        library(forecast) # forecast 패키지 로드\n",
        "        d_params = ndiffs(ts) # 시계열 자료의 차분 횟수 계산\n",
        "        model = auto.arima(ts, max.p=2, d=d_params) # auto.arima 모델 생성\n",
        "        forecasted_data = forecast(model, h=3) # 이후 3개월(h=3)을 예측\n",
        "        out_df = data.frame(forecasted_data$mean) # 예측값을 R의 데이터프레임으로 변환\n",
        "        colnames(out_df) = c('amount') # amount라는 열로 이름을 지정\n",
        "        out_df\n",
        "    }\n",
        "\"\"\"\n",
        "\n",
        "# r() 함수로 r 자료형을 파이썬에서 사용 가능\n",
        "auto_arima = robjects.r(auto_arima)\n",
        "ts = robjects.r('ts')# r 자료형 time series 자료형으로 만들어주는 함수\n",
        "c = robjects.r('c') # r 자료형 벡터를 만들어주는 함수\n",
        "log = robjects.r('log')# 로그 변환 함수\n",
        "exp = robjects.r('exp')# 로그 역변환 함수\n",
        "\n",
        "# 0번 상점 추출\n",
        "store_0 = resampling_data[resampling_data['store_id']==0]\n",
        "start_year = int(min(store_0['year_month'])[:4]) # 영업 시작 년도\n",
        "start_month = int(min(store_0['year_month'])[5:]) # 영업 시작 월\n",
        "\n",
        "# train, test 분리\n",
        "train = store_0[store_0.index <= len(store_0)-4]\n",
        "test = store_0[store_0.index > len(store_0)-4]\n",
        "\n",
        "# R의 ts 함수로 r의 time series 자료형으로 변환\n",
        "train_log = ts(log(train['amount']), start=c(start_year, start_month), frequency=12) # log 정규화 \n",
        "train = ts(train['amount'], start=c(start_year, start_month), frequency=12) # log 정규화를 하지 않음\n",
        "\n",
        "# model arima\n",
        "forecast_log = auto_arima(train_log)\n",
        "forecast = auto_arima(train)\n",
        "\n",
        "# pred\n",
        "pred_log = np.sum(exp(forecast_log)).values #로그 역변환 후 3개월 합산\n",
        "pred = np.sum(forecast).values #3개월 매출을 합산\n",
        "\n",
        "# test(2018-12~2019-02)\n",
        "test = np.sum(test['amount'])\n",
        "\n",
        "# mae\n",
        "print('log-regularization mae: ', abs(test-pred_log))\n",
        "print('mae:', abs(test-pred))"
      ],
      "metadata": {
        "colab": {
          "base_uri": "https://localhost:8080/"
        },
        "id": "pjKfX8w2mMIE",
        "outputId": "37a87bd4-bc2f-4a87-9371-452e558b4cc8"
      },
      "execution_count": 119,
      "outputs": [
        {
          "output_type": "stream",
          "name": "stdout",
          "text": [
            "log-regularization mae:  [2401.96648197]\n",
            "mae: [5884.67406689]\n"
          ]
        }
      ]
    },
    {
      "cell_type": "code",
      "source": [
        "# 매출 변동 계수를 구하는 함수, 변동계수 : 0.3이하면 log 적용\n",
        "def coefficient_variation(df, i):\n",
        "    cv_data = df.groupby(['store_id']).amount.std()/df.groupby(['store_id']).amount.mean()\n",
        "    cv = cv_data[i]\n",
        "    return cv"
      ],
      "metadata": {
        "id": "oDlajVdOmMEl"
      },
      "execution_count": 120,
      "outputs": []
    },
    {
      "cell_type": "code",
      "source": [
        "temp = resampling_data[resampling_data['store_id']==1]\n",
        "temp.head()"
      ],
      "metadata": {
        "colab": {
          "base_uri": "https://localhost:8080/",
          "height": 206
        },
        "id": "oTK4_-yeoI_w",
        "outputId": "3f4d4006-9895-4316-ab90-6f5e7dadc47b"
      },
      "execution_count": 127,
      "outputs": [
        {
          "output_type": "execute_result",
          "data": {
            "text/html": [
              "\n",
              "  <div id=\"df-153d6f07-c93d-4e9e-a085-25462237004a\">\n",
              "    <div class=\"colab-df-container\">\n",
              "      <div>\n",
              "<style scoped>\n",
              "    .dataframe tbody tr th:only-of-type {\n",
              "        vertical-align: middle;\n",
              "    }\n",
              "\n",
              "    .dataframe tbody tr th {\n",
              "        vertical-align: top;\n",
              "    }\n",
              "\n",
              "    .dataframe thead th {\n",
              "        text-align: right;\n",
              "    }\n",
              "</style>\n",
              "<table border=\"1\" class=\"dataframe\">\n",
              "  <thead>\n",
              "    <tr style=\"text-align: right;\">\n",
              "      <th></th>\n",
              "      <th>store_id</th>\n",
              "      <th>year_month</th>\n",
              "      <th>amount</th>\n",
              "    </tr>\n",
              "  </thead>\n",
              "  <tbody>\n",
              "    <tr>\n",
              "      <th>0</th>\n",
              "      <td>1</td>\n",
              "      <td>2016-06</td>\n",
              "      <td>137214.285714</td>\n",
              "    </tr>\n",
              "    <tr>\n",
              "      <th>1</th>\n",
              "      <td>1</td>\n",
              "      <td>2016-07</td>\n",
              "      <td>163000.000000</td>\n",
              "    </tr>\n",
              "    <tr>\n",
              "      <th>2</th>\n",
              "      <td>1</td>\n",
              "      <td>2016-08</td>\n",
              "      <td>118142.857143</td>\n",
              "    </tr>\n",
              "    <tr>\n",
              "      <th>3</th>\n",
              "      <td>1</td>\n",
              "      <td>2016-09</td>\n",
              "      <td>90428.571429</td>\n",
              "    </tr>\n",
              "    <tr>\n",
              "      <th>4</th>\n",
              "      <td>1</td>\n",
              "      <td>2016-10</td>\n",
              "      <td>118071.428571</td>\n",
              "    </tr>\n",
              "  </tbody>\n",
              "</table>\n",
              "</div>\n",
              "      <button class=\"colab-df-convert\" onclick=\"convertToInteractive('df-153d6f07-c93d-4e9e-a085-25462237004a')\"\n",
              "              title=\"Convert this dataframe to an interactive table.\"\n",
              "              style=\"display:none;\">\n",
              "        \n",
              "  <svg xmlns=\"http://www.w3.org/2000/svg\" height=\"24px\"viewBox=\"0 0 24 24\"\n",
              "       width=\"24px\">\n",
              "    <path d=\"M0 0h24v24H0V0z\" fill=\"none\"/>\n",
              "    <path d=\"M18.56 5.44l.94 2.06.94-2.06 2.06-.94-2.06-.94-.94-2.06-.94 2.06-2.06.94zm-11 1L8.5 8.5l.94-2.06 2.06-.94-2.06-.94L8.5 2.5l-.94 2.06-2.06.94zm10 10l.94 2.06.94-2.06 2.06-.94-2.06-.94-.94-2.06-.94 2.06-2.06.94z\"/><path d=\"M17.41 7.96l-1.37-1.37c-.4-.4-.92-.59-1.43-.59-.52 0-1.04.2-1.43.59L10.3 9.45l-7.72 7.72c-.78.78-.78 2.05 0 2.83L4 21.41c.39.39.9.59 1.41.59.51 0 1.02-.2 1.41-.59l7.78-7.78 2.81-2.81c.8-.78.8-2.07 0-2.86zM5.41 20L4 18.59l7.72-7.72 1.47 1.35L5.41 20z\"/>\n",
              "  </svg>\n",
              "      </button>\n",
              "      \n",
              "  <style>\n",
              "    .colab-df-container {\n",
              "      display:flex;\n",
              "      flex-wrap:wrap;\n",
              "      gap: 12px;\n",
              "    }\n",
              "\n",
              "    .colab-df-convert {\n",
              "      background-color: #E8F0FE;\n",
              "      border: none;\n",
              "      border-radius: 50%;\n",
              "      cursor: pointer;\n",
              "      display: none;\n",
              "      fill: #1967D2;\n",
              "      height: 32px;\n",
              "      padding: 0 0 0 0;\n",
              "      width: 32px;\n",
              "    }\n",
              "\n",
              "    .colab-df-convert:hover {\n",
              "      background-color: #E2EBFA;\n",
              "      box-shadow: 0px 1px 2px rgba(60, 64, 67, 0.3), 0px 1px 3px 1px rgba(60, 64, 67, 0.15);\n",
              "      fill: #174EA6;\n",
              "    }\n",
              "\n",
              "    [theme=dark] .colab-df-convert {\n",
              "      background-color: #3B4455;\n",
              "      fill: #D2E3FC;\n",
              "    }\n",
              "\n",
              "    [theme=dark] .colab-df-convert:hover {\n",
              "      background-color: #434B5C;\n",
              "      box-shadow: 0px 1px 3px 1px rgba(0, 0, 0, 0.15);\n",
              "      filter: drop-shadow(0px 1px 2px rgba(0, 0, 0, 0.3));\n",
              "      fill: #FFFFFF;\n",
              "    }\n",
              "  </style>\n",
              "\n",
              "      <script>\n",
              "        const buttonEl =\n",
              "          document.querySelector('#df-153d6f07-c93d-4e9e-a085-25462237004a button.colab-df-convert');\n",
              "        buttonEl.style.display =\n",
              "          google.colab.kernel.accessAllowed ? 'block' : 'none';\n",
              "\n",
              "        async function convertToInteractive(key) {\n",
              "          const element = document.querySelector('#df-153d6f07-c93d-4e9e-a085-25462237004a');\n",
              "          const dataTable =\n",
              "            await google.colab.kernel.invokeFunction('convertToInteractive',\n",
              "                                                     [key], {});\n",
              "          if (!dataTable) return;\n",
              "\n",
              "          const docLinkHtml = 'Like what you see? Visit the ' +\n",
              "            '<a target=\"_blank\" href=https://colab.research.google.com/notebooks/data_table.ipynb>data table notebook</a>'\n",
              "            + ' to learn more about interactive tables.';\n",
              "          element.innerHTML = '';\n",
              "          dataTable['output_type'] = 'display_data';\n",
              "          await google.colab.output.renderOutput(dataTable, element);\n",
              "          const docLink = document.createElement('div');\n",
              "          docLink.innerHTML = docLinkHtml;\n",
              "          element.appendChild(docLink);\n",
              "        }\n",
              "      </script>\n",
              "    </div>\n",
              "  </div>\n",
              "  "
            ],
            "text/plain": [
              "   store_id year_month         amount\n",
              "0         1    2016-06  137214.285714\n",
              "1         1    2016-07  163000.000000\n",
              "2         1    2016-08  118142.857143\n",
              "3         1    2016-09   90428.571429\n",
              "4         1    2016-10  118071.428571"
            ]
          },
          "metadata": {},
          "execution_count": 127
        }
      ]
    },
    {
      "cell_type": "code",
      "source": [
        "temp.groupby(['store_id']).amount.std()/temp.groupby(['store_id']).amount.mean()"
      ],
      "metadata": {
        "colab": {
          "base_uri": "https://localhost:8080/"
        },
        "id": "_1C4l-BAojmF",
        "outputId": "897038fe-eb69-47e8-d4c8-3e3d19153dda"
      },
      "execution_count": 129,
      "outputs": [
        {
          "output_type": "execute_result",
          "data": {
            "text/plain": [
              "store_id\n",
              "1    0.241401\n",
              "Name: amount, dtype: float64"
            ]
          },
          "metadata": {},
          "execution_count": 129
        }
      ]
    },
    {
      "cell_type": "code",
      "source": [
        "import rpy2.robjects as robjects # r 함수를 파이썬에서 사용 가능하게 변환하는 모듈\n",
        "from rpy2.robjects import pandas2ri # 파이썬 자료형과 R 자료형의 호환을 도와주는 모듈\n",
        "import numpy as np\n",
        "\n",
        "# pandas2ri를 활성화 \n",
        "pandas2ri.activate()\n",
        "\n",
        "ets = \"\"\"\n",
        "    function(ts){\n",
        "        library(forecast) # forecast 패키지 로드\n",
        "        model = ets(ts) # AIC가 낮은 지수평활 모델을 찾음 \n",
        "        forecasted_data = forecast(model, h=3) # 이후 3개월(h=3)을 예측\n",
        "        out_df = data.frame(forecasted_data$mean) # 예측값을 R의 데이터프레임으로 변환\n",
        "        colnames(out_df) = c('amount') # amount라는 열로 이름을 지정\n",
        "        out_df\n",
        "    }\n",
        "\"\"\"\n",
        "\n",
        "# r() 함수로 r 자료형을 파이썬에서 사용 가능\n",
        "ets = robjects.r(ets)\n",
        "ts = robjects.r('ts') # r 자료형 time series 자료형으로 만들어주는 함수\n",
        "c = robjects.r('c') # r 자료형 벡터를 만들어주는 함수\n",
        "log = robjects.r('log') # 로그 변환 함수\n",
        "exp = robjects.r('exp')# 로그 역변환 함수\n",
        "\n",
        "final_pred = []\n",
        "\n",
        "for i in tqdm(resampling_data.store_id.unique()):\n",
        "    store = resampling_data[resampling_data['store_id']==i]\n",
        "    start_year = int(min(store['year_month'])[:4]) # 영업 시작 년도\n",
        "    start_month = int(min(store['year_month'])[5:]) # 영업 시작 월\n",
        "    \n",
        "    cv = coefficient_variation(resampling_data, i)\n",
        "    # 매출액 변동 계수가 0.3 미만인 경우만 log를 씌움\n",
        "    if cv < 0.3:\n",
        "        train_log = ts(log(store['amount']), start=c(start_year,start_month), frequency=12) \n",
        "        # ets model (지수평활법)\n",
        "        forecast_log = ets(train_log)\n",
        "        final_pred.append(np.sum(exp(forecast_log).values))\n",
        "    # 매출액 변동 계수가 0.3 이상인 경우\n",
        "    else:\n",
        "        train = ts(store['amount'], start=c(start_year,start_month), frequency=12)\n",
        "        # 지수평활법\n",
        "        forecast = ets(train)\n",
        "        final_pred.append(np.sum(forecast).values) "
      ],
      "metadata": {
        "colab": {
          "base_uri": "https://localhost:8080/"
        },
        "id": "uByBO5KrmL-_",
        "outputId": "a6b698a4-ba04-49a0-e99a-e8cabec5596b"
      },
      "execution_count": 122,
      "outputs": [
        {
          "output_type": "stream",
          "name": "stderr",
          "text": [
            "100%|██████████| 9/9 [00:00<00:00, 42.15it/s]\n"
          ]
        }
      ]
    },
    {
      "cell_type": "markdown",
      "source": [
        "R 시계열 패키지 forecastHybrid를 통한 앙상블\n",
        "\n",
        "auto arima, ets, stlm\n",
        "\n",
        "가중치는 동등하게"
      ],
      "metadata": {
        "id": "vLl2hwJknSW0"
      }
    },
    {
      "cell_type": "code",
      "source": [
        "import rpy2.robjects as robjects # r 함수를 파이썬에서 사용 가능하게 변환하는 모듈\n",
        "from rpy2.robjects import pandas2ri # 파이썬 자료형과 R 자료형의 호환을 도와주는 모듈\n",
        "import numpy as np\n",
        "\n",
        "# pandas2ri를 활성화 \n",
        "pandas2ri.activate()\n",
        "\n",
        "hybridModel = \"\"\"\n",
        "    function(ts){\n",
        "        library(forecast)\n",
        "        library(forecastHybrid)\n",
        "        d_params=ndiffs(ts)\n",
        "        hb_mdl<-hybridModel(ts, models=\"aes\", # auto_arima, ets, stlm\n",
        "                        a.arg=list(max.p=2, d=d_params), # auto_arima parameter\n",
        "                        weight=\"equal\") # 가중치를 동일하게 줌(평균)\n",
        "        forecasted_data<-forecast(hb_mdl, h=3) # 이후 3개월(h=3)을 예측\n",
        "        outdf<-data.frame(forecasted_data$mean)\n",
        "        colnames(outdf)<-c('amount')\n",
        "        outdf\n",
        "    }\n",
        "\"\"\" \n",
        "\n",
        "# r() 함수로 r 자료형을 파이썬에서 사용 가능\n",
        "hybridModel = robjects.r(hybridModel)\n",
        "ts = robjects.r('ts') # r 자료형 time series 자료형으로 만들어주는 함수\n",
        "c = robjects.r('c') # r 자료형 벡터를 만들어주는 함수\n",
        "log = robjects.r('log') # 로그 변환 함수\n",
        "exp = robjects.r('exp')# 로그 역변환 함수\n",
        "\n",
        "final_pred = []\n",
        "\n",
        "for i in tqdm(resampling_data.store_id.unique()):\n",
        "    store = resampling_data[resampling_data['store_id']==i]\n",
        "    start_year = int(min(store['year_month'])[:4]) # 영업 시작 년도\n",
        "    start_month = int(min(store['year_month'])[5:]) # 영업 시작 월\n",
        "    \n",
        "    cv = coefficient_variation(resampling_data, i)\n",
        "    # 매출액 변동 계수가 0.3 미만인 경우만 log를 씌움\n",
        "    if cv < 0.3:\n",
        "        train_log = ts(log(store['amount']), start=c(start_year,start_month), frequency=12) \n",
        "        # 앙상블 예측\n",
        "        forecast_log = hybridModel(train_log)\n",
        "        final_pred.append(np.sum(exp(forecast_log)).values) \n",
        "    # 매출액 변동 계수가 0.3 이상인 경우\n",
        "    else:\n",
        "        train = ts(store['amount'], start=c(start_year,start_month), frequency=12)\n",
        "        # 앙상블 예측\n",
        "        forecast = hybridModel(train)\n",
        "        final_pred.append(np.sum(forecast).values)\n"
      ],
      "metadata": {
        "colab": {
          "base_uri": "https://localhost:8080/"
        },
        "id": "q8FmX1D5nJYQ",
        "outputId": "dc6f7836-f822-42e9-8e1c-9636b817316f"
      },
      "execution_count": 124,
      "outputs": [
        {
          "output_type": "stream",
          "name": "stderr",
          "text": [
            "\r  0%|          | 0/9 [00:00<?, ?it/s]R[write to console]: Fitting the auto.arima model\n",
            "\n",
            "R[write to console]: Fitting the ets model\n",
            "\n",
            " 11%|█         | 1/9 [00:00<00:01,  4.66it/s]R[write to console]: Fitting the auto.arima model\n",
            "\n",
            "R[write to console]: Fitting the ets model\n",
            "\n",
            " 22%|██▏       | 2/9 [00:00<00:01,  4.21it/s]R[write to console]: Fitting the auto.arima model\n",
            "\n",
            "R[write to console]: Fitting the ets model\n",
            "\n",
            " 33%|███▎      | 3/9 [00:00<00:01,  4.40it/s]R[write to console]: Fitting the auto.arima model\n",
            "\n",
            "R[write to console]: Fitting the ets model\n",
            "\n",
            " 44%|████▍     | 4/9 [00:00<00:00,  5.12it/s]R[write to console]: Fitting the auto.arima model\n",
            "\n",
            "R[write to console]: Fitting the ets model\n",
            "\n",
            " 56%|█████▌    | 5/9 [00:00<00:00,  5.69it/s]R[write to console]: Fitting the auto.arima model\n",
            "\n",
            "R[write to console]: Fitting the ets model\n",
            "\n",
            " 67%|██████▋   | 6/9 [00:01<00:00,  6.02it/s]R[write to console]: Fitting the auto.arima model\n",
            "\n",
            "R[write to console]: Fitting the ets model\n",
            "\n",
            " 78%|███████▊  | 7/9 [00:01<00:00,  6.34it/s]R[write to console]: Fitting the auto.arima model\n",
            "\n",
            "R[write to console]: Fitting the ets model\n",
            "\n",
            " 89%|████████▉ | 8/9 [00:01<00:00,  6.59it/s]R[write to console]: Fitting the auto.arima model\n",
            "\n",
            "R[write to console]: Fitting the ets model\n",
            "\n",
            "100%|██████████| 9/9 [00:01<00:00,  5.66it/s]\n"
          ]
        }
      ]
    }
  ]
}